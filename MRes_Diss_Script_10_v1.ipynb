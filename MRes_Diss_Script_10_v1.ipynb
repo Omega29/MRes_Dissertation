{
 "cells": [
  {
   "cell_type": "code",
   "execution_count": 3,
   "metadata": {},
   "outputs": [],
   "source": [
    "import pandas as pd\n",
    "import numpy as np\n",
    "from tqdm import tqdm"
   ]
  },
  {
   "cell_type": "code",
   "execution_count": 5,
   "metadata": {},
   "outputs": [],
   "source": [
    "# read conversion table and HS5 level sanction table\n",
    "HS2022toHS2017 = pd.read_excel('/Users/omega_macbookpro/Desktop/International_Trade/Dissertation_MRes/Comtrade/Sanctions Docs/EU/Data/HS2022toHS2017.xlsx', sheet_name='Conversions', dtype={'From HS2022': str, 'To HS2017': str}) \n",
    "HS5_sanct = pd.read_csv(\"/Users/omega_macbookpro/Desktop/International_Trade/Dissertation_MRes/Comtrade/Sanctions Docs/EU/Data/Output_Script_2/HS5_sanct_short_ext_imp_v2.csv\", dtype={'HS2017': str})\n",
    "HS5_sanct[['Partial_HS5', 'Full_HS5','Transitory_HS5']] = HS5_sanct[['Partial_HS5', 'Full_HS5','Transitory_HS5']].fillna(value=0)\n",
    "HS5_sanct.drop('Unnamed: 0', axis=1, inplace=True)"
   ]
  },
  {
   "cell_type": "code",
   "execution_count": 8,
   "metadata": {},
   "outputs": [],
   "source": [
    "string_2017 = '201701,201702,201703,201704,201705,201706,201707,201708,201709,201710,201711,201712'\n",
    "string_2018 = '201801,201802,201803,201804,201805,201806,201807,201808,201809,201810,201811,201812'\n",
    "string_2019 = '201901,201902,201903,201904,201905,201906,201907,201908,201909,201910,201911,201912'\n",
    "string_2020 = '202001,202002,202003,202004,202005,202006,202007,202008,202009,202010,202011,202012'\n",
    "string_2021 = '202101,202102,202103,202104,202105,202106,202107,202108,202109,202110,202111,202112'\n",
    "string_2022 = '202201,202202,202203,202204,202205,202206,202207,202208,202209,202210,202211,202212'\n",
    "string_2023 = '202301,202302,202303,202304,202305,202306,202307,202308,202309,202310,202311,202312'\n",
    "string_2024 = '202401,202402,202403,202404,202405'"
   ]
  },
  {
   "cell_type": "code",
   "execution_count": 9,
   "metadata": {},
   "outputs": [],
   "source": [
    "string_dates = [string_2017, string_2018, string_2019, string_2020, string_2021, string_2022, string_2023, string_2024]"
   ]
  },
  {
   "cell_type": "code",
   "execution_count": 10,
   "metadata": {},
   "outputs": [],
   "source": [
    "import requests\n",
    "import comtradeapicall\n",
    "import time\n",
    "import datetime\n",
    "subscription_key = '94ee5163870949e1aa6fe904f64e241d' # comtrade api subscription key (from comtradedeveloper.un.org)\n",
    "directory = '/Users/omega_macbookpro/Desktop/International_Trade/Dissertation_MRes/Comtrade/Sanctions Docs/EU/Data/Comtrade_v1'  # output directory for downloaded files \n",
    "#proxy_url = '<PROXY URL>'  # optional if you need proxy url\n",
    "# Call preview final data API to a data frame, max to 500 records, no subscription key required\n",
    "# This example: Australia imports of commodity code 91 in classic mode in May 2022\n",
    "#typeCode: goods or services\n",
    "#freqCode: annual or month, eg '202101,202102,202103,202104,202105,202106,202107,202108,202109,202110,202111,202112'\n",
    "#period: eg '200001,200002,200003'\n",
    "#reporterCode: 97 - EU\n",
    "#partnerCode: \n",
    "# 398 - Kzt\n",
    "# 51 - Armenia\n",
    "# 417 - Kyrgyzstan\n",
    "# 792 - Türkiye\n",
    "# 156 - China\n",
    "# 756 or 757 - Switzerland\n",
    "# 643 - Russia"
   ]
  },
  {
   "cell_type": "code",
   "execution_count": 11,
   "metadata": {},
   "outputs": [],
   "source": [
    "def get_data_exp(params):\n",
    "    data = comtradeapicall.getFinalData(subscription_key, typeCode='C', freqCode='M', clCode='HS', period=params[0],\n",
    "                                        reporterCode=params[1], cmdCode=None, flowCode='M', partnerCode=params[2],\n",
    "                                        partner2Code=None,\n",
    "                                        customsCode=None, motCode=None, maxRecords=250000, format_output='JSON',\n",
    "                                        aggregateBy=None, breakdownMode='classic', countOnly=None, includeDesc=True)\n",
    "    return data"
   ]
  },
  {
   "cell_type": "markdown",
   "metadata": {},
   "source": [
    "#### Download EEU3 export to Russia"
   ]
  },
  {
   "cell_type": "code",
   "execution_count": 12,
   "metadata": {},
   "outputs": [],
   "source": [
    "ECU3 = get_data_exp([string_dates[0], '398,51,417', '643'])\n"
   ]
  },
  {
   "cell_type": "code",
   "execution_count": 13,
   "metadata": {},
   "outputs": [
    {
     "name": "stderr",
     "output_type": "stream",
     "text": [
      "100%|██████████| 7/7 [10:26<00:00, 89.56s/it] \n"
     ]
    }
   ],
   "source": [
    "for years in tqdm(string_dates[1:]):\n",
    "    ECU3_new = get_data_exp([years, '398,51,417', '643'])\n",
    "    ECU3 = ECU3.append(ECU3_new)\n"
   ]
  },
  {
   "cell_type": "code",
   "execution_count": 17,
   "metadata": {},
   "outputs": [],
   "source": [
    "ECU3_W = get_data_exp([string_dates[0], '398,51,417', '0'])"
   ]
  },
  {
   "cell_type": "code",
   "execution_count": 23,
   "metadata": {},
   "outputs": [
    {
     "name": "stderr",
     "output_type": "stream",
     "text": [
      "\n",
      "\n",
      "  0%|          | 0/4 [00:00<?, ?it/s]\u001b[A\u001b[A\n",
      "\n",
      " 25%|██▌       | 1/4 [03:40<11:02, 220.80s/it]\u001b[A\u001b[A\n",
      "\n",
      " 50%|█████     | 2/4 [07:06<07:12, 216.31s/it]\u001b[A\u001b[A\n",
      "\n",
      " 75%|███████▌  | 3/4 [09:01<03:06, 186.02s/it]\u001b[A\u001b[A\n",
      "\n",
      "100%|██████████| 4/4 [10:05<00:00, 151.47s/it]\u001b[A\u001b[A\n"
     ]
    }
   ],
   "source": [
    "for years in tqdm(string_dates[1:]):\n",
    "    ECU3_W_new = get_data_exp([years, '398,51,417', '0'])\n",
    "    ECU3_W = ECU3_W.append(ECU3_W_new)\n"
   ]
  },
  {
   "cell_type": "code",
   "execution_count": 26,
   "metadata": {},
   "outputs": [],
   "source": [
    "#ECU3.shape"
   ]
  },
  {
   "cell_type": "code",
   "execution_count": 24,
   "metadata": {},
   "outputs": [],
   "source": [
    "ECU3 = ECU3.append(ECU3_W)"
   ]
  },
  {
   "cell_type": "code",
   "execution_count": 27,
   "metadata": {},
   "outputs": [
    {
     "data": {
      "text/html": [
       "<div>\n",
       "<style scoped>\n",
       "    .dataframe tbody tr th:only-of-type {\n",
       "        vertical-align: middle;\n",
       "    }\n",
       "\n",
       "    .dataframe tbody tr th {\n",
       "        vertical-align: top;\n",
       "    }\n",
       "\n",
       "    .dataframe thead th {\n",
       "        text-align: right;\n",
       "    }\n",
       "</style>\n",
       "<table border=\"1\" class=\"dataframe\">\n",
       "  <thead>\n",
       "    <tr style=\"text-align: right;\">\n",
       "      <th>refYear</th>\n",
       "      <th>2017</th>\n",
       "      <th>2018</th>\n",
       "      <th>2019</th>\n",
       "      <th>2020</th>\n",
       "      <th>2021</th>\n",
       "      <th>2022</th>\n",
       "      <th>2023</th>\n",
       "      <th>2024</th>\n",
       "    </tr>\n",
       "    <tr>\n",
       "      <th>classificationCode</th>\n",
       "      <th></th>\n",
       "      <th></th>\n",
       "      <th></th>\n",
       "      <th></th>\n",
       "      <th></th>\n",
       "      <th></th>\n",
       "      <th></th>\n",
       "      <th></th>\n",
       "    </tr>\n",
       "  </thead>\n",
       "  <tbody>\n",
       "    <tr>\n",
       "      <th>H5</th>\n",
       "      <td>246394</td>\n",
       "      <td>253461</td>\n",
       "      <td>247342</td>\n",
       "      <td>255296</td>\n",
       "      <td>262704</td>\n",
       "      <td>0</td>\n",
       "      <td>0</td>\n",
       "      <td>0</td>\n",
       "    </tr>\n",
       "    <tr>\n",
       "      <th>H6</th>\n",
       "      <td>0</td>\n",
       "      <td>0</td>\n",
       "      <td>0</td>\n",
       "      <td>0</td>\n",
       "      <td>0</td>\n",
       "      <td>263133</td>\n",
       "      <td>277835</td>\n",
       "      <td>82958</td>\n",
       "    </tr>\n",
       "  </tbody>\n",
       "</table>\n",
       "</div>"
      ],
      "text/plain": [
       "refYear               2017    2018    2019    2020    2021    2022    2023  \\\n",
       "classificationCode                                                           \n",
       "H5                  246394  253461  247342  255296  262704       0       0   \n",
       "H6                       0       0       0       0       0  263133  277835   \n",
       "\n",
       "refYear              2024  \n",
       "classificationCode         \n",
       "H5                      0  \n",
       "H6                  82958  "
      ]
     },
     "execution_count": 27,
     "metadata": {},
     "output_type": "execute_result"
    }
   ],
   "source": [
    "# fine\n",
    "pd.crosstab(index=ECU3['classificationCode'], columns=ECU3['refYear'])"
   ]
  },
  {
   "cell_type": "code",
   "execution_count": 89,
   "metadata": {},
   "outputs": [
    {
     "data": {
      "text/plain": [
       "209001.66666666666"
      ]
     },
     "execution_count": 89,
     "metadata": {},
     "output_type": "execute_result"
    }
   ],
   "source": [
    "(95781 + 109906 + 94933 + 97670 + 101411 + 127304) / 3"
   ]
  },
  {
   "cell_type": "code",
   "execution_count": 28,
   "metadata": {},
   "outputs": [],
   "source": [
    "# keep only needed col-s\n",
    "#comtrade_cols = ['period', 'partnerCode', 'partnerISO', 'classificationCode', 'cmdCode', 'primaryValue']\n",
    "comtrade_cols = ['period', 'reporterCode', 'partnerCode', 'cmdCode', 'primaryValue']\n",
    "ECU3_short = ECU3[comtrade_cols]\n",
    "ECU3_short = ECU3_short.loc[ECU3_short['cmdCode'].apply(len) == 6]\n",
    "ECU3_short.reset_index(inplace=True)\n",
    "ECU3_short.drop_duplicates(keep='first', inplace=True) # drop duplicates if were downloaded accidentally"
   ]
  },
  {
   "cell_type": "code",
   "execution_count": 29,
   "metadata": {},
   "outputs": [],
   "source": [
    "ECU3_short_agg = ECU3_short.groupby(['period', 'cmdCode', 'partnerCode'])['primaryValue'].sum().reset_index() # sums over countries\n",
    "ECU3_short_agg['reporterCode'] = 'ECU3'\n",
    "ECU3_short_agg = ECU3_short_agg[['period', 'reporterCode', 'partnerCode', 'cmdCode', 'primaryValue']]"
   ]
  },
  {
   "cell_type": "code",
   "execution_count": 30,
   "metadata": {},
   "outputs": [],
   "source": [
    "regres_countr = [643] # Rus\n",
    "regres_countr_data = ECU3_short_agg.loc[ECU3_short_agg['partnerCode'].apply(lambda x: x in regres_countr)]\n",
    "regres_countr_data_agg = regres_countr_data.groupby(['period', 'cmdCode'])['primaryValue'].sum().reset_index()\n"
   ]
  },
  {
   "cell_type": "code",
   "execution_count": 31,
   "metadata": {},
   "outputs": [],
   "source": [
    "RestWorld = ECU3_short_agg.loc[ECU3_short_agg['partnerCode'] == 0]\n",
    "RestWorld = pd.merge(RestWorld, regres_countr_data_agg, on=['period', 'cmdCode'], how='left')\n",
    "RestWorld['primaryValue_y'].fillna(value=0, inplace=True)\n",
    "RestWorld['primaryValue'] = RestWorld['primaryValue_x'] - RestWorld['primaryValue_y']\n",
    "RestWorld['partnerCode'] = \"RW_ECU3_1\"\n",
    "RestWorld['reporterCode'] = 'ECU3'\n",
    "RestWorld = RestWorld[['period', 'reporterCode', 'partnerCode', 'cmdCode', 'primaryValue']]\n",
    "\n",
    "ECU3_short_agg = ECU3_short_agg.append(RestWorld)"
   ]
  },
  {
   "cell_type": "code",
   "execution_count": 32,
   "metadata": {},
   "outputs": [
    {
     "data": {
      "text/html": [
       "<div>\n",
       "<style scoped>\n",
       "    .dataframe tbody tr th:only-of-type {\n",
       "        vertical-align: middle;\n",
       "    }\n",
       "\n",
       "    .dataframe tbody tr th {\n",
       "        vertical-align: top;\n",
       "    }\n",
       "\n",
       "    .dataframe thead th {\n",
       "        text-align: right;\n",
       "    }\n",
       "</style>\n",
       "<table border=\"1\" class=\"dataframe\">\n",
       "  <thead>\n",
       "    <tr style=\"text-align: right;\">\n",
       "      <th></th>\n",
       "      <th>period</th>\n",
       "      <th>reporterCode</th>\n",
       "      <th>partnerCode</th>\n",
       "      <th>cmdCode</th>\n",
       "      <th>primaryValue</th>\n",
       "    </tr>\n",
       "  </thead>\n",
       "  <tbody>\n",
       "    <tr>\n",
       "      <th>699943</th>\n",
       "      <td>202405</td>\n",
       "      <td>ECU3</td>\n",
       "      <td>0</td>\n",
       "      <td>961900</td>\n",
       "      <td>4934271.13</td>\n",
       "    </tr>\n",
       "    <tr>\n",
       "      <th>699944</th>\n",
       "      <td>202405</td>\n",
       "      <td>ECU3</td>\n",
       "      <td>643</td>\n",
       "      <td>961900</td>\n",
       "      <td>1098076.05</td>\n",
       "    </tr>\n",
       "    <tr>\n",
       "      <th>377381</th>\n",
       "      <td>202405</td>\n",
       "      <td>ECU3</td>\n",
       "      <td>RW_ECU3_1</td>\n",
       "      <td>961900</td>\n",
       "      <td>3836195.08</td>\n",
       "    </tr>\n",
       "  </tbody>\n",
       "</table>\n",
       "</div>"
      ],
      "text/plain": [
       "        period reporterCode partnerCode cmdCode  primaryValue\n",
       "699943  202405         ECU3           0  961900    4934271.13\n",
       "699944  202405         ECU3         643  961900    1098076.05\n",
       "377381  202405         ECU3   RW_ECU3_1  961900    3836195.08"
      ]
     },
     "execution_count": 32,
     "metadata": {},
     "output_type": "execute_result"
    }
   ],
   "source": [
    "# check on one example that RW is correct\n",
    "ECU3_short_agg.loc[(ECU3_short_agg['period'] == '202405') & (ECU3_short_agg['cmdCode'] == '961900')]"
   ]
  },
  {
   "cell_type": "code",
   "execution_count": 40,
   "metadata": {},
   "outputs": [
    {
     "data": {
      "text/html": [
       "<div>\n",
       "<style scoped>\n",
       "    .dataframe tbody tr th:only-of-type {\n",
       "        vertical-align: middle;\n",
       "    }\n",
       "\n",
       "    .dataframe tbody tr th {\n",
       "        vertical-align: top;\n",
       "    }\n",
       "\n",
       "    .dataframe thead th {\n",
       "        text-align: right;\n",
       "    }\n",
       "</style>\n",
       "<table border=\"1\" class=\"dataframe\">\n",
       "  <thead>\n",
       "    <tr style=\"text-align: right;\">\n",
       "      <th></th>\n",
       "      <th>typeCode</th>\n",
       "      <th>freqCode</th>\n",
       "      <th>refPeriodId</th>\n",
       "      <th>refYear</th>\n",
       "      <th>refMonth</th>\n",
       "      <th>period</th>\n",
       "      <th>reporterCode</th>\n",
       "      <th>reporterISO</th>\n",
       "      <th>reporterDesc</th>\n",
       "      <th>flowCode</th>\n",
       "      <th>...</th>\n",
       "      <th>netWgt</th>\n",
       "      <th>isNetWgtEstimated</th>\n",
       "      <th>grossWgt</th>\n",
       "      <th>isGrossWgtEstimated</th>\n",
       "      <th>cifvalue</th>\n",
       "      <th>fobvalue</th>\n",
       "      <th>primaryValue</th>\n",
       "      <th>legacyEstimationFlag</th>\n",
       "      <th>isReported</th>\n",
       "      <th>isAggregate</th>\n",
       "    </tr>\n",
       "  </thead>\n",
       "  <tbody>\n",
       "    <tr>\n",
       "      <th>0</th>\n",
       "      <td>C</td>\n",
       "      <td>M</td>\n",
       "      <td>20170101</td>\n",
       "      <td>2017</td>\n",
       "      <td>1</td>\n",
       "      <td>201701</td>\n",
       "      <td>156</td>\n",
       "      <td>CHN</td>\n",
       "      <td>China</td>\n",
       "      <td>M</td>\n",
       "      <td>...</td>\n",
       "      <td>0.0</td>\n",
       "      <td>True</td>\n",
       "      <td>0.0</td>\n",
       "      <td>False</td>\n",
       "      <td>105.0</td>\n",
       "      <td>0.0</td>\n",
       "      <td>105.0</td>\n",
       "      <td>6</td>\n",
       "      <td>False</td>\n",
       "      <td>True</td>\n",
       "    </tr>\n",
       "    <tr>\n",
       "      <th>1</th>\n",
       "      <td>C</td>\n",
       "      <td>M</td>\n",
       "      <td>20170101</td>\n",
       "      <td>2017</td>\n",
       "      <td>1</td>\n",
       "      <td>201701</td>\n",
       "      <td>156</td>\n",
       "      <td>CHN</td>\n",
       "      <td>China</td>\n",
       "      <td>M</td>\n",
       "      <td>...</td>\n",
       "      <td>0.0</td>\n",
       "      <td>True</td>\n",
       "      <td>0.0</td>\n",
       "      <td>False</td>\n",
       "      <td>121780.0</td>\n",
       "      <td>0.0</td>\n",
       "      <td>121780.0</td>\n",
       "      <td>6</td>\n",
       "      <td>False</td>\n",
       "      <td>True</td>\n",
       "    </tr>\n",
       "    <tr>\n",
       "      <th>2</th>\n",
       "      <td>C</td>\n",
       "      <td>M</td>\n",
       "      <td>20170101</td>\n",
       "      <td>2017</td>\n",
       "      <td>1</td>\n",
       "      <td>201701</td>\n",
       "      <td>156</td>\n",
       "      <td>CHN</td>\n",
       "      <td>China</td>\n",
       "      <td>M</td>\n",
       "      <td>...</td>\n",
       "      <td>0.0</td>\n",
       "      <td>True</td>\n",
       "      <td>0.0</td>\n",
       "      <td>False</td>\n",
       "      <td>10400.0</td>\n",
       "      <td>0.0</td>\n",
       "      <td>10400.0</td>\n",
       "      <td>6</td>\n",
       "      <td>False</td>\n",
       "      <td>True</td>\n",
       "    </tr>\n",
       "    <tr>\n",
       "      <th>3</th>\n",
       "      <td>C</td>\n",
       "      <td>M</td>\n",
       "      <td>20170101</td>\n",
       "      <td>2017</td>\n",
       "      <td>1</td>\n",
       "      <td>201701</td>\n",
       "      <td>156</td>\n",
       "      <td>CHN</td>\n",
       "      <td>China</td>\n",
       "      <td>M</td>\n",
       "      <td>...</td>\n",
       "      <td>0.0</td>\n",
       "      <td>True</td>\n",
       "      <td>0.0</td>\n",
       "      <td>False</td>\n",
       "      <td>300000.0</td>\n",
       "      <td>0.0</td>\n",
       "      <td>300000.0</td>\n",
       "      <td>6</td>\n",
       "      <td>False</td>\n",
       "      <td>True</td>\n",
       "    </tr>\n",
       "    <tr>\n",
       "      <th>4</th>\n",
       "      <td>C</td>\n",
       "      <td>M</td>\n",
       "      <td>20170101</td>\n",
       "      <td>2017</td>\n",
       "      <td>1</td>\n",
       "      <td>201701</td>\n",
       "      <td>156</td>\n",
       "      <td>CHN</td>\n",
       "      <td>China</td>\n",
       "      <td>M</td>\n",
       "      <td>...</td>\n",
       "      <td>0.0</td>\n",
       "      <td>True</td>\n",
       "      <td>0.0</td>\n",
       "      <td>False</td>\n",
       "      <td>700789.0</td>\n",
       "      <td>0.0</td>\n",
       "      <td>700789.0</td>\n",
       "      <td>6</td>\n",
       "      <td>False</td>\n",
       "      <td>True</td>\n",
       "    </tr>\n",
       "    <tr>\n",
       "      <th>...</th>\n",
       "      <td>...</td>\n",
       "      <td>...</td>\n",
       "      <td>...</td>\n",
       "      <td>...</td>\n",
       "      <td>...</td>\n",
       "      <td>...</td>\n",
       "      <td>...</td>\n",
       "      <td>...</td>\n",
       "      <td>...</td>\n",
       "      <td>...</td>\n",
       "      <td>...</td>\n",
       "      <td>...</td>\n",
       "      <td>...</td>\n",
       "      <td>...</td>\n",
       "      <td>...</td>\n",
       "      <td>...</td>\n",
       "      <td>...</td>\n",
       "      <td>...</td>\n",
       "      <td>...</td>\n",
       "      <td>...</td>\n",
       "      <td>...</td>\n",
       "    </tr>\n",
       "    <tr>\n",
       "      <th>87095</th>\n",
       "      <td>C</td>\n",
       "      <td>M</td>\n",
       "      <td>20231201</td>\n",
       "      <td>2023</td>\n",
       "      <td>12</td>\n",
       "      <td>202312</td>\n",
       "      <td>156</td>\n",
       "      <td>CHN</td>\n",
       "      <td>China</td>\n",
       "      <td>M</td>\n",
       "      <td>...</td>\n",
       "      <td>2.0</td>\n",
       "      <td>False</td>\n",
       "      <td>0.0</td>\n",
       "      <td>False</td>\n",
       "      <td>36.0</td>\n",
       "      <td>None</td>\n",
       "      <td>36.0</td>\n",
       "      <td>0</td>\n",
       "      <td>True</td>\n",
       "      <td>False</td>\n",
       "    </tr>\n",
       "    <tr>\n",
       "      <th>87096</th>\n",
       "      <td>C</td>\n",
       "      <td>M</td>\n",
       "      <td>20231201</td>\n",
       "      <td>2023</td>\n",
       "      <td>12</td>\n",
       "      <td>202312</td>\n",
       "      <td>156</td>\n",
       "      <td>CHN</td>\n",
       "      <td>China</td>\n",
       "      <td>M</td>\n",
       "      <td>...</td>\n",
       "      <td>2.0</td>\n",
       "      <td>False</td>\n",
       "      <td>0.0</td>\n",
       "      <td>False</td>\n",
       "      <td>306.0</td>\n",
       "      <td>None</td>\n",
       "      <td>306.0</td>\n",
       "      <td>0</td>\n",
       "      <td>True</td>\n",
       "      <td>False</td>\n",
       "    </tr>\n",
       "    <tr>\n",
       "      <th>87097</th>\n",
       "      <td>C</td>\n",
       "      <td>M</td>\n",
       "      <td>20231201</td>\n",
       "      <td>2023</td>\n",
       "      <td>12</td>\n",
       "      <td>202312</td>\n",
       "      <td>156</td>\n",
       "      <td>CHN</td>\n",
       "      <td>China</td>\n",
       "      <td>M</td>\n",
       "      <td>...</td>\n",
       "      <td>2.0</td>\n",
       "      <td>False</td>\n",
       "      <td>0.0</td>\n",
       "      <td>False</td>\n",
       "      <td>396.0</td>\n",
       "      <td>None</td>\n",
       "      <td>396.0</td>\n",
       "      <td>0</td>\n",
       "      <td>True</td>\n",
       "      <td>False</td>\n",
       "    </tr>\n",
       "    <tr>\n",
       "      <th>87098</th>\n",
       "      <td>C</td>\n",
       "      <td>M</td>\n",
       "      <td>20231201</td>\n",
       "      <td>2023</td>\n",
       "      <td>12</td>\n",
       "      <td>202312</td>\n",
       "      <td>156</td>\n",
       "      <td>CHN</td>\n",
       "      <td>China</td>\n",
       "      <td>M</td>\n",
       "      <td>...</td>\n",
       "      <td>2.0</td>\n",
       "      <td>False</td>\n",
       "      <td>0.0</td>\n",
       "      <td>False</td>\n",
       "      <td>330.0</td>\n",
       "      <td>None</td>\n",
       "      <td>330.0</td>\n",
       "      <td>0</td>\n",
       "      <td>True</td>\n",
       "      <td>False</td>\n",
       "    </tr>\n",
       "    <tr>\n",
       "      <th>87099</th>\n",
       "      <td>C</td>\n",
       "      <td>M</td>\n",
       "      <td>20231201</td>\n",
       "      <td>2023</td>\n",
       "      <td>12</td>\n",
       "      <td>202312</td>\n",
       "      <td>156</td>\n",
       "      <td>CHN</td>\n",
       "      <td>China</td>\n",
       "      <td>M</td>\n",
       "      <td>...</td>\n",
       "      <td>2.0</td>\n",
       "      <td>False</td>\n",
       "      <td>0.0</td>\n",
       "      <td>False</td>\n",
       "      <td>3.0</td>\n",
       "      <td>None</td>\n",
       "      <td>3.0</td>\n",
       "      <td>0</td>\n",
       "      <td>True</td>\n",
       "      <td>False</td>\n",
       "    </tr>\n",
       "  </tbody>\n",
       "</table>\n",
       "<p>603594 rows × 47 columns</p>\n",
       "</div>"
      ],
      "text/plain": [
       "      typeCode freqCode  refPeriodId  refYear  refMonth  period  reporterCode  \\\n",
       "0            C        M     20170101     2017         1  201701           156   \n",
       "1            C        M     20170101     2017         1  201701           156   \n",
       "2            C        M     20170101     2017         1  201701           156   \n",
       "3            C        M     20170101     2017         1  201701           156   \n",
       "4            C        M     20170101     2017         1  201701           156   \n",
       "...        ...      ...          ...      ...       ...     ...           ...   \n",
       "87095        C        M     20231201     2023        12  202312           156   \n",
       "87096        C        M     20231201     2023        12  202312           156   \n",
       "87097        C        M     20231201     2023        12  202312           156   \n",
       "87098        C        M     20231201     2023        12  202312           156   \n",
       "87099        C        M     20231201     2023        12  202312           156   \n",
       "\n",
       "      reporterISO reporterDesc flowCode  ... netWgt  isNetWgtEstimated  \\\n",
       "0             CHN        China        M  ...    0.0               True   \n",
       "1             CHN        China        M  ...    0.0               True   \n",
       "2             CHN        China        M  ...    0.0               True   \n",
       "3             CHN        China        M  ...    0.0               True   \n",
       "4             CHN        China        M  ...    0.0               True   \n",
       "...           ...          ...      ...  ...    ...                ...   \n",
       "87095         CHN        China        M  ...    2.0              False   \n",
       "87096         CHN        China        M  ...    2.0              False   \n",
       "87097         CHN        China        M  ...    2.0              False   \n",
       "87098         CHN        China        M  ...    2.0              False   \n",
       "87099         CHN        China        M  ...    2.0              False   \n",
       "\n",
       "      grossWgt isGrossWgtEstimated  cifvalue fobvalue primaryValue  \\\n",
       "0          0.0               False     105.0      0.0        105.0   \n",
       "1          0.0               False  121780.0      0.0     121780.0   \n",
       "2          0.0               False   10400.0      0.0      10400.0   \n",
       "3          0.0               False  300000.0      0.0     300000.0   \n",
       "4          0.0               False  700789.0      0.0     700789.0   \n",
       "...        ...                 ...       ...      ...          ...   \n",
       "87095      0.0               False      36.0     None         36.0   \n",
       "87096      0.0               False     306.0     None        306.0   \n",
       "87097      0.0               False     396.0     None        396.0   \n",
       "87098      0.0               False     330.0     None        330.0   \n",
       "87099      0.0               False       3.0     None          3.0   \n",
       "\n",
       "      legacyEstimationFlag isReported  isAggregate  \n",
       "0                        6      False         True  \n",
       "1                        6      False         True  \n",
       "2                        6      False         True  \n",
       "3                        6      False         True  \n",
       "4                        6      False         True  \n",
       "...                    ...        ...          ...  \n",
       "87095                    0       True        False  \n",
       "87096                    0       True        False  \n",
       "87097                    0       True        False  \n",
       "87098                    0       True        False  \n",
       "87099                    0       True        False  \n",
       "\n",
       "[603594 rows x 47 columns]"
      ]
     },
     "execution_count": 40,
     "metadata": {},
     "output_type": "execute_result"
    }
   ],
   "source": [
    "#ECU3_short_agg.to_csv(\"/Users/omega_macbookpro/Desktop/International_Trade/Dissertation_MRes/Comtrade/Sanctions Docs/EU/Data/Output_Script_10v1/ECU3_short_agg_imp.csv\")\n",
    "China"
   ]
  },
  {
   "cell_type": "markdown",
   "metadata": {},
   "source": [
    "#### Download China export to Russia, EEU3"
   ]
  },
  {
   "cell_type": "code",
   "execution_count": 34,
   "metadata": {},
   "outputs": [],
   "source": [
    "China = get_data_exp([string_dates[0], '156', '643,0'])\n"
   ]
  },
  {
   "cell_type": "code",
   "execution_count": 39,
   "metadata": {},
   "outputs": [
    {
     "name": "stderr",
     "output_type": "stream",
     "text": [
      "\n",
      "\n",
      "  0%|          | 0/4 [00:00<?, ?it/s]\u001b[A\u001b[A\n",
      "\n",
      " 25%|██▌       | 1/4 [01:48<05:25, 108.58s/it]\u001b[A\u001b[A\n",
      "\n",
      " 50%|█████     | 2/4 [03:44<03:41, 110.70s/it]\u001b[A\u001b[A\n",
      "\n",
      " 75%|███████▌  | 3/4 [04:27<01:30, 90.33s/it] \u001b[A\u001b[A\n",
      "\n",
      "100%|██████████| 4/4 [04:29<00:00, 67.27s/it]\u001b[A\u001b[A\n"
     ]
    }
   ],
   "source": [
    "for years in tqdm(string_dates[4:]):\n",
    "    China_new = get_data_exp([years, '156', '643,0'])\n",
    "    China = China.append(China_new)\n"
   ]
  },
  {
   "cell_type": "code",
   "execution_count": 41,
   "metadata": {},
   "outputs": [],
   "source": [
    "China_ECU3 = get_data_exp([string_dates[0], '156', '398,51,417'])"
   ]
  },
  {
   "cell_type": "code",
   "execution_count": 45,
   "metadata": {},
   "outputs": [
    {
     "name": "stderr",
     "output_type": "stream",
     "text": [
      "\n",
      "\n",
      "  0%|          | 0/4 [00:00<?, ?it/s]\u001b[A\u001b[A\n",
      "\n",
      " 25%|██▌       | 1/4 [00:05<00:15,  5.19s/it]\u001b[A\u001b[A\n",
      "\n",
      " 50%|█████     | 2/4 [00:08<00:09,  4.67s/it]\u001b[A\u001b[A\n",
      "\n",
      " 75%|███████▌  | 3/4 [00:13<00:04,  4.77s/it]\u001b[A\u001b[A\n",
      "\n",
      "100%|██████████| 4/4 [00:14<00:00,  3.51s/it]\u001b[A\u001b[A\n"
     ]
    }
   ],
   "source": [
    "for years in tqdm(string_dates[4:]):\n",
    "    China_ECU3_new = get_data_exp([years, '156', '398,51,417'])\n",
    "    China_ECU3 = China_ECU3.append(China_ECU3_new)\n"
   ]
  },
  {
   "cell_type": "code",
   "execution_count": null,
   "metadata": {},
   "outputs": [],
   "source": []
  },
  {
   "cell_type": "code",
   "execution_count": 46,
   "metadata": {},
   "outputs": [],
   "source": [
    "China = China.append(China_ECU3)"
   ]
  },
  {
   "cell_type": "code",
   "execution_count": 48,
   "metadata": {},
   "outputs": [
    {
     "data": {
      "text/html": [
       "<div>\n",
       "<style scoped>\n",
       "    .dataframe tbody tr th:only-of-type {\n",
       "        vertical-align: middle;\n",
       "    }\n",
       "\n",
       "    .dataframe tbody tr th {\n",
       "        vertical-align: top;\n",
       "    }\n",
       "\n",
       "    .dataframe thead th {\n",
       "        text-align: right;\n",
       "    }\n",
       "</style>\n",
       "<table border=\"1\" class=\"dataframe\">\n",
       "  <thead>\n",
       "    <tr style=\"text-align: right;\">\n",
       "      <th>refYear</th>\n",
       "      <th>2017</th>\n",
       "      <th>2018</th>\n",
       "      <th>2019</th>\n",
       "      <th>2020</th>\n",
       "      <th>2021</th>\n",
       "      <th>2022</th>\n",
       "      <th>2023</th>\n",
       "    </tr>\n",
       "    <tr>\n",
       "      <th>classificationCode</th>\n",
       "      <th></th>\n",
       "      <th></th>\n",
       "      <th></th>\n",
       "      <th></th>\n",
       "      <th></th>\n",
       "      <th></th>\n",
       "      <th></th>\n",
       "    </tr>\n",
       "  </thead>\n",
       "  <tbody>\n",
       "    <tr>\n",
       "      <th>H5</th>\n",
       "      <td>87507</td>\n",
       "      <td>88979</td>\n",
       "      <td>91522</td>\n",
       "      <td>90067</td>\n",
       "      <td>90869</td>\n",
       "      <td>0</td>\n",
       "      <td>0</td>\n",
       "    </tr>\n",
       "    <tr>\n",
       "      <th>H6</th>\n",
       "      <td>0</td>\n",
       "      <td>0</td>\n",
       "      <td>0</td>\n",
       "      <td>0</td>\n",
       "      <td>0</td>\n",
       "      <td>91416</td>\n",
       "      <td>90474</td>\n",
       "    </tr>\n",
       "  </tbody>\n",
       "</table>\n",
       "</div>"
      ],
      "text/plain": [
       "refYear              2017   2018   2019   2020   2021   2022   2023\n",
       "classificationCode                                                 \n",
       "H5                  87507  88979  91522  90067  90869      0      0\n",
       "H6                      0      0      0      0      0  91416  90474"
      ]
     },
     "execution_count": 48,
     "metadata": {},
     "output_type": "execute_result"
    }
   ],
   "source": [
    "# fine\n",
    "pd.crosstab(index=China['classificationCode'], columns=China['refYear'])"
   ]
  },
  {
   "cell_type": "code",
   "execution_count": 49,
   "metadata": {},
   "outputs": [],
   "source": [
    "# keep only needed col-s\n",
    "#comtrade_cols = ['period', 'partnerCode', 'partnerISO', 'classificationCode', 'cmdCode', 'primaryValue']\n",
    "comtrade_cols = ['period', 'reporterCode', 'partnerCode', 'cmdCode', 'primaryValue']\n",
    "China_short = China[comtrade_cols]\n",
    "China_short = China_short.loc[China_short['cmdCode'].apply(len) == 6]\n",
    "China_short.reset_index(inplace=True)\n",
    "China_short.drop_duplicates(keep='first', inplace=True) # drop duplicates if were downloaded accidentally"
   ]
  },
  {
   "cell_type": "code",
   "execution_count": 50,
   "metadata": {},
   "outputs": [],
   "source": [
    "#China_short.to_csv(\"/Users/omega_macbookpro/Desktop/International_Trade/Dissertation_MRes/Comtrade/Sanctions Docs/EU/Data/Output_Script_10v1/China_short_imp.csv\")\n",
    "#China_short = pd.read_csv(\"/Users/omega_macbookpro/Desktop/International_Trade/Dissertation_MRes/Comtrade/Sanctions Docs/EU/Data/Output_Script_10v1/China_short_exp.csv\", dtype={'cmdCode': str})\n",
    "#China_short.drop(['Unnamed: 0', 'index'], axis=1, inplace=True)\n",
    "# check all cmdCode have 6 digits\n",
    "#China_short['cmdCode'].apply(len).unique()"
   ]
  },
  {
   "cell_type": "code",
   "execution_count": 12,
   "metadata": {},
   "outputs": [],
   "source": [
    "#China_ECU3_short = China_short.loc[China_short['partnerCode'].apply(lambda x: x in [398,51,417])]"
   ]
  },
  {
   "cell_type": "code",
   "execution_count": 13,
   "metadata": {},
   "outputs": [],
   "source": [
    "# China_ECU3_short_agg = China_ECU3_short.groupby(['period', 'cmdCode'])['primaryValue'].sum().reset_index() # sums over countries\n",
    "# China_ECU3_short_agg['partnerCode'] = 'ECU3'\n",
    "# China_ECU3_short_agg['reporterCode'] = 156\n",
    "# China_ECU3_short_agg = China_ECU3_short_agg[['period', 'reporterCode', 'partnerCode', 'cmdCode', 'primaryValue']]"
   ]
  },
  {
   "cell_type": "code",
   "execution_count": 51,
   "metadata": {},
   "outputs": [
    {
     "data": {
      "text/plain": [
       "array([643,   0,  51, 398, 417])"
      ]
     },
     "execution_count": 51,
     "metadata": {},
     "output_type": "execute_result"
    }
   ],
   "source": [
    "#China_short = China_short.loc[China_short['partnerCode'].apply(lambda x: x not in [398,51,417])]\n",
    "# China_short = China_short.append(China_ECU3_short_agg)\n",
    "#China_short['partnerCode'].unique()"
   ]
  },
  {
   "cell_type": "code",
   "execution_count": 52,
   "metadata": {},
   "outputs": [],
   "source": [
    "regres_countr = [643, 398, 51, 417] # Rus, ECU3\n",
    "regres_countr_data = China_short.loc[China_short['partnerCode'].apply(lambda x: x in regres_countr)]\n",
    "regres_countr_data_agg = regres_countr_data.groupby(['period', 'cmdCode'])['primaryValue'].sum().reset_index()\n"
   ]
  },
  {
   "cell_type": "code",
   "execution_count": 53,
   "metadata": {},
   "outputs": [],
   "source": [
    "RestWorld = China_short.loc[China_short['partnerCode'] == 0]\n",
    "RestWorld = pd.merge(RestWorld, regres_countr_data_agg, on=['period', 'cmdCode'], how='left')\n",
    "RestWorld['primaryValue_y'].fillna(value=0, inplace=True)\n",
    "RestWorld['primaryValue'] = RestWorld['primaryValue_x'] - RestWorld['primaryValue_y']\n",
    "RestWorld['partnerCode'] = \"RW_China_2\"\n",
    "RestWorld['reporterCode'] = 156\n",
    "RestWorld = RestWorld[['period', 'reporterCode', 'partnerCode', 'cmdCode', 'primaryValue']]\n",
    "\n",
    "China_short = China_short.append(RestWorld)"
   ]
  },
  {
   "cell_type": "code",
   "execution_count": 54,
   "metadata": {},
   "outputs": [],
   "source": [
    "#China_short['partnerCode'].unique()\n",
    "#China_short.to_csv(\"/Users/omega_macbookpro/Desktop/International_Trade/Dissertation_MRes/Comtrade/Sanctions Docs/EU/Data/Output_Script_10v1/China_short_imp.csv\")\n"
   ]
  },
  {
   "cell_type": "code",
   "execution_count": 65,
   "metadata": {},
   "outputs": [
    {
     "data": {
      "text/html": [
       "<div>\n",
       "<style scoped>\n",
       "    .dataframe tbody tr th:only-of-type {\n",
       "        vertical-align: middle;\n",
       "    }\n",
       "\n",
       "    .dataframe tbody tr th {\n",
       "        vertical-align: top;\n",
       "    }\n",
       "\n",
       "    .dataframe thead th {\n",
       "        text-align: right;\n",
       "    }\n",
       "</style>\n",
       "<table border=\"1\" class=\"dataframe\">\n",
       "  <thead>\n",
       "    <tr style=\"text-align: right;\">\n",
       "      <th></th>\n",
       "      <th>typeCode</th>\n",
       "      <th>freqCode</th>\n",
       "      <th>refPeriodId</th>\n",
       "      <th>refYear</th>\n",
       "      <th>refMonth</th>\n",
       "      <th>period</th>\n",
       "      <th>reporterCode</th>\n",
       "      <th>reporterISO</th>\n",
       "      <th>reporterDesc</th>\n",
       "      <th>flowCode</th>\n",
       "      <th>...</th>\n",
       "      <th>netWgt</th>\n",
       "      <th>isNetWgtEstimated</th>\n",
       "      <th>grossWgt</th>\n",
       "      <th>isGrossWgtEstimated</th>\n",
       "      <th>cifvalue</th>\n",
       "      <th>fobvalue</th>\n",
       "      <th>primaryValue</th>\n",
       "      <th>legacyEstimationFlag</th>\n",
       "      <th>isReported</th>\n",
       "      <th>isAggregate</th>\n",
       "    </tr>\n",
       "  </thead>\n",
       "  <tbody>\n",
       "    <tr>\n",
       "      <th>0</th>\n",
       "      <td>C</td>\n",
       "      <td>M</td>\n",
       "      <td>20170101</td>\n",
       "      <td>2017</td>\n",
       "      <td>1</td>\n",
       "      <td>201701</td>\n",
       "      <td>792</td>\n",
       "      <td>TUR</td>\n",
       "      <td>Türkiye</td>\n",
       "      <td>M</td>\n",
       "      <td>...</td>\n",
       "      <td>0.0</td>\n",
       "      <td>False</td>\n",
       "      <td>0.0</td>\n",
       "      <td>False</td>\n",
       "      <td>150922.0</td>\n",
       "      <td>135112.00</td>\n",
       "      <td>150922.0</td>\n",
       "      <td>0</td>\n",
       "      <td>False</td>\n",
       "      <td>True</td>\n",
       "    </tr>\n",
       "    <tr>\n",
       "      <th>1</th>\n",
       "      <td>C</td>\n",
       "      <td>M</td>\n",
       "      <td>20170101</td>\n",
       "      <td>2017</td>\n",
       "      <td>1</td>\n",
       "      <td>201701</td>\n",
       "      <td>792</td>\n",
       "      <td>TUR</td>\n",
       "      <td>Türkiye</td>\n",
       "      <td>M</td>\n",
       "      <td>...</td>\n",
       "      <td>47.0</td>\n",
       "      <td>False</td>\n",
       "      <td>0.0</td>\n",
       "      <td>False</td>\n",
       "      <td>29272.0</td>\n",
       "      <td>26039.00</td>\n",
       "      <td>29272.0</td>\n",
       "      <td>0</td>\n",
       "      <td>False</td>\n",
       "      <td>True</td>\n",
       "    </tr>\n",
       "    <tr>\n",
       "      <th>2</th>\n",
       "      <td>C</td>\n",
       "      <td>M</td>\n",
       "      <td>20170101</td>\n",
       "      <td>2017</td>\n",
       "      <td>1</td>\n",
       "      <td>201701</td>\n",
       "      <td>792</td>\n",
       "      <td>TUR</td>\n",
       "      <td>Türkiye</td>\n",
       "      <td>M</td>\n",
       "      <td>...</td>\n",
       "      <td>47.0</td>\n",
       "      <td>False</td>\n",
       "      <td>0.0</td>\n",
       "      <td>False</td>\n",
       "      <td>29272.0</td>\n",
       "      <td>26039.00</td>\n",
       "      <td>29272.0</td>\n",
       "      <td>0</td>\n",
       "      <td>False</td>\n",
       "      <td>True</td>\n",
       "    </tr>\n",
       "    <tr>\n",
       "      <th>3</th>\n",
       "      <td>C</td>\n",
       "      <td>M</td>\n",
       "      <td>20170101</td>\n",
       "      <td>2017</td>\n",
       "      <td>1</td>\n",
       "      <td>201701</td>\n",
       "      <td>792</td>\n",
       "      <td>TUR</td>\n",
       "      <td>Türkiye</td>\n",
       "      <td>M</td>\n",
       "      <td>...</td>\n",
       "      <td>220.0</td>\n",
       "      <td>False</td>\n",
       "      <td>0.0</td>\n",
       "      <td>False</td>\n",
       "      <td>109522.0</td>\n",
       "      <td>97143.00</td>\n",
       "      <td>109522.0</td>\n",
       "      <td>0</td>\n",
       "      <td>False</td>\n",
       "      <td>True</td>\n",
       "    </tr>\n",
       "    <tr>\n",
       "      <th>4</th>\n",
       "      <td>C</td>\n",
       "      <td>M</td>\n",
       "      <td>20170101</td>\n",
       "      <td>2017</td>\n",
       "      <td>1</td>\n",
       "      <td>201701</td>\n",
       "      <td>792</td>\n",
       "      <td>TUR</td>\n",
       "      <td>Türkiye</td>\n",
       "      <td>M</td>\n",
       "      <td>...</td>\n",
       "      <td>19.0</td>\n",
       "      <td>False</td>\n",
       "      <td>0.0</td>\n",
       "      <td>False</td>\n",
       "      <td>11488.0</td>\n",
       "      <td>10166.00</td>\n",
       "      <td>11488.0</td>\n",
       "      <td>0</td>\n",
       "      <td>False</td>\n",
       "      <td>True</td>\n",
       "    </tr>\n",
       "    <tr>\n",
       "      <th>...</th>\n",
       "      <td>...</td>\n",
       "      <td>...</td>\n",
       "      <td>...</td>\n",
       "      <td>...</td>\n",
       "      <td>...</td>\n",
       "      <td>...</td>\n",
       "      <td>...</td>\n",
       "      <td>...</td>\n",
       "      <td>...</td>\n",
       "      <td>...</td>\n",
       "      <td>...</td>\n",
       "      <td>...</td>\n",
       "      <td>...</td>\n",
       "      <td>...</td>\n",
       "      <td>...</td>\n",
       "      <td>...</td>\n",
       "      <td>...</td>\n",
       "      <td>...</td>\n",
       "      <td>...</td>\n",
       "      <td>...</td>\n",
       "      <td>...</td>\n",
       "    </tr>\n",
       "    <tr>\n",
       "      <th>2354</th>\n",
       "      <td>C</td>\n",
       "      <td>M</td>\n",
       "      <td>20240501</td>\n",
       "      <td>2024</td>\n",
       "      <td>5</td>\n",
       "      <td>202405</td>\n",
       "      <td>792</td>\n",
       "      <td>TUR</td>\n",
       "      <td>Türkiye</td>\n",
       "      <td>M</td>\n",
       "      <td>...</td>\n",
       "      <td>3.0</td>\n",
       "      <td>False</td>\n",
       "      <td>0.0</td>\n",
       "      <td>False</td>\n",
       "      <td>29.0</td>\n",
       "      <td>25.97</td>\n",
       "      <td>29.0</td>\n",
       "      <td>0</td>\n",
       "      <td>False</td>\n",
       "      <td>True</td>\n",
       "    </tr>\n",
       "    <tr>\n",
       "      <th>2355</th>\n",
       "      <td>C</td>\n",
       "      <td>M</td>\n",
       "      <td>20240501</td>\n",
       "      <td>2024</td>\n",
       "      <td>5</td>\n",
       "      <td>202405</td>\n",
       "      <td>792</td>\n",
       "      <td>TUR</td>\n",
       "      <td>Türkiye</td>\n",
       "      <td>M</td>\n",
       "      <td>...</td>\n",
       "      <td>0.0</td>\n",
       "      <td>False</td>\n",
       "      <td>0.0</td>\n",
       "      <td>False</td>\n",
       "      <td>106.0</td>\n",
       "      <td>93.00</td>\n",
       "      <td>106.0</td>\n",
       "      <td>0</td>\n",
       "      <td>False</td>\n",
       "      <td>True</td>\n",
       "    </tr>\n",
       "    <tr>\n",
       "      <th>2356</th>\n",
       "      <td>C</td>\n",
       "      <td>M</td>\n",
       "      <td>20240501</td>\n",
       "      <td>2024</td>\n",
       "      <td>5</td>\n",
       "      <td>202405</td>\n",
       "      <td>792</td>\n",
       "      <td>TUR</td>\n",
       "      <td>Türkiye</td>\n",
       "      <td>M</td>\n",
       "      <td>...</td>\n",
       "      <td>8.0</td>\n",
       "      <td>False</td>\n",
       "      <td>0.0</td>\n",
       "      <td>False</td>\n",
       "      <td>106.0</td>\n",
       "      <td>93.00</td>\n",
       "      <td>106.0</td>\n",
       "      <td>0</td>\n",
       "      <td>False</td>\n",
       "      <td>True</td>\n",
       "    </tr>\n",
       "    <tr>\n",
       "      <th>2357</th>\n",
       "      <td>C</td>\n",
       "      <td>M</td>\n",
       "      <td>20240501</td>\n",
       "      <td>2024</td>\n",
       "      <td>5</td>\n",
       "      <td>202405</td>\n",
       "      <td>792</td>\n",
       "      <td>TUR</td>\n",
       "      <td>Türkiye</td>\n",
       "      <td>M</td>\n",
       "      <td>...</td>\n",
       "      <td>8.0</td>\n",
       "      <td>False</td>\n",
       "      <td>0.0</td>\n",
       "      <td>False</td>\n",
       "      <td>106.0</td>\n",
       "      <td>93.00</td>\n",
       "      <td>106.0</td>\n",
       "      <td>0</td>\n",
       "      <td>False</td>\n",
       "      <td>True</td>\n",
       "    </tr>\n",
       "    <tr>\n",
       "      <th>2358</th>\n",
       "      <td>C</td>\n",
       "      <td>M</td>\n",
       "      <td>20240501</td>\n",
       "      <td>2024</td>\n",
       "      <td>5</td>\n",
       "      <td>202405</td>\n",
       "      <td>792</td>\n",
       "      <td>TUR</td>\n",
       "      <td>Türkiye</td>\n",
       "      <td>M</td>\n",
       "      <td>...</td>\n",
       "      <td>0.0</td>\n",
       "      <td>False</td>\n",
       "      <td>0.0</td>\n",
       "      <td>False</td>\n",
       "      <td>7136154.0</td>\n",
       "      <td>6416246.97</td>\n",
       "      <td>7136154.0</td>\n",
       "      <td>0</td>\n",
       "      <td>False</td>\n",
       "      <td>True</td>\n",
       "    </tr>\n",
       "  </tbody>\n",
       "</table>\n",
       "<p>22988 rows × 47 columns</p>\n",
       "</div>"
      ],
      "text/plain": [
       "     typeCode freqCode  refPeriodId  refYear  refMonth  period  reporterCode  \\\n",
       "0           C        M     20170101     2017         1  201701           792   \n",
       "1           C        M     20170101     2017         1  201701           792   \n",
       "2           C        M     20170101     2017         1  201701           792   \n",
       "3           C        M     20170101     2017         1  201701           792   \n",
       "4           C        M     20170101     2017         1  201701           792   \n",
       "...       ...      ...          ...      ...       ...     ...           ...   \n",
       "2354        C        M     20240501     2024         5  202405           792   \n",
       "2355        C        M     20240501     2024         5  202405           792   \n",
       "2356        C        M     20240501     2024         5  202405           792   \n",
       "2357        C        M     20240501     2024         5  202405           792   \n",
       "2358        C        M     20240501     2024         5  202405           792   \n",
       "\n",
       "     reporterISO reporterDesc flowCode  ... netWgt  isNetWgtEstimated  \\\n",
       "0            TUR      Türkiye        M  ...    0.0              False   \n",
       "1            TUR      Türkiye        M  ...   47.0              False   \n",
       "2            TUR      Türkiye        M  ...   47.0              False   \n",
       "3            TUR      Türkiye        M  ...  220.0              False   \n",
       "4            TUR      Türkiye        M  ...   19.0              False   \n",
       "...          ...          ...      ...  ...    ...                ...   \n",
       "2354         TUR      Türkiye        M  ...    3.0              False   \n",
       "2355         TUR      Türkiye        M  ...    0.0              False   \n",
       "2356         TUR      Türkiye        M  ...    8.0              False   \n",
       "2357         TUR      Türkiye        M  ...    8.0              False   \n",
       "2358         TUR      Türkiye        M  ...    0.0              False   \n",
       "\n",
       "     grossWgt isGrossWgtEstimated   cifvalue    fobvalue primaryValue  \\\n",
       "0         0.0               False   150922.0   135112.00     150922.0   \n",
       "1         0.0               False    29272.0    26039.00      29272.0   \n",
       "2         0.0               False    29272.0    26039.00      29272.0   \n",
       "3         0.0               False   109522.0    97143.00     109522.0   \n",
       "4         0.0               False    11488.0    10166.00      11488.0   \n",
       "...       ...                 ...        ...         ...          ...   \n",
       "2354      0.0               False       29.0       25.97         29.0   \n",
       "2355      0.0               False      106.0       93.00        106.0   \n",
       "2356      0.0               False      106.0       93.00        106.0   \n",
       "2357      0.0               False      106.0       93.00        106.0   \n",
       "2358      0.0               False  7136154.0  6416246.97    7136154.0   \n",
       "\n",
       "     legacyEstimationFlag isReported  isAggregate  \n",
       "0                       0      False         True  \n",
       "1                       0      False         True  \n",
       "2                       0      False         True  \n",
       "3                       0      False         True  \n",
       "4                       0      False         True  \n",
       "...                   ...        ...          ...  \n",
       "2354                    0      False         True  \n",
       "2355                    0      False         True  \n",
       "2356                    0      False         True  \n",
       "2357                    0      False         True  \n",
       "2358                    0      False         True  \n",
       "\n",
       "[22988 rows x 47 columns]"
      ]
     },
     "execution_count": 65,
     "metadata": {},
     "output_type": "execute_result"
    }
   ],
   "source": [
    "#1000/1010, 10/1010, 1010/1021, 11/1021\n",
    "#12 * 6 * 2500 * 6\n",
    "Turkiye\n",
    "Turkiye_ECU3"
   ]
  },
  {
   "cell_type": "markdown",
   "metadata": {},
   "source": [
    "#### Download Turkiye export to Russia, EEU3"
   ]
  },
  {
   "cell_type": "code",
   "execution_count": 55,
   "metadata": {},
   "outputs": [],
   "source": [
    "Turkiye = get_data_exp([string_dates[0], '792', '643,0'])\n"
   ]
  },
  {
   "cell_type": "code",
   "execution_count": 60,
   "metadata": {},
   "outputs": [
    {
     "name": "stderr",
     "output_type": "stream",
     "text": [
      "\n",
      "\n",
      "\n",
      "  0%|          | 0/4 [00:00<?, ?it/s]\u001b[A\u001b[A\u001b[A\n",
      "\n",
      "\n",
      " 25%|██▌       | 1/4 [04:33<13:40, 273.49s/it]\u001b[A\u001b[A\u001b[A\n",
      "\n",
      "\n",
      " 50%|█████     | 2/4 [11:15<10:24, 312.00s/it]\u001b[A\u001b[A\u001b[A\n",
      "\n",
      "\n",
      " 75%|███████▌  | 3/4 [17:48<05:36, 336.41s/it]\u001b[A\u001b[A\u001b[A\n",
      "\n",
      "\n",
      "100%|██████████| 4/4 [20:42<00:00, 310.72s/it]\u001b[A\u001b[A\u001b[A\n"
     ]
    }
   ],
   "source": [
    "for years in tqdm(string_dates[1:]):\n",
    "    Turkiye_new = get_data_exp([years, '792', '643,0'])\n",
    "    Turkiye = Turkiye.append(Turkiye_new)\n"
   ]
  },
  {
   "cell_type": "code",
   "execution_count": 62,
   "metadata": {},
   "outputs": [],
   "source": [
    "Turkiye_ECU3 = get_data_exp([string_dates[0], '792', '398,51,417'])"
   ]
  },
  {
   "cell_type": "code",
   "execution_count": 64,
   "metadata": {},
   "outputs": [
    {
     "name": "stderr",
     "output_type": "stream",
     "text": [
      "\n",
      "\n",
      "\n",
      "  0%|          | 0/7 [00:00<?, ?it/s]\u001b[A\u001b[A\u001b[A\n",
      "\n",
      "\n",
      " 14%|█▍        | 1/7 [00:03<00:20,  3.37s/it]\u001b[A\u001b[A\u001b[A\n",
      "\n",
      "\n",
      " 29%|██▊       | 2/7 [00:07<00:17,  3.53s/it]\u001b[A\u001b[A\u001b[A\n",
      "\n",
      "\n",
      " 43%|████▎     | 3/7 [00:11<00:14,  3.60s/it]\u001b[A\u001b[A\u001b[A\n",
      "\n",
      "\n",
      " 57%|█████▋    | 4/7 [00:16<00:12,  4.30s/it]\u001b[A\u001b[A\u001b[A\n",
      "\n",
      "\n",
      " 71%|███████▏  | 5/7 [00:26<00:11,  5.79s/it]\u001b[A\u001b[A\u001b[A\n",
      "\n",
      "\n",
      " 86%|████████▌ | 6/7 [00:42<00:08,  8.98s/it]\u001b[A\u001b[A\u001b[A\n",
      "\n",
      "\n",
      "100%|██████████| 7/7 [00:46<00:00,  6.65s/it]\u001b[A\u001b[A\u001b[A\n"
     ]
    }
   ],
   "source": [
    "for years in tqdm(string_dates[1:]):\n",
    "    Turkiye_ECU3_new = get_data_exp([years, '792', '398,51,417'])\n",
    "    Turkiye_ECU3 = Turkiye_ECU3.append(Turkiye_ECU3_new)\n"
   ]
  },
  {
   "cell_type": "code",
   "execution_count": 66,
   "metadata": {},
   "outputs": [],
   "source": [
    "Turkiye = Turkiye.append(Turkiye_ECU3)"
   ]
  },
  {
   "cell_type": "code",
   "execution_count": 67,
   "metadata": {},
   "outputs": [
    {
     "data": {
      "text/html": [
       "<div>\n",
       "<style scoped>\n",
       "    .dataframe tbody tr th:only-of-type {\n",
       "        vertical-align: middle;\n",
       "    }\n",
       "\n",
       "    .dataframe tbody tr th {\n",
       "        vertical-align: top;\n",
       "    }\n",
       "\n",
       "    .dataframe thead th {\n",
       "        text-align: right;\n",
       "    }\n",
       "</style>\n",
       "<table border=\"1\" class=\"dataframe\">\n",
       "  <thead>\n",
       "    <tr style=\"text-align: right;\">\n",
       "      <th>refYear</th>\n",
       "      <th>2017</th>\n",
       "      <th>2018</th>\n",
       "      <th>2019</th>\n",
       "      <th>2020</th>\n",
       "      <th>2021</th>\n",
       "      <th>2022</th>\n",
       "      <th>2023</th>\n",
       "      <th>2024</th>\n",
       "    </tr>\n",
       "    <tr>\n",
       "      <th>classificationCode</th>\n",
       "      <th></th>\n",
       "      <th></th>\n",
       "      <th></th>\n",
       "      <th></th>\n",
       "      <th></th>\n",
       "      <th></th>\n",
       "      <th></th>\n",
       "      <th></th>\n",
       "    </tr>\n",
       "  </thead>\n",
       "  <tbody>\n",
       "    <tr>\n",
       "      <th>H5</th>\n",
       "      <td>79221</td>\n",
       "      <td>78956</td>\n",
       "      <td>79783</td>\n",
       "      <td>80989</td>\n",
       "      <td>87782</td>\n",
       "      <td>0</td>\n",
       "      <td>0</td>\n",
       "      <td>0</td>\n",
       "    </tr>\n",
       "    <tr>\n",
       "      <th>H6</th>\n",
       "      <td>0</td>\n",
       "      <td>0</td>\n",
       "      <td>0</td>\n",
       "      <td>0</td>\n",
       "      <td>0</td>\n",
       "      <td>89305</td>\n",
       "      <td>90315</td>\n",
       "      <td>38649</td>\n",
       "    </tr>\n",
       "  </tbody>\n",
       "</table>\n",
       "</div>"
      ],
      "text/plain": [
       "refYear              2017   2018   2019   2020   2021   2022   2023   2024\n",
       "classificationCode                                                        \n",
       "H5                  79221  78956  79783  80989  87782      0      0      0\n",
       "H6                      0      0      0      0      0  89305  90315  38649"
      ]
     },
     "execution_count": 67,
     "metadata": {},
     "output_type": "execute_result"
    }
   ],
   "source": [
    "# fine \n",
    "pd.crosstab(index=Turkiye['classificationCode'], columns=Turkiye['refYear'])"
   ]
  },
  {
   "cell_type": "code",
   "execution_count": 58,
   "metadata": {},
   "outputs": [
    {
     "data": {
      "text/plain": [
       "array([ 51, 398, 417])"
      ]
     },
     "execution_count": 58,
     "metadata": {},
     "output_type": "execute_result"
    }
   ],
   "source": []
  },
  {
   "cell_type": "code",
   "execution_count": 68,
   "metadata": {},
   "outputs": [],
   "source": [
    "# keep only needed col-s\n",
    "#comtrade_cols = ['period', 'partnerCode', 'partnerISO', 'classificationCode', 'cmdCode', 'primaryValue']\n",
    "comtrade_cols = ['period', 'reporterCode', 'partnerCode', 'cmdCode', 'primaryValue']\n",
    "Turkiye_short = Turkiye[comtrade_cols]\n",
    "Turkiye_short = Turkiye_short.loc[Turkiye_short['cmdCode'].apply(len) == 6]\n",
    "Turkiye_short.reset_index(inplace=True)\n",
    "Turkiye_short.drop_duplicates(keep='first', inplace=True) # drop duplicates if were downloaded accidentally"
   ]
  },
  {
   "cell_type": "code",
   "execution_count": 5,
   "metadata": {},
   "outputs": [],
   "source": [
    "#Turkiye_short.to_csv(\"/Users/omega_macbookpro/Desktop/International_Trade/Dissertation_MRes/Comtrade/Sanctions Docs/EU/Data/Output_Script_9v2/Turkiye_short_exp.csv\")\n",
    "Turkiye_short = pd.read_csv(\"/Users/omega_macbookpro/Desktop/International_Trade/Dissertation_MRes/Comtrade/Sanctions Docs/EU/Data/Output_Script_9v2/Turkiye_short_exp.csv\", dtype={'cmdCode': str})\n",
    "Turkiye_short.drop(['Unnamed: 0', 'index'], axis=1, inplace=True)\n",
    "# check all cmdCode have 6 digits\n",
    "#Turkiye_short['cmdCode'].apply(len).unique()"
   ]
  },
  {
   "cell_type": "code",
   "execution_count": 6,
   "metadata": {},
   "outputs": [],
   "source": [
    "#Turkiye_ECU3_short = Turkiye_short.loc[Turkiye_short['partnerCode'].apply(lambda x: x in [398,51,417])]"
   ]
  },
  {
   "cell_type": "code",
   "execution_count": 7,
   "metadata": {},
   "outputs": [],
   "source": [
    "# Turkiye_ECU3_short_agg = Turkiye_ECU3_short.groupby(['period', 'cmdCode'])['primaryValue'].sum().reset_index() # sums over countries\n",
    "# Turkiye_ECU3_short_agg['partnerCode'] = 'ECU3'\n",
    "# Turkiye_ECU3_short_agg['reporterCode'] = 792\n",
    "# Turkiye_ECU3_short_agg = Turkiye_ECU3_short_agg[['period', 'reporterCode', 'partnerCode', 'cmdCode', 'primaryValue']]\n"
   ]
  },
  {
   "cell_type": "code",
   "execution_count": 8,
   "metadata": {},
   "outputs": [],
   "source": [
    "# Turkiye_short = Turkiye_short.loc[Turkiye_short['partnerCode'].apply(lambda x: x not in [398,51,417])]\n",
    "# Turkiye_short = Turkiye_short.append(Turkiye_ECU3_short_agg)"
   ]
  },
  {
   "cell_type": "code",
   "execution_count": 70,
   "metadata": {},
   "outputs": [],
   "source": [
    "regres_countr = [643, 398,51,417] # Rus, ECU3\n",
    "regres_countr_data = Turkiye_short.loc[Turkiye_short['partnerCode'].apply(lambda x: x in regres_countr)]\n",
    "regres_countr_data_agg = regres_countr_data.groupby(['period', 'cmdCode'])['primaryValue'].sum().reset_index()\n"
   ]
  },
  {
   "cell_type": "code",
   "execution_count": 71,
   "metadata": {},
   "outputs": [],
   "source": [
    "RestWorld = Turkiye_short.loc[Turkiye_short['partnerCode'] == 0]\n",
    "RestWorld = pd.merge(RestWorld, regres_countr_data_agg, on=['period', 'cmdCode'], how='left')\n",
    "RestWorld['primaryValue_y'].fillna(value=0, inplace=True)\n",
    "RestWorld['primaryValue'] = RestWorld['primaryValue_x'] - RestWorld['primaryValue_y']\n",
    "RestWorld['partnerCode'] = \"RW_Turkiye_2\"\n",
    "RestWorld['reporterCode'] = 792\n",
    "RestWorld = RestWorld[['period', 'reporterCode', 'partnerCode', 'cmdCode', 'primaryValue']]\n",
    "\n",
    "Turkiye_short = Turkiye_short.append(RestWorld)\n",
    "#Turkiye_short.drop(['index'], axis=1, inplace=True)"
   ]
  },
  {
   "cell_type": "code",
   "execution_count": 72,
   "metadata": {},
   "outputs": [],
   "source": [
    "#Turkiye_short['partnerCode'].unique()\n",
    "#Turkiye_short.to_csv(\"/Users/omega_macbookpro/Desktop/International_Trade/Dissertation_MRes/Comtrade/Sanctions Docs/EU/Data/Output_Script_10v1/Turkiye_short_imp.csv\")\n"
   ]
  },
  {
   "cell_type": "markdown",
   "metadata": {},
   "source": [
    "\n",
    "### Combine all data"
   ]
  },
  {
   "cell_type": "code",
   "execution_count": 17,
   "metadata": {},
   "outputs": [
    {
     "name": "stderr",
     "output_type": "stream",
     "text": [
      "/Users/omega_macbookpro/opt/anaconda3/lib/python3.7/site-packages/IPython/core/interactiveshell.py:3063: DtypeWarning: Columns (3) have mixed types.Specify dtype option on import or set low_memory=False.\n",
      "  interactivity=interactivity, compiler=compiler, result=result)\n"
     ]
    }
   ],
   "source": [
    "#Turkiye_short['partnerCode'].unique()\n",
    "ECU3_short_agg = pd.read_csv(\"/Users/omega_macbookpro/Desktop/International_Trade/Dissertation_MRes/Comtrade/Sanctions Docs/EU/Data/Output_Script_9v2/ECU3_short_agg_exp.csv\", dtype={'cmdCode': str})\n",
    "ECU3_short_agg.drop(['Unnamed: 0'], axis=1, inplace=True)\n"
   ]
  },
  {
   "cell_type": "code",
   "execution_count": 73,
   "metadata": {},
   "outputs": [],
   "source": [
    "database = ECU3_short_agg.append([China_short, Turkiye_short])\n",
    "database['partnerCode'] = database['partnerCode'].apply(str)\n",
    "database = database.loc[database['partnerCode'] != '0']\n",
    "# database.drop(['Unnamed: 0', 'index'], axis=1, inplace=True)\n",
    "database.drop_duplicates(keep='first', inplace=True)\n",
    "database['period'] = database['period'].apply(str)"
   ]
  },
  {
   "cell_type": "code",
   "execution_count": 75,
   "metadata": {},
   "outputs": [],
   "source": [
    "#database['partnerCode'].unique()"
   ]
  },
  {
   "cell_type": "code",
   "execution_count": 76,
   "metadata": {},
   "outputs": [],
   "source": [
    "# append datasets according to HS5 and HS6 classif\n",
    "database_2017_2021 = database.loc[database['period'] < '202201']\n",
    "database_2022_2023 = database.loc[database['period'] >= '202201']"
   ]
  },
  {
   "cell_type": "code",
   "execution_count": 77,
   "metadata": {},
   "outputs": [],
   "source": [
    "# convet HS6 to HS5 and group HS6 flows within same month-HS5 group\n",
    "database_2022_2023_HS5 = pd.merge(database_2022_2023, HS2022toHS2017, left_on='cmdCode', right_on='From HS2022', how='left')\n",
    "database_2022_2023_HS5 = database_2022_2023_HS5[['period', 'reporterCode', 'partnerCode', 'primaryValue', 'To HS2017']].groupby(['period', 'reporterCode', 'partnerCode', 'To HS2017'])['primaryValue'].sum().reset_index()\n"
   ]
  },
  {
   "cell_type": "code",
   "execution_count": 78,
   "metadata": {},
   "outputs": [
    {
     "name": "stderr",
     "output_type": "stream",
     "text": [
      "/Users/omega_macbookpro/opt/anaconda3/lib/python3.7/site-packages/pandas/core/frame.py:4446: SettingWithCopyWarning: \n",
      "A value is trying to be set on a copy of a slice from a DataFrame\n",
      "\n",
      "See the caveats in the documentation: https://pandas.pydata.org/pandas-docs/stable/user_guide/indexing.html#returning-a-view-versus-a-copy\n",
      "  errors=errors,\n"
     ]
    }
   ],
   "source": [
    "# rename to have same column names\n",
    "database_2017_2021.rename(columns={'cmdCode':'cmdCode_HS5'}, inplace=True)\n",
    "database_2022_2023_HS5.rename(columns={'To HS2017':'cmdCode_HS5'}, inplace=True)\n",
    "\n",
    "database_HS5 = database_2017_2021.append(database_2022_2023_HS5)\n"
   ]
  },
  {
   "cell_type": "code",
   "execution_count": 79,
   "metadata": {},
   "outputs": [],
   "source": [
    "database_HS5_sanct = pd.merge(database_HS5, HS5_sanct, left_on='cmdCode_HS5', right_on='HS2017', how='left')\n",
    "database_HS5_sanct.drop(['HS2017', 'HS2022'], axis=1, inplace=True)\n",
    "database_HS5_sanct['period'] = database_HS5_sanct['period'].apply(lambda x: pd.to_datetime(x, format='%Y%m')) # convert to timestamp\n",
    "database_HS5_sanct['Date_HS5'] = database_HS5_sanct['Date_HS5'].apply(lambda x: pd.to_datetime(x, format='%Y-%m-%d') if x==x else x)\n",
    "database_HS5_sanct['Date_HS5_similar'] = database_HS5_sanct['Date_HS5_similar'].apply(lambda x: pd.to_datetime(x, format='%Y-%m-%d') if x==x else x)\n"
   ]
  },
  {
   "cell_type": "code",
   "execution_count": 80,
   "metadata": {},
   "outputs": [
    {
     "name": "stdout",
     "output_type": "stream",
     "text": [
      "5066\n"
     ]
    }
   ],
   "source": [
    "print(database_HS5_sanct['Sanct_HS5'].isna().sum())\n",
    "database_HS5_sanct = database_HS5_sanct.loc[database_HS5_sanct['Sanct_HS5'].notna()]\n",
    "database_HS5_sanct['partnerCode'] = database_HS5_sanct['partnerCode'].apply(str)"
   ]
  },
  {
   "cell_type": "markdown",
   "metadata": {},
   "source": [
    "#### Prepare for regressions"
   ]
  },
  {
   "cell_type": "code",
   "execution_count": 83,
   "metadata": {},
   "outputs": [
    {
     "data": {
      "text/plain": [
       "array(['643', 'RW_ECU3_1', '51', '398', '417', 'RW_China_2',\n",
       "       'RW_Turkiye_2'], dtype=object)"
      ]
     },
     "execution_count": 83,
     "metadata": {},
     "output_type": "execute_result"
    }
   ],
   "source": [
    "# regres_countr + ['RW2']\n",
    "database_HS5_sanct['partnerCode'].unique()\n"
   ]
  },
  {
   "cell_type": "code",
   "execution_count": 84,
   "metadata": {},
   "outputs": [],
   "source": [
    "#database_reg = database_HS5_sanct.loc[(database_HS5_sanct['partnerCode'] != 0) & (database_HS5_sanct['partnerCode'] != 156)]\n",
    "regres_countr = ['643', 'RW_ECU3_1', '51', '398', '417', 'RW_China_2', 'RW_Turkiye_2']\n",
    "database_reg = database_HS5_sanct.loc[database_HS5_sanct['partnerCode'].apply(lambda x: x in regres_countr)]\n"
   ]
  },
  {
   "cell_type": "code",
   "execution_count": 85,
   "metadata": {},
   "outputs": [
    {
     "name": "stderr",
     "output_type": "stream",
     "text": [
      "/Users/omega_macbookpro/opt/anaconda3/lib/python3.7/site-packages/pandas/core/arraylike.py:358: RuntimeWarning: divide by zero encountered in log\n",
      "  result = getattr(ufunc, method)(*inputs, **kwargs)\n",
      "/Users/omega_macbookpro/opt/anaconda3/lib/python3.7/site-packages/pandas/core/arraylike.py:358: RuntimeWarning: invalid value encountered in log\n",
      "  result = getattr(ufunc, method)(*inputs, **kwargs)\n"
     ]
    }
   ],
   "source": [
    "def periodtoint(period):\n",
    "    if period == period: return period.year*12 + period.month - 24205 # 24240 is number of months before 2020-11-01\n",
    "    else: return 0\n",
    "\n",
    "database_reg.sort_values(by=['period'], inplace=True)\n",
    "#ECU3_sanct_1['Date_HS5'] = ECU3_sanct_1['Date_HS5'].apply(lambda x: pd.to_datetime(x, format='%Y-%m-%d %H:%M:%S')) # convert to timestamp\n",
    "database_reg['Date_HS5_int'] = database_reg['Date_HS5'].apply(periodtoint)\n",
    "database_reg['period_int'] = database_reg['period'].apply(periodtoint)\n",
    "database_reg['log_primaryValue'] = np.log(database_reg['primaryValue'])\n"
   ]
  },
  {
   "cell_type": "code",
   "execution_count": 86,
   "metadata": {},
   "outputs": [],
   "source": [
    "database_reg['Sanct_t'] = (database_reg['period'] > database_reg['Date_HS5']).apply(int)\n",
    "database_reg['Similar_t'] = (database_reg['period'] > database_reg['Date_HS5_similar']).apply(int)\n",
    "database_reg['Sanct_t_int'] = (database_reg['period_int'] > database_reg['Date_HS5_int']).apply(int) # becareful, this might be falacious\n",
    "database_reg['partnerCode'] = database_reg['partnerCode'].apply(str)\n",
    "database_reg['reporterCode'] = database_reg['reporterCode'].apply(str)\n",
    "\n",
    "# status at t: Partial_t = 1 if partially sanctioned at t, o o/w; Full_t = 1 if fully sanctioned at t, o o/w;\n",
    "# Thus transitory code has Partial_t = 1 when partially sanctioned and Full_t = 1 when fully\n",
    "database_reg['Partial_t'] = database_reg['Partial_HS5'] * database_reg['Sanct_t'] + database_reg['Transitory_HS5'] * (((database_reg['period'] > database_reg['Transitory_firstpatial_HS5']) & (database_reg['period'] <= database_reg['Transitory_firstfull_HS5'])).apply(int))\n",
    "database_reg['Full_t'] = database_reg['Full_HS5'] * database_reg['Sanct_t'] + database_reg['Transitory_HS5'] * ((database_reg['period'] > database_reg['Transitory_firstfull_HS5']).apply(int))\n"
   ]
  },
  {
   "cell_type": "code",
   "execution_count": 87,
   "metadata": {},
   "outputs": [],
   "source": [
    "# becareful as 0 time_to_treat will code both, treatment period and non-sanct products => always use with sanctioned indicator to distinguish\n",
    "database_reg['time_to_treat'] = database_reg['period_int'] - database_reg['Date_HS5_int']\n",
    "database_reg.loc[database_reg['Sanct_HS5'] == 0, 'time_to_treat'] = 0"
   ]
  },
  {
   "cell_type": "code",
   "execution_count": 88,
   "metadata": {},
   "outputs": [],
   "source": [
    "def time_to_treat(x):\n",
    "    if x < -12: return -13\n",
    "    elif x > 12: return 13\n",
    "    else: return x\n",
    "    \n",
    "database_reg['time_to_treat_ES1'] = database_reg['time_to_treat'].apply(time_to_treat)    "
   ]
  },
  {
   "cell_type": "code",
   "execution_count": 95,
   "metadata": {},
   "outputs": [
    {
     "name": "stderr",
     "output_type": "stream",
     "text": [
      "/Users/omega_macbookpro/opt/anaconda3/lib/python3.7/site-packages/pandas/core/frame.py:3188: SettingWithCopyWarning: \n",
      "A value is trying to be set on a copy of a slice from a DataFrame.\n",
      "Try using .loc[row_indexer,col_indexer] = value instead\n",
      "\n",
      "See the caveats in the documentation: https://pandas.pydata.org/pandas-docs/stable/user_guide/indexing.html#returning-a-view-versus-a-copy\n",
      "  self[k1] = value[k2]\n"
     ]
    }
   ],
   "source": [
    "# split on exporter datasets\n",
    "database_reg_ECU3_agg = database_reg.loc[database_reg['reporterCode'] == 'ECU3']\n",
    "database_reg_China = database_reg.loc[database_reg['reporterCode'] == '156']\n",
    "database_reg_Turkiye = database_reg.loc[database_reg['reporterCode'] == '792']\n",
    "\n",
    "database_reg_ECU3_agg[[\"Rus\", 'RW1']] = pd.get_dummies(database_reg_ECU3_agg['partnerCode'])\n",
    "database_reg_China[['Kaz', 'Kyr', 'Arm', \"Rus\", 'RW2']] = pd.get_dummies(database_reg_China['partnerCode'])\n",
    "database_reg_Turkiye[['Kaz', 'Kyr', 'Arm', \"Rus\", 'RW2']] = pd.get_dummies(database_reg_Turkiye['partnerCode'])\n"
   ]
  },
  {
   "cell_type": "code",
   "execution_count": 96,
   "metadata": {},
   "outputs": [],
   "source": [
    "#database_reg['reporterCode'].unique()"
   ]
  },
  {
   "cell_type": "code",
   "execution_count": 97,
   "metadata": {},
   "outputs": [
    {
     "name": "stderr",
     "output_type": "stream",
     "text": [
      "/Users/omega_macbookpro/opt/anaconda3/lib/python3.7/site-packages/ipykernel_launcher.py:2: SettingWithCopyWarning: \n",
      "A value is trying to be set on a copy of a slice from a DataFrame.\n",
      "Try using .loc[row_indexer,col_indexer] = value instead\n",
      "\n",
      "See the caveats in the documentation: https://pandas.pydata.org/pandas-docs/stable/user_guide/indexing.html#returning-a-view-versus-a-copy\n",
      "  \n",
      "/Users/omega_macbookpro/opt/anaconda3/lib/python3.7/site-packages/ipykernel_launcher.py:3: SettingWithCopyWarning: \n",
      "A value is trying to be set on a copy of a slice from a DataFrame.\n",
      "Try using .loc[row_indexer,col_indexer] = value instead\n",
      "\n",
      "See the caveats in the documentation: https://pandas.pydata.org/pandas-docs/stable/user_guide/indexing.html#returning-a-view-versus-a-copy\n",
      "  This is separate from the ipykernel package so we can avoid doing imports until\n",
      "/Users/omega_macbookpro/opt/anaconda3/lib/python3.7/site-packages/ipykernel_launcher.py:5: SettingWithCopyWarning: \n",
      "A value is trying to be set on a copy of a slice from a DataFrame.\n",
      "Try using .loc[row_indexer,col_indexer] = value instead\n",
      "\n",
      "See the caveats in the documentation: https://pandas.pydata.org/pandas-docs/stable/user_guide/indexing.html#returning-a-view-versus-a-copy\n",
      "  \"\"\"\n",
      "/Users/omega_macbookpro/opt/anaconda3/lib/python3.7/site-packages/ipykernel_launcher.py:6: SettingWithCopyWarning: \n",
      "A value is trying to be set on a copy of a slice from a DataFrame.\n",
      "Try using .loc[row_indexer,col_indexer] = value instead\n",
      "\n",
      "See the caveats in the documentation: https://pandas.pydata.org/pandas-docs/stable/user_guide/indexing.html#returning-a-view-versus-a-copy\n",
      "  \n"
     ]
    }
   ],
   "source": [
    "# dummies for ECU3 and FSU3\n",
    "database_reg_China['ECU3'] = database_reg_China['Kaz'] + database_reg_China['Kyr'] + database_reg_China['Arm']\n",
    "database_reg_China['ECU3'] = database_reg_China['ECU3'].apply(lambda x: int(x>0))\n",
    "\n",
    "database_reg_Turkiye['ECU3'] = database_reg_Turkiye['Kaz'] + database_reg_Turkiye['Kyr'] + database_reg_Turkiye['Arm']\n",
    "database_reg_Turkiye['ECU3'] = database_reg_Turkiye['ECU3'].apply(lambda x: int(x>0))\n"
   ]
  },
  {
   "cell_type": "code",
   "execution_count": 106,
   "metadata": {},
   "outputs": [
    {
     "name": "stdout",
     "output_type": "stream",
     "text": [
      "2024-05-01 00:00:00 2023-12-01 00:00:00 2024-05-01 00:00:00\n"
     ]
    }
   ],
   "source": [
    "print(database_reg_ECU3_agg['period'].max(), \n",
    "      database_reg_China['period'].max(),\n",
    "      database_reg_Turkiye['period'].max()\n",
    "     )\n"
   ]
  },
  {
   "cell_type": "code",
   "execution_count": 99,
   "metadata": {},
   "outputs": [
    {
     "name": "stdout",
     "output_type": "stream",
     "text": [
      "12045\n"
     ]
    },
    {
     "data": {
      "text/plain": [
       "2948"
      ]
     },
     "execution_count": 99,
     "metadata": {},
     "output_type": "execute_result"
    }
   ],
   "source": [
    "print(database_reg_China['ECU3'].sum())\n",
    "database_reg_China\n",
    "(database_reg_China['partnerCode'] == '51').sum()"
   ]
  },
  {
   "cell_type": "code",
   "execution_count": 37,
   "metadata": {},
   "outputs": [
    {
     "name": "stdout",
     "output_type": "stream",
     "text": [
      "200689\n"
     ]
    }
   ],
   "source": [
    "print(database_reg_Turkiye['ECU3'].sum())\n",
    "#(database_reg_Turkiye['partnerCode'] == '51').sum()"
   ]
  },
  {
   "cell_type": "code",
   "execution_count": 100,
   "metadata": {},
   "outputs": [],
   "source": [
    "# database_reg_ECU3_agg.to_csv(\"/Users/omega_macbookpro/Desktop/International_Trade/Dissertation_MRes/Comtrade/Sanctions Docs/EU/Data/Output_Script_10v1/database_reg_ECU3_agg.csv\")\n",
    "# database_reg_China.to_csv(\"/Users/omega_macbookpro/Desktop/International_Trade/Dissertation_MRes/Comtrade/Sanctions Docs/EU/Data/Output_Script_10v1/database_reg_China.csv\")\n",
    "# database_reg_Turkiye.to_csv(\"/Users/omega_macbookpro/Desktop/International_Trade/Dissertation_MRes/Comtrade/Sanctions Docs/EU/Data/Output_Script_10v1/database_reg_Turkiye.csv\")\n"
   ]
  },
  {
   "cell_type": "code",
   "execution_count": null,
   "metadata": {},
   "outputs": [],
   "source": []
  },
  {
   "cell_type": "code",
   "execution_count": 113,
   "metadata": {},
   "outputs": [],
   "source": [
    "\n",
    "#China_short.loc[China_short['partnerCode'] == 51]\n",
    "\n",
    "#pd.crosstab(index=China_short.loc[China_short['partnerCode'] == 51]['reporterCode'], columns=China_short.loc[China_short['partnerCode'] == 51]['period'])\n",
    "\n",
    "#China_short.loc[China_short['partnerCode'] == 51]\n",
    "\n",
    "#pd.crosstab(index=database_reg_China['partnerCode'], columns=database_reg_China['period'])"
   ]
  },
  {
   "cell_type": "code",
   "execution_count": 116,
   "metadata": {},
   "outputs": [
    {
     "data": {
      "text/plain": [
       "array([  0, -13, -12, -11, -10,  -9,  -8,  -7,  -6,  -5,  -4,  -3,  -2,\n",
       "        -1,   1,   2,   3,   4,   5,   6,   7,   8,   9,  10,  11,  12,\n",
       "        13])"
      ]
     },
     "execution_count": 116,
     "metadata": {},
     "output_type": "execute_result"
    }
   ],
   "source": [
    "database_reg_China['time_to_treat_ES1'].unique()\n"
   ]
  },
  {
   "cell_type": "code",
   "execution_count": null,
   "metadata": {},
   "outputs": [],
   "source": []
  },
  {
   "cell_type": "code",
   "execution_count": null,
   "metadata": {},
   "outputs": [],
   "source": []
  },
  {
   "cell_type": "code",
   "execution_count": null,
   "metadata": {},
   "outputs": [],
   "source": []
  },
  {
   "cell_type": "code",
   "execution_count": null,
   "metadata": {},
   "outputs": [],
   "source": []
  },
  {
   "cell_type": "code",
   "execution_count": 89,
   "metadata": {},
   "outputs": [],
   "source": [
    "#database_reg.loc[database_reg['reporterCode'].isna()]\n",
    "\n"
   ]
  },
  {
   "cell_type": "code",
   "execution_count": null,
   "metadata": {},
   "outputs": [],
   "source": []
  },
  {
   "cell_type": "code",
   "execution_count": null,
   "metadata": {},
   "outputs": [],
   "source": []
  },
  {
   "cell_type": "code",
   "execution_count": 101,
   "metadata": {},
   "outputs": [],
   "source": [
    "#database_reg.to_csv(\"/Users/omega_macbookpro/Desktop/International_Trade/Dissertation_MRes/Comtrade/Sanctions Docs/EU/Data/Output_Script_5/database_exp_reg_v5_RW2.csv\")\n",
    "\n"
   ]
  },
  {
   "cell_type": "code",
   "execution_count": null,
   "metadata": {},
   "outputs": [],
   "source": []
  },
  {
   "cell_type": "code",
   "execution_count": null,
   "metadata": {},
   "outputs": [],
   "source": []
  },
  {
   "cell_type": "code",
   "execution_count": null,
   "metadata": {},
   "outputs": [],
   "source": []
  }
 ],
 "metadata": {
  "kernelspec": {
   "display_name": "Python 3",
   "language": "python",
   "name": "python3"
  },
  "language_info": {
   "codemirror_mode": {
    "name": "ipython",
    "version": 3
   },
   "file_extension": ".py",
   "mimetype": "text/x-python",
   "name": "python",
   "nbconvert_exporter": "python",
   "pygments_lexer": "ipython3",
   "version": "3.7.6"
  }
 },
 "nbformat": 4,
 "nbformat_minor": 4
}
