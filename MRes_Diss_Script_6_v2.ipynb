{
 "cells": [
  {
   "cell_type": "code",
   "execution_count": 1,
   "metadata": {},
   "outputs": [],
   "source": [
    "import pandas as pd\n",
    "import numpy as np\n",
    "from tqdm import tqdm"
   ]
  },
  {
   "cell_type": "markdown",
   "metadata": {},
   "source": [
    "### Script for regressions on EU export sanctions"
   ]
  },
  {
   "cell_type": "code",
   "execution_count": 2,
   "metadata": {},
   "outputs": [],
   "source": [
    "# read conversion table and HS5 level sanction table\n",
    "HS2022toHS2017 = pd.read_excel('/Users/omega_macbookpro/Desktop/International_Trade/Dissertation_MRes/Comtrade/Sanctions Docs/EU/Data/HS2022toHS2017.xlsx', sheet_name='Conversions', dtype={'From HS2022': str, 'To HS2017': str}) \n",
    "HS5_sanct = pd.read_csv(\"/Users/omega_macbookpro/Desktop/International_Trade/Dissertation_MRes/Comtrade/Sanctions Docs/EU/Data/Output_Script_2/HS5_sanct_short_ext_imp_v2.csv\", dtype={'HS2017': str})\n",
    "HS5_sanct[['Partial_HS5', 'Full_HS5','Transitory_HS5']] = HS5_sanct[['Partial_HS5', 'Full_HS5','Transitory_HS5']].fillna(value=0)\n",
    "HS5_sanct.drop('Unnamed: 0', axis=1, inplace=True)"
   ]
  },
  {
   "cell_type": "code",
   "execution_count": 4,
   "metadata": {},
   "outputs": [],
   "source": [
    "string_2017 = '201701,201702,201703,201704,201705,201706,201707,201708,201709,201710,201711,201712'\n",
    "string_2018 = '201801,201802,201803,201804,201805,201806,201807,201808,201809,201810,201811,201812'\n",
    "string_2019 = '201901,201902,201903,201904,201905,201906,201907,201908,201909,201910,201911,201912'\n",
    "string_2020 = '202001,202002,202003,202004,202005,202006,202007,202008,202009,202010,202011,202012'\n",
    "string_2021 = '202101,202102,202103,202104,202105,202106,202107,202108,202109,202110,202111,202112'\n",
    "string_2022 = '202201,202202,202203,202204,202205,202206,202207,202208,202209,202210,202211,202212'\n",
    "string_2023 = '202301,202302,202303,202304,202305,202306,202307,202308,202309,202310,202311,202312'\n",
    "string_2024 = '202401,202402,202403,202404,202405'"
   ]
  },
  {
   "cell_type": "code",
   "execution_count": 5,
   "metadata": {},
   "outputs": [],
   "source": [
    "string_dates = [string_2017, string_2018, string_2019, string_2020, string_2021, string_2022, string_2023, string_2024]"
   ]
  },
  {
   "cell_type": "code",
   "execution_count": 6,
   "metadata": {},
   "outputs": [],
   "source": [
    "import requests\n",
    "import comtradeapicall\n",
    "import time\n",
    "import datetime\n",
    "subscription_key = '94ee5163870949e1aa6fe904f64e241d' # comtrade api subscription key (from comtradedeveloper.un.org)\n",
    "directory = '/Users/omega_macbookpro/Desktop/International_Trade/Dissertation_MRes/Comtrade/Sanctions Docs/EU/Data/Comtrade_v1'  # output directory for downloaded files \n",
    "#proxy_url = '<PROXY URL>'  # optional if you need proxy url\n",
    "# Call preview final data API to a data frame, max to 500 records, no subscription key required\n",
    "# This example: Australia imports of commodity code 91 in classic mode in May 2022\n",
    "#typeCode: goods or services\n",
    "#freqCode: annual or month, eg '202101,202102,202103,202104,202105,202106,202107,202108,202109,202110,202111,202112'\n",
    "#period: eg '200001,200002,200003'\n",
    "#reporterCode: 97 - EU\n",
    "#partnerCode: \n",
    "# 398 - Kzt\n",
    "# 51 - Armenia\n",
    "# 417 - Kyrgyzstan\n",
    "# 792 - Türkiye\n",
    "# 156 - China\n",
    "# 756 or 757 - Switzerland\n",
    "# 643 - Russia"
   ]
  },
  {
   "cell_type": "code",
   "execution_count": 7,
   "metadata": {},
   "outputs": [],
   "source": [
    "def get_data_exp(params):\n",
    "    data = comtradeapicall.getFinalData(subscription_key, typeCode='C', freqCode='M', clCode='HS', period=params[0],\n",
    "                                        reporterCode='97', cmdCode=None, flowCode='M', partnerCode=params[1],\n",
    "                                        partner2Code=None,\n",
    "                                        customsCode=None, motCode=None, maxRecords=250000, format_output='JSON',\n",
    "                                        aggregateBy=None, breakdownMode='classic', countOnly=None, includeDesc=True)\n",
    "    return data"
   ]
  },
  {
   "cell_type": "code",
   "execution_count": 8,
   "metadata": {},
   "outputs": [],
   "source": [
    "ECU3 = get_data_exp([string_dates[0], '398,51,417'])"
   ]
  },
  {
   "cell_type": "code",
   "execution_count": 9,
   "metadata": {},
   "outputs": [
    {
     "name": "stderr",
     "output_type": "stream",
     "text": [
      "100%|██████████| 7/7 [04:19<00:00, 37.02s/it]\n"
     ]
    }
   ],
   "source": [
    "for years in tqdm(string_dates[1:]):\n",
    "    ECU3_new = get_data_exp([years, '398,51,417'])\n",
    "    ECU3 = ECU3.append(ECU3_new)\n"
   ]
  },
  {
   "cell_type": "code",
   "execution_count": 52,
   "metadata": {},
   "outputs": [],
   "source": [
    "#ECU3.loc[ECU3['refYear'] == 2024, 'cmdCode']\n",
    "#string_dates[4:-1]"
   ]
  },
  {
   "cell_type": "code",
   "execution_count": 26,
   "metadata": {},
   "outputs": [
    {
     "data": {
      "text/html": [
       "<div>\n",
       "<style scoped>\n",
       "    .dataframe tbody tr th:only-of-type {\n",
       "        vertical-align: middle;\n",
       "    }\n",
       "\n",
       "    .dataframe tbody tr th {\n",
       "        vertical-align: top;\n",
       "    }\n",
       "\n",
       "    .dataframe thead th {\n",
       "        text-align: right;\n",
       "    }\n",
       "</style>\n",
       "<table border=\"1\" class=\"dataframe\">\n",
       "  <thead>\n",
       "    <tr style=\"text-align: right;\">\n",
       "      <th>refYear</th>\n",
       "      <th>2017</th>\n",
       "      <th>2018</th>\n",
       "      <th>2019</th>\n",
       "      <th>2020</th>\n",
       "      <th>2021</th>\n",
       "      <th>2022</th>\n",
       "      <th>2023</th>\n",
       "      <th>2024</th>\n",
       "    </tr>\n",
       "    <tr>\n",
       "      <th>classificationCode</th>\n",
       "      <th></th>\n",
       "      <th></th>\n",
       "      <th></th>\n",
       "      <th></th>\n",
       "      <th></th>\n",
       "      <th></th>\n",
       "      <th></th>\n",
       "      <th></th>\n",
       "    </tr>\n",
       "  </thead>\n",
       "  <tbody>\n",
       "    <tr>\n",
       "      <th>H5</th>\n",
       "      <td>12585</td>\n",
       "      <td>13572</td>\n",
       "      <td>14359</td>\n",
       "      <td>12516</td>\n",
       "      <td>16509</td>\n",
       "      <td>0</td>\n",
       "      <td>0</td>\n",
       "      <td>0</td>\n",
       "    </tr>\n",
       "    <tr>\n",
       "      <th>H6</th>\n",
       "      <td>0</td>\n",
       "      <td>0</td>\n",
       "      <td>0</td>\n",
       "      <td>0</td>\n",
       "      <td>0</td>\n",
       "      <td>19714</td>\n",
       "      <td>26129</td>\n",
       "      <td>13650</td>\n",
       "    </tr>\n",
       "  </tbody>\n",
       "</table>\n",
       "</div>"
      ],
      "text/plain": [
       "refYear              2017   2018   2019   2020   2021   2022   2023   2024\n",
       "classificationCode                                                        \n",
       "H5                  12585  13572  14359  12516  16509      0      0      0\n",
       "H6                      0      0      0      0      0  19714  26129  13650"
      ]
     },
     "execution_count": 26,
     "metadata": {},
     "output_type": "execute_result"
    }
   ],
   "source": [
    "#ECU3.columns\n",
    "#ECU3['classificationCode'].unique()\n",
    "# fine\n",
    "pd.crosstab(index=ECU3['classificationCode'], columns=ECU3['refYear'])"
   ]
  },
  {
   "cell_type": "code",
   "execution_count": 11,
   "metadata": {},
   "outputs": [],
   "source": [
    "# keep only needed col-s\n",
    "#comtrade_cols = ['period', 'partnerCode', 'partnerISO', 'classificationCode', 'cmdCode', 'primaryValue']\n",
    "comtrade_cols = ['period', 'partnerCode', 'cmdCode', 'primaryValue']\n",
    "ECU3_short = ECU3[comtrade_cols]\n",
    "ECU3_short = ECU3_short.loc[ECU3_short['cmdCode'].apply(len) == 6]\n",
    "ECU3_short.reset_index(inplace=True)\n",
    "ECU3_short.drop_duplicates(keep='first', inplace=True) # drop duplicates if were downloaded accidentally"
   ]
  },
  {
   "cell_type": "code",
   "execution_count": 12,
   "metadata": {},
   "outputs": [],
   "source": [
    "#ECU3_short.to_csv(\"/Users/omega_macbookpro/Desktop/International_Trade/Dissertation_MRes/Comtrade/Sanctions Docs/EU/Data/Output_Script_6/ECU3_short_imp.csv\")\n"
   ]
  },
  {
   "cell_type": "code",
   "execution_count": 15,
   "metadata": {},
   "outputs": [],
   "source": [
    "# sum ECU3 into one aggregate\n",
    "# ECU3_short_agg = ECU3_short.groupby(['period', 'cmdCode'])['primaryValue'].sum().reset_index() # sums over countries\n",
    "# ECU3_short_agg['partnerCode'] = 'ECU3'\n",
    "# ECU3_short_agg = ECU3_short_agg[['period', 'partnerCode', 'cmdCode', 'primaryValue']]"
   ]
  },
  {
   "cell_type": "code",
   "execution_count": 17,
   "metadata": {},
   "outputs": [],
   "source": [
    "#ECU3_short_agg.to_csv(\"/Users/omega_macbookpro/Desktop/International_Trade/Dissertation_MRes/Comtrade/Sanctions Docs/EU/Data/Output_Script_5/ECU3_short_agg_exp.csv\")"
   ]
  },
  {
   "cell_type": "code",
   "execution_count": 115,
   "metadata": {},
   "outputs": [],
   "source": [
    "RGT = get_data_exp([string_dates[0], '643,268,792'])"
   ]
  },
  {
   "cell_type": "code",
   "execution_count": 118,
   "metadata": {},
   "outputs": [
    {
     "name": "stderr",
     "output_type": "stream",
     "text": [
      "\n",
      "  0%|          | 0/4 [00:00<?, ?it/s]\u001b[A\n",
      " 25%|██▌       | 1/4 [02:59<08:58, 179.41s/it]\u001b[A\n",
      " 50%|█████     | 2/4 [05:59<05:59, 179.61s/it]\u001b[A\n",
      " 75%|███████▌  | 3/4 [08:27<02:50, 170.22s/it]\u001b[A\n",
      "100%|██████████| 4/4 [09:39<00:00, 144.87s/it]\u001b[A\n"
     ]
    }
   ],
   "source": [
    "for years in tqdm(string_dates[1:]):\n",
    "    RGT_new = get_data_exp([years, '643,268,792'])\n",
    "    RGT = RGT.append(RGT_new)\n"
   ]
  },
  {
   "cell_type": "code",
   "execution_count": 185,
   "metadata": {},
   "outputs": [],
   "source": [
    "RGT.drop_duplicates(keep='first', inplace=True) # drop duplicates if were downloaded accidentally\n",
    "RGT_short = RGT[comtrade_cols]\n",
    "RGT_short = RGT_short.loc[RGT_short['cmdCode'].apply(len) == 6]\n",
    "RGT_short.reset_index(inplace=True)\n"
   ]
  },
  {
   "cell_type": "code",
   "execution_count": 164,
   "metadata": {},
   "outputs": [],
   "source": [
    "#RGT_short.to_csv(\"/Users/omega_macbookpro/Desktop/International_Trade/Dissertation_MRes/Comtrade/Sanctions Docs/EU/Data/Output_Script_5/RGT_short_exp.csv\")\n"
   ]
  },
  {
   "cell_type": "code",
   "execution_count": 111,
   "metadata": {},
   "outputs": [],
   "source": [
    "CW = get_data_exp([string_dates[0], '156,0'])"
   ]
  },
  {
   "cell_type": "code",
   "execution_count": 131,
   "metadata": {},
   "outputs": [
    {
     "name": "stderr",
     "output_type": "stream",
     "text": [
      "\n",
      "  0%|          | 0/4 [00:00<?, ?it/s]\u001b[A\n",
      " 25%|██▌       | 1/4 [02:17<06:53, 137.92s/it]\u001b[A\n",
      " 50%|█████     | 2/4 [04:42<04:40, 140.07s/it]\u001b[A\n",
      " 75%|███████▌  | 3/4 [07:03<02:20, 140.23s/it]\u001b[A\n",
      "100%|██████████| 4/4 [08:12<00:00, 123.08s/it]\u001b[A\n"
     ]
    }
   ],
   "source": [
    "for years in tqdm(string_dates[1:]):\n",
    "    CW_new = get_data_exp([years, '156,0'])\n",
    "    CW = CW.append(CW_new)\n"
   ]
  },
  {
   "cell_type": "code",
   "execution_count": 186,
   "metadata": {},
   "outputs": [],
   "source": [
    "CW.drop_duplicates(keep='first', inplace=True)\n",
    "CW_short = CW[comtrade_cols]\n",
    "CW_short = CW_short.loc[CW_short['cmdCode'].apply(len) == 6]\n",
    "CW_short.reset_index(inplace=True)\n"
   ]
  },
  {
   "cell_type": "code",
   "execution_count": 11,
   "metadata": {},
   "outputs": [],
   "source": [
    "#CW_short.to_csv(\"/Users/omega_macbookpro/Desktop/International_Trade/Dissertation_MRes/Comtrade/Sanctions Docs/EU/Data/Output_Script_5/CW_short_exp.csv\")\n"
   ]
  },
  {
   "cell_type": "code",
   "execution_count": 9,
   "metadata": {},
   "outputs": [],
   "source": [
    "FSU3 = get_data_exp([string_dates[0], '860,31'])"
   ]
  },
  {
   "cell_type": "code",
   "execution_count": 11,
   "metadata": {},
   "outputs": [
    {
     "name": "stderr",
     "output_type": "stream",
     "text": [
      "100%|██████████| 7/7 [07:28<00:00, 64.13s/it]\n"
     ]
    }
   ],
   "source": [
    "for years in tqdm(string_dates[1:]):\n",
    "    FSU3_new = get_data_exp([years, '860,31'])\n",
    "    FSU3 = FSU3.append(FSU3_new)\n"
   ]
  },
  {
   "cell_type": "code",
   "execution_count": 12,
   "metadata": {},
   "outputs": [],
   "source": [
    "# keep only needed col-s\n",
    "#comtrade_cols = ['period', 'partnerCode', 'partnerISO', 'classificationCode', 'cmdCode', 'primaryValue']\n",
    "comtrade_cols = ['period', 'partnerCode', 'cmdCode', 'primaryValue']\n",
    "FSU3_short = FSU3[comtrade_cols]\n",
    "FSU3_short = FSU3_short.loc[FSU3_short['cmdCode'].apply(len) == 6]\n",
    "FSU3_short.reset_index(inplace=True)\n",
    "FSU3_short.drop_duplicates(keep='first', inplace=True) # drop duplicates if were downloaded accidentally\n"
   ]
  },
  {
   "cell_type": "code",
   "execution_count": 14,
   "metadata": {},
   "outputs": [
    {
     "data": {
      "text/html": [
       "<div>\n",
       "<style scoped>\n",
       "    .dataframe tbody tr th:only-of-type {\n",
       "        vertical-align: middle;\n",
       "    }\n",
       "\n",
       "    .dataframe tbody tr th {\n",
       "        vertical-align: top;\n",
       "    }\n",
       "\n",
       "    .dataframe thead th {\n",
       "        text-align: right;\n",
       "    }\n",
       "</style>\n",
       "<table border=\"1\" class=\"dataframe\">\n",
       "  <thead>\n",
       "    <tr style=\"text-align: right;\">\n",
       "      <th>refYear</th>\n",
       "      <th>2017</th>\n",
       "      <th>2018</th>\n",
       "      <th>2019</th>\n",
       "      <th>2020</th>\n",
       "      <th>2021</th>\n",
       "      <th>2022</th>\n",
       "      <th>2023</th>\n",
       "      <th>2024</th>\n",
       "    </tr>\n",
       "    <tr>\n",
       "      <th>classificationCode</th>\n",
       "      <th></th>\n",
       "      <th></th>\n",
       "      <th></th>\n",
       "      <th></th>\n",
       "      <th></th>\n",
       "      <th></th>\n",
       "      <th></th>\n",
       "      <th></th>\n",
       "    </tr>\n",
       "  </thead>\n",
       "  <tbody>\n",
       "    <tr>\n",
       "      <th>H5</th>\n",
       "      <td>55365</td>\n",
       "      <td>57350</td>\n",
       "      <td>59647</td>\n",
       "      <td>56402</td>\n",
       "      <td>58154</td>\n",
       "      <td>0</td>\n",
       "      <td>0</td>\n",
       "      <td>0</td>\n",
       "    </tr>\n",
       "    <tr>\n",
       "      <th>H6</th>\n",
       "      <td>0</td>\n",
       "      <td>0</td>\n",
       "      <td>0</td>\n",
       "      <td>0</td>\n",
       "      <td>0</td>\n",
       "      <td>62905</td>\n",
       "      <td>66833</td>\n",
       "      <td>27162</td>\n",
       "    </tr>\n",
       "  </tbody>\n",
       "</table>\n",
       "</div>"
      ],
      "text/plain": [
       "refYear              2017   2018   2019   2020   2021   2022   2023   2024\n",
       "classificationCode                                                        \n",
       "H5                  55365  57350  59647  56402  58154      0      0      0\n",
       "H6                      0      0      0      0      0  62905  66833  27162"
      ]
     },
     "execution_count": 14,
     "metadata": {},
     "output_type": "execute_result"
    }
   ],
   "source": [
    "# as wanted\n",
    "#pd.crosstab(index=FSU3['classificationCode'], columns=FSU3['refYear'])\n"
   ]
  },
  {
   "cell_type": "code",
   "execution_count": 15,
   "metadata": {},
   "outputs": [],
   "source": [
    "#FSU3_short.to_csv(\"/Users/omega_macbookpro/Desktop/International_Trade/Dissertation_MRes/Comtrade/Sanctions Docs/EU/Data/Output_Script_5/FSU3_short_exp.csv\")\n"
   ]
  },
  {
   "cell_type": "code",
   "execution_count": 18,
   "metadata": {},
   "outputs": [],
   "source": [
    "# sum ECU3 into one aggregate\n",
    "# FSU3_short_agg = FSU3_short.groupby(['period', 'cmdCode'])['primaryValue'].sum().reset_index() # sums over countries\n",
    "# FSU3_short_agg['partnerCode'] = 'FSU3'\n",
    "# FSU3_short_agg = FSU3_short_agg[['period', 'partnerCode', 'cmdCode', 'primaryValue']]\n",
    "# FSU3_short_agg.drop('index', axis=1, inplace=True)"
   ]
  },
  {
   "cell_type": "code",
   "execution_count": 24,
   "metadata": {},
   "outputs": [],
   "source": [
    "#FSU3_short_agg.to_csv(\"/Users/omega_macbookpro/Desktop/International_Trade/Dissertation_MRes/Comtrade/Sanctions Docs/EU/Data/Output_Script_5/FSU3_short_agg_exp.csv\")\n"
   ]
  },
  {
   "cell_type": "code",
   "execution_count": 13,
   "metadata": {},
   "outputs": [],
   "source": [
    "CW_short = pd.read_csv(\"/Users/omega_macbookpro/Desktop/International_Trade/Dissertation_MRes/Comtrade/Sanctions Docs/EU/Data/Output_Script_5/CW_short_exp.csv\", dtype={'period':str, 'cmdCode': str})\n",
    "CW_short['cmdCode'] = CW_short['cmdCode'].apply(lambda x: \"0\"+x if len(x) == 5 else x)\n",
    "\n",
    "RGT_short = pd.read_csv(\"/Users/omega_macbookpro/Desktop/International_Trade/Dissertation_MRes/Comtrade/Sanctions Docs/EU/Data/Output_Script_5/RGT_short_exp.csv\", dtype={'period':str, 'cmdCode': str})\n",
    "ECU3_short = pd.read_csv(\"/Users/omega_macbookpro/Desktop/International_Trade/Dissertation_MRes/Comtrade/Sanctions Docs/EU/Data/Output_Script_5/ECU3_short_exp.csv\", dtype={'period':str, 'cmdCode': str})\n",
    "FSU3_short = pd.read_csv(\"/Users/omega_macbookpro/Desktop/International_Trade/Dissertation_MRes/Comtrade/Sanctions Docs/EU/Data/Output_Script_5/FSU3_short_exp.csv\", dtype={'period':str, 'cmdCode': str})\n"
   ]
  },
  {
   "cell_type": "code",
   "execution_count": 30,
   "metadata": {},
   "outputs": [],
   "source": [
    "#CW_short['cmdCode'].apply(type).unique()"
   ]
  },
  {
   "cell_type": "code",
   "execution_count": 19,
   "metadata": {},
   "outputs": [],
   "source": [
    "database = ECU3_short.append([RGT_short, FSU3_short, CW_short])\n",
    "database.drop(['Unnamed: 0', 'index'], axis=1, inplace=True)\n",
    "database.drop_duplicates(keep='first', inplace=True)\n",
    "database['partnerCode'] = database['partnerCode'].apply(str)"
   ]
  },
  {
   "cell_type": "code",
   "execution_count": 53,
   "metadata": {},
   "outputs": [],
   "source": [
    "#RGT_short.drop(['Unnamed: 0', 'index'], axis=1, inplace=True)\n",
    "#RGT_short.loc[RGT_short['partnerCode'] == 643]\n",
    "#database.shape"
   ]
  },
  {
   "cell_type": "code",
   "execution_count": 42,
   "metadata": {},
   "outputs": [
    {
     "data": {
      "text/html": [
       "<div>\n",
       "<style scoped>\n",
       "    .dataframe tbody tr th:only-of-type {\n",
       "        vertical-align: middle;\n",
       "    }\n",
       "\n",
       "    .dataframe tbody tr th {\n",
       "        vertical-align: top;\n",
       "    }\n",
       "\n",
       "    .dataframe thead th {\n",
       "        text-align: right;\n",
       "    }\n",
       "</style>\n",
       "<table border=\"1\" class=\"dataframe\">\n",
       "  <thead>\n",
       "    <tr style=\"text-align: right;\">\n",
       "      <th>partnerCode</th>\n",
       "      <th>0</th>\n",
       "      <th>31</th>\n",
       "      <th>51</th>\n",
       "      <th>156</th>\n",
       "      <th>268</th>\n",
       "      <th>398</th>\n",
       "      <th>417</th>\n",
       "      <th>643</th>\n",
       "      <th>792</th>\n",
       "      <th>860</th>\n",
       "    </tr>\n",
       "    <tr>\n",
       "      <th>year</th>\n",
       "      <th></th>\n",
       "      <th></th>\n",
       "      <th></th>\n",
       "      <th></th>\n",
       "      <th></th>\n",
       "      <th></th>\n",
       "      <th></th>\n",
       "      <th></th>\n",
       "      <th></th>\n",
       "      <th></th>\n",
       "    </tr>\n",
       "  </thead>\n",
       "  <tbody>\n",
       "    <tr>\n",
       "      <th>2017</th>\n",
       "      <td>63274</td>\n",
       "      <td>22472</td>\n",
       "      <td>18164</td>\n",
       "      <td>50173</td>\n",
       "      <td>25730</td>\n",
       "      <td>29689</td>\n",
       "      <td>11061</td>\n",
       "      <td>49995</td>\n",
       "      <td>50267</td>\n",
       "      <td>15955</td>\n",
       "    </tr>\n",
       "    <tr>\n",
       "      <th>2018</th>\n",
       "      <td>63262</td>\n",
       "      <td>22778</td>\n",
       "      <td>18619</td>\n",
       "      <td>50182</td>\n",
       "      <td>26124</td>\n",
       "      <td>28929</td>\n",
       "      <td>11070</td>\n",
       "      <td>49793</td>\n",
       "      <td>49515</td>\n",
       "      <td>17151</td>\n",
       "    </tr>\n",
       "    <tr>\n",
       "      <th>2019</th>\n",
       "      <td>63300</td>\n",
       "      <td>23495</td>\n",
       "      <td>19004</td>\n",
       "      <td>49822</td>\n",
       "      <td>26447</td>\n",
       "      <td>29243</td>\n",
       "      <td>11043</td>\n",
       "      <td>49816</td>\n",
       "      <td>49496</td>\n",
       "      <td>18230</td>\n",
       "    </tr>\n",
       "    <tr>\n",
       "      <th>2020</th>\n",
       "      <td>63328</td>\n",
       "      <td>21226</td>\n",
       "      <td>17247</td>\n",
       "      <td>47843</td>\n",
       "      <td>23977</td>\n",
       "      <td>27545</td>\n",
       "      <td>9468</td>\n",
       "      <td>49062</td>\n",
       "      <td>48345</td>\n",
       "      <td>17924</td>\n",
       "    </tr>\n",
       "    <tr>\n",
       "      <th>2021</th>\n",
       "      <td>63363</td>\n",
       "      <td>21706</td>\n",
       "      <td>18548</td>\n",
       "      <td>48195</td>\n",
       "      <td>25277</td>\n",
       "      <td>28060</td>\n",
       "      <td>10104</td>\n",
       "      <td>49550</td>\n",
       "      <td>49227</td>\n",
       "      <td>18958</td>\n",
       "    </tr>\n",
       "    <tr>\n",
       "      <th>2022</th>\n",
       "      <td>65935</td>\n",
       "      <td>22952</td>\n",
       "      <td>23677</td>\n",
       "      <td>48317</td>\n",
       "      <td>27460</td>\n",
       "      <td>32589</td>\n",
       "      <td>16168</td>\n",
       "      <td>41682</td>\n",
       "      <td>50780</td>\n",
       "      <td>21506</td>\n",
       "    </tr>\n",
       "    <tr>\n",
       "      <th>2023</th>\n",
       "      <td>65897</td>\n",
       "      <td>24120</td>\n",
       "      <td>25497</td>\n",
       "      <td>48154</td>\n",
       "      <td>28477</td>\n",
       "      <td>34526</td>\n",
       "      <td>23119</td>\n",
       "      <td>32689</td>\n",
       "      <td>51125</td>\n",
       "      <td>23500</td>\n",
       "    </tr>\n",
       "    <tr>\n",
       "      <th>2024</th>\n",
       "      <td>27421</td>\n",
       "      <td>9679</td>\n",
       "      <td>10086</td>\n",
       "      <td>20029</td>\n",
       "      <td>11805</td>\n",
       "      <td>13551</td>\n",
       "      <td>9348</td>\n",
       "      <td>12127</td>\n",
       "      <td>21317</td>\n",
       "      <td>9571</td>\n",
       "    </tr>\n",
       "  </tbody>\n",
       "</table>\n",
       "</div>"
      ],
      "text/plain": [
       "partnerCode    0      31     51     156    268    398    417    643    792  \\\n",
       "year                                                                         \n",
       "2017         63274  22472  18164  50173  25730  29689  11061  49995  50267   \n",
       "2018         63262  22778  18619  50182  26124  28929  11070  49793  49515   \n",
       "2019         63300  23495  19004  49822  26447  29243  11043  49816  49496   \n",
       "2020         63328  21226  17247  47843  23977  27545   9468  49062  48345   \n",
       "2021         63363  21706  18548  48195  25277  28060  10104  49550  49227   \n",
       "2022         65935  22952  23677  48317  27460  32589  16168  41682  50780   \n",
       "2023         65897  24120  25497  48154  28477  34526  23119  32689  51125   \n",
       "2024         27421   9679  10086  20029  11805  13551   9348  12127  21317   \n",
       "\n",
       "partnerCode    860  \n",
       "year                \n",
       "2017         15955  \n",
       "2018         17151  \n",
       "2019         18230  \n",
       "2020         17924  \n",
       "2021         18958  \n",
       "2022         21506  \n",
       "2023         23500  \n",
       "2024          9571  "
      ]
     },
     "execution_count": 42,
     "metadata": {},
     "output_type": "execute_result"
    }
   ],
   "source": [
    "#database['year'] = database['period'].apply(lambda x: x[:4])\n",
    "# fine representation\n",
    "#pd.crosstab(index=database['year'], columns=database['partnerCode'])\n",
    "#database.drop(['year'], axis=1, inplace=True)"
   ]
  },
  {
   "cell_type": "code",
   "execution_count": 33,
   "metadata": {},
   "outputs": [],
   "source": [
    "#CW_short = pd.read_csv(\"/Users/omega_macbookpro/Desktop/International_Trade/Dissertation_MRes/Comtrade/Sanctions Docs/EU/Data/Output_Script_5/CW_short_exp.csv\", dtype={'period':str, 'cmdCode': str})\n",
    "#CW_short.loc[CW_short['cmdCode'].apply(len) < 6]\n",
    "\n",
    "#CW_short['cmdCode'] = CW_short['cmdCode'].apply(lambda x: \"0\"+x if len(x) == 5 else x)\n"
   ]
  },
  {
   "cell_type": "code",
   "execution_count": 34,
   "metadata": {},
   "outputs": [],
   "source": [
    "# database_big = ECU3.append([RGT, CW])\n",
    "# database_big['classificationCode']\n",
    "# database_big['classificationCode', 'refYear']\n",
    "# database_big.columns # 268, 643, 792\n",
    "\n",
    "\n",
    "# check that HS6 starts inly from 2022\n",
    "# pd.crosstab(index=database_big['classificationCode'], columns=database_big['refYear'])\n",
    "\n",
    "# check that all years in å country have approx similar number of codes\n",
    "# pd.crosstab(index=database_big['partnerCode'], columns=database_big['refYear'])\n",
    "\n",
    "# checks\n",
    "# ECU3_short.shape\n",
    "# ECU3_short.drop_duplicates(keep='first', inplace=True)\n"
   ]
  },
  {
   "cell_type": "code",
   "execution_count": 35,
   "metadata": {},
   "outputs": [
    {
     "name": "stderr",
     "output_type": "stream",
     "text": [
      "/Users/omega_macbookpro/opt/anaconda3/lib/python3.7/site-packages/ipykernel_launcher.py:2: SettingWithCopyWarning: \n",
      "A value is trying to be set on a copy of a slice from a DataFrame.\n",
      "Try using .loc[row_indexer,col_indexer] = value instead\n",
      "\n",
      "See the caveats in the documentation: https://pandas.pydata.org/pandas-docs/stable/user_guide/indexing.html#returning-a-view-versus-a-copy\n",
      "  \n"
     ]
    }
   ],
   "source": [
    "world_exp = database.loc[database['partnerCode'] == 0]\n",
    "world_exp['year'] = world_exp['period'].apply(lambda x: x[:4])\n"
   ]
  },
  {
   "cell_type": "code",
   "execution_count": 21,
   "metadata": {},
   "outputs": [
    {
     "name": "stdout",
     "output_type": "stream",
     "text": [
      "   year  primaryValue\n",
      "0  2017  2.121816e+12\n",
      "1  2018  2.311022e+12\n",
      "2  2019  2.279565e+12\n",
      "3  2020  2.198331e+12\n",
      "4  2021  2.576770e+12\n",
      "5  2022  2.702701e+12\n",
      "6  2023  2.758787e+12\n",
      "7  2024  1.153942e+12\n",
      "0         NaN\n",
      "1    0.089172\n",
      "2   -0.013612\n",
      "3   -0.035636\n",
      "4    0.172148\n",
      "5    0.048872\n",
      "6    0.020752\n",
      "7   -0.581721\n",
      "Name: primaryValue, dtype: float64\n"
     ]
    }
   ],
   "source": [
    "world_exp_gr = world_exp.groupby('year')['primaryValue'].sum().reset_index()\n",
    "print(world_exp_gr)\n",
    "print(world_exp_gr['primaryValue'].pct_change())"
   ]
  },
  {
   "cell_type": "code",
   "execution_count": 20,
   "metadata": {},
   "outputs": [
    {
     "data": {
      "text/plain": [
       "array(['51', '398', '417', '268', '643', '792', '31', '860', '156', '0'],\n",
       "      dtype=object)"
      ]
     },
     "execution_count": 20,
     "metadata": {},
     "output_type": "execute_result"
    }
   ],
   "source": [
    "database['partnerCode'].unique()"
   ]
  },
  {
   "cell_type": "code",
   "execution_count": 21,
   "metadata": {},
   "outputs": [],
   "source": [
    "# 51, Armenia\n",
    "# 398, Kazakhstan\n",
    "# 417, Kyrgyzstan\n",
    "# 268, Georgia\n",
    "# 643, Rus\n",
    "# 792,  Turk\n",
    "# 31, Azerb\n",
    "# 860, Uzbekistan\n",
    "# 156,  China\n",
    "# 0 World\n",
    "\n",
    "# compute rest of the world\n",
    "regres_countr = ['643', '51', '398', '417', '268', '860', '31', '792', '156'] # Rus, ECU, FSU3, Tur, China\n",
    "regres_countr_data = database.loc[database['partnerCode'].apply(lambda x: x in regres_countr)]\n",
    "regres_countr_data_agg = regres_countr_data.groupby(['period', 'cmdCode'])['primaryValue'].sum().reset_index()\n"
   ]
  },
  {
   "cell_type": "code",
   "execution_count": 22,
   "metadata": {},
   "outputs": [],
   "source": [
    "RestWorld = database.loc[database['partnerCode'] == '0']\n",
    "RestWorld = pd.merge(RestWorld, regres_countr_data_agg, on=['period', 'cmdCode'], how='left')\n",
    "RestWorld['primaryValue_y'].fillna(value=0, inplace=True)\n",
    "RestWorld['primaryValue'] = RestWorld['primaryValue_x'] - RestWorld['primaryValue_y']\n",
    "RestWorld['partnerCode'] = \"RW3\"\n",
    "RestWorld = RestWorld[['period', 'partnerCode', 'cmdCode','primaryValue']]\n",
    "\n",
    "database = database.append(RestWorld)"
   ]
  },
  {
   "cell_type": "code",
   "execution_count": 27,
   "metadata": {},
   "outputs": [],
   "source": [
    "# append datasets according to HS5 and HS6 classif\n",
    "database_2017_2021 = database.loc[database['period'] < '202201']\n",
    "database_2022_2023 = database.loc[database['period'] >= '202201']"
   ]
  },
  {
   "cell_type": "code",
   "execution_count": 49,
   "metadata": {},
   "outputs": [
    {
     "data": {
      "text/plain": [
       "38637000"
      ]
     },
     "execution_count": 49,
     "metadata": {},
     "output_type": "execute_result"
    }
   ],
   "source": [
    "(4*12 + 5)*5400*135\n"
   ]
  },
  {
   "cell_type": "code",
   "execution_count": 107,
   "metadata": {},
   "outputs": [
    {
     "data": {
      "text/plain": [
       "3645000"
      ]
     },
     "execution_count": 107,
     "metadata": {},
     "output_type": "execute_result"
    }
   ],
   "source": [
    "5*5400*135"
   ]
  },
  {
   "cell_type": "code",
   "execution_count": 28,
   "metadata": {},
   "outputs": [],
   "source": [
    "#500 * (12 * 7 + 5)\n",
    "\n",
    "# convet HS6 to HS5 and group HS6 flows within same month-HS5 group\n",
    "database_2022_2023_HS5 = pd.merge(database_2022_2023, HS2022toHS2017, left_on='cmdCode', right_on='From HS2022', how='left')\n",
    "database_2022_2023_HS5 = database_2022_2023_HS5[['period', 'partnerCode', 'primaryValue', 'To HS2017']].groupby(['period', 'partnerCode', 'To HS2017'])['primaryValue'].sum().reset_index()\n"
   ]
  },
  {
   "cell_type": "code",
   "execution_count": 29,
   "metadata": {},
   "outputs": [
    {
     "name": "stderr",
     "output_type": "stream",
     "text": [
      "/Users/omega_macbookpro/opt/anaconda3/lib/python3.7/site-packages/pandas/core/frame.py:4446: SettingWithCopyWarning: \n",
      "A value is trying to be set on a copy of a slice from a DataFrame\n",
      "\n",
      "See the caveats in the documentation: https://pandas.pydata.org/pandas-docs/stable/user_guide/indexing.html#returning-a-view-versus-a-copy\n",
      "  errors=errors,\n"
     ]
    }
   ],
   "source": [
    "# rename to have same column names\n",
    "database_2017_2021.rename(columns={'cmdCode':'cmdCode_HS5'}, inplace=True)\n",
    "database_2022_2023_HS5.rename(columns={'To HS2017':'cmdCode_HS5'}, inplace=True)\n",
    "\n",
    "database_HS5 = database_2017_2021.append(database_2022_2023_HS5)\n"
   ]
  },
  {
   "cell_type": "code",
   "execution_count": 30,
   "metadata": {},
   "outputs": [],
   "source": [
    "database_HS5_sanct = pd.merge(database_HS5, HS5_sanct, left_on='cmdCode_HS5', right_on='HS2017', how='left')\n",
    "database_HS5_sanct.drop(['HS2017', 'HS2022'], axis=1, inplace=True)\n",
    "database_HS5_sanct['period'] = database_HS5_sanct['period'].apply(lambda x: pd.to_datetime(x, format='%Y%m')) # convert to timestamp\n",
    "database_HS5_sanct['Date_HS5'] = database_HS5_sanct['Date_HS5'].apply(lambda x: pd.to_datetime(x, format='%Y-%m-%d') if x==x else x)\n",
    "database_HS5_sanct['Date_HS5_similar'] = database_HS5_sanct['Date_HS5_similar'].apply(lambda x: pd.to_datetime(x, format='%Y-%m-%d') if x==x else x)\n"
   ]
  },
  {
   "cell_type": "code",
   "execution_count": 70,
   "metadata": {},
   "outputs": [
    {
     "data": {
      "text/plain": [
       "37"
      ]
     },
     "execution_count": 70,
     "metadata": {},
     "output_type": "execute_result"
    }
   ],
   "source": [
    "# database_HS5_sanct['period'].apply(type).unique()\n",
    "# database_HS5_sanct['Date_HS5'].apply(type).unique()\n",
    "#HS5_sanct \n",
    "# number of unique similar code\n",
    "len(database_HS5_sanct.loc[database_HS5_sanct['Date_HS5_similar'].notna(), 'cmdCode_HS5'].unique())"
   ]
  },
  {
   "cell_type": "markdown",
   "metadata": {},
   "source": [
    "Issue: some cmdCode_HS5 were not mathced with HS5_sanct codes, because coversion HS6toHS5 table doesnt contain these HS5 codes (eg because 2 HS5 codes were aggregated into 1 HS6 code). There are 7502 of such rows, so I decide delite them as this should not be large issue.\n"
   ]
  },
  {
   "cell_type": "code",
   "execution_count": 31,
   "metadata": {},
   "outputs": [
    {
     "name": "stdout",
     "output_type": "stream",
     "text": [
      "7937\n"
     ]
    }
   ],
   "source": [
    "print(database_HS5_sanct['Sanct_HS5'].isna().sum())\n",
    "database_HS5_sanct = database_HS5_sanct.loc[database_HS5_sanct['Sanct_HS5'].notna()]\n"
   ]
  },
  {
   "cell_type": "code",
   "execution_count": 63,
   "metadata": {},
   "outputs": [
    {
     "data": {
      "text/plain": [
       "array(['51', '398', '417', '268', '643', '792', '31', '860', '156', '0',\n",
       "       'RW3'], dtype=object)"
      ]
     },
     "execution_count": 63,
     "metadata": {},
     "output_type": "execute_result"
    }
   ],
   "source": [
    "#database_reg['partnerCode'].unique()\n",
    "#regres_countr.append('RW2') \n",
    "#regres_countr + ['RW2']\n",
    "#regres_countr + ['RW2']\n",
    "database_HS5_sanct['partnerCode'].unique()"
   ]
  },
  {
   "cell_type": "code",
   "execution_count": 55,
   "metadata": {},
   "outputs": [
    {
     "data": {
      "text/plain": [
       "['643', '51', '398', '417', '268', '860', '31', '792', '156']"
      ]
     },
     "execution_count": 55,
     "metadata": {},
     "output_type": "execute_result"
    }
   ],
   "source": [
    "regres_countr"
   ]
  },
  {
   "cell_type": "code",
   "execution_count": 54,
   "metadata": {},
   "outputs": [
    {
     "data": {
      "text/html": [
       "<div>\n",
       "<style scoped>\n",
       "    .dataframe tbody tr th:only-of-type {\n",
       "        vertical-align: middle;\n",
       "    }\n",
       "\n",
       "    .dataframe tbody tr th {\n",
       "        vertical-align: top;\n",
       "    }\n",
       "\n",
       "    .dataframe thead th {\n",
       "        text-align: right;\n",
       "    }\n",
       "</style>\n",
       "<table border=\"1\" class=\"dataframe\">\n",
       "  <thead>\n",
       "    <tr style=\"text-align: right;\">\n",
       "      <th></th>\n",
       "      <th>period</th>\n",
       "      <th>partnerCode</th>\n",
       "      <th>cmdCode_HS5</th>\n",
       "      <th>primaryValue</th>\n",
       "      <th>Date_HS5</th>\n",
       "      <th>Partial_HS5</th>\n",
       "      <th>Full_HS5</th>\n",
       "      <th>Transitory_HS5</th>\n",
       "      <th>Transitory_firstpatial_HS5</th>\n",
       "      <th>Transitory_firstfull_HS5</th>\n",
       "      <th>Sanct_HS5</th>\n",
       "      <th>Sanct_type</th>\n",
       "      <th>Issue1_HS5</th>\n",
       "      <th>Issue2_HS5</th>\n",
       "      <th>Corr_1:1</th>\n",
       "      <th>Corr_n:1_only</th>\n",
       "      <th>4digit</th>\n",
       "      <th>Date_HS5_similar</th>\n",
       "    </tr>\n",
       "  </thead>\n",
       "  <tbody>\n",
       "    <tr>\n",
       "      <th>60300</th>\n",
       "      <td>2017-03-01</td>\n",
       "      <td>792</td>\n",
       "      <td>300120</td>\n",
       "      <td>1.698915e+03</td>\n",
       "      <td>NaT</td>\n",
       "      <td>0.0</td>\n",
       "      <td>0.0</td>\n",
       "      <td>0.0</td>\n",
       "      <td>NaN</td>\n",
       "      <td>NaN</td>\n",
       "      <td>0.0</td>\n",
       "      <td>Non_sanctioned</td>\n",
       "      <td>0.0</td>\n",
       "      <td>0.0</td>\n",
       "      <td>1.0</td>\n",
       "      <td>0.0</td>\n",
       "      <td>3001.0</td>\n",
       "      <td>NaT</td>\n",
       "    </tr>\n",
       "    <tr>\n",
       "      <th>60390</th>\n",
       "      <td>2017-03-01</td>\n",
       "      <td>268</td>\n",
       "      <td>300120</td>\n",
       "      <td>5.132006e+03</td>\n",
       "      <td>NaT</td>\n",
       "      <td>0.0</td>\n",
       "      <td>0.0</td>\n",
       "      <td>0.0</td>\n",
       "      <td>NaN</td>\n",
       "      <td>NaN</td>\n",
       "      <td>0.0</td>\n",
       "      <td>Non_sanctioned</td>\n",
       "      <td>0.0</td>\n",
       "      <td>0.0</td>\n",
       "      <td>1.0</td>\n",
       "      <td>0.0</td>\n",
       "      <td>3001.0</td>\n",
       "      <td>NaT</td>\n",
       "    </tr>\n",
       "    <tr>\n",
       "      <th>884640</th>\n",
       "      <td>2017-03-01</td>\n",
       "      <td>0</td>\n",
       "      <td>300120</td>\n",
       "      <td>1.044155e+07</td>\n",
       "      <td>NaT</td>\n",
       "      <td>0.0</td>\n",
       "      <td>0.0</td>\n",
       "      <td>0.0</td>\n",
       "      <td>NaN</td>\n",
       "      <td>NaN</td>\n",
       "      <td>0.0</td>\n",
       "      <td>Non_sanctioned</td>\n",
       "      <td>0.0</td>\n",
       "      <td>0.0</td>\n",
       "      <td>1.0</td>\n",
       "      <td>0.0</td>\n",
       "      <td>3001.0</td>\n",
       "      <td>NaT</td>\n",
       "    </tr>\n",
       "    <tr>\n",
       "      <th>884910</th>\n",
       "      <td>2017-03-01</td>\n",
       "      <td>156</td>\n",
       "      <td>300120</td>\n",
       "      <td>7.564980e+02</td>\n",
       "      <td>NaT</td>\n",
       "      <td>0.0</td>\n",
       "      <td>0.0</td>\n",
       "      <td>0.0</td>\n",
       "      <td>NaN</td>\n",
       "      <td>NaN</td>\n",
       "      <td>0.0</td>\n",
       "      <td>Non_sanctioned</td>\n",
       "      <td>0.0</td>\n",
       "      <td>0.0</td>\n",
       "      <td>1.0</td>\n",
       "      <td>0.0</td>\n",
       "      <td>3001.0</td>\n",
       "      <td>NaT</td>\n",
       "    </tr>\n",
       "    <tr>\n",
       "      <th>1436769</th>\n",
       "      <td>2017-03-01</td>\n",
       "      <td>RW3</td>\n",
       "      <td>300120</td>\n",
       "      <td>1.043396e+07</td>\n",
       "      <td>NaT</td>\n",
       "      <td>0.0</td>\n",
       "      <td>0.0</td>\n",
       "      <td>0.0</td>\n",
       "      <td>NaN</td>\n",
       "      <td>NaN</td>\n",
       "      <td>0.0</td>\n",
       "      <td>Non_sanctioned</td>\n",
       "      <td>0.0</td>\n",
       "      <td>0.0</td>\n",
       "      <td>1.0</td>\n",
       "      <td>0.0</td>\n",
       "      <td>3001.0</td>\n",
       "      <td>NaT</td>\n",
       "    </tr>\n",
       "  </tbody>\n",
       "</table>\n",
       "</div>"
      ],
      "text/plain": [
       "            period partnerCode cmdCode_HS5  primaryValue Date_HS5  \\\n",
       "60300   2017-03-01         792      300120  1.698915e+03      NaT   \n",
       "60390   2017-03-01         268      300120  5.132006e+03      NaT   \n",
       "884640  2017-03-01           0      300120  1.044155e+07      NaT   \n",
       "884910  2017-03-01         156      300120  7.564980e+02      NaT   \n",
       "1436769 2017-03-01         RW3      300120  1.043396e+07      NaT   \n",
       "\n",
       "         Partial_HS5  Full_HS5  Transitory_HS5 Transitory_firstpatial_HS5  \\\n",
       "60300            0.0       0.0             0.0                        NaN   \n",
       "60390            0.0       0.0             0.0                        NaN   \n",
       "884640           0.0       0.0             0.0                        NaN   \n",
       "884910           0.0       0.0             0.0                        NaN   \n",
       "1436769          0.0       0.0             0.0                        NaN   \n",
       "\n",
       "        Transitory_firstfull_HS5  Sanct_HS5      Sanct_type  Issue1_HS5  \\\n",
       "60300                        NaN        0.0  Non_sanctioned         0.0   \n",
       "60390                        NaN        0.0  Non_sanctioned         0.0   \n",
       "884640                       NaN        0.0  Non_sanctioned         0.0   \n",
       "884910                       NaN        0.0  Non_sanctioned         0.0   \n",
       "1436769                      NaN        0.0  Non_sanctioned         0.0   \n",
       "\n",
       "         Issue2_HS5  Corr_1:1  Corr_n:1_only  4digit Date_HS5_similar  \n",
       "60300           0.0       1.0            0.0  3001.0              NaT  \n",
       "60390           0.0       1.0            0.0  3001.0              NaT  \n",
       "884640          0.0       1.0            0.0  3001.0              NaT  \n",
       "884910          0.0       1.0            0.0  3001.0              NaT  \n",
       "1436769         0.0       1.0            0.0  3001.0              NaT  "
      ]
     },
     "execution_count": 54,
     "metadata": {},
     "output_type": "execute_result"
    }
   ],
   "source": [
    "# check on one example that RW is correct\n",
    "database_HS5_sanct.loc[(database_HS5_sanct['period'] == database_HS5_sanct['period'].iloc[1001]) & (database_HS5_sanct['cmdCode_HS5'] == '300120')]\n"
   ]
  },
  {
   "cell_type": "markdown",
   "metadata": {},
   "source": [
    "#### Prepare for regressions"
   ]
  },
  {
   "cell_type": "code",
   "execution_count": 57,
   "metadata": {},
   "outputs": [],
   "source": [
    "#database_reg = database_HS5_sanct.loc[(database_HS5_sanct['partnerCode'] != 0) & (database_HS5_sanct['partnerCode'] != 156)]\n",
    "# get delite China and World data\n",
    "database_reg = database_HS5_sanct.loc[database_HS5_sanct['partnerCode'].apply(lambda x: x in regres_countr + ['RW3'])]\n"
   ]
  },
  {
   "cell_type": "code",
   "execution_count": 64,
   "metadata": {},
   "outputs": [
    {
     "name": "stderr",
     "output_type": "stream",
     "text": [
      "/Users/omega_macbookpro/opt/anaconda3/lib/python3.7/site-packages/ipykernel_launcher.py:5: SettingWithCopyWarning: \n",
      "A value is trying to be set on a copy of a slice from a DataFrame\n",
      "\n",
      "See the caveats in the documentation: https://pandas.pydata.org/pandas-docs/stable/user_guide/indexing.html#returning-a-view-versus-a-copy\n",
      "  \"\"\"\n",
      "/Users/omega_macbookpro/opt/anaconda3/lib/python3.7/site-packages/ipykernel_launcher.py:7: SettingWithCopyWarning: \n",
      "A value is trying to be set on a copy of a slice from a DataFrame.\n",
      "Try using .loc[row_indexer,col_indexer] = value instead\n",
      "\n",
      "See the caveats in the documentation: https://pandas.pydata.org/pandas-docs/stable/user_guide/indexing.html#returning-a-view-versus-a-copy\n",
      "  import sys\n",
      "/Users/omega_macbookpro/opt/anaconda3/lib/python3.7/site-packages/ipykernel_launcher.py:8: SettingWithCopyWarning: \n",
      "A value is trying to be set on a copy of a slice from a DataFrame.\n",
      "Try using .loc[row_indexer,col_indexer] = value instead\n",
      "\n",
      "See the caveats in the documentation: https://pandas.pydata.org/pandas-docs/stable/user_guide/indexing.html#returning-a-view-versus-a-copy\n",
      "  \n",
      "/Users/omega_macbookpro/opt/anaconda3/lib/python3.7/site-packages/pandas/core/arraylike.py:358: RuntimeWarning: divide by zero encountered in log\n",
      "  result = getattr(ufunc, method)(*inputs, **kwargs)\n",
      "/Users/omega_macbookpro/opt/anaconda3/lib/python3.7/site-packages/pandas/core/arraylike.py:358: RuntimeWarning: invalid value encountered in log\n",
      "  result = getattr(ufunc, method)(*inputs, **kwargs)\n",
      "/Users/omega_macbookpro/opt/anaconda3/lib/python3.7/site-packages/ipykernel_launcher.py:9: SettingWithCopyWarning: \n",
      "A value is trying to be set on a copy of a slice from a DataFrame.\n",
      "Try using .loc[row_indexer,col_indexer] = value instead\n",
      "\n",
      "See the caveats in the documentation: https://pandas.pydata.org/pandas-docs/stable/user_guide/indexing.html#returning-a-view-versus-a-copy\n",
      "  if __name__ == '__main__':\n"
     ]
    }
   ],
   "source": [
    "def periodtoint(period):\n",
    "    if period == period: return period.year*12 + period.month - 24205 # 24240 is number of months before 2020-11-01\n",
    "    else: return 0\n",
    "\n",
    "database_reg.sort_values(by=['period'], inplace=True)\n",
    "#ECU3_sanct_1['Date_HS5'] = ECU3_sanct_1['Date_HS5'].apply(lambda x: pd.to_datetime(x, format='%Y-%m-%d %H:%M:%S')) # convert to timestamp\n",
    "database_reg['Date_HS5_int'] = database_reg['Date_HS5'].apply(periodtoint)\n",
    "database_reg['period_int'] = database_reg['period'].apply(periodtoint)\n",
    "database_reg['log_primaryValue'] = np.log(database_reg['primaryValue'])\n"
   ]
  },
  {
   "cell_type": "code",
   "execution_count": 65,
   "metadata": {},
   "outputs": [
    {
     "name": "stderr",
     "output_type": "stream",
     "text": [
      "/Users/omega_macbookpro/opt/anaconda3/lib/python3.7/site-packages/ipykernel_launcher.py:1: SettingWithCopyWarning: \n",
      "A value is trying to be set on a copy of a slice from a DataFrame.\n",
      "Try using .loc[row_indexer,col_indexer] = value instead\n",
      "\n",
      "See the caveats in the documentation: https://pandas.pydata.org/pandas-docs/stable/user_guide/indexing.html#returning-a-view-versus-a-copy\n",
      "  \"\"\"Entry point for launching an IPython kernel.\n",
      "/Users/omega_macbookpro/opt/anaconda3/lib/python3.7/site-packages/ipykernel_launcher.py:2: SettingWithCopyWarning: \n",
      "A value is trying to be set on a copy of a slice from a DataFrame.\n",
      "Try using .loc[row_indexer,col_indexer] = value instead\n",
      "\n",
      "See the caveats in the documentation: https://pandas.pydata.org/pandas-docs/stable/user_guide/indexing.html#returning-a-view-versus-a-copy\n",
      "  \n",
      "/Users/omega_macbookpro/opt/anaconda3/lib/python3.7/site-packages/ipykernel_launcher.py:3: SettingWithCopyWarning: \n",
      "A value is trying to be set on a copy of a slice from a DataFrame.\n",
      "Try using .loc[row_indexer,col_indexer] = value instead\n",
      "\n",
      "See the caveats in the documentation: https://pandas.pydata.org/pandas-docs/stable/user_guide/indexing.html#returning-a-view-versus-a-copy\n",
      "  This is separate from the ipykernel package so we can avoid doing imports until\n",
      "/Users/omega_macbookpro/opt/anaconda3/lib/python3.7/site-packages/ipykernel_launcher.py:4: SettingWithCopyWarning: \n",
      "A value is trying to be set on a copy of a slice from a DataFrame.\n",
      "Try using .loc[row_indexer,col_indexer] = value instead\n",
      "\n",
      "See the caveats in the documentation: https://pandas.pydata.org/pandas-docs/stable/user_guide/indexing.html#returning-a-view-versus-a-copy\n",
      "  after removing the cwd from sys.path.\n",
      "/Users/omega_macbookpro/opt/anaconda3/lib/python3.7/site-packages/ipykernel_launcher.py:8: SettingWithCopyWarning: \n",
      "A value is trying to be set on a copy of a slice from a DataFrame.\n",
      "Try using .loc[row_indexer,col_indexer] = value instead\n",
      "\n",
      "See the caveats in the documentation: https://pandas.pydata.org/pandas-docs/stable/user_guide/indexing.html#returning-a-view-versus-a-copy\n",
      "  \n",
      "/Users/omega_macbookpro/opt/anaconda3/lib/python3.7/site-packages/ipykernel_launcher.py:9: SettingWithCopyWarning: \n",
      "A value is trying to be set on a copy of a slice from a DataFrame.\n",
      "Try using .loc[row_indexer,col_indexer] = value instead\n",
      "\n",
      "See the caveats in the documentation: https://pandas.pydata.org/pandas-docs/stable/user_guide/indexing.html#returning-a-view-versus-a-copy\n",
      "  if __name__ == '__main__':\n"
     ]
    }
   ],
   "source": [
    "database_reg['Sanct_t'] = (database_reg['period'] > database_reg['Date_HS5']).apply(int)\n",
    "database_reg['Similar_t'] = (database_reg['period'] > database_reg['Date_HS5_similar']).apply(int)\n",
    "database_reg['Sanct_t_int'] = (database_reg['period_int'] > database_reg['Date_HS5_int']).apply(int) # becareful, this might be falacious\n",
    "database_reg['partnerCode'] = database_reg['partnerCode'].apply(str)\n",
    "\n",
    "# status at t: Partial_t = 1 if partially sanctioned at t, o o/w; Full_t = 1 if fully sanctioned at t, o o/w;\n",
    "# Thus transitory code has Partial_t = 1 when partially sanctioned and Full_t = 1 when fully\n",
    "database_reg['Partial_t'] = database_reg['Partial_HS5'] * database_reg['Sanct_t'] + database_reg['Transitory_HS5'] * (((database_reg['period'] > database_reg['Transitory_firstpatial_HS5']) & (database_reg['period'] <= database_reg['Transitory_firstfull_HS5'])).apply(int))\n",
    "database_reg['Full_t'] = database_reg['Full_HS5'] * database_reg['Sanct_t'] + database_reg['Transitory_HS5'] * ((database_reg['period'] > database_reg['Transitory_firstfull_HS5']).apply(int))\n"
   ]
  },
  {
   "cell_type": "code",
   "execution_count": 96,
   "metadata": {},
   "outputs": [],
   "source": [
    "# database_reg = pd.read_csv(\"/Users/omega_macbookpro/Desktop/International_Trade/Dissertation_MRes/Comtrade/Sanctions Docs/EU/Data/Output_Script_5/database_exp_reg_v3.csv\", dtype={'cmdCode_HS5': str})\n",
    "# database_reg.drop('Unnamed: 0', axis=1, inplace=True)\n",
    "# check on one example that Similar_t is assigned properly\n",
    "# database_reg.loc[database_reg['Similar_t']==1, 'cmdCode_HS5'].unique()\n",
    "# database_reg.loc[(database_reg['cmdCode_HS5']== '392051') & (database_reg['partnerCode']== '643')].iloc[50:80]\n"
   ]
  },
  {
   "cell_type": "code",
   "execution_count": 98,
   "metadata": {},
   "outputs": [],
   "source": [
    "# for_similar_4digit_gr = [x[:4] for x in database_reg.loc[database_reg['Sanct_HS5'] == 1, 'cmdCode_HS5'].unique()]\n",
    "# database_reg['Similar'] = (database_reg['Sanct_type'] == 'Non_sanctioned') & (database_reg['cmdCode_HS5'].apply(lambda x: x[:4] in for_similar_4digit_gr))\n",
    "# database_reg['Similar'] = database_reg['Similar'].apply(int)"
   ]
  },
  {
   "cell_type": "code",
   "execution_count": 103,
   "metadata": {},
   "outputs": [],
   "source": [
    "# len(database_reg.loc[database_reg['Similar'] == 1, 'cmdCode_HS5'].unique())\n",
    "# 8460\n",
    "# database_reg.shape\n",
    "# database_reg.loc[database_reg['cmdCode_HS5'].apply(lambda x: x[:4] == '8460'), 'Similar'].sum()\n",
    "# [x for x in database_reg.loc[database_reg['Similar'] == 1, 'cmdCode_HS5'].unique() if x[:4] == '8460']"
   ]
  },
  {
   "cell_type": "code",
   "execution_count": 58,
   "metadata": {},
   "outputs": [],
   "source": [
    "# make indicator for \"similar\" products\n",
    "# Similar = non_sanctioned which has at least one partially sanctioned 6digit code falling into same 4digit category\n",
    "\n",
    "# sanct_exp_refin = pd.read_csv('/Users/omega_macbookpro/Desktop/International_Trade/Dissertation_MRes/Comtrade/Sanctions Docs/EU/Data/Output_Script_3/sanct_exp_refin_v1.csv', index_col=0, dtype={'CN6':str})\n"
   ]
  },
  {
   "cell_type": "code",
   "execution_count": 59,
   "metadata": {},
   "outputs": [
    {
     "name": "stdout",
     "output_type": "stream",
     "text": [
      "6    1656\n",
      "4     274\n",
      "2       3\n",
      "Name: CN6_len, dtype: int64\n"
     ]
    }
   ],
   "source": [
    "# # only 19 6digit codes are not covered by the 4digit codes (1 code is 2digit that's why 19 but not 20).\n",
    "# # So the analysis of \"similar\" goods is not promising here.\n",
    "# print(sanct_exp_refin['CN6_len'].value_counts())\n",
    "# giga = sanct_exp_refin.loc[sanct_exp_refin['CN6_len'] == 4, 'CN6'].unique()\n",
    "# goga = sanct_exp_refin.loc[sanct_exp_refin['CN6_len'] == 2, 'CN6'].unique()\n",
    "# print(sanct_exp_refin['CN6'].apply(lambda x: x[:4] in giga if len(x) == 6 else False).sum())\n",
    "# print(sanct_exp_refin['CN6'].apply(lambda x: x[:2] in goga if len(x) == 6 else False).sum())\n",
    "# print(1656 - 799 - 77) # 854 6digit codes are not covered by 4digit or 2digit sanctioned codes and thus used to find \"similar\" codes\n",
    "\n",
    "# for_similar_6digit = sanct_exp_refin.loc[(sanct_exp_refin['CN6'].apply(lambda x: x[:4] not in giga if len(x) == 6 else False) & sanct_exp_refin['CN6'].apply(lambda x: x[:4] not in giga if len(x) == 6 else False)), 'CN6'].unique()\n"
   ]
  },
  {
   "cell_type": "code",
   "execution_count": 25,
   "metadata": {},
   "outputs": [
    {
     "data": {
      "text/plain": [
       "10312"
      ]
     },
     "execution_count": 25,
     "metadata": {},
     "output_type": "execute_result"
    }
   ],
   "source": [
    "# ((database_reg['period'] > database_reg['Transitory_firstpatial_HS5']) & (database_reg['period'] <= database_reg['Transitory_firstfull_HS5'])).sum()\n",
    "\n",
    "# ((database_reg['period'] >= database_reg['Transitory_firstfull_HS5'])).sum()\n",
    "\n",
    "# ((database_reg['Transitory_firstpatial_HS5'] <= database_reg['Transitory_firstfull_HS5'])).sum()\n",
    "\n",
    "#((database_reg['period'] > database_reg['Transitory_firstpatial_HS5']) & (database_reg['period'] <= database_reg['Transitory_firstfull_HS5'])).sum()\n",
    "\n",
    "# 21146 = 10834 + 10312"
   ]
  },
  {
   "cell_type": "code",
   "execution_count": null,
   "metadata": {},
   "outputs": [],
   "source": []
  },
  {
   "cell_type": "code",
   "execution_count": 103,
   "metadata": {
    "scrolled": false
   },
   "outputs": [],
   "source": [
    "# check some transitory codes that Partial_t and Full_t are defined properly\n",
    "# database_reg.loc[database_reg['Transitory_HS5'] == 1]\n",
    "# database_reg.loc[(database_reg['cmdCode_HS5'] == '890399') & (database_reg['partnerCode'] == 'ECU3')]\n",
    "# database_reg.loc[(database_reg['cmdCode_HS5'] == '370500') & (database_reg['partnerCode'] == 'ECU3')]\n",
    "\n",
    "# check some transitory codes that Partial_t and Full_t are defined properly\n",
    "# database_reg.loc[database_reg['Full_HS5'] == 1]\n",
    "# database_reg.loc[(database_reg['cmdCode_HS5'] == '690722') & (database_reg['partnerCode'] == 'ECU3')].iloc[60:70]\n"
   ]
  },
  {
   "cell_type": "code",
   "execution_count": 72,
   "metadata": {},
   "outputs": [
    {
     "name": "stderr",
     "output_type": "stream",
     "text": [
      "/Users/omega_macbookpro/opt/anaconda3/lib/python3.7/site-packages/ipykernel_launcher.py:2: SettingWithCopyWarning: \n",
      "A value is trying to be set on a copy of a slice from a DataFrame.\n",
      "Try using .loc[row_indexer,col_indexer] = value instead\n",
      "\n",
      "See the caveats in the documentation: https://pandas.pydata.org/pandas-docs/stable/user_guide/indexing.html#returning-a-view-versus-a-copy\n",
      "  \n",
      "/Users/omega_macbookpro/opt/anaconda3/lib/python3.7/site-packages/pandas/core/indexing.py:1720: SettingWithCopyWarning: \n",
      "A value is trying to be set on a copy of a slice from a DataFrame.\n",
      "Try using .loc[row_indexer,col_indexer] = value instead\n",
      "\n",
      "See the caveats in the documentation: https://pandas.pydata.org/pandas-docs/stable/user_guide/indexing.html#returning-a-view-versus-a-copy\n",
      "  self._setitem_single_column(loc, value, pi)\n"
     ]
    }
   ],
   "source": [
    "# becareful as 0 time_to_treat will code both, treatment period and non-sanct products => always use with sanctioned indicator to distinguish\n",
    "database_reg['time_to_treat'] = database_reg['period_int'] - database_reg['Date_HS5_int']\n",
    "database_reg.loc[database_reg['Sanct_HS5'] == 0, 'time_to_treat'] = 0"
   ]
  },
  {
   "cell_type": "code",
   "execution_count": 105,
   "metadata": {},
   "outputs": [
    {
     "data": {
      "text/plain": [
       "982272"
      ]
     },
     "execution_count": 105,
     "metadata": {},
     "output_type": "execute_result"
    }
   ],
   "source": [
    "(database_reg['Sanct_t'] != database_reg['Sanct_t_int']).sum()"
   ]
  },
  {
   "cell_type": "code",
   "execution_count": 73,
   "metadata": {},
   "outputs": [
    {
     "name": "stderr",
     "output_type": "stream",
     "text": [
      "/Users/omega_macbookpro/opt/anaconda3/lib/python3.7/site-packages/ipykernel_launcher.py:10: SettingWithCopyWarning: \n",
      "A value is trying to be set on a copy of a slice from a DataFrame.\n",
      "Try using .loc[row_indexer,col_indexer] = value instead\n",
      "\n",
      "See the caveats in the documentation: https://pandas.pydata.org/pandas-docs/stable/user_guide/indexing.html#returning-a-view-versus-a-copy\n",
      "  # Remove the CWD from sys.path while we load stuff.\n"
     ]
    }
   ],
   "source": [
    "#database_reg.loc[(database_reg['Sanct_t'] != database_reg['Sanct_t_int'])]\n",
    "#database_reg\n",
    "#dummies = \n",
    "\n",
    "def time_to_treat(x):\n",
    "    if x < -12: return -13\n",
    "    elif x > 12: return 13\n",
    "    else: return x\n",
    "    \n",
    "database_reg['time_to_treat_ES1'] = database_reg['time_to_treat'].apply(time_to_treat)    "
   ]
  },
  {
   "cell_type": "code",
   "execution_count": 76,
   "metadata": {},
   "outputs": [],
   "source": [
    "database_reg = pd.concat([database_reg, pd.get_dummies(database_reg['partnerCode']).rename(columns={'643':'Rus', '51':'Arm', '398':'Kaz', \n",
    "                                                            '417':'Kyr', '31':'Aze', '268':'Geo',\n",
    "                                                            '860':'Uzb', '792':'Tur', 'RW3':'RW3', '156':'Chi'})], axis=1)"
   ]
  },
  {
   "cell_type": "code",
   "execution_count": 75,
   "metadata": {},
   "outputs": [
    {
     "data": {
      "text/plain": [
       "array(['51', '792', '643', '31', 'RW3', '268', '156', '860', '417', '398'],\n",
       "      dtype=object)"
      ]
     },
     "execution_count": 75,
     "metadata": {},
     "output_type": "execute_result"
    }
   ],
   "source": [
    "database_reg['partnerCode'].unique()"
   ]
  },
  {
   "cell_type": "code",
   "execution_count": null,
   "metadata": {},
   "outputs": [],
   "source": []
  },
  {
   "cell_type": "code",
   "execution_count": 77,
   "metadata": {},
   "outputs": [],
   "source": [
    "# dummies for ECU3 and FSU3\n",
    "database_reg['ECU3'] = database_reg['Kaz'] + database_reg['Kyr'] + database_reg['Arm']\n",
    "database_reg['FSU3'] = database_reg['Geo'] + database_reg['Aze'] + database_reg['Uzb']\n",
    "database_reg['ECU3'] = database_reg['ECU3'].apply(lambda x: int(x>0))\n",
    "database_reg['FSU3'] = database_reg['FSU3'].apply(lambda x: int(x>0))\n"
   ]
  },
  {
   "cell_type": "code",
   "execution_count": 78,
   "metadata": {},
   "outputs": [
    {
     "data": {
      "text/html": [
       "<div>\n",
       "<style scoped>\n",
       "    .dataframe tbody tr th:only-of-type {\n",
       "        vertical-align: middle;\n",
       "    }\n",
       "\n",
       "    .dataframe tbody tr th {\n",
       "        vertical-align: top;\n",
       "    }\n",
       "\n",
       "    .dataframe thead th {\n",
       "        text-align: right;\n",
       "    }\n",
       "</style>\n",
       "<table border=\"1\" class=\"dataframe\">\n",
       "  <thead>\n",
       "    <tr style=\"text-align: right;\">\n",
       "      <th></th>\n",
       "      <th>period</th>\n",
       "      <th>partnerCode</th>\n",
       "      <th>cmdCode_HS5</th>\n",
       "      <th>primaryValue</th>\n",
       "      <th>Date_HS5</th>\n",
       "      <th>Partial_HS5</th>\n",
       "      <th>Full_HS5</th>\n",
       "      <th>Transitory_HS5</th>\n",
       "      <th>Transitory_firstpatial_HS5</th>\n",
       "      <th>Transitory_firstfull_HS5</th>\n",
       "      <th>...</th>\n",
       "      <th>Aze</th>\n",
       "      <th>Kaz</th>\n",
       "      <th>Kyr</th>\n",
       "      <th>Arm</th>\n",
       "      <th>Rus</th>\n",
       "      <th>Tur</th>\n",
       "      <th>Uzb</th>\n",
       "      <th>RW3</th>\n",
       "      <th>ECU3</th>\n",
       "      <th>FSU3</th>\n",
       "    </tr>\n",
       "  </thead>\n",
       "  <tbody>\n",
       "    <tr>\n",
       "      <th>0</th>\n",
       "      <td>2017-01-01</td>\n",
       "      <td>51</td>\n",
       "      <td>081310</td>\n",
       "      <td>1.231224e+03</td>\n",
       "      <td>NaT</td>\n",
       "      <td>0.0</td>\n",
       "      <td>0.0</td>\n",
       "      <td>0.0</td>\n",
       "      <td>NaN</td>\n",
       "      <td>NaN</td>\n",
       "      <td>...</td>\n",
       "      <td>0</td>\n",
       "      <td>0</td>\n",
       "      <td>0</td>\n",
       "      <td>1</td>\n",
       "      <td>0</td>\n",
       "      <td>0</td>\n",
       "      <td>0</td>\n",
       "      <td>0</td>\n",
       "      <td>1</td>\n",
       "      <td>0</td>\n",
       "    </tr>\n",
       "    <tr>\n",
       "      <th>44187</th>\n",
       "      <td>2017-01-01</td>\n",
       "      <td>792</td>\n",
       "      <td>411200</td>\n",
       "      <td>2.517099e+05</td>\n",
       "      <td>NaT</td>\n",
       "      <td>0.0</td>\n",
       "      <td>0.0</td>\n",
       "      <td>0.0</td>\n",
       "      <td>NaN</td>\n",
       "      <td>NaN</td>\n",
       "      <td>...</td>\n",
       "      <td>0</td>\n",
       "      <td>0</td>\n",
       "      <td>0</td>\n",
       "      <td>0</td>\n",
       "      <td>0</td>\n",
       "      <td>1</td>\n",
       "      <td>0</td>\n",
       "      <td>0</td>\n",
       "      <td>0</td>\n",
       "      <td>0</td>\n",
       "    </tr>\n",
       "    <tr>\n",
       "      <th>44188</th>\n",
       "      <td>2017-01-01</td>\n",
       "      <td>792</td>\n",
       "      <td>411310</td>\n",
       "      <td>2.332533e+04</td>\n",
       "      <td>NaT</td>\n",
       "      <td>0.0</td>\n",
       "      <td>0.0</td>\n",
       "      <td>0.0</td>\n",
       "      <td>NaN</td>\n",
       "      <td>NaN</td>\n",
       "      <td>...</td>\n",
       "      <td>0</td>\n",
       "      <td>0</td>\n",
       "      <td>0</td>\n",
       "      <td>0</td>\n",
       "      <td>0</td>\n",
       "      <td>1</td>\n",
       "      <td>0</td>\n",
       "      <td>0</td>\n",
       "      <td>0</td>\n",
       "      <td>0</td>\n",
       "    </tr>\n",
       "    <tr>\n",
       "      <th>44189</th>\n",
       "      <td>2017-01-01</td>\n",
       "      <td>792</td>\n",
       "      <td>411330</td>\n",
       "      <td>1.021470e+05</td>\n",
       "      <td>NaT</td>\n",
       "      <td>0.0</td>\n",
       "      <td>0.0</td>\n",
       "      <td>0.0</td>\n",
       "      <td>NaN</td>\n",
       "      <td>NaN</td>\n",
       "      <td>...</td>\n",
       "      <td>0</td>\n",
       "      <td>0</td>\n",
       "      <td>0</td>\n",
       "      <td>0</td>\n",
       "      <td>0</td>\n",
       "      <td>1</td>\n",
       "      <td>0</td>\n",
       "      <td>0</td>\n",
       "      <td>0</td>\n",
       "      <td>0</td>\n",
       "    </tr>\n",
       "    <tr>\n",
       "      <th>44190</th>\n",
       "      <td>2017-01-01</td>\n",
       "      <td>792</td>\n",
       "      <td>411390</td>\n",
       "      <td>1.662471e+05</td>\n",
       "      <td>NaT</td>\n",
       "      <td>0.0</td>\n",
       "      <td>0.0</td>\n",
       "      <td>0.0</td>\n",
       "      <td>NaN</td>\n",
       "      <td>NaN</td>\n",
       "      <td>...</td>\n",
       "      <td>0</td>\n",
       "      <td>0</td>\n",
       "      <td>0</td>\n",
       "      <td>0</td>\n",
       "      <td>0</td>\n",
       "      <td>1</td>\n",
       "      <td>0</td>\n",
       "      <td>0</td>\n",
       "      <td>0</td>\n",
       "      <td>0</td>\n",
       "    </tr>\n",
       "    <tr>\n",
       "      <th>...</th>\n",
       "      <td>...</td>\n",
       "      <td>...</td>\n",
       "      <td>...</td>\n",
       "      <td>...</td>\n",
       "      <td>...</td>\n",
       "      <td>...</td>\n",
       "      <td>...</td>\n",
       "      <td>...</td>\n",
       "      <td>...</td>\n",
       "      <td>...</td>\n",
       "      <td>...</td>\n",
       "      <td>...</td>\n",
       "      <td>...</td>\n",
       "      <td>...</td>\n",
       "      <td>...</td>\n",
       "      <td>...</td>\n",
       "      <td>...</td>\n",
       "      <td>...</td>\n",
       "      <td>...</td>\n",
       "      <td>...</td>\n",
       "      <td>...</td>\n",
       "    </tr>\n",
       "    <tr>\n",
       "      <th>2555994</th>\n",
       "      <td>2024-05-01</td>\n",
       "      <td>31</td>\n",
       "      <td>843691</td>\n",
       "      <td>5.847144e+04</td>\n",
       "      <td>NaT</td>\n",
       "      <td>0.0</td>\n",
       "      <td>0.0</td>\n",
       "      <td>0.0</td>\n",
       "      <td>NaN</td>\n",
       "      <td>NaN</td>\n",
       "      <td>...</td>\n",
       "      <td>1</td>\n",
       "      <td>0</td>\n",
       "      <td>0</td>\n",
       "      <td>0</td>\n",
       "      <td>0</td>\n",
       "      <td>0</td>\n",
       "      <td>0</td>\n",
       "      <td>0</td>\n",
       "      <td>0</td>\n",
       "      <td>1</td>\n",
       "    </tr>\n",
       "    <tr>\n",
       "      <th>2555993</th>\n",
       "      <td>2024-05-01</td>\n",
       "      <td>31</td>\n",
       "      <td>843610</td>\n",
       "      <td>2.952062e+04</td>\n",
       "      <td>NaT</td>\n",
       "      <td>0.0</td>\n",
       "      <td>0.0</td>\n",
       "      <td>0.0</td>\n",
       "      <td>NaN</td>\n",
       "      <td>NaN</td>\n",
       "      <td>...</td>\n",
       "      <td>1</td>\n",
       "      <td>0</td>\n",
       "      <td>0</td>\n",
       "      <td>0</td>\n",
       "      <td>0</td>\n",
       "      <td>0</td>\n",
       "      <td>0</td>\n",
       "      <td>0</td>\n",
       "      <td>0</td>\n",
       "      <td>1</td>\n",
       "    </tr>\n",
       "    <tr>\n",
       "      <th>2555992</th>\n",
       "      <td>2024-05-01</td>\n",
       "      <td>31</td>\n",
       "      <td>843510</td>\n",
       "      <td>1.595885e+03</td>\n",
       "      <td>NaT</td>\n",
       "      <td>0.0</td>\n",
       "      <td>0.0</td>\n",
       "      <td>0.0</td>\n",
       "      <td>NaN</td>\n",
       "      <td>NaN</td>\n",
       "      <td>...</td>\n",
       "      <td>1</td>\n",
       "      <td>0</td>\n",
       "      <td>0</td>\n",
       "      <td>0</td>\n",
       "      <td>0</td>\n",
       "      <td>0</td>\n",
       "      <td>0</td>\n",
       "      <td>0</td>\n",
       "      <td>0</td>\n",
       "      <td>1</td>\n",
       "    </tr>\n",
       "    <tr>\n",
       "      <th>2555990</th>\n",
       "      <td>2024-05-01</td>\n",
       "      <td>31</td>\n",
       "      <td>843360</td>\n",
       "      <td>1.806974e+06</td>\n",
       "      <td>NaT</td>\n",
       "      <td>0.0</td>\n",
       "      <td>0.0</td>\n",
       "      <td>0.0</td>\n",
       "      <td>NaN</td>\n",
       "      <td>NaN</td>\n",
       "      <td>...</td>\n",
       "      <td>1</td>\n",
       "      <td>0</td>\n",
       "      <td>0</td>\n",
       "      <td>0</td>\n",
       "      <td>0</td>\n",
       "      <td>0</td>\n",
       "      <td>0</td>\n",
       "      <td>0</td>\n",
       "      <td>0</td>\n",
       "      <td>1</td>\n",
       "    </tr>\n",
       "    <tr>\n",
       "      <th>2571358</th>\n",
       "      <td>2024-05-01</td>\n",
       "      <td>RW3</td>\n",
       "      <td>999999</td>\n",
       "      <td>6.108497e+09</td>\n",
       "      <td>NaT</td>\n",
       "      <td>0.0</td>\n",
       "      <td>0.0</td>\n",
       "      <td>0.0</td>\n",
       "      <td>NaN</td>\n",
       "      <td>NaN</td>\n",
       "      <td>...</td>\n",
       "      <td>0</td>\n",
       "      <td>0</td>\n",
       "      <td>0</td>\n",
       "      <td>0</td>\n",
       "      <td>0</td>\n",
       "      <td>0</td>\n",
       "      <td>0</td>\n",
       "      <td>1</td>\n",
       "      <td>0</td>\n",
       "      <td>0</td>\n",
       "    </tr>\n",
       "  </tbody>\n",
       "</table>\n",
       "<p>2095998 rows × 40 columns</p>\n",
       "</div>"
      ],
      "text/plain": [
       "            period partnerCode cmdCode_HS5  primaryValue Date_HS5  \\\n",
       "0       2017-01-01          51      081310  1.231224e+03      NaT   \n",
       "44187   2017-01-01         792      411200  2.517099e+05      NaT   \n",
       "44188   2017-01-01         792      411310  2.332533e+04      NaT   \n",
       "44189   2017-01-01         792      411330  1.021470e+05      NaT   \n",
       "44190   2017-01-01         792      411390  1.662471e+05      NaT   \n",
       "...            ...         ...         ...           ...      ...   \n",
       "2555994 2024-05-01          31      843691  5.847144e+04      NaT   \n",
       "2555993 2024-05-01          31      843610  2.952062e+04      NaT   \n",
       "2555992 2024-05-01          31      843510  1.595885e+03      NaT   \n",
       "2555990 2024-05-01          31      843360  1.806974e+06      NaT   \n",
       "2571358 2024-05-01         RW3      999999  6.108497e+09      NaT   \n",
       "\n",
       "         Partial_HS5  Full_HS5  Transitory_HS5 Transitory_firstpatial_HS5  \\\n",
       "0                0.0       0.0             0.0                        NaN   \n",
       "44187            0.0       0.0             0.0                        NaN   \n",
       "44188            0.0       0.0             0.0                        NaN   \n",
       "44189            0.0       0.0             0.0                        NaN   \n",
       "44190            0.0       0.0             0.0                        NaN   \n",
       "...              ...       ...             ...                        ...   \n",
       "2555994          0.0       0.0             0.0                        NaN   \n",
       "2555993          0.0       0.0             0.0                        NaN   \n",
       "2555992          0.0       0.0             0.0                        NaN   \n",
       "2555990          0.0       0.0             0.0                        NaN   \n",
       "2571358          0.0       0.0             0.0                        NaN   \n",
       "\n",
       "        Transitory_firstfull_HS5  ...  Aze Kaz  Kyr  Arm  Rus  Tur  Uzb RW3  \\\n",
       "0                            NaN  ...    0   0    0    1    0    0    0   0   \n",
       "44187                        NaN  ...    0   0    0    0    0    1    0   0   \n",
       "44188                        NaN  ...    0   0    0    0    0    1    0   0   \n",
       "44189                        NaN  ...    0   0    0    0    0    1    0   0   \n",
       "44190                        NaN  ...    0   0    0    0    0    1    0   0   \n",
       "...                          ...  ...  ...  ..  ...  ...  ...  ...  ...  ..   \n",
       "2555994                      NaN  ...    1   0    0    0    0    0    0   0   \n",
       "2555993                      NaN  ...    1   0    0    0    0    0    0   0   \n",
       "2555992                      NaN  ...    1   0    0    0    0    0    0   0   \n",
       "2555990                      NaN  ...    1   0    0    0    0    0    0   0   \n",
       "2571358                      NaN  ...    0   0    0    0    0    0    0   1   \n",
       "\n",
       "         ECU3  FSU3  \n",
       "0           1     0  \n",
       "44187       0     0  \n",
       "44188       0     0  \n",
       "44189       0     0  \n",
       "44190       0     0  \n",
       "...       ...   ...  \n",
       "2555994     0     1  \n",
       "2555993     0     1  \n",
       "2555992     0     1  \n",
       "2555990     0     1  \n",
       "2571358     0     0  \n",
       "\n",
       "[2095998 rows x 40 columns]"
      ]
     },
     "execution_count": 78,
     "metadata": {},
     "output_type": "execute_result"
    }
   ],
   "source": [
    "database_reg"
   ]
  },
  {
   "cell_type": "code",
   "execution_count": 79,
   "metadata": {},
   "outputs": [],
   "source": [
    "\n",
    "#database_reg.to_csv(\"/Users/omega_macbookpro/Desktop/International_Trade/Dissertation_MRes/Comtrade/Sanctions Docs/EU/Data/Output_Script_6/database_imp_reg_v2.csv\")\n"
   ]
  },
  {
   "cell_type": "code",
   "execution_count": 3,
   "metadata": {},
   "outputs": [
    {
     "name": "stderr",
     "output_type": "stream",
     "text": [
      "/Users/omega_macbookpro/opt/anaconda3/lib/python3.7/site-packages/IPython/core/interactiveshell.py:3063: DtypeWarning: Columns (2) have mixed types.Specify dtype option on import or set low_memory=False.\n",
      "  interactivity=interactivity, compiler=compiler, result=result)\n"
     ]
    }
   ],
   "source": [
    "database_reg = pd.read_csv(\"/Users/omega_macbookpro/Desktop/International_Trade/Dissertation_MRes/Comtrade/Sanctions Docs/EU/Data/Output_Script_6/database_imp_reg_v2.csv\")\n",
    "\n"
   ]
  },
  {
   "cell_type": "code",
   "execution_count": 4,
   "metadata": {},
   "outputs": [
    {
     "data": {
      "text/html": [
       "<div>\n",
       "<style scoped>\n",
       "    .dataframe tbody tr th:only-of-type {\n",
       "        vertical-align: middle;\n",
       "    }\n",
       "\n",
       "    .dataframe tbody tr th {\n",
       "        vertical-align: top;\n",
       "    }\n",
       "\n",
       "    .dataframe thead th {\n",
       "        text-align: right;\n",
       "    }\n",
       "</style>\n",
       "<table border=\"1\" class=\"dataframe\">\n",
       "  <thead>\n",
       "    <tr style=\"text-align: right;\">\n",
       "      <th></th>\n",
       "      <th>Unnamed: 0</th>\n",
       "      <th>period</th>\n",
       "      <th>partnerCode</th>\n",
       "      <th>cmdCode_HS5</th>\n",
       "      <th>primaryValue</th>\n",
       "      <th>Date_HS5</th>\n",
       "      <th>Partial_HS5</th>\n",
       "      <th>Full_HS5</th>\n",
       "      <th>Transitory_HS5</th>\n",
       "      <th>Transitory_firstpatial_HS5</th>\n",
       "      <th>...</th>\n",
       "      <th>Aze</th>\n",
       "      <th>Kaz</th>\n",
       "      <th>Kyr</th>\n",
       "      <th>Arm</th>\n",
       "      <th>Rus</th>\n",
       "      <th>Tur</th>\n",
       "      <th>Uzb</th>\n",
       "      <th>RW3</th>\n",
       "      <th>ECU3</th>\n",
       "      <th>FSU3</th>\n",
       "    </tr>\n",
       "  </thead>\n",
       "  <tbody>\n",
       "    <tr>\n",
       "      <th>0</th>\n",
       "      <td>0</td>\n",
       "      <td>2017-01-01</td>\n",
       "      <td>51</td>\n",
       "      <td>81310</td>\n",
       "      <td>1231.224</td>\n",
       "      <td>NaN</td>\n",
       "      <td>0.0</td>\n",
       "      <td>0.0</td>\n",
       "      <td>0.0</td>\n",
       "      <td>NaN</td>\n",
       "      <td>...</td>\n",
       "      <td>0</td>\n",
       "      <td>0</td>\n",
       "      <td>0</td>\n",
       "      <td>1</td>\n",
       "      <td>0</td>\n",
       "      <td>0</td>\n",
       "      <td>0</td>\n",
       "      <td>0</td>\n",
       "      <td>1</td>\n",
       "      <td>0</td>\n",
       "    </tr>\n",
       "    <tr>\n",
       "      <th>1</th>\n",
       "      <td>44187</td>\n",
       "      <td>2017-01-01</td>\n",
       "      <td>792</td>\n",
       "      <td>411200</td>\n",
       "      <td>251709.949</td>\n",
       "      <td>NaN</td>\n",
       "      <td>0.0</td>\n",
       "      <td>0.0</td>\n",
       "      <td>0.0</td>\n",
       "      <td>NaN</td>\n",
       "      <td>...</td>\n",
       "      <td>0</td>\n",
       "      <td>0</td>\n",
       "      <td>0</td>\n",
       "      <td>0</td>\n",
       "      <td>0</td>\n",
       "      <td>1</td>\n",
       "      <td>0</td>\n",
       "      <td>0</td>\n",
       "      <td>0</td>\n",
       "      <td>0</td>\n",
       "    </tr>\n",
       "    <tr>\n",
       "      <th>2</th>\n",
       "      <td>44188</td>\n",
       "      <td>2017-01-01</td>\n",
       "      <td>792</td>\n",
       "      <td>411310</td>\n",
       "      <td>23325.326</td>\n",
       "      <td>NaN</td>\n",
       "      <td>0.0</td>\n",
       "      <td>0.0</td>\n",
       "      <td>0.0</td>\n",
       "      <td>NaN</td>\n",
       "      <td>...</td>\n",
       "      <td>0</td>\n",
       "      <td>0</td>\n",
       "      <td>0</td>\n",
       "      <td>0</td>\n",
       "      <td>0</td>\n",
       "      <td>1</td>\n",
       "      <td>0</td>\n",
       "      <td>0</td>\n",
       "      <td>0</td>\n",
       "      <td>0</td>\n",
       "    </tr>\n",
       "    <tr>\n",
       "      <th>3</th>\n",
       "      <td>44189</td>\n",
       "      <td>2017-01-01</td>\n",
       "      <td>792</td>\n",
       "      <td>411330</td>\n",
       "      <td>102147.013</td>\n",
       "      <td>NaN</td>\n",
       "      <td>0.0</td>\n",
       "      <td>0.0</td>\n",
       "      <td>0.0</td>\n",
       "      <td>NaN</td>\n",
       "      <td>...</td>\n",
       "      <td>0</td>\n",
       "      <td>0</td>\n",
       "      <td>0</td>\n",
       "      <td>0</td>\n",
       "      <td>0</td>\n",
       "      <td>1</td>\n",
       "      <td>0</td>\n",
       "      <td>0</td>\n",
       "      <td>0</td>\n",
       "      <td>0</td>\n",
       "    </tr>\n",
       "    <tr>\n",
       "      <th>4</th>\n",
       "      <td>44190</td>\n",
       "      <td>2017-01-01</td>\n",
       "      <td>792</td>\n",
       "      <td>411390</td>\n",
       "      <td>166247.082</td>\n",
       "      <td>NaN</td>\n",
       "      <td>0.0</td>\n",
       "      <td>0.0</td>\n",
       "      <td>0.0</td>\n",
       "      <td>NaN</td>\n",
       "      <td>...</td>\n",
       "      <td>0</td>\n",
       "      <td>0</td>\n",
       "      <td>0</td>\n",
       "      <td>0</td>\n",
       "      <td>0</td>\n",
       "      <td>1</td>\n",
       "      <td>0</td>\n",
       "      <td>0</td>\n",
       "      <td>0</td>\n",
       "      <td>0</td>\n",
       "    </tr>\n",
       "  </tbody>\n",
       "</table>\n",
       "<p>5 rows × 41 columns</p>\n",
       "</div>"
      ],
      "text/plain": [
       "   Unnamed: 0      period partnerCode  cmdCode_HS5  primaryValue Date_HS5  \\\n",
       "0           0  2017-01-01          51        81310      1231.224      NaN   \n",
       "1       44187  2017-01-01         792       411200    251709.949      NaN   \n",
       "2       44188  2017-01-01         792       411310     23325.326      NaN   \n",
       "3       44189  2017-01-01         792       411330    102147.013      NaN   \n",
       "4       44190  2017-01-01         792       411390    166247.082      NaN   \n",
       "\n",
       "   Partial_HS5  Full_HS5  Transitory_HS5 Transitory_firstpatial_HS5  ... Aze  \\\n",
       "0          0.0       0.0             0.0                        NaN  ...   0   \n",
       "1          0.0       0.0             0.0                        NaN  ...   0   \n",
       "2          0.0       0.0             0.0                        NaN  ...   0   \n",
       "3          0.0       0.0             0.0                        NaN  ...   0   \n",
       "4          0.0       0.0             0.0                        NaN  ...   0   \n",
       "\n",
       "   Kaz Kyr  Arm  Rus  Tur  Uzb  RW3 ECU3  FSU3  \n",
       "0    0   0    1    0    0    0    0    1     0  \n",
       "1    0   0    0    0    1    0    0    0     0  \n",
       "2    0   0    0    0    1    0    0    0     0  \n",
       "3    0   0    0    0    1    0    0    0     0  \n",
       "4    0   0    0    0    1    0    0    0     0  \n",
       "\n",
       "[5 rows x 41 columns]"
      ]
     },
     "execution_count": 4,
     "metadata": {},
     "output_type": "execute_result"
    }
   ],
   "source": [
    "database_reg.head()"
   ]
  },
  {
   "cell_type": "code",
   "execution_count": 5,
   "metadata": {},
   "outputs": [
    {
     "data": {
      "text/plain": [
       "Index(['Unnamed: 0', 'period', 'partnerCode', 'cmdCode_HS5', 'primaryValue',\n",
       "       'Date_HS5', 'Partial_HS5', 'Full_HS5', 'Transitory_HS5',\n",
       "       'Transitory_firstpatial_HS5', 'Transitory_firstfull_HS5', 'Sanct_HS5',\n",
       "       'Sanct_type', 'Issue1_HS5', 'Issue2_HS5', 'Corr_1:1', 'Corr_n:1_only',\n",
       "       '4digit', 'Date_HS5_similar', 'Date_HS5_int', 'period_int',\n",
       "       'log_primaryValue', 'Sanct_t', 'Similar_t', 'Sanct_t_int', 'Partial_t',\n",
       "       'Full_t', 'time_to_treat', 'time_to_treat_ES1', 'Chi', 'Geo', 'Aze',\n",
       "       'Kaz', 'Kyr', 'Arm', 'Rus', 'Tur', 'Uzb', 'RW3', 'ECU3', 'FSU3'],\n",
       "      dtype='object')"
      ]
     },
     "execution_count": 5,
     "metadata": {},
     "output_type": "execute_result"
    }
   ],
   "source": [
    "database_reg.columns # 1624 - full, 121 - partial, 34"
   ]
  },
  {
   "cell_type": "code",
   "execution_count": 18,
   "metadata": {},
   "outputs": [
    {
     "data": {
      "text/plain": [
       "63"
      ]
     },
     "execution_count": 18,
     "metadata": {},
     "output_type": "execute_result"
    }
   ],
   "source": [
    "len([x for x in database_reg.loc[database_reg['Partial_t'] == 1, 'cmdCode_HS5'].unique() if x not in database_reg.loc[database_reg['Full_t'] == 1, 'cmdCode_HS5'].unique()])\n",
    "\n",
    "\n",
    "\n"
   ]
  },
  {
   "cell_type": "code",
   "execution_count": 16,
   "metadata": {},
   "outputs": [
    {
     "data": {
      "text/plain": [
       "True"
      ]
     },
     "execution_count": 16,
     "metadata": {},
     "output_type": "execute_result"
    }
   ],
   "source": [
    "290514 in database_reg.loc[database_reg['Full_t'] == 1, 'cmdCode_HS5'].unique()"
   ]
  },
  {
   "cell_type": "code",
   "execution_count": null,
   "metadata": {},
   "outputs": [],
   "source": []
  },
  {
   "cell_type": "code",
   "execution_count": null,
   "metadata": {},
   "outputs": [],
   "source": []
  },
  {
   "cell_type": "code",
   "execution_count": 108,
   "metadata": {},
   "outputs": [
    {
     "data": {
      "text/plain": [
       "array([-13,   0, -12, -11, -10,  -9,  -8,  -7,  -6,  -5,  -4,  -3,  -2,\n",
       "        -1,   1,   2,   3,   4,   5,   6,   7,   8,   9,  10,  11,  12,\n",
       "        13])"
      ]
     },
     "execution_count": 108,
     "metadata": {},
     "output_type": "execute_result"
    }
   ],
   "source": [
    "database_reg['time_to_treat_ES1'].unique()\n"
   ]
  },
  {
   "cell_type": "code",
   "execution_count": 113,
   "metadata": {},
   "outputs": [
    {
     "data": {
      "text/plain": [
       "(0.6470588235294118,\n",
       " 0.6666666666666666,\n",
       " 0.5836996702028046,\n",
       " 0.8274932453076604)"
      ]
     },
     "execution_count": 113,
     "metadata": {},
     "output_type": "execute_result"
    }
   ],
   "source": [
    "11/17, 400/600, 1552.18/ 2659.21, (2933.44 - 1552.18)/(4328.42 - 2659.21)"
   ]
  },
  {
   "cell_type": "code",
   "execution_count": 118,
   "metadata": {},
   "outputs": [
    {
     "data": {
      "text/plain": [
       "(0.29411764705882354, 0.36363636363636365)"
      ]
     },
     "execution_count": 118,
     "metadata": {},
     "output_type": "execute_result"
    }
   ],
   "source": [
    "#15/24, 8/12\n",
    "5/17, 4/11"
   ]
  },
  {
   "cell_type": "code",
   "execution_count": 2,
   "metadata": {},
   "outputs": [],
   "source": [
    "#database_reg['Similar_t'].isna().sum()"
   ]
  },
  {
   "cell_type": "code",
   "execution_count": 1,
   "metadata": {},
   "outputs": [],
   "source": [
    "#database_reg.loc[database_reg['Sanct_t'] != database_reg['Sanct_t_int']]\n",
    "# Sanct_HS5\n",
    "#database_reg[database_reg.columns[:15]]  #.loc[database_reg['Sanct_t'] != database_reg['Sanct_t_int']]"
   ]
  },
  {
   "cell_type": "code",
   "execution_count": 105,
   "metadata": {},
   "outputs": [
    {
     "data": {
      "text/plain": [
       "array([-85, -84, -83, -82, -81, -80, -79, -78, -77, -76, -75, -74, -73,\n",
       "       -72, -71, -70, -69, -68, -67, -66, -65, -64, -63, -62, -61, -60,\n",
       "       -59, -58, -57, -56, -55, -54, -53, -52, -51, -50, -49, -48, -47,\n",
       "       -46, -45, -44, -43, -42, -41, -40, -39, -38, -37, -36, -35, -34,\n",
       "       -33, -32, -31, -30, -29, -28, -27, -26, -25, -24, -23, -22, -21,\n",
       "       -20, -19, -18, -17, -16, -15, -14, -13, -12, -11, -10,  -9,  -8,\n",
       "        -7,  -6,  -5,  -4,  -3,  -2,  -1,   0,   1,   2,   3,   4,   5,\n",
       "         6,   7,   8,   9,  10,  11,  12,  13,  14,  15,  16,  17,  18,\n",
       "        19,  20,  21,  22,  23,  24,  25,  26,  27])"
      ]
     },
     "execution_count": 105,
     "metadata": {},
     "output_type": "execute_result"
    }
   ],
   "source": [
    "import numpy as np\n",
    "np.sort(database_reg['time_to_treat'].unique())\n"
   ]
  },
  {
   "cell_type": "code",
   "execution_count": null,
   "metadata": {},
   "outputs": [],
   "source": []
  },
  {
   "cell_type": "code",
   "execution_count": null,
   "metadata": {},
   "outputs": [],
   "source": [
    "\n"
   ]
  },
  {
   "cell_type": "markdown",
   "metadata": {},
   "source": [
    "\n"
   ]
  },
  {
   "cell_type": "code",
   "execution_count": null,
   "metadata": {},
   "outputs": [],
   "source": [
    "# for transitory add make sanct_t for when period >= Transitory_firstfull_HS5"
   ]
  },
  {
   "cell_type": "markdown",
   "metadata": {},
   "source": [
    "### Desc Stat for codes\n"
   ]
  },
  {
   "cell_type": "code",
   "execution_count": 3,
   "metadata": {},
   "outputs": [],
   "source": [
    "HS5_sanct['Similar'] = HS5_sanct['Date_HS5_similar'].notna().apply(int)"
   ]
  },
  {
   "cell_type": "code",
   "execution_count": 4,
   "metadata": {},
   "outputs": [],
   "source": [
    "HS5_sanct['Similar'] = HS5_sanct['Date_HS5_similar'].notna().apply(int)\n",
    "\n",
    "HS5_sanct_desc = HS5_sanct[['Sanct_HS5', 'Full_HS5', 'Partial_HS5',\n",
    "       'Transitory_HS5', 'Similar', 'Issue2_HS5',\n",
    "       'Issue1_HS5']]"
   ]
  },
  {
   "cell_type": "code",
   "execution_count": 5,
   "metadata": {},
   "outputs": [
    {
     "name": "stdout",
     "output_type": "stream",
     "text": [
      "4097\n",
      "65\n",
      "1225\n",
      "87\n"
     ]
    }
   ],
   "source": [
    "print((HS5_sanct['Corr_1:1'] == 1).sum())\n",
    "print((HS5_sanct['Corr_n:1_only'] == 1).sum()) \n",
    "print((HS5_sanct['Issue2_HS5'] == 1).sum())\n",
    "print((HS5_sanct['Issue1_HS5'] == 1).sum())\n",
    "\n",
    "\n"
   ]
  },
  {
   "cell_type": "code",
   "execution_count": 6,
   "metadata": {},
   "outputs": [],
   "source": [
    "sums = pd.DataFrame(HS5_sanct_desc.sum()).T\n",
    "sums.rename(index={0:'Sum'}, inplace=True)\n",
    "HS5_sanct_desc = HS5_sanct_desc.describe().append(sums)\n",
    "\n",
    "HS5_sanct_desc.rename(columns={'Sanct_HS5':'Sanctioned', \n",
    "                               'Full_HS5': 'Full', 'Partial_HS5': 'Partial', 'Transitory_HS5': 'PartialToFull', \n",
    "                               'Issue2_HS5': 'Flag 1', 'Issue1_HS5': 'Flag 2'}, inplace=True)\n",
    "\n",
    "HS5_sanct_desc_short = HS5_sanct_desc.loc[['Sum', 'mean', 'count']]"
   ]
  },
  {
   "cell_type": "code",
   "execution_count": 7,
   "metadata": {},
   "outputs": [
    {
     "data": {
      "text/html": [
       "<div>\n",
       "<style scoped>\n",
       "    .dataframe tbody tr th:only-of-type {\n",
       "        vertical-align: middle;\n",
       "    }\n",
       "\n",
       "    .dataframe tbody tr th {\n",
       "        vertical-align: top;\n",
       "    }\n",
       "\n",
       "    .dataframe thead th {\n",
       "        text-align: right;\n",
       "    }\n",
       "</style>\n",
       "<table border=\"1\" class=\"dataframe\">\n",
       "  <thead>\n",
       "    <tr style=\"text-align: right;\">\n",
       "      <th></th>\n",
       "      <th>Sanctioned</th>\n",
       "      <th>Full</th>\n",
       "      <th>Partial</th>\n",
       "      <th>PartialToFull</th>\n",
       "      <th>Similar</th>\n",
       "      <th>Flag 1</th>\n",
       "      <th>Flag 2</th>\n",
       "    </tr>\n",
       "  </thead>\n",
       "  <tbody>\n",
       "    <tr>\n",
       "      <th>Sum</th>\n",
       "      <td>1692.000000</td>\n",
       "      <td>1570.000000</td>\n",
       "      <td>64.000000</td>\n",
       "      <td>58.000000</td>\n",
       "      <td>37.0000</td>\n",
       "      <td>1225.00000</td>\n",
       "      <td>87.000000</td>\n",
       "    </tr>\n",
       "    <tr>\n",
       "      <th>mean</th>\n",
       "      <td>0.315554</td>\n",
       "      <td>0.292801</td>\n",
       "      <td>0.011936</td>\n",
       "      <td>0.010817</td>\n",
       "      <td>0.0069</td>\n",
       "      <td>0.22846</td>\n",
       "      <td>0.016225</td>\n",
       "    </tr>\n",
       "    <tr>\n",
       "      <th>count</th>\n",
       "      <td>5362.000000</td>\n",
       "      <td>5362.000000</td>\n",
       "      <td>5362.000000</td>\n",
       "      <td>5362.000000</td>\n",
       "      <td>5362.0000</td>\n",
       "      <td>5362.00000</td>\n",
       "      <td>5362.000000</td>\n",
       "    </tr>\n",
       "  </tbody>\n",
       "</table>\n",
       "</div>"
      ],
      "text/plain": [
       "        Sanctioned         Full      Partial  PartialToFull    Similar  \\\n",
       "Sum    1692.000000  1570.000000    64.000000      58.000000    37.0000   \n",
       "mean      0.315554     0.292801     0.011936       0.010817     0.0069   \n",
       "count  5362.000000  5362.000000  5362.000000    5362.000000  5362.0000   \n",
       "\n",
       "           Flag 1       Flag 2  \n",
       "Sum    1225.00000    87.000000  \n",
       "mean      0.22846     0.016225  \n",
       "count  5362.00000  5362.000000  "
      ]
     },
     "execution_count": 7,
     "metadata": {},
     "output_type": "execute_result"
    }
   ],
   "source": [
    "HS5_sanct_desc_short.head()"
   ]
  },
  {
   "cell_type": "code",
   "execution_count": 8,
   "metadata": {},
   "outputs": [
    {
     "name": "stdout",
     "output_type": "stream",
     "text": [
      "\\begin{tabular}{lrrrrrrr}\n",
      "\\toprule\n",
      "{} &  Sanctioned &      Full &   Partial &  PartialToFull &   Similar &    Flag 1 &    Flag 2 \\\\\n",
      "\\midrule\n",
      "Sum   &    1692.000 &  1570.000 &    64.000 &         58.000 &    37.000 &  1225.000 &    87.000 \\\\\n",
      "mean  &       0.316 &     0.293 &     0.012 &          0.011 &     0.007 &     0.228 &     0.016 \\\\\n",
      "count &    5362.000 &  5362.000 &  5362.000 &       5362.000 &  5362.000 &  5362.000 &  5362.000 \\\\\n",
      "\\bottomrule\n",
      "\\end{tabular}\n",
      "\n"
     ]
    }
   ],
   "source": [
    "print(round(HS5_sanct_desc_short, 3).to_latex())"
   ]
  },
  {
   "cell_type": "code",
   "execution_count": null,
   "metadata": {},
   "outputs": [],
   "source": []
  },
  {
   "cell_type": "code",
   "execution_count": null,
   "metadata": {},
   "outputs": [],
   "source": []
  },
  {
   "cell_type": "code",
   "execution_count": null,
   "metadata": {},
   "outputs": [],
   "source": []
  }
 ],
 "metadata": {
  "kernelspec": {
   "display_name": "Python 3",
   "language": "python",
   "name": "python3"
  },
  "language_info": {
   "codemirror_mode": {
    "name": "ipython",
    "version": 3
   },
   "file_extension": ".py",
   "mimetype": "text/x-python",
   "name": "python",
   "nbconvert_exporter": "python",
   "pygments_lexer": "ipython3",
   "version": "3.7.6"
  }
 },
 "nbformat": 4,
 "nbformat_minor": 4
}
