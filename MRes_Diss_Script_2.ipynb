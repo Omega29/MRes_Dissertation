{
 "cells": [
  {
   "cell_type": "code",
   "execution_count": 1,
   "metadata": {},
   "outputs": [],
   "source": [
    "import pandas as pd\n",
    "import numpy as np"
   ]
  },
  {
   "cell_type": "code",
   "execution_count": 2,
   "metadata": {},
   "outputs": [
    {
     "data": {
      "text/html": [
       "<div>\n",
       "<style scoped>\n",
       "    .dataframe tbody tr th:only-of-type {\n",
       "        vertical-align: middle;\n",
       "    }\n",
       "\n",
       "    .dataframe tbody tr th {\n",
       "        vertical-align: top;\n",
       "    }\n",
       "\n",
       "    .dataframe thead th {\n",
       "        text-align: right;\n",
       "    }\n",
       "</style>\n",
       "<table border=\"1\" class=\"dataframe\">\n",
       "  <thead>\n",
       "    <tr style=\"text-align: right;\">\n",
       "      <th></th>\n",
       "      <th>From HS2022</th>\n",
       "      <th>To HS2017</th>\n",
       "    </tr>\n",
       "  </thead>\n",
       "  <tbody>\n",
       "    <tr>\n",
       "      <th>0</th>\n",
       "      <td>010121</td>\n",
       "      <td>010121</td>\n",
       "    </tr>\n",
       "    <tr>\n",
       "      <th>1</th>\n",
       "      <td>010129</td>\n",
       "      <td>010129</td>\n",
       "    </tr>\n",
       "  </tbody>\n",
       "</table>\n",
       "</div>"
      ],
      "text/plain": [
       "  From HS2022 To HS2017\n",
       "0      010121    010121\n",
       "1      010129    010129"
      ]
     },
     "execution_count": 2,
     "metadata": {},
     "output_type": "execute_result"
    }
   ],
   "source": [
    "# HS6 to HS5 conversion\n",
    "df = pd.read_excel('/Users/omega_macbookpro/Desktop/International_Trade/Dissertation_MRes/Comtrade/Sanctions Docs/EU/Data/HS2022toHS2017.xlsx', sheet_name='Conversions', dtype={'From HS2022': str, 'To HS2017': str})\n",
    "df_corr = pd.read_excel('/Users/omega_macbookpro/Desktop/International_Trade/Dissertation_MRes/Comtrade/Sanctions Docs/EU/Data/HS2022toHS2017.xlsx', sheet_name='Correlations', dtype={'HS2022': str, 'HS2017': str})\n",
    "df.head(2)\n",
    "#df['From HS2022'].apply(len).unique() #only 6-digit codes"
   ]
  },
  {
   "cell_type": "markdown",
   "metadata": {},
   "source": [
    "#### Correlation analysis"
   ]
  },
  {
   "cell_type": "code",
   "execution_count": 3,
   "metadata": {},
   "outputs": [
    {
     "name": "stdout",
     "output_type": "stream",
     "text": [
      "[\"{'1:1'}\" \"{'n:n', 'n:1'}\" \"{'1:n'}\" \"{'n:1'}\" \"{'n:n'}\"]\n"
     ]
    }
   ],
   "source": [
    "# HS2017 level\n",
    "df_corr_gr = df_corr.groupby(['HS2017'])['Relationship'].agg(list).reset_index()\n",
    "df_corr_gr['Relationship_type'] = df_corr_gr['Relationship'].apply(lambda x: str(set(x)))\n",
    "print(df_corr_gr['Relationship_type'].unique())\n",
    "df_corr_gr['Corr_1:1'] = df_corr_gr['Relationship_type'].apply(lambda x: x == \"{'1:1'}\")\n",
    "df_corr_gr['Corr_n:1_only'] = df_corr_gr['Relationship_type'].apply(lambda x: x == \"{'n:1'}\")\n"
   ]
  },
  {
   "cell_type": "code",
   "execution_count": 4,
   "metadata": {},
   "outputs": [
    {
     "data": {
      "text/plain": [
       "{'1:1'}           4097\n",
       "{'n:n', 'n:1'}    1142\n",
       "{'n:1'}             65\n",
       "{'1:n'}             54\n",
       "{'n:n'}             29\n",
       "Name: Relationship_type, dtype: int64"
      ]
     },
     "execution_count": 4,
     "metadata": {},
     "output_type": "execute_result"
    }
   ],
   "source": [
    "df_corr_gr['Relationship_type'].value_counts() "
   ]
  },
  {
   "cell_type": "markdown",
   "metadata": {},
   "source": [
    "#### Merging HS codes with Import sanctions"
   ]
  },
  {
   "cell_type": "code",
   "execution_count": 3,
   "metadata": {},
   "outputs": [],
   "source": [
    "sanct_exp_refin = pd.read_csv('/Users/omega_macbookpro/Desktop/International_Trade/Dissertation_MRes/Comtrade/Sanctions Docs/EU/Data/Output_Script_1/sanct_imp_refin_v1.csv', index_col=0, dtype={'CN6':str})\n"
   ]
  },
  {
   "cell_type": "code",
   "execution_count": 20,
   "metadata": {},
   "outputs": [
    {
     "name": "stdout",
     "output_type": "stream",
     "text": [
      "4    252\n",
      "6    176\n",
      "2      1\n",
      "Name: CN6_len, dtype: int64\n",
      "-20\n"
     ]
    }
   ],
   "source": [
    "# only 19 6digit codes are not covered by the 4digit codes (1 code is 2digit that's why 19 but not 20).\n",
    "# So the analysis of \"similar\" goods is not promising here.\n",
    "print(sanct_exp_refin['CN6_len'].value_counts())\n",
    "giga = sanct_exp_refin.loc[sanct_exp_refin['CN6_len'] == 4, 'CN6'].unique()\n",
    "print(sanct_exp_refin['CN6'].apply(lambda x: x[:4] in giga).sum() - (252 + 176 + 1))"
   ]
  },
  {
   "cell_type": "code",
   "execution_count": 7,
   "metadata": {},
   "outputs": [],
   "source": [
    "df[sanct_exp_refin.columns] = np.nan\n",
    "\n",
    "sanct_codes = sanct_exp_refin['CN6'].values\n",
    "for i in df.index:\n",
    "    code = df.loc[i, 'From HS2022']\n",
    "    if code in sanct_codes: df.loc[i, sanct_exp_refin.columns] = sanct_exp_refin.loc[sanct_exp_refin['CN6'] == code].squeeze(axis=0)\n",
    "    elif code[:4] in sanct_codes: df.loc[i, sanct_exp_refin.columns] = sanct_exp_refin.loc[sanct_exp_refin['CN6'] == code[:4]].squeeze(axis=0)\n",
    "    elif code[:2] in sanct_codes: df.loc[i, sanct_exp_refin.columns] = sanct_exp_refin.loc[sanct_exp_refin['CN6'] == code[:2]].squeeze(axis=0) \n",
    "    else: df.loc[i, sanct_exp_refin.columns] == np.nan \n",
    "        \n",
    "df['Sanct'] = df['Date'].apply(lambda x: int(x==x))  \n",
    "df['Issue1'] = (df['CN6_len'] < 6) & (df['CN6_Full_code_1-1'] != True)\n",
    "HS6toHS5 = df.copy()"
   ]
  },
  {
   "cell_type": "code",
   "execution_count": 10,
   "metadata": {},
   "outputs": [
    {
     "data": {
      "text/plain": [
       "(87, 13)"
      ]
     },
     "execution_count": 10,
     "metadata": {},
     "output_type": "execute_result"
    }
   ],
   "source": [
    "# select those generated from non fully sanctioned 2 or 4 digit codes, this issue is only for 87 codes on HS6 level\n",
    "df.loc[(df['CN6_len'] < 6) & (df['CN6_Full_code_1-1'] != True)].shape\n",
    "# select non-fully sanctioned 2 or 4 digit codes, this issue is only for 13 codes in cleaned sanctions list\n",
    "sanct_exp_refin.loc[(sanct_exp_refin['CN6_len'] < 6) & (sanct_exp_refin['CN6_Full_code_1-1'] != True)].shape"
   ]
  },
  {
   "cell_type": "code",
   "execution_count": 14,
   "metadata": {},
   "outputs": [
    {
     "data": {
      "text/plain": [
       "24"
      ]
     },
     "execution_count": 14,
     "metadata": {},
     "output_type": "execute_result"
    }
   ],
   "source": [
    "# check that CN6_Full_code_0-1_date_firstpartial always equals to Date for transitions codes\n",
    "(sanct_exp_refin.loc[sanct_exp_refin['CN6_Full_code_0-1_proper'], 'CN6_Full_code_0-1_date_firstpartial'] == sanct_exp_refin.loc[sanct_exp_refin['CN6_Full_code_0-1_proper'], 'Date']).sum()\n"
   ]
  },
  {
   "cell_type": "code",
   "execution_count": 34,
   "metadata": {},
   "outputs": [
    {
     "name": "stderr",
     "output_type": "stream",
     "text": [
      "/Users/omega_macbookpro/opt/anaconda3/lib/python3.7/site-packages/pandas/core/indexing.py:1637: SettingWithCopyWarning:\n",
      "\n",
      "\n",
      "A value is trying to be set on a copy of a slice from a DataFrame\n",
      "\n",
      "See the caveats in the documentation: https://pandas.pydata.org/pandas-docs/stable/user_guide/indexing.html#returning-a-view-versus-a-copy\n",
      "\n"
     ]
    }
   ],
   "source": [
    "df_agg = df.loc[df['Date'].notna()].groupby(['Date'])['From HS2022'].count().reset_index()\n",
    "df_agg['Sanct_prod'] = np.nan\n",
    "\n",
    "# df_agg['Sanct_prod'].loc[0] = df_agg['From HS2022'].loc[0]\n",
    "# for i in df_agg.index[1:]:\n",
    "#     df_agg['Sanct_prod'].loc[i] = df_agg['Sanct_prod'].loc[i-1] + df_agg['From HS2022'].loc[i]\n",
    "    \n",
    "# fully sanctioned codes type of sanctioned codes    \n",
    "df_agg_full = df.loc[(df['Date'].notna()) & (df['CN6_Full_code_1-1'] == True)].groupby(['Date'])['From HS2022'].count().reset_index()\n",
    "df_agg_full['Sanct_prod'] = np.nan\n",
    "\n",
    "df_agg_full['Sanct_prod'].loc[0] = df_agg_full['From HS2022'].loc[0]\n",
    "for i in df_agg_full.index[1:]:\n",
    "    df_agg_full['Sanct_prod'].loc[i] = df_agg_full['Sanct_prod'].loc[i-1] + df_agg_full['From HS2022'].loc[i] \n",
    "    \n",
    "# partially sanctioned codes type of sanctioned codes\n",
    "df_agg_part = df.loc[(df['Date'].notna()) & (df['CN6_Full_code_0-0'] == True)].groupby(['Date'])['From HS2022'].count().reset_index()\n",
    "df_agg_part['Sanct_prod'] = np.nan\n",
    "\n",
    "df_agg_part['Sanct_prod'].loc[0] = df_agg_part['From HS2022'].loc[0]\n",
    "for i in df_agg_part.index[1:]:\n",
    "    df_agg_part['Sanct_prod'].loc[i] = df_agg_part['Sanct_prod'].loc[i-1] + df_agg_part['From HS2022'].loc[i]\n",
    "    \n",
    "# transit sanctioned codes type of sanctioned codes    \n",
    "df_agg_trans = df.loc[(df['Date'].notna()) & (df['CN6_Full_code_0-1_proper'] == True)].groupby(['Date'])['From HS2022'].count().reset_index()\n",
    "df_agg_trans['Sanct_prod'] = np.nan\n",
    "\n",
    "df_agg_trans['Sanct_prod'].loc[0] = df_agg_trans['From HS2022'].loc[0]\n",
    "for i in df_agg_trans.index[1:]:\n",
    "    df_agg_trans['Sanct_prod'].loc[i] = df_agg_trans['Sanct_prod'].loc[i-1] + df_agg_trans['From HS2022'].loc[i] \n",
    "    \n",
    "    \n",
    "# merge to one table    \n",
    "df_agg_m = pd.merge(df_agg_full, df_agg_part, on='Date', how='outer')  \n",
    "df_agg_m = pd.merge(df_agg_m, df_agg_trans, on='Date', how='outer')\n",
    "\n",
    "df_agg_m.sort_values(by=['Date'], inplace=True)\n",
    "df_agg_m.fillna(method='ffill', inplace=True)\n",
    "df_agg_m.rename(columns={'Sanct_prod_x':'Full sanct.', 'Sanct_prod_y':'Partial sanct.', 'Sanct_prod':'Transitory sanct.'}, inplace=True)\n",
    "df_agg_m.set_index('Date', inplace=True)    \n",
    "\n"
   ]
  },
  {
   "cell_type": "code",
   "execution_count": 39,
   "metadata": {},
   "outputs": [
    {
     "data": {
      "application/vnd.plotly.v1+json": {
       "config": {
        "plotlyServerURL": "https://plot.ly"
       },
       "data": [
        {
         "fillpattern": {
          "shape": ""
         },
         "hovertemplate": "Type=Full sanct.<br>Date=%{x}<br>Number of codes=%{y}<extra></extra>",
         "legendgroup": "Full sanct.",
         "line": {
          "color": "#636efa"
         },
         "marker": {
          "symbol": "circle"
         },
         "mode": "lines",
         "name": "Full sanct.",
         "orientation": "v",
         "showlegend": true,
         "stackgroup": "1",
         "type": "scatter",
         "x": [
          "2022-03-15",
          "2022-04-08",
          "2022-06-03",
          "2022-06-21",
          "2022-06-22",
          "2022-10-06",
          "2022-12-05",
          "2023-02-05",
          "2023-02-25",
          "2023-06-23",
          "2023-12-18",
          "2024-01-01"
         ],
         "xaxis": "x",
         "y": [
          127,
          430,
          440,
          444,
          445,
          1556,
          1556,
          1561,
          1571,
          1648,
          1689,
          1695
         ],
         "yaxis": "y"
        },
        {
         "fillpattern": {
          "shape": ""
         },
         "hovertemplate": "Type=Partial sanct.<br>Date=%{x}<br>Number of codes=%{y}<extra></extra>",
         "legendgroup": "Partial sanct.",
         "line": {
          "color": "#EF553B"
         },
         "marker": {
          "symbol": "circle"
         },
         "mode": "lines",
         "name": "Partial sanct.",
         "orientation": "v",
         "showlegend": true,
         "stackgroup": "1",
         "type": "scatter",
         "x": [
          "2022-04-08",
          "2022-06-03",
          "2022-06-21",
          "2022-06-22",
          "2022-10-06",
          "2022-12-05",
          "2023-02-05",
          "2023-02-25",
          "2023-06-23",
          "2023-12-18",
          "2024-01-01"
         ],
         "xaxis": "x",
         "y": [
          32,
          32,
          32,
          39,
          45,
          46,
          46,
          46,
          46,
          49,
          56
         ],
         "yaxis": "y"
        },
        {
         "fillpattern": {
          "shape": ""
         },
         "hovertemplate": "Type=Transitory sanct.<br>Date=%{x}<br>Number of codes=%{y}<extra></extra>",
         "legendgroup": "Transitory sanct.",
         "line": {
          "color": "#00cc96"
         },
         "marker": {
          "symbol": "circle"
         },
         "mode": "lines",
         "name": "Transitory sanct.",
         "orientation": "v",
         "showlegend": true,
         "stackgroup": "1",
         "type": "scatter",
         "x": [
          "2022-03-15",
          "2022-04-08",
          "2022-06-03",
          "2022-06-21",
          "2022-06-22",
          "2022-10-06",
          "2022-12-05",
          "2023-02-05",
          "2023-02-25",
          "2023-06-23",
          "2023-12-18",
          "2024-01-01"
         ],
         "xaxis": "x",
         "y": [
          21,
          41,
          41,
          41,
          41,
          41,
          41,
          41,
          56,
          56,
          56,
          56
         ],
         "yaxis": "y"
        }
       ],
       "layout": {
        "legend": {
         "title": {
          "text": "Type"
         },
         "tracegroupgap": 0
        },
        "margin": {
         "t": 60
        },
        "template": {
         "data": {
          "bar": [
           {
            "error_x": {
             "color": "#2a3f5f"
            },
            "error_y": {
             "color": "#2a3f5f"
            },
            "marker": {
             "line": {
              "color": "#E5ECF6",
              "width": 0.5
             },
             "pattern": {
              "fillmode": "overlay",
              "size": 10,
              "solidity": 0.2
             }
            },
            "type": "bar"
           }
          ],
          "barpolar": [
           {
            "marker": {
             "line": {
              "color": "#E5ECF6",
              "width": 0.5
             },
             "pattern": {
              "fillmode": "overlay",
              "size": 10,
              "solidity": 0.2
             }
            },
            "type": "barpolar"
           }
          ],
          "carpet": [
           {
            "aaxis": {
             "endlinecolor": "#2a3f5f",
             "gridcolor": "white",
             "linecolor": "white",
             "minorgridcolor": "white",
             "startlinecolor": "#2a3f5f"
            },
            "baxis": {
             "endlinecolor": "#2a3f5f",
             "gridcolor": "white",
             "linecolor": "white",
             "minorgridcolor": "white",
             "startlinecolor": "#2a3f5f"
            },
            "type": "carpet"
           }
          ],
          "choropleth": [
           {
            "colorbar": {
             "outlinewidth": 0,
             "ticks": ""
            },
            "type": "choropleth"
           }
          ],
          "contour": [
           {
            "colorbar": {
             "outlinewidth": 0,
             "ticks": ""
            },
            "colorscale": [
             [
              0,
              "#0d0887"
             ],
             [
              0.1111111111111111,
              "#46039f"
             ],
             [
              0.2222222222222222,
              "#7201a8"
             ],
             [
              0.3333333333333333,
              "#9c179e"
             ],
             [
              0.4444444444444444,
              "#bd3786"
             ],
             [
              0.5555555555555556,
              "#d8576b"
             ],
             [
              0.6666666666666666,
              "#ed7953"
             ],
             [
              0.7777777777777778,
              "#fb9f3a"
             ],
             [
              0.8888888888888888,
              "#fdca26"
             ],
             [
              1,
              "#f0f921"
             ]
            ],
            "type": "contour"
           }
          ],
          "contourcarpet": [
           {
            "colorbar": {
             "outlinewidth": 0,
             "ticks": ""
            },
            "type": "contourcarpet"
           }
          ],
          "heatmap": [
           {
            "colorbar": {
             "outlinewidth": 0,
             "ticks": ""
            },
            "colorscale": [
             [
              0,
              "#0d0887"
             ],
             [
              0.1111111111111111,
              "#46039f"
             ],
             [
              0.2222222222222222,
              "#7201a8"
             ],
             [
              0.3333333333333333,
              "#9c179e"
             ],
             [
              0.4444444444444444,
              "#bd3786"
             ],
             [
              0.5555555555555556,
              "#d8576b"
             ],
             [
              0.6666666666666666,
              "#ed7953"
             ],
             [
              0.7777777777777778,
              "#fb9f3a"
             ],
             [
              0.8888888888888888,
              "#fdca26"
             ],
             [
              1,
              "#f0f921"
             ]
            ],
            "type": "heatmap"
           }
          ],
          "heatmapgl": [
           {
            "colorbar": {
             "outlinewidth": 0,
             "ticks": ""
            },
            "colorscale": [
             [
              0,
              "#0d0887"
             ],
             [
              0.1111111111111111,
              "#46039f"
             ],
             [
              0.2222222222222222,
              "#7201a8"
             ],
             [
              0.3333333333333333,
              "#9c179e"
             ],
             [
              0.4444444444444444,
              "#bd3786"
             ],
             [
              0.5555555555555556,
              "#d8576b"
             ],
             [
              0.6666666666666666,
              "#ed7953"
             ],
             [
              0.7777777777777778,
              "#fb9f3a"
             ],
             [
              0.8888888888888888,
              "#fdca26"
             ],
             [
              1,
              "#f0f921"
             ]
            ],
            "type": "heatmapgl"
           }
          ],
          "histogram": [
           {
            "marker": {
             "pattern": {
              "fillmode": "overlay",
              "size": 10,
              "solidity": 0.2
             }
            },
            "type": "histogram"
           }
          ],
          "histogram2d": [
           {
            "colorbar": {
             "outlinewidth": 0,
             "ticks": ""
            },
            "colorscale": [
             [
              0,
              "#0d0887"
             ],
             [
              0.1111111111111111,
              "#46039f"
             ],
             [
              0.2222222222222222,
              "#7201a8"
             ],
             [
              0.3333333333333333,
              "#9c179e"
             ],
             [
              0.4444444444444444,
              "#bd3786"
             ],
             [
              0.5555555555555556,
              "#d8576b"
             ],
             [
              0.6666666666666666,
              "#ed7953"
             ],
             [
              0.7777777777777778,
              "#fb9f3a"
             ],
             [
              0.8888888888888888,
              "#fdca26"
             ],
             [
              1,
              "#f0f921"
             ]
            ],
            "type": "histogram2d"
           }
          ],
          "histogram2dcontour": [
           {
            "colorbar": {
             "outlinewidth": 0,
             "ticks": ""
            },
            "colorscale": [
             [
              0,
              "#0d0887"
             ],
             [
              0.1111111111111111,
              "#46039f"
             ],
             [
              0.2222222222222222,
              "#7201a8"
             ],
             [
              0.3333333333333333,
              "#9c179e"
             ],
             [
              0.4444444444444444,
              "#bd3786"
             ],
             [
              0.5555555555555556,
              "#d8576b"
             ],
             [
              0.6666666666666666,
              "#ed7953"
             ],
             [
              0.7777777777777778,
              "#fb9f3a"
             ],
             [
              0.8888888888888888,
              "#fdca26"
             ],
             [
              1,
              "#f0f921"
             ]
            ],
            "type": "histogram2dcontour"
           }
          ],
          "mesh3d": [
           {
            "colorbar": {
             "outlinewidth": 0,
             "ticks": ""
            },
            "type": "mesh3d"
           }
          ],
          "parcoords": [
           {
            "line": {
             "colorbar": {
              "outlinewidth": 0,
              "ticks": ""
             }
            },
            "type": "parcoords"
           }
          ],
          "pie": [
           {
            "automargin": true,
            "type": "pie"
           }
          ],
          "scatter": [
           {
            "fillpattern": {
             "fillmode": "overlay",
             "size": 10,
             "solidity": 0.2
            },
            "type": "scatter"
           }
          ],
          "scatter3d": [
           {
            "line": {
             "colorbar": {
              "outlinewidth": 0,
              "ticks": ""
             }
            },
            "marker": {
             "colorbar": {
              "outlinewidth": 0,
              "ticks": ""
             }
            },
            "type": "scatter3d"
           }
          ],
          "scattercarpet": [
           {
            "marker": {
             "colorbar": {
              "outlinewidth": 0,
              "ticks": ""
             }
            },
            "type": "scattercarpet"
           }
          ],
          "scattergeo": [
           {
            "marker": {
             "colorbar": {
              "outlinewidth": 0,
              "ticks": ""
             }
            },
            "type": "scattergeo"
           }
          ],
          "scattergl": [
           {
            "marker": {
             "colorbar": {
              "outlinewidth": 0,
              "ticks": ""
             }
            },
            "type": "scattergl"
           }
          ],
          "scattermapbox": [
           {
            "marker": {
             "colorbar": {
              "outlinewidth": 0,
              "ticks": ""
             }
            },
            "type": "scattermapbox"
           }
          ],
          "scatterpolar": [
           {
            "marker": {
             "colorbar": {
              "outlinewidth": 0,
              "ticks": ""
             }
            },
            "type": "scatterpolar"
           }
          ],
          "scatterpolargl": [
           {
            "marker": {
             "colorbar": {
              "outlinewidth": 0,
              "ticks": ""
             }
            },
            "type": "scatterpolargl"
           }
          ],
          "scatterternary": [
           {
            "marker": {
             "colorbar": {
              "outlinewidth": 0,
              "ticks": ""
             }
            },
            "type": "scatterternary"
           }
          ],
          "surface": [
           {
            "colorbar": {
             "outlinewidth": 0,
             "ticks": ""
            },
            "colorscale": [
             [
              0,
              "#0d0887"
             ],
             [
              0.1111111111111111,
              "#46039f"
             ],
             [
              0.2222222222222222,
              "#7201a8"
             ],
             [
              0.3333333333333333,
              "#9c179e"
             ],
             [
              0.4444444444444444,
              "#bd3786"
             ],
             [
              0.5555555555555556,
              "#d8576b"
             ],
             [
              0.6666666666666666,
              "#ed7953"
             ],
             [
              0.7777777777777778,
              "#fb9f3a"
             ],
             [
              0.8888888888888888,
              "#fdca26"
             ],
             [
              1,
              "#f0f921"
             ]
            ],
            "type": "surface"
           }
          ],
          "table": [
           {
            "cells": {
             "fill": {
              "color": "#EBF0F8"
             },
             "line": {
              "color": "white"
             }
            },
            "header": {
             "fill": {
              "color": "#C8D4E3"
             },
             "line": {
              "color": "white"
             }
            },
            "type": "table"
           }
          ]
         },
         "layout": {
          "annotationdefaults": {
           "arrowcolor": "#2a3f5f",
           "arrowhead": 0,
           "arrowwidth": 1
          },
          "autotypenumbers": "strict",
          "coloraxis": {
           "colorbar": {
            "outlinewidth": 0,
            "ticks": ""
           }
          },
          "colorscale": {
           "diverging": [
            [
             0,
             "#8e0152"
            ],
            [
             0.1,
             "#c51b7d"
            ],
            [
             0.2,
             "#de77ae"
            ],
            [
             0.3,
             "#f1b6da"
            ],
            [
             0.4,
             "#fde0ef"
            ],
            [
             0.5,
             "#f7f7f7"
            ],
            [
             0.6,
             "#e6f5d0"
            ],
            [
             0.7,
             "#b8e186"
            ],
            [
             0.8,
             "#7fbc41"
            ],
            [
             0.9,
             "#4d9221"
            ],
            [
             1,
             "#276419"
            ]
           ],
           "sequential": [
            [
             0,
             "#0d0887"
            ],
            [
             0.1111111111111111,
             "#46039f"
            ],
            [
             0.2222222222222222,
             "#7201a8"
            ],
            [
             0.3333333333333333,
             "#9c179e"
            ],
            [
             0.4444444444444444,
             "#bd3786"
            ],
            [
             0.5555555555555556,
             "#d8576b"
            ],
            [
             0.6666666666666666,
             "#ed7953"
            ],
            [
             0.7777777777777778,
             "#fb9f3a"
            ],
            [
             0.8888888888888888,
             "#fdca26"
            ],
            [
             1,
             "#f0f921"
            ]
           ],
           "sequentialminus": [
            [
             0,
             "#0d0887"
            ],
            [
             0.1111111111111111,
             "#46039f"
            ],
            [
             0.2222222222222222,
             "#7201a8"
            ],
            [
             0.3333333333333333,
             "#9c179e"
            ],
            [
             0.4444444444444444,
             "#bd3786"
            ],
            [
             0.5555555555555556,
             "#d8576b"
            ],
            [
             0.6666666666666666,
             "#ed7953"
            ],
            [
             0.7777777777777778,
             "#fb9f3a"
            ],
            [
             0.8888888888888888,
             "#fdca26"
            ],
            [
             1,
             "#f0f921"
            ]
           ]
          },
          "colorway": [
           "#636efa",
           "#EF553B",
           "#00cc96",
           "#ab63fa",
           "#FFA15A",
           "#19d3f3",
           "#FF6692",
           "#B6E880",
           "#FF97FF",
           "#FECB52"
          ],
          "font": {
           "color": "#2a3f5f"
          },
          "geo": {
           "bgcolor": "white",
           "lakecolor": "white",
           "landcolor": "#E5ECF6",
           "showlakes": true,
           "showland": true,
           "subunitcolor": "white"
          },
          "hoverlabel": {
           "align": "left"
          },
          "hovermode": "closest",
          "mapbox": {
           "style": "light"
          },
          "paper_bgcolor": "white",
          "plot_bgcolor": "#E5ECF6",
          "polar": {
           "angularaxis": {
            "gridcolor": "white",
            "linecolor": "white",
            "ticks": ""
           },
           "bgcolor": "#E5ECF6",
           "radialaxis": {
            "gridcolor": "white",
            "linecolor": "white",
            "ticks": ""
           }
          },
          "scene": {
           "xaxis": {
            "backgroundcolor": "#E5ECF6",
            "gridcolor": "white",
            "gridwidth": 2,
            "linecolor": "white",
            "showbackground": true,
            "ticks": "",
            "zerolinecolor": "white"
           },
           "yaxis": {
            "backgroundcolor": "#E5ECF6",
            "gridcolor": "white",
            "gridwidth": 2,
            "linecolor": "white",
            "showbackground": true,
            "ticks": "",
            "zerolinecolor": "white"
           },
           "zaxis": {
            "backgroundcolor": "#E5ECF6",
            "gridcolor": "white",
            "gridwidth": 2,
            "linecolor": "white",
            "showbackground": true,
            "ticks": "",
            "zerolinecolor": "white"
           }
          },
          "shapedefaults": {
           "line": {
            "color": "#2a3f5f"
           }
          },
          "ternary": {
           "aaxis": {
            "gridcolor": "white",
            "linecolor": "white",
            "ticks": ""
           },
           "baxis": {
            "gridcolor": "white",
            "linecolor": "white",
            "ticks": ""
           },
           "bgcolor": "#E5ECF6",
           "caxis": {
            "gridcolor": "white",
            "linecolor": "white",
            "ticks": ""
           }
          },
          "title": {
           "x": 0.05
          },
          "xaxis": {
           "automargin": true,
           "gridcolor": "white",
           "linecolor": "white",
           "ticks": "",
           "title": {
            "standoff": 15
           },
           "zerolinecolor": "white",
           "zerolinewidth": 2
          },
          "yaxis": {
           "automargin": true,
           "gridcolor": "white",
           "linecolor": "white",
           "ticks": "",
           "title": {
            "standoff": 15
           },
           "zerolinecolor": "white",
           "zerolinewidth": 2
          }
         }
        },
        "xaxis": {
         "anchor": "y",
         "domain": [
          0,
          1
         ],
         "title": {
          "text": "Date"
         }
        },
        "yaxis": {
         "anchor": "x",
         "domain": [
          0,
          1
         ],
         "title": {
          "text": "Number of codes"
         }
        }
       }
      },
      "text/html": [
       "<div>                            <div id=\"a32c782f-f713-4645-ba31-0c2d7e90890d\" class=\"plotly-graph-div\" style=\"height:525px; width:100%;\"></div>            <script type=\"text/javascript\">                require([\"plotly\"], function(Plotly) {                    window.PLOTLYENV=window.PLOTLYENV || {};                                    if (document.getElementById(\"a32c782f-f713-4645-ba31-0c2d7e90890d\")) {                    Plotly.newPlot(                        \"a32c782f-f713-4645-ba31-0c2d7e90890d\",                        [{\"fillpattern\":{\"shape\":\"\"},\"hovertemplate\":\"Type=Full sanct.\\u003cbr\\u003eDate=%{x}\\u003cbr\\u003eNumber of codes=%{y}\\u003cextra\\u003e\\u003c\\u002fextra\\u003e\",\"legendgroup\":\"Full sanct.\",\"line\":{\"color\":\"#636efa\"},\"marker\":{\"symbol\":\"circle\"},\"mode\":\"lines\",\"name\":\"Full sanct.\",\"orientation\":\"v\",\"showlegend\":true,\"stackgroup\":\"1\",\"x\":[\"2022-03-15\",\"2022-04-08\",\"2022-06-03\",\"2022-06-21\",\"2022-06-22\",\"2022-10-06\",\"2022-12-05\",\"2023-02-05\",\"2023-02-25\",\"2023-06-23\",\"2023-12-18\",\"2024-01-01\"],\"xaxis\":\"x\",\"y\":[127.0,430.0,440.0,444.0,445.0,1556.0,1556.0,1561.0,1571.0,1648.0,1689.0,1695.0],\"yaxis\":\"y\",\"type\":\"scatter\"},{\"fillpattern\":{\"shape\":\"\"},\"hovertemplate\":\"Type=Partial sanct.\\u003cbr\\u003eDate=%{x}\\u003cbr\\u003eNumber of codes=%{y}\\u003cextra\\u003e\\u003c\\u002fextra\\u003e\",\"legendgroup\":\"Partial sanct.\",\"line\":{\"color\":\"#EF553B\"},\"marker\":{\"symbol\":\"circle\"},\"mode\":\"lines\",\"name\":\"Partial sanct.\",\"orientation\":\"v\",\"showlegend\":true,\"stackgroup\":\"1\",\"x\":[\"2022-04-08\",\"2022-06-03\",\"2022-06-21\",\"2022-06-22\",\"2022-10-06\",\"2022-12-05\",\"2023-02-05\",\"2023-02-25\",\"2023-06-23\",\"2023-12-18\",\"2024-01-01\"],\"xaxis\":\"x\",\"y\":[32.0,32.0,32.0,39.0,45.0,46.0,46.0,46.0,46.0,49.0,56.0],\"yaxis\":\"y\",\"type\":\"scatter\"},{\"fillpattern\":{\"shape\":\"\"},\"hovertemplate\":\"Type=Transitory sanct.\\u003cbr\\u003eDate=%{x}\\u003cbr\\u003eNumber of codes=%{y}\\u003cextra\\u003e\\u003c\\u002fextra\\u003e\",\"legendgroup\":\"Transitory sanct.\",\"line\":{\"color\":\"#00cc96\"},\"marker\":{\"symbol\":\"circle\"},\"mode\":\"lines\",\"name\":\"Transitory sanct.\",\"orientation\":\"v\",\"showlegend\":true,\"stackgroup\":\"1\",\"x\":[\"2022-03-15\",\"2022-04-08\",\"2022-06-03\",\"2022-06-21\",\"2022-06-22\",\"2022-10-06\",\"2022-12-05\",\"2023-02-05\",\"2023-02-25\",\"2023-06-23\",\"2023-12-18\",\"2024-01-01\"],\"xaxis\":\"x\",\"y\":[21.0,41.0,41.0,41.0,41.0,41.0,41.0,41.0,56.0,56.0,56.0,56.0],\"yaxis\":\"y\",\"type\":\"scatter\"}],                        {\"template\":{\"data\":{\"histogram2dcontour\":[{\"type\":\"histogram2dcontour\",\"colorbar\":{\"outlinewidth\":0,\"ticks\":\"\"},\"colorscale\":[[0.0,\"#0d0887\"],[0.1111111111111111,\"#46039f\"],[0.2222222222222222,\"#7201a8\"],[0.3333333333333333,\"#9c179e\"],[0.4444444444444444,\"#bd3786\"],[0.5555555555555556,\"#d8576b\"],[0.6666666666666666,\"#ed7953\"],[0.7777777777777778,\"#fb9f3a\"],[0.8888888888888888,\"#fdca26\"],[1.0,\"#f0f921\"]]}],\"choropleth\":[{\"type\":\"choropleth\",\"colorbar\":{\"outlinewidth\":0,\"ticks\":\"\"}}],\"histogram2d\":[{\"type\":\"histogram2d\",\"colorbar\":{\"outlinewidth\":0,\"ticks\":\"\"},\"colorscale\":[[0.0,\"#0d0887\"],[0.1111111111111111,\"#46039f\"],[0.2222222222222222,\"#7201a8\"],[0.3333333333333333,\"#9c179e\"],[0.4444444444444444,\"#bd3786\"],[0.5555555555555556,\"#d8576b\"],[0.6666666666666666,\"#ed7953\"],[0.7777777777777778,\"#fb9f3a\"],[0.8888888888888888,\"#fdca26\"],[1.0,\"#f0f921\"]]}],\"heatmap\":[{\"type\":\"heatmap\",\"colorbar\":{\"outlinewidth\":0,\"ticks\":\"\"},\"colorscale\":[[0.0,\"#0d0887\"],[0.1111111111111111,\"#46039f\"],[0.2222222222222222,\"#7201a8\"],[0.3333333333333333,\"#9c179e\"],[0.4444444444444444,\"#bd3786\"],[0.5555555555555556,\"#d8576b\"],[0.6666666666666666,\"#ed7953\"],[0.7777777777777778,\"#fb9f3a\"],[0.8888888888888888,\"#fdca26\"],[1.0,\"#f0f921\"]]}],\"heatmapgl\":[{\"type\":\"heatmapgl\",\"colorbar\":{\"outlinewidth\":0,\"ticks\":\"\"},\"colorscale\":[[0.0,\"#0d0887\"],[0.1111111111111111,\"#46039f\"],[0.2222222222222222,\"#7201a8\"],[0.3333333333333333,\"#9c179e\"],[0.4444444444444444,\"#bd3786\"],[0.5555555555555556,\"#d8576b\"],[0.6666666666666666,\"#ed7953\"],[0.7777777777777778,\"#fb9f3a\"],[0.8888888888888888,\"#fdca26\"],[1.0,\"#f0f921\"]]}],\"contourcarpet\":[{\"type\":\"contourcarpet\",\"colorbar\":{\"outlinewidth\":0,\"ticks\":\"\"}}],\"contour\":[{\"type\":\"contour\",\"colorbar\":{\"outlinewidth\":0,\"ticks\":\"\"},\"colorscale\":[[0.0,\"#0d0887\"],[0.1111111111111111,\"#46039f\"],[0.2222222222222222,\"#7201a8\"],[0.3333333333333333,\"#9c179e\"],[0.4444444444444444,\"#bd3786\"],[0.5555555555555556,\"#d8576b\"],[0.6666666666666666,\"#ed7953\"],[0.7777777777777778,\"#fb9f3a\"],[0.8888888888888888,\"#fdca26\"],[1.0,\"#f0f921\"]]}],\"surface\":[{\"type\":\"surface\",\"colorbar\":{\"outlinewidth\":0,\"ticks\":\"\"},\"colorscale\":[[0.0,\"#0d0887\"],[0.1111111111111111,\"#46039f\"],[0.2222222222222222,\"#7201a8\"],[0.3333333333333333,\"#9c179e\"],[0.4444444444444444,\"#bd3786\"],[0.5555555555555556,\"#d8576b\"],[0.6666666666666666,\"#ed7953\"],[0.7777777777777778,\"#fb9f3a\"],[0.8888888888888888,\"#fdca26\"],[1.0,\"#f0f921\"]]}],\"mesh3d\":[{\"type\":\"mesh3d\",\"colorbar\":{\"outlinewidth\":0,\"ticks\":\"\"}}],\"scatter\":[{\"fillpattern\":{\"fillmode\":\"overlay\",\"size\":10,\"solidity\":0.2},\"type\":\"scatter\"}],\"parcoords\":[{\"type\":\"parcoords\",\"line\":{\"colorbar\":{\"outlinewidth\":0,\"ticks\":\"\"}}}],\"scatterpolargl\":[{\"type\":\"scatterpolargl\",\"marker\":{\"colorbar\":{\"outlinewidth\":0,\"ticks\":\"\"}}}],\"bar\":[{\"error_x\":{\"color\":\"#2a3f5f\"},\"error_y\":{\"color\":\"#2a3f5f\"},\"marker\":{\"line\":{\"color\":\"#E5ECF6\",\"width\":0.5},\"pattern\":{\"fillmode\":\"overlay\",\"size\":10,\"solidity\":0.2}},\"type\":\"bar\"}],\"scattergeo\":[{\"type\":\"scattergeo\",\"marker\":{\"colorbar\":{\"outlinewidth\":0,\"ticks\":\"\"}}}],\"scatterpolar\":[{\"type\":\"scatterpolar\",\"marker\":{\"colorbar\":{\"outlinewidth\":0,\"ticks\":\"\"}}}],\"histogram\":[{\"marker\":{\"pattern\":{\"fillmode\":\"overlay\",\"size\":10,\"solidity\":0.2}},\"type\":\"histogram\"}],\"scattergl\":[{\"type\":\"scattergl\",\"marker\":{\"colorbar\":{\"outlinewidth\":0,\"ticks\":\"\"}}}],\"scatter3d\":[{\"type\":\"scatter3d\",\"line\":{\"colorbar\":{\"outlinewidth\":0,\"ticks\":\"\"}},\"marker\":{\"colorbar\":{\"outlinewidth\":0,\"ticks\":\"\"}}}],\"scattermapbox\":[{\"type\":\"scattermapbox\",\"marker\":{\"colorbar\":{\"outlinewidth\":0,\"ticks\":\"\"}}}],\"scatterternary\":[{\"type\":\"scatterternary\",\"marker\":{\"colorbar\":{\"outlinewidth\":0,\"ticks\":\"\"}}}],\"scattercarpet\":[{\"type\":\"scattercarpet\",\"marker\":{\"colorbar\":{\"outlinewidth\":0,\"ticks\":\"\"}}}],\"carpet\":[{\"aaxis\":{\"endlinecolor\":\"#2a3f5f\",\"gridcolor\":\"white\",\"linecolor\":\"white\",\"minorgridcolor\":\"white\",\"startlinecolor\":\"#2a3f5f\"},\"baxis\":{\"endlinecolor\":\"#2a3f5f\",\"gridcolor\":\"white\",\"linecolor\":\"white\",\"minorgridcolor\":\"white\",\"startlinecolor\":\"#2a3f5f\"},\"type\":\"carpet\"}],\"table\":[{\"cells\":{\"fill\":{\"color\":\"#EBF0F8\"},\"line\":{\"color\":\"white\"}},\"header\":{\"fill\":{\"color\":\"#C8D4E3\"},\"line\":{\"color\":\"white\"}},\"type\":\"table\"}],\"barpolar\":[{\"marker\":{\"line\":{\"color\":\"#E5ECF6\",\"width\":0.5},\"pattern\":{\"fillmode\":\"overlay\",\"size\":10,\"solidity\":0.2}},\"type\":\"barpolar\"}],\"pie\":[{\"automargin\":true,\"type\":\"pie\"}]},\"layout\":{\"autotypenumbers\":\"strict\",\"colorway\":[\"#636efa\",\"#EF553B\",\"#00cc96\",\"#ab63fa\",\"#FFA15A\",\"#19d3f3\",\"#FF6692\",\"#B6E880\",\"#FF97FF\",\"#FECB52\"],\"font\":{\"color\":\"#2a3f5f\"},\"hovermode\":\"closest\",\"hoverlabel\":{\"align\":\"left\"},\"paper_bgcolor\":\"white\",\"plot_bgcolor\":\"#E5ECF6\",\"polar\":{\"bgcolor\":\"#E5ECF6\",\"angularaxis\":{\"gridcolor\":\"white\",\"linecolor\":\"white\",\"ticks\":\"\"},\"radialaxis\":{\"gridcolor\":\"white\",\"linecolor\":\"white\",\"ticks\":\"\"}},\"ternary\":{\"bgcolor\":\"#E5ECF6\",\"aaxis\":{\"gridcolor\":\"white\",\"linecolor\":\"white\",\"ticks\":\"\"},\"baxis\":{\"gridcolor\":\"white\",\"linecolor\":\"white\",\"ticks\":\"\"},\"caxis\":{\"gridcolor\":\"white\",\"linecolor\":\"white\",\"ticks\":\"\"}},\"coloraxis\":{\"colorbar\":{\"outlinewidth\":0,\"ticks\":\"\"}},\"colorscale\":{\"sequential\":[[0.0,\"#0d0887\"],[0.1111111111111111,\"#46039f\"],[0.2222222222222222,\"#7201a8\"],[0.3333333333333333,\"#9c179e\"],[0.4444444444444444,\"#bd3786\"],[0.5555555555555556,\"#d8576b\"],[0.6666666666666666,\"#ed7953\"],[0.7777777777777778,\"#fb9f3a\"],[0.8888888888888888,\"#fdca26\"],[1.0,\"#f0f921\"]],\"sequentialminus\":[[0.0,\"#0d0887\"],[0.1111111111111111,\"#46039f\"],[0.2222222222222222,\"#7201a8\"],[0.3333333333333333,\"#9c179e\"],[0.4444444444444444,\"#bd3786\"],[0.5555555555555556,\"#d8576b\"],[0.6666666666666666,\"#ed7953\"],[0.7777777777777778,\"#fb9f3a\"],[0.8888888888888888,\"#fdca26\"],[1.0,\"#f0f921\"]],\"diverging\":[[0,\"#8e0152\"],[0.1,\"#c51b7d\"],[0.2,\"#de77ae\"],[0.3,\"#f1b6da\"],[0.4,\"#fde0ef\"],[0.5,\"#f7f7f7\"],[0.6,\"#e6f5d0\"],[0.7,\"#b8e186\"],[0.8,\"#7fbc41\"],[0.9,\"#4d9221\"],[1,\"#276419\"]]},\"xaxis\":{\"gridcolor\":\"white\",\"linecolor\":\"white\",\"ticks\":\"\",\"title\":{\"standoff\":15},\"zerolinecolor\":\"white\",\"automargin\":true,\"zerolinewidth\":2},\"yaxis\":{\"gridcolor\":\"white\",\"linecolor\":\"white\",\"ticks\":\"\",\"title\":{\"standoff\":15},\"zerolinecolor\":\"white\",\"automargin\":true,\"zerolinewidth\":2},\"scene\":{\"xaxis\":{\"backgroundcolor\":\"#E5ECF6\",\"gridcolor\":\"white\",\"linecolor\":\"white\",\"showbackground\":true,\"ticks\":\"\",\"zerolinecolor\":\"white\",\"gridwidth\":2},\"yaxis\":{\"backgroundcolor\":\"#E5ECF6\",\"gridcolor\":\"white\",\"linecolor\":\"white\",\"showbackground\":true,\"ticks\":\"\",\"zerolinecolor\":\"white\",\"gridwidth\":2},\"zaxis\":{\"backgroundcolor\":\"#E5ECF6\",\"gridcolor\":\"white\",\"linecolor\":\"white\",\"showbackground\":true,\"ticks\":\"\",\"zerolinecolor\":\"white\",\"gridwidth\":2}},\"shapedefaults\":{\"line\":{\"color\":\"#2a3f5f\"}},\"annotationdefaults\":{\"arrowcolor\":\"#2a3f5f\",\"arrowhead\":0,\"arrowwidth\":1},\"geo\":{\"bgcolor\":\"white\",\"landcolor\":\"#E5ECF6\",\"subunitcolor\":\"white\",\"showland\":true,\"showlakes\":true,\"lakecolor\":\"white\"},\"title\":{\"x\":0.05},\"mapbox\":{\"style\":\"light\"}}},\"xaxis\":{\"anchor\":\"y\",\"domain\":[0.0,1.0],\"title\":{\"text\":\"Date\"}},\"yaxis\":{\"anchor\":\"x\",\"domain\":[0.0,1.0],\"title\":{\"text\":\"Number of codes\"}},\"legend\":{\"title\":{\"text\":\"Type\"},\"tracegroupgap\":0},\"margin\":{\"t\":60}},                        {\"responsive\": true}                    ).then(function(){\n",
       "                            \n",
       "var gd = document.getElementById('a32c782f-f713-4645-ba31-0c2d7e90890d');\n",
       "var x = new MutationObserver(function (mutations, observer) {{\n",
       "        var display = window.getComputedStyle(gd).display;\n",
       "        if (!display || display === 'none') {{\n",
       "            console.log([gd, 'removed!']);\n",
       "            Plotly.purge(gd);\n",
       "            observer.disconnect();\n",
       "        }}\n",
       "}});\n",
       "\n",
       "// Listen for the removal of the full notebook cells\n",
       "var notebookContainer = gd.closest('#notebook-container');\n",
       "if (notebookContainer) {{\n",
       "    x.observe(notebookContainer, {childList: true});\n",
       "}}\n",
       "\n",
       "// Listen for the clearing of the current output cell\n",
       "var outputEl = gd.closest('.output');\n",
       "if (outputEl) {{\n",
       "    x.observe(outputEl, {childList: true});\n",
       "}}\n",
       "\n",
       "                        })                };                });            </script>        </div>"
      ]
     },
     "metadata": {},
     "output_type": "display_data"
    }
   ],
   "source": [
    "import plotly.express as px\n",
    "\n",
    "plot1 = df_agg_m[['Full sanct.', 'Partial sanct.', 'Transitory sanct.']].stack().reset_index()\n",
    "plot1.rename(columns={'level_1':'Type', 0:'Number of codes'}, inplace=True)\n",
    "\n",
    "fig = px.area(plot1, x=\"Date\", y=\"Number of codes\", color=\"Type\", category_orders={'Type':['Full sanct.', 'Partial sanct.', 'Transitory sanct.']}\n",
    "             )\n",
    "fig.show()"
   ]
  },
  {
   "cell_type": "code",
   "execution_count": 21,
   "metadata": {},
   "outputs": [
    {
     "data": {
      "text/html": [
       "<div>\n",
       "<style scoped>\n",
       "    .dataframe tbody tr th:only-of-type {\n",
       "        vertical-align: middle;\n",
       "    }\n",
       "\n",
       "    .dataframe tbody tr th {\n",
       "        vertical-align: top;\n",
       "    }\n",
       "\n",
       "    .dataframe thead th {\n",
       "        text-align: right;\n",
       "    }\n",
       "</style>\n",
       "<table border=\"1\" class=\"dataframe\">\n",
       "  <thead>\n",
       "    <tr style=\"text-align: right;\">\n",
       "      <th></th>\n",
       "      <th>To HS2017</th>\n",
       "      <th>From HS2022</th>\n",
       "      <th>CN6</th>\n",
       "      <th>Date</th>\n",
       "      <th>CN6_Full_code_0-0</th>\n",
       "      <th>CN6_Full_code_1-1</th>\n",
       "      <th>CN6_Full_code_0-1_proper</th>\n",
       "      <th>CN6_Full_code_0-1_deltaT_proper</th>\n",
       "      <th>CN6_Full_code_0-1_date_firstpartial</th>\n",
       "      <th>CN6_Full_code_0-1_date_firstfull</th>\n",
       "      <th>CN6_len</th>\n",
       "      <th>Sanct</th>\n",
       "      <th>Issue1</th>\n",
       "    </tr>\n",
       "  </thead>\n",
       "  <tbody>\n",
       "    <tr>\n",
       "      <th>0</th>\n",
       "      <td>010121</td>\n",
       "      <td>[010121]</td>\n",
       "      <td>[nan]</td>\n",
       "      <td>[nan]</td>\n",
       "      <td>[nan]</td>\n",
       "      <td>[nan]</td>\n",
       "      <td>[nan]</td>\n",
       "      <td>[nan]</td>\n",
       "      <td>[nan]</td>\n",
       "      <td>[nan]</td>\n",
       "      <td>[nan]</td>\n",
       "      <td>[0]</td>\n",
       "      <td>[False]</td>\n",
       "    </tr>\n",
       "    <tr>\n",
       "      <th>1</th>\n",
       "      <td>010129</td>\n",
       "      <td>[010129]</td>\n",
       "      <td>[nan]</td>\n",
       "      <td>[nan]</td>\n",
       "      <td>[nan]</td>\n",
       "      <td>[nan]</td>\n",
       "      <td>[nan]</td>\n",
       "      <td>[nan]</td>\n",
       "      <td>[nan]</td>\n",
       "      <td>[nan]</td>\n",
       "      <td>[nan]</td>\n",
       "      <td>[0]</td>\n",
       "      <td>[False]</td>\n",
       "    </tr>\n",
       "  </tbody>\n",
       "</table>\n",
       "</div>"
      ],
      "text/plain": [
       "  To HS2017 From HS2022    CN6   Date CN6_Full_code_0-0 CN6_Full_code_1-1  \\\n",
       "0    010121    [010121]  [nan]  [nan]             [nan]             [nan]   \n",
       "1    010129    [010129]  [nan]  [nan]             [nan]             [nan]   \n",
       "\n",
       "  CN6_Full_code_0-1_proper CN6_Full_code_0-1_deltaT_proper  \\\n",
       "0                    [nan]                           [nan]   \n",
       "1                    [nan]                           [nan]   \n",
       "\n",
       "  CN6_Full_code_0-1_date_firstpartial CN6_Full_code_0-1_date_firstfull  \\\n",
       "0                               [nan]                            [nan]   \n",
       "1                               [nan]                            [nan]   \n",
       "\n",
       "  CN6_len Sanct   Issue1  \n",
       "0   [nan]   [0]  [False]  \n",
       "1   [nan]   [0]  [False]  "
      ]
     },
     "execution_count": 21,
     "metadata": {},
     "output_type": "execute_result"
    }
   ],
   "source": [
    "HS5_sanct = HS6toHS5.groupby(by=['To HS2017']).agg(list).reset_index()\n",
    "HS5_sanct.head(2)"
   ]
  },
  {
   "cell_type": "code",
   "execution_count": 23,
   "metadata": {},
   "outputs": [],
   "source": [
    "HS5_sanct['Date_HS5'] = np.nan\n",
    "HS5_sanct['CN6_Full_code_0-0_HS5'] = np.nan\n",
    "HS5_sanct['CN6_Full_code_1-1_HS5'] = np.nan\n",
    "HS5_sanct['CN6_Full_code_0-1_proper_HS5'] = np.nan\n",
    "\n",
    "HS5_sanct['CN6_Full_code_0-1_date_firstpartial_HS5'] = np.nan\n",
    "HS5_sanct['CN6_Full_code_0-1_date_firstfull_HS5'] = np.nan\n",
    "HS5_sanct['Sanct_HS5'] = np.nan\n"
   ]
  },
  {
   "cell_type": "code",
   "execution_count": 24,
   "metadata": {},
   "outputs": [
    {
     "name": "stderr",
     "output_type": "stream",
     "text": [
      "/Users/omega_macbookpro/opt/anaconda3/lib/python3.7/site-packages/pandas/core/indexing.py:1637: SettingWithCopyWarning:\n",
      "\n",
      "\n",
      "A value is trying to be set on a copy of a slice from a DataFrame\n",
      "\n",
      "See the caveats in the documentation: https://pandas.pydata.org/pandas-docs/stable/user_guide/indexing.html#returning-a-view-versus-a-copy\n",
      "\n"
     ]
    }
   ],
   "source": [
    "for i in HS5_sanct.index:\n",
    "    if (len(HS5_sanct['From HS2022'].loc[i]) == 1) | (max(HS5_sanct['Sanct'].loc[i]) == 0): # if HS5 and HS6 match 1:1 or if 1:n and all HS6 are non-sanct\n",
    "        HS5_sanct['Date_HS5'].loc[i] = HS5_sanct['Date'].loc[i][0]\n",
    "        HS5_sanct['CN6_Full_code_0-0_HS5'].loc[i] = HS5_sanct['CN6_Full_code_0-0'].loc[i][0]        \n",
    "        HS5_sanct['CN6_Full_code_1-1_HS5'].loc[i] = HS5_sanct['CN6_Full_code_1-1'].loc[i][0]\n",
    "        HS5_sanct['CN6_Full_code_0-1_proper_HS5'].loc[i] = HS5_sanct['CN6_Full_code_0-1_proper'].loc[i][0]\n",
    "        \n",
    "        HS5_sanct['CN6_Full_code_0-1_date_firstpartial_HS5'].loc[i] = HS5_sanct['CN6_Full_code_0-1_date_firstpartial'].loc[i][0]\n",
    "        HS5_sanct['CN6_Full_code_0-1_date_firstfull_HS5'].loc[i] = HS5_sanct['CN6_Full_code_0-1_date_firstfull'].loc[i][0]\n",
    "        HS5_sanct['Sanct_HS5'].loc[i] = HS5_sanct['Sanct'].loc[i][0]\n",
    "        \n",
    "    elif min(HS5_sanct['Sanct'].loc[i]) != max(HS5_sanct['Sanct'].loc[i]): # if 1:n and HS5 groups both sanctioned and non-sanct HS6 codes\n",
    "        HS5_sanct['Date_HS5'].loc[i] = min([x for x in HS5_sanct['Date'].loc[i] if x==x]) # clean from nans and take the earliest date\n",
    "        \n",
    "        HS5_sanct['CN6_Full_code_0-0_HS5'].loc[i] = True    # 0 since there are non-sanctioned HS6 codes in HS5 group\n",
    "        HS5_sanct['CN6_Full_code_1-1_HS5'].loc[i] = False\n",
    "        HS5_sanct['CN6_Full_code_0-1_proper_HS5'].loc[i] = False\n",
    "        \n",
    "        HS5_sanct['CN6_Full_code_0-1_date_firstpartial_HS5'].loc[i] = np.nan\n",
    "        HS5_sanct['CN6_Full_code_0-1_date_firstfull_HS5'].loc[i] = np.nan\n",
    "        HS5_sanct['Sanct_HS5'].loc[i] = 1\n",
    "        \n",
    "    elif min(HS5_sanct['Sanct'].loc[i]) == 1: # if 1:n and all HS6 are sanct\n",
    "        # consider 4 cases (which should be sufficient to cover all possibilities):\n",
    "        list0_0 = HS5_sanct['CN6_Full_code_0-0'].loc[i]\n",
    "        list1_1 = HS5_sanct['CN6_Full_code_1-1'].loc[i]\n",
    "        list0_1 = HS5_sanct['CN6_Full_code_0-1_proper'].loc[i]\n",
    "        dates = HS5_sanct['Date'].loc[i]\n",
    "        date_firstpartial = HS5_sanct['CN6_Full_code_0-1_date_firstpartial'].loc[i]\n",
    "        date_firstfull = HS5_sanct['CN6_Full_code_0-1_date_firstfull'].loc[i]\n",
    "        \n",
    "        # 1st - if at least one True in 0-0, then the whole HS5 should be partial sanct.\n",
    "        if True in list0_0:\n",
    "            HS5_sanct['CN6_Full_code_0-0_HS5'].loc[i] = True\n",
    "            HS5_sanct['CN6_Full_code_1-1_HS5'].loc[i] = False\n",
    "            HS5_sanct['CN6_Full_code_0-1_proper_HS5'].loc[i] = False            \n",
    "            \n",
    "            HS5_sanct['Date_HS5'].loc[i] = min(HS5_sanct['Date'].loc[i]) # take the earliest date, as all are sanctions at various degree\n",
    "            HS5_sanct['Sanct_HS5'].loc[i] = 1            \n",
    "            \n",
    "        # 2nd - if all are True in 1-1, then the whole HS5 is either full sanct. or transit (if other parts of the product become fully sanct. later)\n",
    "        elif all(list1_1) == True:\n",
    "            if min(dates) != max(dates):            \n",
    "                HS5_sanct['CN6_Full_code_0-0_HS5'].loc[i] = False\n",
    "                HS5_sanct['CN6_Full_code_1-1_HS5'].loc[i] = False\n",
    "                HS5_sanct['CN6_Full_code_0-1_proper_HS5'].loc[i] = True\n",
    "                \n",
    "                HS5_sanct['Date_HS5'].loc[i] = min(dates)\n",
    "                HS5_sanct['CN6_Full_code_0-1_date_firstpartial_HS5'].loc[i] = min(dates)\n",
    "                HS5_sanct['CN6_Full_code_0-1_date_firstfull_HS5'].loc[i] = max(dates)\n",
    "            else:\n",
    "                HS5_sanct['CN6_Full_code_0-0_HS5'].loc[i] = False\n",
    "                HS5_sanct['CN6_Full_code_1-1_HS5'].loc[i] = True\n",
    "                HS5_sanct['CN6_Full_code_0-1_proper_HS5'].loc[i] = False\n",
    "                \n",
    "                HS5_sanct['Date_HS5'].loc[i] = HS5_sanct['Date'].loc[i][0]            \n",
    "        \n",
    "            HS5_sanct['Sanct_HS5'].loc[i] = 1\n",
    "        \n",
    "        # 3rd - if all are True in 0-1, then the whole HS5 is transit\n",
    "        elif all(list0_1) == True:            \n",
    "            HS5_sanct['CN6_Full_code_0-0_HS5'].loc[i] = False\n",
    "            HS5_sanct['CN6_Full_code_1-1_HS5'].loc[i] = False\n",
    "            HS5_sanct['CN6_Full_code_0-1_proper_HS5'].loc[i] = True\n",
    "            \n",
    "            HS5_sanct['Date_HS5'].loc[i] = min(date_firstpartial)\n",
    "            HS5_sanct['CN6_Full_code_0-1_date_firstpartial_HS5'].loc[i] = min(date_firstpartial)\n",
    "            HS5_sanct['CN6_Full_code_0-1_date_firstfull_HS5'].loc[i] = max(date_firstfull)\n",
    "            HS5_sanct['Sanct_HS5'].loc[i] = 1\n",
    "\n",
    "        # 4th - if there are both fully sanct. and transit, then the whole HS5 is transit\n",
    "        elif (True in list1_1) & (True in list0_1):            \n",
    "            HS5_sanct['CN6_Full_code_0-0_HS5'].loc[i] = False\n",
    "            HS5_sanct['CN6_Full_code_1-1_HS5'].loc[i] = False\n",
    "            HS5_sanct['CN6_Full_code_0-1_proper_HS5'].loc[i] = True        \n",
    "            \n",
    "            HS5_sanct['Date_HS5'].loc[i] = min(dates)\n",
    "            HS5_sanct['CN6_Full_code_0-1_date_firstpartial_HS5'].loc[i] = min(dates)\n",
    "            HS5_sanct['CN6_Full_code_0-1_date_firstfull_HS5'].loc[i] = max(dates + [x for x in date_firstfull if x==x])\n",
    "            HS5_sanct['Sanct_HS5'].loc[i] = 1\n",
    "\n",
    "        \n",
    "#         HS5_sanct['Date_HS5'].loc[i] = min(HS5_sanct['Date'].loc[i]) # take the earliest date \n",
    "#         HS5_sanct['Full_code_HS5'].loc[i] = min(HS5_sanct['CN6_Full_code'].loc[i]) # 1 if all HS6 codes are fully sanct, 0 if there is at least one non-fully\n",
    "#         HS5_sanct['Sanct_HS5'].loc[i] = 1    "
   ]
  },
  {
   "cell_type": "code",
   "execution_count": 25,
   "metadata": {},
   "outputs": [],
   "source": [
    "# make Issue1 column (4 or 2 digit codes which are partially sanct.) 87 of such codes\n",
    "HS5_sanct['Issue1_HS5'] = HS5_sanct['Issue1'].apply(lambda x: True in x)"
   ]
  },
  {
   "cell_type": "code",
   "execution_count": null,
   "metadata": {},
   "outputs": [],
   "source": [
    "# 122 HS2017 codes are associated with multiple HS2022 codes\n",
    "HS5_sanct.loc[HS5_sanct['From HS2022'].apply(len) > 1].shape"
   ]
  },
  {
   "cell_type": "code",
   "execution_count": 40,
   "metadata": {},
   "outputs": [
    {
     "name": "stderr",
     "output_type": "stream",
     "text": [
      "/Users/omega_macbookpro/opt/anaconda3/lib/python3.7/site-packages/pandas/core/indexing.py:1637: SettingWithCopyWarning:\n",
      "\n",
      "\n",
      "A value is trying to be set on a copy of a slice from a DataFrame\n",
      "\n",
      "See the caveats in the documentation: https://pandas.pydata.org/pandas-docs/stable/user_guide/indexing.html#returning-a-view-versus-a-copy\n",
      "\n"
     ]
    }
   ],
   "source": [
    "df_agg = HS5_sanct.loc[HS5_sanct['Date_HS5'].notna()].groupby(['Date_HS5'])['To HS2017'].count().reset_index()\n",
    "df_agg['Sanct_prod_HS5'] = np.nan\n",
    "    \n",
    "# fully sanctioned codes type of sanctioned codes    \n",
    "df_agg_full = HS5_sanct.loc[(HS5_sanct['Date_HS5'].notna()) & (HS5_sanct['CN6_Full_code_1-1_HS5'] == True)].groupby(['Date_HS5'])['To HS2017'].count().reset_index()\n",
    "df_agg_full['Sanct_prod_HS5'] = np.nan\n",
    "\n",
    "df_agg_full['Sanct_prod_HS5'].loc[0] = df_agg_full['To HS2017'].loc[0]\n",
    "for i in df_agg_full.index[1:]:\n",
    "    df_agg_full['Sanct_prod_HS5'].loc[i] = df_agg_full['Sanct_prod_HS5'].loc[i-1] + df_agg_full['To HS2017'].loc[i] \n",
    "    \n",
    "# partially sanctioned codes type of sanctioned codes\n",
    "df_agg_part = HS5_sanct.loc[(HS5_sanct['Date_HS5'].notna()) & (HS5_sanct['CN6_Full_code_0-0_HS5'] == True)].groupby(['Date_HS5'])['To HS2017'].count().reset_index()\n",
    "df_agg_part['Sanct_prod_HS5'] = np.nan\n",
    "\n",
    "df_agg_part['Sanct_prod_HS5'].loc[0] = df_agg_part['To HS2017'].loc[0]\n",
    "for i in df_agg_part.index[1:]:\n",
    "    df_agg_part['Sanct_prod_HS5'].loc[i] = df_agg_part['Sanct_prod_HS5'].loc[i-1] + df_agg_part['To HS2017'].loc[i]\n",
    "    \n",
    "# transit sanctioned codes type of sanctioned codes    \n",
    "df_agg_trans = HS5_sanct.loc[(HS5_sanct['Date_HS5'].notna()) & (HS5_sanct['CN6_Full_code_0-1_proper_HS5'] == True)].groupby(['Date_HS5'])['To HS2017'].count().reset_index()\n",
    "df_agg_trans['Sanct_prod_HS5'] = np.nan\n",
    "\n",
    "df_agg_trans['Sanct_prod_HS5'].loc[0] = df_agg_trans['To HS2017'].loc[0]\n",
    "for i in df_agg_trans.index[1:]:\n",
    "    df_agg_trans['Sanct_prod_HS5'].loc[i] = df_agg_trans['Sanct_prod_HS5'].loc[i-1] + df_agg_trans['To HS2017'].loc[i] \n",
    "    \n",
    "    \n",
    "# merge to one table    \n",
    "df_agg_m = pd.merge(df_agg_full, df_agg_part, on='Date_HS5', how='outer')  \n",
    "df_agg_m = pd.merge(df_agg_m, df_agg_trans, on='Date_HS5', how='outer')\n",
    "\n",
    "df_agg_m.sort_values(by=['Date_HS5'], inplace=True)\n",
    "df_agg_m.fillna(method='ffill', inplace=True)\n",
    "df_agg_m.rename(columns={'Sanct_prod_HS5_x':'Full sanct.', 'Sanct_prod_HS5_y':'Partial sanct.', 'Sanct_prod_HS5':'Transitory sanct.'}, inplace=True)\n",
    "df_agg_m.set_index('Date_HS5', inplace=True)    "
   ]
  },
  {
   "cell_type": "code",
   "execution_count": 41,
   "metadata": {},
   "outputs": [
    {
     "data": {
      "application/vnd.plotly.v1+json": {
       "config": {
        "plotlyServerURL": "https://plot.ly"
       },
       "data": [
        {
         "fillpattern": {
          "shape": ""
         },
         "hovertemplate": "Type=Full sanct.<br>Date_HS5=%{x}<br>Number of codes=%{y}<extra></extra>",
         "legendgroup": "Full sanct.",
         "line": {
          "color": "#636efa"
         },
         "marker": {
          "symbol": "circle"
         },
         "mode": "lines",
         "name": "Full sanct.",
         "orientation": "v",
         "showlegend": true,
         "stackgroup": "1",
         "type": "scatter",
         "x": [
          "2022-03-15",
          "2022-04-08",
          "2022-06-03",
          "2022-06-21",
          "2022-06-22",
          "2022-10-06",
          "2022-12-05",
          "2023-02-05",
          "2023-02-25",
          "2023-06-23",
          "2023-12-18",
          "2024-01-01"
         ],
         "xaxis": "x",
         "y": [
          127,
          395,
          405,
          409,
          410,
          1448,
          1448,
          1453,
          1463,
          1525,
          1566,
          1570
         ],
         "yaxis": "y"
        },
        {
         "fillpattern": {
          "shape": ""
         },
         "hovertemplate": "Type=Partial sanct.<br>Date_HS5=%{x}<br>Number of codes=%{y}<extra></extra>",
         "legendgroup": "Partial sanct.",
         "line": {
          "color": "#EF553B"
         },
         "marker": {
          "symbol": "circle"
         },
         "mode": "lines",
         "name": "Partial sanct.",
         "orientation": "v",
         "showlegend": true,
         "stackgroup": "1",
         "type": "scatter",
         "x": [
          "2022-04-08",
          "2022-06-03",
          "2022-06-21",
          "2022-06-22",
          "2022-10-06",
          "2022-12-05",
          "2023-02-05",
          "2023-02-25",
          "2023-06-23",
          "2023-12-18",
          "2024-01-01"
         ],
         "xaxis": "x",
         "y": [
          32,
          32,
          32,
          39,
          52,
          53,
          53,
          53,
          54,
          57,
          64
         ],
         "yaxis": "y"
        },
        {
         "fillpattern": {
          "shape": ""
         },
         "hovertemplate": "Type=Transitory sanct.<br>Date_HS5=%{x}<br>Number of codes=%{y}<extra></extra>",
         "legendgroup": "Transitory sanct.",
         "line": {
          "color": "#00cc96"
         },
         "marker": {
          "symbol": "circle"
         },
         "mode": "lines",
         "name": "Transitory sanct.",
         "orientation": "v",
         "showlegend": true,
         "stackgroup": "1",
         "type": "scatter",
         "x": [
          "2022-03-15",
          "2022-04-08",
          "2022-06-03",
          "2022-06-21",
          "2022-06-22",
          "2022-10-06",
          "2022-12-05",
          "2023-02-05",
          "2023-02-25",
          "2023-06-23",
          "2023-12-18",
          "2024-01-01"
         ],
         "xaxis": "x",
         "y": [
          21,
          41,
          41,
          41,
          41,
          43,
          43,
          43,
          58,
          58,
          58,
          58
         ],
         "yaxis": "y"
        }
       ],
       "layout": {
        "legend": {
         "title": {
          "text": "Type"
         },
         "tracegroupgap": 0
        },
        "margin": {
         "t": 60
        },
        "template": {
         "data": {
          "bar": [
           {
            "error_x": {
             "color": "#2a3f5f"
            },
            "error_y": {
             "color": "#2a3f5f"
            },
            "marker": {
             "line": {
              "color": "#E5ECF6",
              "width": 0.5
             },
             "pattern": {
              "fillmode": "overlay",
              "size": 10,
              "solidity": 0.2
             }
            },
            "type": "bar"
           }
          ],
          "barpolar": [
           {
            "marker": {
             "line": {
              "color": "#E5ECF6",
              "width": 0.5
             },
             "pattern": {
              "fillmode": "overlay",
              "size": 10,
              "solidity": 0.2
             }
            },
            "type": "barpolar"
           }
          ],
          "carpet": [
           {
            "aaxis": {
             "endlinecolor": "#2a3f5f",
             "gridcolor": "white",
             "linecolor": "white",
             "minorgridcolor": "white",
             "startlinecolor": "#2a3f5f"
            },
            "baxis": {
             "endlinecolor": "#2a3f5f",
             "gridcolor": "white",
             "linecolor": "white",
             "minorgridcolor": "white",
             "startlinecolor": "#2a3f5f"
            },
            "type": "carpet"
           }
          ],
          "choropleth": [
           {
            "colorbar": {
             "outlinewidth": 0,
             "ticks": ""
            },
            "type": "choropleth"
           }
          ],
          "contour": [
           {
            "colorbar": {
             "outlinewidth": 0,
             "ticks": ""
            },
            "colorscale": [
             [
              0,
              "#0d0887"
             ],
             [
              0.1111111111111111,
              "#46039f"
             ],
             [
              0.2222222222222222,
              "#7201a8"
             ],
             [
              0.3333333333333333,
              "#9c179e"
             ],
             [
              0.4444444444444444,
              "#bd3786"
             ],
             [
              0.5555555555555556,
              "#d8576b"
             ],
             [
              0.6666666666666666,
              "#ed7953"
             ],
             [
              0.7777777777777778,
              "#fb9f3a"
             ],
             [
              0.8888888888888888,
              "#fdca26"
             ],
             [
              1,
              "#f0f921"
             ]
            ],
            "type": "contour"
           }
          ],
          "contourcarpet": [
           {
            "colorbar": {
             "outlinewidth": 0,
             "ticks": ""
            },
            "type": "contourcarpet"
           }
          ],
          "heatmap": [
           {
            "colorbar": {
             "outlinewidth": 0,
             "ticks": ""
            },
            "colorscale": [
             [
              0,
              "#0d0887"
             ],
             [
              0.1111111111111111,
              "#46039f"
             ],
             [
              0.2222222222222222,
              "#7201a8"
             ],
             [
              0.3333333333333333,
              "#9c179e"
             ],
             [
              0.4444444444444444,
              "#bd3786"
             ],
             [
              0.5555555555555556,
              "#d8576b"
             ],
             [
              0.6666666666666666,
              "#ed7953"
             ],
             [
              0.7777777777777778,
              "#fb9f3a"
             ],
             [
              0.8888888888888888,
              "#fdca26"
             ],
             [
              1,
              "#f0f921"
             ]
            ],
            "type": "heatmap"
           }
          ],
          "heatmapgl": [
           {
            "colorbar": {
             "outlinewidth": 0,
             "ticks": ""
            },
            "colorscale": [
             [
              0,
              "#0d0887"
             ],
             [
              0.1111111111111111,
              "#46039f"
             ],
             [
              0.2222222222222222,
              "#7201a8"
             ],
             [
              0.3333333333333333,
              "#9c179e"
             ],
             [
              0.4444444444444444,
              "#bd3786"
             ],
             [
              0.5555555555555556,
              "#d8576b"
             ],
             [
              0.6666666666666666,
              "#ed7953"
             ],
             [
              0.7777777777777778,
              "#fb9f3a"
             ],
             [
              0.8888888888888888,
              "#fdca26"
             ],
             [
              1,
              "#f0f921"
             ]
            ],
            "type": "heatmapgl"
           }
          ],
          "histogram": [
           {
            "marker": {
             "pattern": {
              "fillmode": "overlay",
              "size": 10,
              "solidity": 0.2
             }
            },
            "type": "histogram"
           }
          ],
          "histogram2d": [
           {
            "colorbar": {
             "outlinewidth": 0,
             "ticks": ""
            },
            "colorscale": [
             [
              0,
              "#0d0887"
             ],
             [
              0.1111111111111111,
              "#46039f"
             ],
             [
              0.2222222222222222,
              "#7201a8"
             ],
             [
              0.3333333333333333,
              "#9c179e"
             ],
             [
              0.4444444444444444,
              "#bd3786"
             ],
             [
              0.5555555555555556,
              "#d8576b"
             ],
             [
              0.6666666666666666,
              "#ed7953"
             ],
             [
              0.7777777777777778,
              "#fb9f3a"
             ],
             [
              0.8888888888888888,
              "#fdca26"
             ],
             [
              1,
              "#f0f921"
             ]
            ],
            "type": "histogram2d"
           }
          ],
          "histogram2dcontour": [
           {
            "colorbar": {
             "outlinewidth": 0,
             "ticks": ""
            },
            "colorscale": [
             [
              0,
              "#0d0887"
             ],
             [
              0.1111111111111111,
              "#46039f"
             ],
             [
              0.2222222222222222,
              "#7201a8"
             ],
             [
              0.3333333333333333,
              "#9c179e"
             ],
             [
              0.4444444444444444,
              "#bd3786"
             ],
             [
              0.5555555555555556,
              "#d8576b"
             ],
             [
              0.6666666666666666,
              "#ed7953"
             ],
             [
              0.7777777777777778,
              "#fb9f3a"
             ],
             [
              0.8888888888888888,
              "#fdca26"
             ],
             [
              1,
              "#f0f921"
             ]
            ],
            "type": "histogram2dcontour"
           }
          ],
          "mesh3d": [
           {
            "colorbar": {
             "outlinewidth": 0,
             "ticks": ""
            },
            "type": "mesh3d"
           }
          ],
          "parcoords": [
           {
            "line": {
             "colorbar": {
              "outlinewidth": 0,
              "ticks": ""
             }
            },
            "type": "parcoords"
           }
          ],
          "pie": [
           {
            "automargin": true,
            "type": "pie"
           }
          ],
          "scatter": [
           {
            "fillpattern": {
             "fillmode": "overlay",
             "size": 10,
             "solidity": 0.2
            },
            "type": "scatter"
           }
          ],
          "scatter3d": [
           {
            "line": {
             "colorbar": {
              "outlinewidth": 0,
              "ticks": ""
             }
            },
            "marker": {
             "colorbar": {
              "outlinewidth": 0,
              "ticks": ""
             }
            },
            "type": "scatter3d"
           }
          ],
          "scattercarpet": [
           {
            "marker": {
             "colorbar": {
              "outlinewidth": 0,
              "ticks": ""
             }
            },
            "type": "scattercarpet"
           }
          ],
          "scattergeo": [
           {
            "marker": {
             "colorbar": {
              "outlinewidth": 0,
              "ticks": ""
             }
            },
            "type": "scattergeo"
           }
          ],
          "scattergl": [
           {
            "marker": {
             "colorbar": {
              "outlinewidth": 0,
              "ticks": ""
             }
            },
            "type": "scattergl"
           }
          ],
          "scattermapbox": [
           {
            "marker": {
             "colorbar": {
              "outlinewidth": 0,
              "ticks": ""
             }
            },
            "type": "scattermapbox"
           }
          ],
          "scatterpolar": [
           {
            "marker": {
             "colorbar": {
              "outlinewidth": 0,
              "ticks": ""
             }
            },
            "type": "scatterpolar"
           }
          ],
          "scatterpolargl": [
           {
            "marker": {
             "colorbar": {
              "outlinewidth": 0,
              "ticks": ""
             }
            },
            "type": "scatterpolargl"
           }
          ],
          "scatterternary": [
           {
            "marker": {
             "colorbar": {
              "outlinewidth": 0,
              "ticks": ""
             }
            },
            "type": "scatterternary"
           }
          ],
          "surface": [
           {
            "colorbar": {
             "outlinewidth": 0,
             "ticks": ""
            },
            "colorscale": [
             [
              0,
              "#0d0887"
             ],
             [
              0.1111111111111111,
              "#46039f"
             ],
             [
              0.2222222222222222,
              "#7201a8"
             ],
             [
              0.3333333333333333,
              "#9c179e"
             ],
             [
              0.4444444444444444,
              "#bd3786"
             ],
             [
              0.5555555555555556,
              "#d8576b"
             ],
             [
              0.6666666666666666,
              "#ed7953"
             ],
             [
              0.7777777777777778,
              "#fb9f3a"
             ],
             [
              0.8888888888888888,
              "#fdca26"
             ],
             [
              1,
              "#f0f921"
             ]
            ],
            "type": "surface"
           }
          ],
          "table": [
           {
            "cells": {
             "fill": {
              "color": "#EBF0F8"
             },
             "line": {
              "color": "white"
             }
            },
            "header": {
             "fill": {
              "color": "#C8D4E3"
             },
             "line": {
              "color": "white"
             }
            },
            "type": "table"
           }
          ]
         },
         "layout": {
          "annotationdefaults": {
           "arrowcolor": "#2a3f5f",
           "arrowhead": 0,
           "arrowwidth": 1
          },
          "autotypenumbers": "strict",
          "coloraxis": {
           "colorbar": {
            "outlinewidth": 0,
            "ticks": ""
           }
          },
          "colorscale": {
           "diverging": [
            [
             0,
             "#8e0152"
            ],
            [
             0.1,
             "#c51b7d"
            ],
            [
             0.2,
             "#de77ae"
            ],
            [
             0.3,
             "#f1b6da"
            ],
            [
             0.4,
             "#fde0ef"
            ],
            [
             0.5,
             "#f7f7f7"
            ],
            [
             0.6,
             "#e6f5d0"
            ],
            [
             0.7,
             "#b8e186"
            ],
            [
             0.8,
             "#7fbc41"
            ],
            [
             0.9,
             "#4d9221"
            ],
            [
             1,
             "#276419"
            ]
           ],
           "sequential": [
            [
             0,
             "#0d0887"
            ],
            [
             0.1111111111111111,
             "#46039f"
            ],
            [
             0.2222222222222222,
             "#7201a8"
            ],
            [
             0.3333333333333333,
             "#9c179e"
            ],
            [
             0.4444444444444444,
             "#bd3786"
            ],
            [
             0.5555555555555556,
             "#d8576b"
            ],
            [
             0.6666666666666666,
             "#ed7953"
            ],
            [
             0.7777777777777778,
             "#fb9f3a"
            ],
            [
             0.8888888888888888,
             "#fdca26"
            ],
            [
             1,
             "#f0f921"
            ]
           ],
           "sequentialminus": [
            [
             0,
             "#0d0887"
            ],
            [
             0.1111111111111111,
             "#46039f"
            ],
            [
             0.2222222222222222,
             "#7201a8"
            ],
            [
             0.3333333333333333,
             "#9c179e"
            ],
            [
             0.4444444444444444,
             "#bd3786"
            ],
            [
             0.5555555555555556,
             "#d8576b"
            ],
            [
             0.6666666666666666,
             "#ed7953"
            ],
            [
             0.7777777777777778,
             "#fb9f3a"
            ],
            [
             0.8888888888888888,
             "#fdca26"
            ],
            [
             1,
             "#f0f921"
            ]
           ]
          },
          "colorway": [
           "#636efa",
           "#EF553B",
           "#00cc96",
           "#ab63fa",
           "#FFA15A",
           "#19d3f3",
           "#FF6692",
           "#B6E880",
           "#FF97FF",
           "#FECB52"
          ],
          "font": {
           "color": "#2a3f5f"
          },
          "geo": {
           "bgcolor": "white",
           "lakecolor": "white",
           "landcolor": "#E5ECF6",
           "showlakes": true,
           "showland": true,
           "subunitcolor": "white"
          },
          "hoverlabel": {
           "align": "left"
          },
          "hovermode": "closest",
          "mapbox": {
           "style": "light"
          },
          "paper_bgcolor": "white",
          "plot_bgcolor": "#E5ECF6",
          "polar": {
           "angularaxis": {
            "gridcolor": "white",
            "linecolor": "white",
            "ticks": ""
           },
           "bgcolor": "#E5ECF6",
           "radialaxis": {
            "gridcolor": "white",
            "linecolor": "white",
            "ticks": ""
           }
          },
          "scene": {
           "xaxis": {
            "backgroundcolor": "#E5ECF6",
            "gridcolor": "white",
            "gridwidth": 2,
            "linecolor": "white",
            "showbackground": true,
            "ticks": "",
            "zerolinecolor": "white"
           },
           "yaxis": {
            "backgroundcolor": "#E5ECF6",
            "gridcolor": "white",
            "gridwidth": 2,
            "linecolor": "white",
            "showbackground": true,
            "ticks": "",
            "zerolinecolor": "white"
           },
           "zaxis": {
            "backgroundcolor": "#E5ECF6",
            "gridcolor": "white",
            "gridwidth": 2,
            "linecolor": "white",
            "showbackground": true,
            "ticks": "",
            "zerolinecolor": "white"
           }
          },
          "shapedefaults": {
           "line": {
            "color": "#2a3f5f"
           }
          },
          "ternary": {
           "aaxis": {
            "gridcolor": "white",
            "linecolor": "white",
            "ticks": ""
           },
           "baxis": {
            "gridcolor": "white",
            "linecolor": "white",
            "ticks": ""
           },
           "bgcolor": "#E5ECF6",
           "caxis": {
            "gridcolor": "white",
            "linecolor": "white",
            "ticks": ""
           }
          },
          "title": {
           "x": 0.05
          },
          "xaxis": {
           "automargin": true,
           "gridcolor": "white",
           "linecolor": "white",
           "ticks": "",
           "title": {
            "standoff": 15
           },
           "zerolinecolor": "white",
           "zerolinewidth": 2
          },
          "yaxis": {
           "automargin": true,
           "gridcolor": "white",
           "linecolor": "white",
           "ticks": "",
           "title": {
            "standoff": 15
           },
           "zerolinecolor": "white",
           "zerolinewidth": 2
          }
         }
        },
        "xaxis": {
         "anchor": "y",
         "domain": [
          0,
          1
         ],
         "title": {
          "text": "Date_HS5"
         }
        },
        "yaxis": {
         "anchor": "x",
         "domain": [
          0,
          1
         ],
         "title": {
          "text": "Number of codes"
         }
        }
       }
      },
      "text/html": [
       "<div>                            <div id=\"ae7e7a4a-5b59-490d-a79d-fa75123eb6c3\" class=\"plotly-graph-div\" style=\"height:525px; width:100%;\"></div>            <script type=\"text/javascript\">                require([\"plotly\"], function(Plotly) {                    window.PLOTLYENV=window.PLOTLYENV || {};                                    if (document.getElementById(\"ae7e7a4a-5b59-490d-a79d-fa75123eb6c3\")) {                    Plotly.newPlot(                        \"ae7e7a4a-5b59-490d-a79d-fa75123eb6c3\",                        [{\"fillpattern\":{\"shape\":\"\"},\"hovertemplate\":\"Type=Full sanct.\\u003cbr\\u003eDate_HS5=%{x}\\u003cbr\\u003eNumber of codes=%{y}\\u003cextra\\u003e\\u003c\\u002fextra\\u003e\",\"legendgroup\":\"Full sanct.\",\"line\":{\"color\":\"#636efa\"},\"marker\":{\"symbol\":\"circle\"},\"mode\":\"lines\",\"name\":\"Full sanct.\",\"orientation\":\"v\",\"showlegend\":true,\"stackgroup\":\"1\",\"x\":[\"2022-03-15\",\"2022-04-08\",\"2022-06-03\",\"2022-06-21\",\"2022-06-22\",\"2022-10-06\",\"2022-12-05\",\"2023-02-05\",\"2023-02-25\",\"2023-06-23\",\"2023-12-18\",\"2024-01-01\"],\"xaxis\":\"x\",\"y\":[127.0,395.0,405.0,409.0,410.0,1448.0,1448.0,1453.0,1463.0,1525.0,1566.0,1570.0],\"yaxis\":\"y\",\"type\":\"scatter\"},{\"fillpattern\":{\"shape\":\"\"},\"hovertemplate\":\"Type=Partial sanct.\\u003cbr\\u003eDate_HS5=%{x}\\u003cbr\\u003eNumber of codes=%{y}\\u003cextra\\u003e\\u003c\\u002fextra\\u003e\",\"legendgroup\":\"Partial sanct.\",\"line\":{\"color\":\"#EF553B\"},\"marker\":{\"symbol\":\"circle\"},\"mode\":\"lines\",\"name\":\"Partial sanct.\",\"orientation\":\"v\",\"showlegend\":true,\"stackgroup\":\"1\",\"x\":[\"2022-04-08\",\"2022-06-03\",\"2022-06-21\",\"2022-06-22\",\"2022-10-06\",\"2022-12-05\",\"2023-02-05\",\"2023-02-25\",\"2023-06-23\",\"2023-12-18\",\"2024-01-01\"],\"xaxis\":\"x\",\"y\":[32.0,32.0,32.0,39.0,52.0,53.0,53.0,53.0,54.0,57.0,64.0],\"yaxis\":\"y\",\"type\":\"scatter\"},{\"fillpattern\":{\"shape\":\"\"},\"hovertemplate\":\"Type=Transitory sanct.\\u003cbr\\u003eDate_HS5=%{x}\\u003cbr\\u003eNumber of codes=%{y}\\u003cextra\\u003e\\u003c\\u002fextra\\u003e\",\"legendgroup\":\"Transitory sanct.\",\"line\":{\"color\":\"#00cc96\"},\"marker\":{\"symbol\":\"circle\"},\"mode\":\"lines\",\"name\":\"Transitory sanct.\",\"orientation\":\"v\",\"showlegend\":true,\"stackgroup\":\"1\",\"x\":[\"2022-03-15\",\"2022-04-08\",\"2022-06-03\",\"2022-06-21\",\"2022-06-22\",\"2022-10-06\",\"2022-12-05\",\"2023-02-05\",\"2023-02-25\",\"2023-06-23\",\"2023-12-18\",\"2024-01-01\"],\"xaxis\":\"x\",\"y\":[21.0,41.0,41.0,41.0,41.0,43.0,43.0,43.0,58.0,58.0,58.0,58.0],\"yaxis\":\"y\",\"type\":\"scatter\"}],                        {\"template\":{\"data\":{\"histogram2dcontour\":[{\"type\":\"histogram2dcontour\",\"colorbar\":{\"outlinewidth\":0,\"ticks\":\"\"},\"colorscale\":[[0.0,\"#0d0887\"],[0.1111111111111111,\"#46039f\"],[0.2222222222222222,\"#7201a8\"],[0.3333333333333333,\"#9c179e\"],[0.4444444444444444,\"#bd3786\"],[0.5555555555555556,\"#d8576b\"],[0.6666666666666666,\"#ed7953\"],[0.7777777777777778,\"#fb9f3a\"],[0.8888888888888888,\"#fdca26\"],[1.0,\"#f0f921\"]]}],\"choropleth\":[{\"type\":\"choropleth\",\"colorbar\":{\"outlinewidth\":0,\"ticks\":\"\"}}],\"histogram2d\":[{\"type\":\"histogram2d\",\"colorbar\":{\"outlinewidth\":0,\"ticks\":\"\"},\"colorscale\":[[0.0,\"#0d0887\"],[0.1111111111111111,\"#46039f\"],[0.2222222222222222,\"#7201a8\"],[0.3333333333333333,\"#9c179e\"],[0.4444444444444444,\"#bd3786\"],[0.5555555555555556,\"#d8576b\"],[0.6666666666666666,\"#ed7953\"],[0.7777777777777778,\"#fb9f3a\"],[0.8888888888888888,\"#fdca26\"],[1.0,\"#f0f921\"]]}],\"heatmap\":[{\"type\":\"heatmap\",\"colorbar\":{\"outlinewidth\":0,\"ticks\":\"\"},\"colorscale\":[[0.0,\"#0d0887\"],[0.1111111111111111,\"#46039f\"],[0.2222222222222222,\"#7201a8\"],[0.3333333333333333,\"#9c179e\"],[0.4444444444444444,\"#bd3786\"],[0.5555555555555556,\"#d8576b\"],[0.6666666666666666,\"#ed7953\"],[0.7777777777777778,\"#fb9f3a\"],[0.8888888888888888,\"#fdca26\"],[1.0,\"#f0f921\"]]}],\"heatmapgl\":[{\"type\":\"heatmapgl\",\"colorbar\":{\"outlinewidth\":0,\"ticks\":\"\"},\"colorscale\":[[0.0,\"#0d0887\"],[0.1111111111111111,\"#46039f\"],[0.2222222222222222,\"#7201a8\"],[0.3333333333333333,\"#9c179e\"],[0.4444444444444444,\"#bd3786\"],[0.5555555555555556,\"#d8576b\"],[0.6666666666666666,\"#ed7953\"],[0.7777777777777778,\"#fb9f3a\"],[0.8888888888888888,\"#fdca26\"],[1.0,\"#f0f921\"]]}],\"contourcarpet\":[{\"type\":\"contourcarpet\",\"colorbar\":{\"outlinewidth\":0,\"ticks\":\"\"}}],\"contour\":[{\"type\":\"contour\",\"colorbar\":{\"outlinewidth\":0,\"ticks\":\"\"},\"colorscale\":[[0.0,\"#0d0887\"],[0.1111111111111111,\"#46039f\"],[0.2222222222222222,\"#7201a8\"],[0.3333333333333333,\"#9c179e\"],[0.4444444444444444,\"#bd3786\"],[0.5555555555555556,\"#d8576b\"],[0.6666666666666666,\"#ed7953\"],[0.7777777777777778,\"#fb9f3a\"],[0.8888888888888888,\"#fdca26\"],[1.0,\"#f0f921\"]]}],\"surface\":[{\"type\":\"surface\",\"colorbar\":{\"outlinewidth\":0,\"ticks\":\"\"},\"colorscale\":[[0.0,\"#0d0887\"],[0.1111111111111111,\"#46039f\"],[0.2222222222222222,\"#7201a8\"],[0.3333333333333333,\"#9c179e\"],[0.4444444444444444,\"#bd3786\"],[0.5555555555555556,\"#d8576b\"],[0.6666666666666666,\"#ed7953\"],[0.7777777777777778,\"#fb9f3a\"],[0.8888888888888888,\"#fdca26\"],[1.0,\"#f0f921\"]]}],\"mesh3d\":[{\"type\":\"mesh3d\",\"colorbar\":{\"outlinewidth\":0,\"ticks\":\"\"}}],\"scatter\":[{\"fillpattern\":{\"fillmode\":\"overlay\",\"size\":10,\"solidity\":0.2},\"type\":\"scatter\"}],\"parcoords\":[{\"type\":\"parcoords\",\"line\":{\"colorbar\":{\"outlinewidth\":0,\"ticks\":\"\"}}}],\"scatterpolargl\":[{\"type\":\"scatterpolargl\",\"marker\":{\"colorbar\":{\"outlinewidth\":0,\"ticks\":\"\"}}}],\"bar\":[{\"error_x\":{\"color\":\"#2a3f5f\"},\"error_y\":{\"color\":\"#2a3f5f\"},\"marker\":{\"line\":{\"color\":\"#E5ECF6\",\"width\":0.5},\"pattern\":{\"fillmode\":\"overlay\",\"size\":10,\"solidity\":0.2}},\"type\":\"bar\"}],\"scattergeo\":[{\"type\":\"scattergeo\",\"marker\":{\"colorbar\":{\"outlinewidth\":0,\"ticks\":\"\"}}}],\"scatterpolar\":[{\"type\":\"scatterpolar\",\"marker\":{\"colorbar\":{\"outlinewidth\":0,\"ticks\":\"\"}}}],\"histogram\":[{\"marker\":{\"pattern\":{\"fillmode\":\"overlay\",\"size\":10,\"solidity\":0.2}},\"type\":\"histogram\"}],\"scattergl\":[{\"type\":\"scattergl\",\"marker\":{\"colorbar\":{\"outlinewidth\":0,\"ticks\":\"\"}}}],\"scatter3d\":[{\"type\":\"scatter3d\",\"line\":{\"colorbar\":{\"outlinewidth\":0,\"ticks\":\"\"}},\"marker\":{\"colorbar\":{\"outlinewidth\":0,\"ticks\":\"\"}}}],\"scattermapbox\":[{\"type\":\"scattermapbox\",\"marker\":{\"colorbar\":{\"outlinewidth\":0,\"ticks\":\"\"}}}],\"scatterternary\":[{\"type\":\"scatterternary\",\"marker\":{\"colorbar\":{\"outlinewidth\":0,\"ticks\":\"\"}}}],\"scattercarpet\":[{\"type\":\"scattercarpet\",\"marker\":{\"colorbar\":{\"outlinewidth\":0,\"ticks\":\"\"}}}],\"carpet\":[{\"aaxis\":{\"endlinecolor\":\"#2a3f5f\",\"gridcolor\":\"white\",\"linecolor\":\"white\",\"minorgridcolor\":\"white\",\"startlinecolor\":\"#2a3f5f\"},\"baxis\":{\"endlinecolor\":\"#2a3f5f\",\"gridcolor\":\"white\",\"linecolor\":\"white\",\"minorgridcolor\":\"white\",\"startlinecolor\":\"#2a3f5f\"},\"type\":\"carpet\"}],\"table\":[{\"cells\":{\"fill\":{\"color\":\"#EBF0F8\"},\"line\":{\"color\":\"white\"}},\"header\":{\"fill\":{\"color\":\"#C8D4E3\"},\"line\":{\"color\":\"white\"}},\"type\":\"table\"}],\"barpolar\":[{\"marker\":{\"line\":{\"color\":\"#E5ECF6\",\"width\":0.5},\"pattern\":{\"fillmode\":\"overlay\",\"size\":10,\"solidity\":0.2}},\"type\":\"barpolar\"}],\"pie\":[{\"automargin\":true,\"type\":\"pie\"}]},\"layout\":{\"autotypenumbers\":\"strict\",\"colorway\":[\"#636efa\",\"#EF553B\",\"#00cc96\",\"#ab63fa\",\"#FFA15A\",\"#19d3f3\",\"#FF6692\",\"#B6E880\",\"#FF97FF\",\"#FECB52\"],\"font\":{\"color\":\"#2a3f5f\"},\"hovermode\":\"closest\",\"hoverlabel\":{\"align\":\"left\"},\"paper_bgcolor\":\"white\",\"plot_bgcolor\":\"#E5ECF6\",\"polar\":{\"bgcolor\":\"#E5ECF6\",\"angularaxis\":{\"gridcolor\":\"white\",\"linecolor\":\"white\",\"ticks\":\"\"},\"radialaxis\":{\"gridcolor\":\"white\",\"linecolor\":\"white\",\"ticks\":\"\"}},\"ternary\":{\"bgcolor\":\"#E5ECF6\",\"aaxis\":{\"gridcolor\":\"white\",\"linecolor\":\"white\",\"ticks\":\"\"},\"baxis\":{\"gridcolor\":\"white\",\"linecolor\":\"white\",\"ticks\":\"\"},\"caxis\":{\"gridcolor\":\"white\",\"linecolor\":\"white\",\"ticks\":\"\"}},\"coloraxis\":{\"colorbar\":{\"outlinewidth\":0,\"ticks\":\"\"}},\"colorscale\":{\"sequential\":[[0.0,\"#0d0887\"],[0.1111111111111111,\"#46039f\"],[0.2222222222222222,\"#7201a8\"],[0.3333333333333333,\"#9c179e\"],[0.4444444444444444,\"#bd3786\"],[0.5555555555555556,\"#d8576b\"],[0.6666666666666666,\"#ed7953\"],[0.7777777777777778,\"#fb9f3a\"],[0.8888888888888888,\"#fdca26\"],[1.0,\"#f0f921\"]],\"sequentialminus\":[[0.0,\"#0d0887\"],[0.1111111111111111,\"#46039f\"],[0.2222222222222222,\"#7201a8\"],[0.3333333333333333,\"#9c179e\"],[0.4444444444444444,\"#bd3786\"],[0.5555555555555556,\"#d8576b\"],[0.6666666666666666,\"#ed7953\"],[0.7777777777777778,\"#fb9f3a\"],[0.8888888888888888,\"#fdca26\"],[1.0,\"#f0f921\"]],\"diverging\":[[0,\"#8e0152\"],[0.1,\"#c51b7d\"],[0.2,\"#de77ae\"],[0.3,\"#f1b6da\"],[0.4,\"#fde0ef\"],[0.5,\"#f7f7f7\"],[0.6,\"#e6f5d0\"],[0.7,\"#b8e186\"],[0.8,\"#7fbc41\"],[0.9,\"#4d9221\"],[1,\"#276419\"]]},\"xaxis\":{\"gridcolor\":\"white\",\"linecolor\":\"white\",\"ticks\":\"\",\"title\":{\"standoff\":15},\"zerolinecolor\":\"white\",\"automargin\":true,\"zerolinewidth\":2},\"yaxis\":{\"gridcolor\":\"white\",\"linecolor\":\"white\",\"ticks\":\"\",\"title\":{\"standoff\":15},\"zerolinecolor\":\"white\",\"automargin\":true,\"zerolinewidth\":2},\"scene\":{\"xaxis\":{\"backgroundcolor\":\"#E5ECF6\",\"gridcolor\":\"white\",\"linecolor\":\"white\",\"showbackground\":true,\"ticks\":\"\",\"zerolinecolor\":\"white\",\"gridwidth\":2},\"yaxis\":{\"backgroundcolor\":\"#E5ECF6\",\"gridcolor\":\"white\",\"linecolor\":\"white\",\"showbackground\":true,\"ticks\":\"\",\"zerolinecolor\":\"white\",\"gridwidth\":2},\"zaxis\":{\"backgroundcolor\":\"#E5ECF6\",\"gridcolor\":\"white\",\"linecolor\":\"white\",\"showbackground\":true,\"ticks\":\"\",\"zerolinecolor\":\"white\",\"gridwidth\":2}},\"shapedefaults\":{\"line\":{\"color\":\"#2a3f5f\"}},\"annotationdefaults\":{\"arrowcolor\":\"#2a3f5f\",\"arrowhead\":0,\"arrowwidth\":1},\"geo\":{\"bgcolor\":\"white\",\"landcolor\":\"#E5ECF6\",\"subunitcolor\":\"white\",\"showland\":true,\"showlakes\":true,\"lakecolor\":\"white\"},\"title\":{\"x\":0.05},\"mapbox\":{\"style\":\"light\"}}},\"xaxis\":{\"anchor\":\"y\",\"domain\":[0.0,1.0],\"title\":{\"text\":\"Date_HS5\"}},\"yaxis\":{\"anchor\":\"x\",\"domain\":[0.0,1.0],\"title\":{\"text\":\"Number of codes\"}},\"legend\":{\"title\":{\"text\":\"Type\"},\"tracegroupgap\":0},\"margin\":{\"t\":60}},                        {\"responsive\": true}                    ).then(function(){\n",
       "                            \n",
       "var gd = document.getElementById('ae7e7a4a-5b59-490d-a79d-fa75123eb6c3');\n",
       "var x = new MutationObserver(function (mutations, observer) {{\n",
       "        var display = window.getComputedStyle(gd).display;\n",
       "        if (!display || display === 'none') {{\n",
       "            console.log([gd, 'removed!']);\n",
       "            Plotly.purge(gd);\n",
       "            observer.disconnect();\n",
       "        }}\n",
       "}});\n",
       "\n",
       "// Listen for the removal of the full notebook cells\n",
       "var notebookContainer = gd.closest('#notebook-container');\n",
       "if (notebookContainer) {{\n",
       "    x.observe(notebookContainer, {childList: true});\n",
       "}}\n",
       "\n",
       "// Listen for the clearing of the current output cell\n",
       "var outputEl = gd.closest('.output');\n",
       "if (outputEl) {{\n",
       "    x.observe(outputEl, {childList: true});\n",
       "}}\n",
       "\n",
       "                        })                };                });            </script>        </div>"
      ]
     },
     "metadata": {},
     "output_type": "display_data"
    }
   ],
   "source": [
    "import plotly.express as px\n",
    "\n",
    "plot1 = df_agg_m[['Full sanct.', 'Partial sanct.', 'Transitory sanct.']].stack().reset_index()\n",
    "plot1.rename(columns={'level_1':'Type', 0:'Number of codes'}, inplace=True)\n",
    "\n",
    "fig = px.area(plot1, x=\"Date_HS5\", y=\"Number of codes\", color=\"Type\", category_orders={'Type':['Full sanct.', 'Partial sanct.', 'Transitory sanct.']}\n",
    "             )\n",
    "fig.show()"
   ]
  },
  {
   "cell_type": "code",
   "execution_count": 42,
   "metadata": {},
   "outputs": [],
   "source": [
    "HS5_sanct_short = HS5_sanct[['To HS2017', 'From HS2022',\n",
    "       'Date_HS5', 'CN6_Full_code_0-0_HS5', 'CN6_Full_code_1-1_HS5',\n",
    "       'CN6_Full_code_0-1_proper_HS5',\n",
    "       'CN6_Full_code_0-1_date_firstpartial_HS5',\n",
    "       'CN6_Full_code_0-1_date_firstfull_HS5', 'Sanct_HS5', 'Issue1_HS5']]"
   ]
  },
  {
   "cell_type": "code",
   "execution_count": 43,
   "metadata": {},
   "outputs": [
    {
     "name": "stderr",
     "output_type": "stream",
     "text": [
      "/Users/omega_macbookpro/opt/anaconda3/lib/python3.7/site-packages/ipykernel_launcher.py:1: SettingWithCopyWarning:\n",
      "\n",
      "\n",
      "A value is trying to be set on a copy of a slice from a DataFrame.\n",
      "Try using .loc[row_indexer,col_indexer] = value instead\n",
      "\n",
      "See the caveats in the documentation: https://pandas.pydata.org/pandas-docs/stable/user_guide/indexing.html#returning-a-view-versus-a-copy\n",
      "\n",
      "/Users/omega_macbookpro/opt/anaconda3/lib/python3.7/site-packages/ipykernel_launcher.py:2: SettingWithCopyWarning:\n",
      "\n",
      "\n",
      "A value is trying to be set on a copy of a slice from a DataFrame.\n",
      "Try using .loc[row_indexer,col_indexer] = value instead\n",
      "\n",
      "See the caveats in the documentation: https://pandas.pydata.org/pandas-docs/stable/user_guide/indexing.html#returning-a-view-versus-a-copy\n",
      "\n",
      "/Users/omega_macbookpro/opt/anaconda3/lib/python3.7/site-packages/ipykernel_launcher.py:3: SettingWithCopyWarning:\n",
      "\n",
      "\n",
      "A value is trying to be set on a copy of a slice from a DataFrame.\n",
      "Try using .loc[row_indexer,col_indexer] = value instead\n",
      "\n",
      "See the caveats in the documentation: https://pandas.pydata.org/pandas-docs/stable/user_guide/indexing.html#returning-a-view-versus-a-copy\n",
      "\n"
     ]
    }
   ],
   "source": [
    "HS5_sanct_short['CN6_Full_code_0-0_HS5'] = HS5_sanct_short['CN6_Full_code_0-0_HS5'].apply(lambda x: int(x) if x==x else x)\n",
    "HS5_sanct_short['CN6_Full_code_1-1_HS5'] = HS5_sanct_short['CN6_Full_code_1-1_HS5'].apply(lambda x: int(x) if x==x else x)\n",
    "HS5_sanct_short['CN6_Full_code_0-1_proper_HS5'] = HS5_sanct_short['CN6_Full_code_0-1_proper_HS5'].apply(lambda x: int(x) if x==x else x)\n"
   ]
  },
  {
   "cell_type": "code",
   "execution_count": 45,
   "metadata": {},
   "outputs": [
    {
     "name": "stderr",
     "output_type": "stream",
     "text": [
      "/Users/omega_macbookpro/opt/anaconda3/lib/python3.7/site-packages/ipykernel_launcher.py:1: SettingWithCopyWarning:\n",
      "\n",
      "\n",
      "A value is trying to be set on a copy of a slice from a DataFrame.\n",
      "Try using .loc[row_indexer,col_indexer] = value instead\n",
      "\n",
      "See the caveats in the documentation: https://pandas.pydata.org/pandas-docs/stable/user_guide/indexing.html#returning-a-view-versus-a-copy\n",
      "\n",
      "/Users/omega_macbookpro/opt/anaconda3/lib/python3.7/site-packages/pandas/core/indexing.py:1720: SettingWithCopyWarning:\n",
      "\n",
      "\n",
      "A value is trying to be set on a copy of a slice from a DataFrame.\n",
      "Try using .loc[row_indexer,col_indexer] = value instead\n",
      "\n",
      "See the caveats in the documentation: https://pandas.pydata.org/pandas-docs/stable/user_guide/indexing.html#returning-a-view-versus-a-copy\n",
      "\n"
     ]
    }
   ],
   "source": [
    "HS5_sanct_short['Sanct_type'] = np.nan\n",
    "for i in HS5_sanct_short.index:\n",
    "    code0_0 = HS5_sanct_short.loc[i, 'CN6_Full_code_0-0_HS5']\n",
    "    code1_1 = HS5_sanct_short.loc[i, 'CN6_Full_code_1-1_HS5']    \n",
    "    code0_1 = HS5_sanct_short.loc[i, 'CN6_Full_code_0-1_proper_HS5']\n",
    "    \n",
    "    if code0_0 != code0_0: HS5_sanct_short.loc[i, 'Sanct_type'] = 'Non_sanctioned'\n",
    "    elif code0_0 == 1: HS5_sanct_short.loc[i, 'Sanct_type'] = 'Partial'\n",
    "    elif code1_1 == 1: HS5_sanct_short.loc[i, 'Sanct_type'] = 'Full'\n",
    "    else: HS5_sanct_short.loc[i, 'Sanct_type'] = 'Transitory'"
   ]
  },
  {
   "cell_type": "code",
   "execution_count": 65,
   "metadata": {},
   "outputs": [],
   "source": [
    "HS5_sanct_short_ext = pd.merge(HS5_sanct_short, df_corr_gr[['HS2017', 'Corr_1:1', 'Corr_n:1_only']], left_on='To HS2017', right_on='HS2017', how='left')\n",
    "HS5_sanct_short_ext['Issue2_HS5'] = (df_corr_gr['Corr_1:1'] | df_corr_gr['Corr_n:1_only']).apply(lambda x: not x)\n"
   ]
  },
  {
   "cell_type": "code",
   "execution_count": 66,
   "metadata": {},
   "outputs": [],
   "source": [
    "HS5_sanct_short_ext['Issue1_HS5'] = HS5_sanct_short_ext['Issue1_HS5'].apply(lambda x: int(x) if x==x else x)\n",
    "HS5_sanct_short_ext['Corr_1:1'] = HS5_sanct_short_ext['Corr_1:1'].apply(lambda x: int(x) if x==x else x)\n",
    "HS5_sanct_short_ext['Corr_n:1_only'] = HS5_sanct_short_ext['Corr_n:1_only'].apply(lambda x: int(x) if x==x else x)\n",
    "HS5_sanct_short_ext['Issue2_HS5'] = HS5_sanct_short_ext['Issue2_HS5'].apply(lambda x: int(x) if x==x else x)\n"
   ]
  },
  {
   "cell_type": "code",
   "execution_count": 67,
   "metadata": {},
   "outputs": [
    {
     "data": {
      "text/html": [
       "<div>\n",
       "<style scoped>\n",
       "    .dataframe tbody tr th:only-of-type {\n",
       "        vertical-align: middle;\n",
       "    }\n",
       "\n",
       "    .dataframe tbody tr th {\n",
       "        vertical-align: top;\n",
       "    }\n",
       "\n",
       "    .dataframe thead th {\n",
       "        text-align: right;\n",
       "    }\n",
       "</style>\n",
       "<table border=\"1\" class=\"dataframe\">\n",
       "  <thead>\n",
       "    <tr style=\"text-align: right;\">\n",
       "      <th></th>\n",
       "      <th>To HS2017</th>\n",
       "      <th>From HS2022</th>\n",
       "      <th>Date_HS5</th>\n",
       "      <th>CN6_Full_code_0-0_HS5</th>\n",
       "      <th>CN6_Full_code_1-1_HS5</th>\n",
       "      <th>CN6_Full_code_0-1_proper_HS5</th>\n",
       "      <th>CN6_Full_code_0-1_date_firstpartial_HS5</th>\n",
       "      <th>CN6_Full_code_0-1_date_firstfull_HS5</th>\n",
       "      <th>Sanct_HS5</th>\n",
       "      <th>Sanct_type</th>\n",
       "      <th>Issue1_HS5</th>\n",
       "      <th>Issue2_HS5</th>\n",
       "      <th>Corr_1:1</th>\n",
       "      <th>Corr_n:1_only</th>\n",
       "    </tr>\n",
       "  </thead>\n",
       "  <tbody>\n",
       "    <tr>\n",
       "      <th>0</th>\n",
       "      <td>010121</td>\n",
       "      <td>[010121]</td>\n",
       "      <td>NaN</td>\n",
       "      <td>NaN</td>\n",
       "      <td>NaN</td>\n",
       "      <td>NaN</td>\n",
       "      <td>NaN</td>\n",
       "      <td>NaN</td>\n",
       "      <td>0.0</td>\n",
       "      <td>Non_sanctioned</td>\n",
       "      <td>0</td>\n",
       "      <td>0</td>\n",
       "      <td>1</td>\n",
       "      <td>0</td>\n",
       "    </tr>\n",
       "    <tr>\n",
       "      <th>1</th>\n",
       "      <td>010129</td>\n",
       "      <td>[010129]</td>\n",
       "      <td>NaN</td>\n",
       "      <td>NaN</td>\n",
       "      <td>NaN</td>\n",
       "      <td>NaN</td>\n",
       "      <td>NaN</td>\n",
       "      <td>NaN</td>\n",
       "      <td>0.0</td>\n",
       "      <td>Non_sanctioned</td>\n",
       "      <td>0</td>\n",
       "      <td>0</td>\n",
       "      <td>1</td>\n",
       "      <td>0</td>\n",
       "    </tr>\n",
       "  </tbody>\n",
       "</table>\n",
       "</div>"
      ],
      "text/plain": [
       "  To HS2017 From HS2022 Date_HS5  CN6_Full_code_0-0_HS5  \\\n",
       "0    010121    [010121]      NaN                    NaN   \n",
       "1    010129    [010129]      NaN                    NaN   \n",
       "\n",
       "   CN6_Full_code_1-1_HS5  CN6_Full_code_0-1_proper_HS5  \\\n",
       "0                    NaN                           NaN   \n",
       "1                    NaN                           NaN   \n",
       "\n",
       "  CN6_Full_code_0-1_date_firstpartial_HS5  \\\n",
       "0                                     NaN   \n",
       "1                                     NaN   \n",
       "\n",
       "  CN6_Full_code_0-1_date_firstfull_HS5  Sanct_HS5      Sanct_type  Issue1_HS5  \\\n",
       "0                                  NaN        0.0  Non_sanctioned           0   \n",
       "1                                  NaN        0.0  Non_sanctioned           0   \n",
       "\n",
       "   Issue2_HS5  Corr_1:1  Corr_n:1_only  \n",
       "0           0         1              0  \n",
       "1           0         1              0  "
      ]
     },
     "execution_count": 67,
     "metadata": {},
     "output_type": "execute_result"
    }
   ],
   "source": [
    "HS5_sanct_short_ext = HS5_sanct_short_ext[['To HS2017', 'From HS2022', 'Date_HS5', \n",
    "                                           'CN6_Full_code_0-0_HS5','CN6_Full_code_1-1_HS5', 'CN6_Full_code_0-1_proper_HS5',\n",
    "                                           'CN6_Full_code_0-1_date_firstpartial_HS5','CN6_Full_code_0-1_date_firstfull_HS5', \n",
    "                                           'Sanct_HS5', 'Sanct_type',\n",
    "                                           'Issue1_HS5', 'Issue2_HS5',\n",
    "                                           'Corr_1:1','Corr_n:1_only']]\n",
    "HS5_sanct_short_ext.head(2)"
   ]
  },
  {
   "cell_type": "code",
   "execution_count": 68,
   "metadata": {},
   "outputs": [],
   "source": [
    "HS5_sanct_short_ext.rename(columns={'To HS2017':'HS2017', 'From HS2022':'HS2022', \n",
    "                                    'CN6_Full_code_0-0_HS5':'Partial_HS5', 'CN6_Full_code_1-1_HS5':'Full_HS5', 'CN6_Full_code_0-1_proper_HS5':'Transitory_HS5',\n",
    "                                   'CN6_Full_code_0-1_date_firstpartial_HS5':'Transitory_firstpatial_HS5', 'CN6_Full_code_0-1_date_firstfull_HS5':'Transitory_firstfull_HS5',\n",
    "                                   }, inplace=True)\n"
   ]
  },
  {
   "cell_type": "code",
   "execution_count": 70,
   "metadata": {},
   "outputs": [],
   "source": [
    "HS5_sanct_short_ext.to_csv(\"/Users/omega_macbookpro/Desktop/International_Trade/Dissertation_MRes/Comtrade/Sanctions Docs/EU/Data/Output_Script_2/HS5_sanct_short_ext_imp_v1.csv\")\n"
   ]
  },
  {
   "cell_type": "code",
   "execution_count": 69,
   "metadata": {},
   "outputs": [
    {
     "data": {
      "text/html": [
       "<div>\n",
       "<style scoped>\n",
       "    .dataframe tbody tr th:only-of-type {\n",
       "        vertical-align: middle;\n",
       "    }\n",
       "\n",
       "    .dataframe tbody tr th {\n",
       "        vertical-align: top;\n",
       "    }\n",
       "\n",
       "    .dataframe thead th {\n",
       "        text-align: right;\n",
       "    }\n",
       "</style>\n",
       "<table border=\"1\" class=\"dataframe\">\n",
       "  <thead>\n",
       "    <tr style=\"text-align: right;\">\n",
       "      <th></th>\n",
       "      <th>HS2017</th>\n",
       "      <th>HS2022</th>\n",
       "      <th>Date_HS5</th>\n",
       "      <th>Partial_HS5</th>\n",
       "      <th>Full_HS5</th>\n",
       "      <th>Transitory_HS5</th>\n",
       "      <th>Transitory_firstpatial_HS5</th>\n",
       "      <th>Transitory_firstfull_HS5</th>\n",
       "      <th>Sanct_HS5</th>\n",
       "      <th>Sanct_type</th>\n",
       "      <th>Issue1_HS5</th>\n",
       "      <th>Issue2_HS5</th>\n",
       "      <th>Corr_1:1</th>\n",
       "      <th>Corr_n:1_only</th>\n",
       "    </tr>\n",
       "  </thead>\n",
       "  <tbody>\n",
       "    <tr>\n",
       "      <th>0</th>\n",
       "      <td>010121</td>\n",
       "      <td>[010121]</td>\n",
       "      <td>NaN</td>\n",
       "      <td>NaN</td>\n",
       "      <td>NaN</td>\n",
       "      <td>NaN</td>\n",
       "      <td>NaN</td>\n",
       "      <td>NaN</td>\n",
       "      <td>0.0</td>\n",
       "      <td>Non_sanctioned</td>\n",
       "      <td>0</td>\n",
       "      <td>0</td>\n",
       "      <td>1</td>\n",
       "      <td>0</td>\n",
       "    </tr>\n",
       "    <tr>\n",
       "      <th>1</th>\n",
       "      <td>010129</td>\n",
       "      <td>[010129]</td>\n",
       "      <td>NaN</td>\n",
       "      <td>NaN</td>\n",
       "      <td>NaN</td>\n",
       "      <td>NaN</td>\n",
       "      <td>NaN</td>\n",
       "      <td>NaN</td>\n",
       "      <td>0.0</td>\n",
       "      <td>Non_sanctioned</td>\n",
       "      <td>0</td>\n",
       "      <td>0</td>\n",
       "      <td>1</td>\n",
       "      <td>0</td>\n",
       "    </tr>\n",
       "    <tr>\n",
       "      <th>2</th>\n",
       "      <td>010130</td>\n",
       "      <td>[010130]</td>\n",
       "      <td>NaN</td>\n",
       "      <td>NaN</td>\n",
       "      <td>NaN</td>\n",
       "      <td>NaN</td>\n",
       "      <td>NaN</td>\n",
       "      <td>NaN</td>\n",
       "      <td>0.0</td>\n",
       "      <td>Non_sanctioned</td>\n",
       "      <td>0</td>\n",
       "      <td>0</td>\n",
       "      <td>1</td>\n",
       "      <td>0</td>\n",
       "    </tr>\n",
       "    <tr>\n",
       "      <th>3</th>\n",
       "      <td>010190</td>\n",
       "      <td>[010190]</td>\n",
       "      <td>NaN</td>\n",
       "      <td>NaN</td>\n",
       "      <td>NaN</td>\n",
       "      <td>NaN</td>\n",
       "      <td>NaN</td>\n",
       "      <td>NaN</td>\n",
       "      <td>0.0</td>\n",
       "      <td>Non_sanctioned</td>\n",
       "      <td>0</td>\n",
       "      <td>0</td>\n",
       "      <td>1</td>\n",
       "      <td>0</td>\n",
       "    </tr>\n",
       "    <tr>\n",
       "      <th>4</th>\n",
       "      <td>010221</td>\n",
       "      <td>[010221]</td>\n",
       "      <td>NaN</td>\n",
       "      <td>NaN</td>\n",
       "      <td>NaN</td>\n",
       "      <td>NaN</td>\n",
       "      <td>NaN</td>\n",
       "      <td>NaN</td>\n",
       "      <td>0.0</td>\n",
       "      <td>Non_sanctioned</td>\n",
       "      <td>0</td>\n",
       "      <td>0</td>\n",
       "      <td>1</td>\n",
       "      <td>0</td>\n",
       "    </tr>\n",
       "    <tr>\n",
       "      <th>...</th>\n",
       "      <td>...</td>\n",
       "      <td>...</td>\n",
       "      <td>...</td>\n",
       "      <td>...</td>\n",
       "      <td>...</td>\n",
       "      <td>...</td>\n",
       "      <td>...</td>\n",
       "      <td>...</td>\n",
       "      <td>...</td>\n",
       "      <td>...</td>\n",
       "      <td>...</td>\n",
       "      <td>...</td>\n",
       "      <td>...</td>\n",
       "      <td>...</td>\n",
       "    </tr>\n",
       "    <tr>\n",
       "      <th>5357</th>\n",
       "      <td>970300</td>\n",
       "      <td>[970310, 970390]</td>\n",
       "      <td>NaN</td>\n",
       "      <td>NaN</td>\n",
       "      <td>NaN</td>\n",
       "      <td>NaN</td>\n",
       "      <td>NaN</td>\n",
       "      <td>NaN</td>\n",
       "      <td>0.0</td>\n",
       "      <td>Non_sanctioned</td>\n",
       "      <td>0</td>\n",
       "      <td>0</td>\n",
       "      <td>0</td>\n",
       "      <td>1</td>\n",
       "    </tr>\n",
       "    <tr>\n",
       "      <th>5358</th>\n",
       "      <td>970400</td>\n",
       "      <td>[970400]</td>\n",
       "      <td>NaN</td>\n",
       "      <td>NaN</td>\n",
       "      <td>NaN</td>\n",
       "      <td>NaN</td>\n",
       "      <td>NaN</td>\n",
       "      <td>NaN</td>\n",
       "      <td>0.0</td>\n",
       "      <td>Non_sanctioned</td>\n",
       "      <td>0</td>\n",
       "      <td>0</td>\n",
       "      <td>1</td>\n",
       "      <td>0</td>\n",
       "    </tr>\n",
       "    <tr>\n",
       "      <th>5359</th>\n",
       "      <td>970500</td>\n",
       "      <td>[970510, 970521, 970522, 970529, 970531, 970539]</td>\n",
       "      <td>NaN</td>\n",
       "      <td>NaN</td>\n",
       "      <td>NaN</td>\n",
       "      <td>NaN</td>\n",
       "      <td>NaN</td>\n",
       "      <td>NaN</td>\n",
       "      <td>0.0</td>\n",
       "      <td>Non_sanctioned</td>\n",
       "      <td>0</td>\n",
       "      <td>0</td>\n",
       "      <td>0</td>\n",
       "      <td>1</td>\n",
       "    </tr>\n",
       "    <tr>\n",
       "      <th>5360</th>\n",
       "      <td>970600</td>\n",
       "      <td>[970610, 970690]</td>\n",
       "      <td>NaN</td>\n",
       "      <td>NaN</td>\n",
       "      <td>NaN</td>\n",
       "      <td>NaN</td>\n",
       "      <td>NaN</td>\n",
       "      <td>NaN</td>\n",
       "      <td>0.0</td>\n",
       "      <td>Non_sanctioned</td>\n",
       "      <td>0</td>\n",
       "      <td>0</td>\n",
       "      <td>0</td>\n",
       "      <td>1</td>\n",
       "    </tr>\n",
       "    <tr>\n",
       "      <th>5361</th>\n",
       "      <td>999999</td>\n",
       "      <td>[999999]</td>\n",
       "      <td>NaN</td>\n",
       "      <td>NaN</td>\n",
       "      <td>NaN</td>\n",
       "      <td>NaN</td>\n",
       "      <td>NaN</td>\n",
       "      <td>NaN</td>\n",
       "      <td>0.0</td>\n",
       "      <td>Non_sanctioned</td>\n",
       "      <td>0</td>\n",
       "      <td>0</td>\n",
       "      <td>1</td>\n",
       "      <td>0</td>\n",
       "    </tr>\n",
       "  </tbody>\n",
       "</table>\n",
       "<p>5362 rows × 14 columns</p>\n",
       "</div>"
      ],
      "text/plain": [
       "      HS2017                                            HS2022 Date_HS5  \\\n",
       "0     010121                                          [010121]      NaN   \n",
       "1     010129                                          [010129]      NaN   \n",
       "2     010130                                          [010130]      NaN   \n",
       "3     010190                                          [010190]      NaN   \n",
       "4     010221                                          [010221]      NaN   \n",
       "...      ...                                               ...      ...   \n",
       "5357  970300                                  [970310, 970390]      NaN   \n",
       "5358  970400                                          [970400]      NaN   \n",
       "5359  970500  [970510, 970521, 970522, 970529, 970531, 970539]      NaN   \n",
       "5360  970600                                  [970610, 970690]      NaN   \n",
       "5361  999999                                          [999999]      NaN   \n",
       "\n",
       "      Partial_HS5  Full_HS5  Transitory_HS5 Transitory_firstpatial_HS5  \\\n",
       "0             NaN       NaN             NaN                        NaN   \n",
       "1             NaN       NaN             NaN                        NaN   \n",
       "2             NaN       NaN             NaN                        NaN   \n",
       "3             NaN       NaN             NaN                        NaN   \n",
       "4             NaN       NaN             NaN                        NaN   \n",
       "...           ...       ...             ...                        ...   \n",
       "5357          NaN       NaN             NaN                        NaN   \n",
       "5358          NaN       NaN             NaN                        NaN   \n",
       "5359          NaN       NaN             NaN                        NaN   \n",
       "5360          NaN       NaN             NaN                        NaN   \n",
       "5361          NaN       NaN             NaN                        NaN   \n",
       "\n",
       "     Transitory_firstfull_HS5  Sanct_HS5      Sanct_type  Issue1_HS5  \\\n",
       "0                         NaN        0.0  Non_sanctioned           0   \n",
       "1                         NaN        0.0  Non_sanctioned           0   \n",
       "2                         NaN        0.0  Non_sanctioned           0   \n",
       "3                         NaN        0.0  Non_sanctioned           0   \n",
       "4                         NaN        0.0  Non_sanctioned           0   \n",
       "...                       ...        ...             ...         ...   \n",
       "5357                      NaN        0.0  Non_sanctioned           0   \n",
       "5358                      NaN        0.0  Non_sanctioned           0   \n",
       "5359                      NaN        0.0  Non_sanctioned           0   \n",
       "5360                      NaN        0.0  Non_sanctioned           0   \n",
       "5361                      NaN        0.0  Non_sanctioned           0   \n",
       "\n",
       "      Issue2_HS5  Corr_1:1  Corr_n:1_only  \n",
       "0              0         1              0  \n",
       "1              0         1              0  \n",
       "2              0         1              0  \n",
       "3              0         1              0  \n",
       "4              0         1              0  \n",
       "...          ...       ...            ...  \n",
       "5357           0         0              1  \n",
       "5358           0         1              0  \n",
       "5359           0         0              1  \n",
       "5360           0         0              1  \n",
       "5361           0         1              0  \n",
       "\n",
       "[5362 rows x 14 columns]"
      ]
     },
     "execution_count": 69,
     "metadata": {},
     "output_type": "execute_result"
    }
   ],
   "source": [
    "# HS5_sanct_short_ext.columns\n",
    "# HS5_sanct_short\n",
    "\n",
    "HS5_sanct_short_ext"
   ]
  },
  {
   "cell_type": "markdown",
   "metadata": {},
   "source": [
    "#### Add similare goods indicator"
   ]
  },
  {
   "cell_type": "code",
   "execution_count": 2,
   "metadata": {},
   "outputs": [],
   "source": [
    "HS5_sanct_short_ext = pd.read_csv(\"/Users/omega_macbookpro/Desktop/International_Trade/Dissertation_MRes/Comtrade/Sanctions Docs/EU/Data/Output_Script_2/HS5_sanct_short_ext_imp_v1.csv\", index_col=0, dtype={'HS2017': str})\n"
   ]
  },
  {
   "cell_type": "code",
   "execution_count": 4,
   "metadata": {},
   "outputs": [],
   "source": [
    "HS5_sanct_short_ext['4digit'] = HS5_sanct_short_ext['HS2017'].apply(lambda x: x[:4])\n",
    "df_similar = HS5_sanct_short_ext.loc[HS5_sanct_short_ext['Sanct_HS5'] == 1, ['4digit', 'Date_HS5']].groupby('4digit')['Date_HS5'].agg(list).apply(min).reset_index()\n",
    "df_similar.rename(columns={'Date_HS5':'Date_HS5_similar'}, inplace=True)\n",
    "HS5_sanct_short_ext = pd.merge(HS5_sanct_short_ext, df_similar, on='4digit', how='left')\n",
    "HS5_sanct_short_ext.loc[HS5_sanct_short_ext['Sanct_HS5'] == 1, 'Date_HS5_similar'] = np.nan"
   ]
  },
  {
   "cell_type": "code",
   "execution_count": 5,
   "metadata": {},
   "outputs": [
    {
     "name": "stdout",
     "output_type": "stream",
     "text": [
      "37\n"
     ]
    }
   ],
   "source": [
    "# there are 37 of similar goods\n",
    "print(HS5_sanct_short_ext['Date_HS5_similar'].notna().sum())"
   ]
  },
  {
   "cell_type": "code",
   "execution_count": 6,
   "metadata": {},
   "outputs": [],
   "source": [
    "HS5_sanct_short_ext.to_csv(\"/Users/omega_macbookpro/Desktop/International_Trade/Dissertation_MRes/Comtrade/Sanctions Docs/EU/Data/Output_Script_2/HS5_sanct_short_ext_imp_v2.csv\")\n"
   ]
  },
  {
   "cell_type": "code",
   "execution_count": null,
   "metadata": {},
   "outputs": [],
   "source": []
  },
  {
   "cell_type": "code",
   "execution_count": null,
   "metadata": {},
   "outputs": [],
   "source": []
  },
  {
   "cell_type": "code",
   "execution_count": null,
   "metadata": {},
   "outputs": [],
   "source": []
  },
  {
   "cell_type": "code",
   "execution_count": null,
   "metadata": {},
   "outputs": [],
   "source": []
  },
  {
   "cell_type": "code",
   "execution_count": null,
   "metadata": {},
   "outputs": [],
   "source": []
  },
  {
   "cell_type": "code",
   "execution_count": 53,
   "metadata": {},
   "outputs": [],
   "source": [
    "EU_imp = pd.read_csv('/Users/omega_macbookpro/Desktop/International_Trade/Dissertation_MRes/Comtrade/Sanctions Docs/EU/Data/Input_Script_2/TradeData_EUimpAnn.csv', dtype={'CmdCode': str})\n",
    "\n",
    "EU_imp = EU_imp[['PartnerISO', 'CmdCode', 'PrimaryValue']]\n",
    "EU_imp = pd.merge(EU_imp, EU_imp.groupby('PartnerISO')['PrimaryValue'].sum().reset_index(), on='PartnerISO', how='left')\n",
    "EU_imp['Share'] = EU_imp['PrimaryValue_x'] / EU_imp['PrimaryValue_y']"
   ]
  },
  {
   "cell_type": "code",
   "execution_count": 54,
   "metadata": {},
   "outputs": [
    {
     "name": "stderr",
     "output_type": "stream",
     "text": [
      "/Users/omega_macbookpro/opt/anaconda3/lib/python3.7/site-packages/pandas/core/frame.py:4446: SettingWithCopyWarning:\n",
      "\n",
      "\n",
      "A value is trying to be set on a copy of a slice from a DataFrame\n",
      "\n",
      "See the caveats in the documentation: https://pandas.pydata.org/pandas-docs/stable/user_guide/indexing.html#returning-a-view-versus-a-copy\n",
      "\n"
     ]
    }
   ],
   "source": [
    "EU_imp_W = EU_imp.loc[EU_imp['PartnerISO'] == 'W00']\n",
    "EU_imp_R = EU_imp.loc[EU_imp['PartnerISO'] == 'RUS']\n",
    "EU_imp_W.rename(columns={'Share':'Share_World'}, inplace=True)\n",
    "EU_imp_R.rename(columns={'Share':'Share_Rus'}, inplace=True)"
   ]
  },
  {
   "cell_type": "code",
   "execution_count": 55,
   "metadata": {},
   "outputs": [],
   "source": [
    "HS5_sanct_short_ext = pd.merge(HS5_sanct_short_ext, EU_imp_R[['CmdCode', 'PrimaryValue_y', 'Share_Rus']], left_on='HS2017', right_on='CmdCode', how='left')\n",
    "HS5_sanct_short_ext = pd.merge(HS5_sanct_short_ext, EU_imp_W[['CmdCode', 'PrimaryValue_y', 'Share_World']], left_on='HS2017', right_on='CmdCode', how='left')\n"
   ]
  },
  {
   "cell_type": "code",
   "execution_count": 56,
   "metadata": {},
   "outputs": [],
   "source": [
    "HS5_sanct_short_ext = pd.merge(HS5_sanct_short_ext, df_corr_gr[['HS2017', 'Relationship_type']], on='HS2017', how='left')\n"
   ]
  },
  {
   "cell_type": "markdown",
   "metadata": {},
   "source": [
    "#### Make a crosstab table"
   ]
  },
  {
   "cell_type": "code",
   "execution_count": 57,
   "metadata": {},
   "outputs": [
    {
     "data": {
      "text/plain": [
       "{'1:1'}           4097\n",
       "{'n:n', 'n:1'}    1142\n",
       "{'n:1'}             65\n",
       "{'1:n'}             39\n",
       "{'n:n'}             19\n",
       "Name: Relationship_type, dtype: int64"
      ]
     },
     "execution_count": 57,
     "metadata": {},
     "output_type": "execute_result"
    }
   ],
   "source": [
    "HS5_sanct_short_ext['Relationship_type'].value_counts()"
   ]
  },
  {
   "cell_type": "code",
   "execution_count": 58,
   "metadata": {},
   "outputs": [],
   "source": [
    "stat1 = HS5_sanct_short_ext.groupby('Relationship_type')[['Share_World', 'Share_Rus', 'Sanct_HS5']].sum()\n",
    "stat1['Sanct_HS5_share'] = stat1['Sanct_HS5'] / stat1['Sanct_HS5'].sum()\n",
    "\n",
    "stat1 = pd.concat([stat1, HS5_sanct_short_ext['Relationship_type'].value_counts()], axis=1, join=\"outer\")\n",
    "stat1['Relationship_type_share'] = stat1['Relationship_type'] / stat1['Relationship_type'].sum()"
   ]
  },
  {
   "cell_type": "code",
   "execution_count": 59,
   "metadata": {},
   "outputs": [
    {
     "data": {
      "text/html": [
       "<div>\n",
       "<style scoped>\n",
       "    .dataframe tbody tr th:only-of-type {\n",
       "        vertical-align: middle;\n",
       "    }\n",
       "\n",
       "    .dataframe tbody tr th {\n",
       "        vertical-align: top;\n",
       "    }\n",
       "\n",
       "    .dataframe thead th {\n",
       "        text-align: right;\n",
       "    }\n",
       "</style>\n",
       "<table border=\"1\" class=\"dataframe\">\n",
       "  <thead>\n",
       "    <tr style=\"text-align: right;\">\n",
       "      <th></th>\n",
       "      <th>Relationship_type</th>\n",
       "      <th>Relationship_type_share</th>\n",
       "      <th>Sanct_HS5</th>\n",
       "      <th>Sanct_HS5_share</th>\n",
       "      <th>Share_World</th>\n",
       "      <th>Share_Rus</th>\n",
       "    </tr>\n",
       "  </thead>\n",
       "  <tbody>\n",
       "    <tr>\n",
       "      <th>{'1:1'}</th>\n",
       "      <td>4097</td>\n",
       "      <td>0.764081</td>\n",
       "      <td>1187.0</td>\n",
       "      <td>0.701537</td>\n",
       "      <td>0.595766</td>\n",
       "      <td>0.970858</td>\n",
       "    </tr>\n",
       "    <tr>\n",
       "      <th>{'n:1'}</th>\n",
       "      <td>65</td>\n",
       "      <td>0.012122</td>\n",
       "      <td>30.0</td>\n",
       "      <td>0.017730</td>\n",
       "      <td>0.014020</td>\n",
       "      <td>0.002105</td>\n",
       "    </tr>\n",
       "    <tr>\n",
       "      <th>{'n:n', 'n:1'}</th>\n",
       "      <td>1142</td>\n",
       "      <td>0.212980</td>\n",
       "      <td>458.0</td>\n",
       "      <td>0.270686</td>\n",
       "      <td>0.375744</td>\n",
       "      <td>0.026475</td>\n",
       "    </tr>\n",
       "    <tr>\n",
       "      <th>{'1:n'}</th>\n",
       "      <td>39</td>\n",
       "      <td>0.007273</td>\n",
       "      <td>9.0</td>\n",
       "      <td>0.005319</td>\n",
       "      <td>0.004135</td>\n",
       "      <td>0.000218</td>\n",
       "    </tr>\n",
       "    <tr>\n",
       "      <th>{'n:n'}</th>\n",
       "      <td>19</td>\n",
       "      <td>0.003543</td>\n",
       "      <td>8.0</td>\n",
       "      <td>0.004728</td>\n",
       "      <td>0.009154</td>\n",
       "      <td>0.000251</td>\n",
       "    </tr>\n",
       "  </tbody>\n",
       "</table>\n",
       "</div>"
      ],
      "text/plain": [
       "                Relationship_type  Relationship_type_share  Sanct_HS5  \\\n",
       "{'1:1'}                      4097                 0.764081     1187.0   \n",
       "{'n:1'}                        65                 0.012122       30.0   \n",
       "{'n:n', 'n:1'}               1142                 0.212980      458.0   \n",
       "{'1:n'}                        39                 0.007273        9.0   \n",
       "{'n:n'}                        19                 0.003543        8.0   \n",
       "\n",
       "                Sanct_HS5_share  Share_World  Share_Rus  \n",
       "{'1:1'}                0.701537     0.595766   0.970858  \n",
       "{'n:1'}                0.017730     0.014020   0.002105  \n",
       "{'n:n', 'n:1'}         0.270686     0.375744   0.026475  \n",
       "{'1:n'}                0.005319     0.004135   0.000218  \n",
       "{'n:n'}                0.004728     0.009154   0.000251  "
      ]
     },
     "execution_count": 59,
     "metadata": {},
     "output_type": "execute_result"
    }
   ],
   "source": [
    "stat1 = stat1[['Relationship_type', 'Relationship_type_share', 'Sanct_HS5', 'Sanct_HS5_share', 'Share_World', 'Share_Rus']]\n",
    "stat1.reindex(index=[\"{'1:1'}\", \"{'n:1'}\", \"{'n:n', 'n:1'}\", \"{'1:n'}\", \"{'n:n'}\"])"
   ]
  },
  {
   "cell_type": "code",
   "execution_count": 61,
   "metadata": {},
   "outputs": [
    {
     "name": "stdout",
     "output_type": "stream",
     "text": [
      "\\begin{tabular}{lrrrrrr}\n",
      "\\toprule\n",
      "{} &  Relationship\\_type &  Relationship\\_type\\_share &  Sanct\\_HS5 &  Sanct\\_HS5\\_share &  Share\\_World &  Share\\_Rus \\\\\n",
      "\\midrule\n",
      "\\{'1:1'\\}        &               4097 &                     0.76 &    1187.00 &             0.70 &         0.60 &       0.97 \\\\\n",
      "\\{'1:n'\\}        &                 39 &                     0.01 &       9.00 &             0.01 &         0.00 &       0.00 \\\\\n",
      "\\{'n:1'\\}        &                 65 &                     0.01 &      30.00 &             0.02 &         0.01 &       0.00 \\\\\n",
      "\\{'n:n', 'n:1'\\} &               1142 &                     0.21 &     458.00 &             0.27 &         0.38 &       0.03 \\\\\n",
      "\\{'n:n'\\}        &                 19 &                     0.00 &       8.00 &             0.00 &         0.01 &       0.00 \\\\\n",
      "\\bottomrule\n",
      "\\end{tabular}\n",
      "\n"
     ]
    }
   ],
   "source": [
    "print(stat1.to_latex(index=True,\n",
    "                  float_format=\"{:.2f}\".format,\n",
    ")) "
   ]
  },
  {
   "cell_type": "code",
   "execution_count": null,
   "metadata": {},
   "outputs": [],
   "source": []
  }
 ],
 "metadata": {
  "kernelspec": {
   "display_name": "Python 3",
   "language": "python",
   "name": "python3"
  },
  "language_info": {
   "codemirror_mode": {
    "name": "ipython",
    "version": 3
   },
   "file_extension": ".py",
   "mimetype": "text/x-python",
   "name": "python",
   "nbconvert_exporter": "python",
   "pygments_lexer": "ipython3",
   "version": "3.7.6"
  }
 },
 "nbformat": 4,
 "nbformat_minor": 4
}
