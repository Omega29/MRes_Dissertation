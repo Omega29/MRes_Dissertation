{
 "cells": [
  {
   "cell_type": "code",
   "execution_count": 2,
   "metadata": {},
   "outputs": [],
   "source": [
    "import pandas as pd\n",
    "import numpy as np"
   ]
  },
  {
   "cell_type": "markdown",
   "metadata": {},
   "source": [
    "## Script to see patterns of diversion for EU and Russia"
   ]
  },
  {
   "cell_type": "code",
   "execution_count": 3,
   "metadata": {},
   "outputs": [],
   "source": [
    "# read conversion table and HS5 level sanction table\n",
    "HS2022toHS2017 = pd.read_excel('/Users/omega_macbookpro/Desktop/International_Trade/Dissertation_MRes/Comtrade/Sanctions Docs/EU/Data/HS2022toHS2017.xlsx', sheet_name='Conversions', dtype={'From HS2022': str, 'To HS2017': str}) \n",
    "HS5_sanct = pd.read_csv(\"/Users/omega_macbookpro/Desktop/International_Trade/Dissertation_MRes/Comtrade/Sanctions Docs/EU/Data/Output_Script_4/HS5_sanct_short_ext_exp_v3.csv\", dtype={'HS2017': str})\n",
    "HS5_sanct[['Partial_HS5', 'Full_HS5','Transitory_HS5']] = HS5_sanct[['Partial_HS5', 'Full_HS5','Transitory_HS5']].fillna(value=0)\n",
    "HS5_sanct.drop('Unnamed: 0', axis=1, inplace=True)\n",
    "\n",
    "Partners = pd.read_csv(\"/Users/omega_macbookpro/Desktop/International_Trade/Dissertation_MRes/Comtrade/Sanctions Docs/EU/Data/Output_Script_7/Partners.csv\", dtype={'PartnerCode': str})\n",
    "Reporters = pd.read_csv(\"/Users/omega_macbookpro/Desktop/International_Trade/Dissertation_MRes/Comtrade/Sanctions Docs/EU/Data/Output_Script_7/Reporters.csv\", dtype={'PartnerCode': str})\n",
    "Reporters['ReporterCode'] = Reporters['ReporterCode'].apply(str)\n"
   ]
  },
  {
   "cell_type": "code",
   "execution_count": 29,
   "metadata": {},
   "outputs": [],
   "source": [
    "import requests\n",
    "import comtradeapicall\n",
    "import time\n",
    "import datetime\n",
    "from tqdm import tqdm\n",
    "subscription_key = '94ee5163870949e1aa6fe904f64e241d' # comtrade api subscription key (from comtradedeveloper.un.org)\n",
    "directory = '/Users/omega_macbookpro/Desktop/International_Trade/Dissertation_MRes/Comtrade/Sanctions Docs/EU/Data/Output_Script_7'  # output directory for downloaded files \n",
    "\n",
    "#string_dates = '2020,2021,2022,2023,2024'\n",
    "string_dates = ['2020','2021','2022','2023','2024']"
   ]
  },
  {
   "cell_type": "code",
   "execution_count": 21,
   "metadata": {},
   "outputs": [],
   "source": [
    "# def get_data_exp(params):\n",
    "#     data = comtradeapicall.getFinalData(subscription_key, typeCode='C', freqCode='A', clCode='HS', period=params,\n",
    "#                                         reporterCode='97', cmdCode=None, flowCode='X', partnerCode=None,\n",
    "#                                         partner2Code=None,\n",
    "#                                         customsCode=None, motCode=None, maxRecords=250000, format_output='JSON',\n",
    "#                                         aggregateBy=None, breakdownMode='classic', countOnly=None, includeDesc=True)\n",
    "#     return data\n"
   ]
  },
  {
   "cell_type": "markdown",
   "metadata": {},
   "source": [
    "### EU export\n",
    "#### Download EU export data"
   ]
  },
  {
   "cell_type": "code",
   "execution_count": 58,
   "metadata": {},
   "outputs": [
    {
     "name": "stdout",
     "output_type": "stream",
     "text": [
      "Return message: Your request is accepted.You will be notified through your email when the data is ready for download\n",
      "requestID:  d4539a60-1ede-4b4a-84a6-198b674176a4\n"
     ]
    }
   ],
   "source": [
    "myJson = comtradeapicall.submitAsyncFinalDataRequest(subscription_key, typeCode='C', freqCode='A', clCode='HS',\n",
    "                                    period='2020,2021',\n",
    "                                    reporterCode='97', cmdCode=None, flowCode='X', partnerCode=None,\n",
    "                                    partner2Code=None,\n",
    "                                    customsCode=None, motCode=None, aggregateBy=None, breakdownMode='classic')\n",
    "print(\"requestID: \",myJson['requestId'])"
   ]
  },
  {
   "cell_type": "code",
   "execution_count": 59,
   "metadata": {},
   "outputs": [
    {
     "name": "stdout",
     "output_type": "stream",
     "text": [
      "['https://comtradeapi.un.org/files/v1/async-downloads/batchid-1bdf56e1-dc9b-4c16-88ce-d206cb37e33d.zip']\n"
     ]
    },
    {
     "data": {
      "text/html": [
       "<div>\n",
       "<style scoped>\n",
       "    .dataframe tbody tr th:only-of-type {\n",
       "        vertical-align: middle;\n",
       "    }\n",
       "\n",
       "    .dataframe tbody tr th {\n",
       "        vertical-align: top;\n",
       "    }\n",
       "\n",
       "    .dataframe thead th {\n",
       "        text-align: right;\n",
       "    }\n",
       "</style>\n",
       "<table border=\"1\" class=\"dataframe\">\n",
       "  <thead>\n",
       "    <tr style=\"text-align: right;\">\n",
       "      <th></th>\n",
       "      <th>emailId</th>\n",
       "      <th>objectId</th>\n",
       "      <th>ipAddress</th>\n",
       "      <th>userId</th>\n",
       "      <th>reqId</th>\n",
       "      <th>requestType</th>\n",
       "      <th>uri</th>\n",
       "      <th>size</th>\n",
       "      <th>startTime</th>\n",
       "      <th>endTime</th>\n",
       "      <th>...</th>\n",
       "      <th>motCode</th>\n",
       "      <th>mosCode</th>\n",
       "      <th>recordCount</th>\n",
       "      <th>breakdownMode</th>\n",
       "      <th>aggregateBy</th>\n",
       "      <th>filesize</th>\n",
       "      <th>partitionKey</th>\n",
       "      <th>rowKey</th>\n",
       "      <th>timestamp</th>\n",
       "      <th>eTag</th>\n",
       "    </tr>\n",
       "  </thead>\n",
       "  <tbody>\n",
       "    <tr>\n",
       "      <th>0</th>\n",
       "      <td>uctppia@ucl.ac.uk</td>\n",
       "      <td>666627380a232310e4d26569</td>\n",
       "      <td>92.55.48.116</td>\n",
       "      <td>uctppia@ucl.ac.uk</td>\n",
       "      <td>d4539a60-1ede-4b4a-84a6-198b674176a4</td>\n",
       "      <td>Trade</td>\n",
       "      <td>https://comtradeapi.un.org/files/v1/async-down...</td>\n",
       "      <td>31 MB</td>\n",
       "      <td>8/30/2024 7:10:01 AM</td>\n",
       "      <td>8/30/2024 7:10:39 AM</td>\n",
       "      <td>...</td>\n",
       "      <td>None</td>\n",
       "      <td>None</td>\n",
       "      <td>1277212.0</td>\n",
       "      <td>classic</td>\n",
       "      <td>None</td>\n",
       "      <td>0</td>\n",
       "      <td>uctppia@ucl.ac.uk</td>\n",
       "      <td>d4539a60-1ede-4b4a-84a6-198b674176a4</td>\n",
       "      <td>2024-08-30T07:10:39.7287326+00:00</td>\n",
       "      <td>W/\"datetime'2024-08-30T07%3A10%3A39.7287326Z'\"</td>\n",
       "    </tr>\n",
       "  </tbody>\n",
       "</table>\n",
       "<p>1 rows × 32 columns</p>\n",
       "</div>"
      ],
      "text/plain": [
       "             emailId                  objectId     ipAddress  \\\n",
       "0  uctppia@ucl.ac.uk  666627380a232310e4d26569  92.55.48.116   \n",
       "\n",
       "              userId                                 reqId requestType  \\\n",
       "0  uctppia@ucl.ac.uk  d4539a60-1ede-4b4a-84a6-198b674176a4       Trade   \n",
       "\n",
       "                                                 uri   size  \\\n",
       "0  https://comtradeapi.un.org/files/v1/async-down...  31 MB   \n",
       "\n",
       "              startTime               endTime  ... motCode mosCode  \\\n",
       "0  8/30/2024 7:10:01 AM  8/30/2024 7:10:39 AM  ...    None    None   \n",
       "\n",
       "  recordCount breakdownMode aggregateBy filesize       partitionKey  \\\n",
       "0   1277212.0       classic        None        0  uctppia@ucl.ac.uk   \n",
       "\n",
       "                                 rowKey                          timestamp  \\\n",
       "0  d4539a60-1ede-4b4a-84a6-198b674176a4  2024-08-30T07:10:39.7287326+00:00   \n",
       "\n",
       "                                             eTag  \n",
       "0  W/\"datetime'2024-08-30T07%3A10%3A39.7287326Z'\"  \n",
       "\n",
       "[1 rows x 32 columns]"
      ]
     },
     "execution_count": 59,
     "metadata": {},
     "output_type": "execute_result"
    }
   ],
   "source": [
    "mydf = comtradeapicall.checkAsyncDataRequest(subscription_key, \n",
    "                                          batchId = myJson['requestId'])\n",
    "print(mydf['uri'].values)\n",
    "mydf"
   ]
  },
  {
   "cell_type": "code",
   "execution_count": 60,
   "metadata": {},
   "outputs": [
    {
     "name": "stdout",
     "output_type": "stream",
     "text": [
      "Return message: Your request is accepted.You will be notified through your email when the data is ready for download\n",
      "requestID:  e6315d80-d4cb-4707-a88e-3e9383dc1710\n"
     ]
    }
   ],
   "source": [
    "myJson = comtradeapicall.submitAsyncFinalDataRequest(subscription_key, typeCode='C', freqCode='A', clCode='HS',\n",
    "                                    period='2022,2023',\n",
    "                                    reporterCode='97', cmdCode=None, flowCode='X', partnerCode=None,\n",
    "                                    partner2Code=None,\n",
    "                                    customsCode=None, motCode=None, aggregateBy=None, breakdownMode='classic')\n",
    "print(\"requestID: \", myJson['requestId'])"
   ]
  },
  {
   "cell_type": "code",
   "execution_count": 61,
   "metadata": {},
   "outputs": [
    {
     "name": "stdout",
     "output_type": "stream",
     "text": [
      "['https://comtradeapi.un.org/files/v1/async-downloads/batchid-ab43d4ce-5ccc-4c28-9a03-1b5779ebfb85.zip']\n"
     ]
    },
    {
     "data": {
      "text/html": [
       "<div>\n",
       "<style scoped>\n",
       "    .dataframe tbody tr th:only-of-type {\n",
       "        vertical-align: middle;\n",
       "    }\n",
       "\n",
       "    .dataframe tbody tr th {\n",
       "        vertical-align: top;\n",
       "    }\n",
       "\n",
       "    .dataframe thead th {\n",
       "        text-align: right;\n",
       "    }\n",
       "</style>\n",
       "<table border=\"1\" class=\"dataframe\">\n",
       "  <thead>\n",
       "    <tr style=\"text-align: right;\">\n",
       "      <th></th>\n",
       "      <th>emailId</th>\n",
       "      <th>objectId</th>\n",
       "      <th>ipAddress</th>\n",
       "      <th>userId</th>\n",
       "      <th>reqId</th>\n",
       "      <th>requestType</th>\n",
       "      <th>uri</th>\n",
       "      <th>size</th>\n",
       "      <th>startTime</th>\n",
       "      <th>endTime</th>\n",
       "      <th>...</th>\n",
       "      <th>motCode</th>\n",
       "      <th>mosCode</th>\n",
       "      <th>recordCount</th>\n",
       "      <th>breakdownMode</th>\n",
       "      <th>aggregateBy</th>\n",
       "      <th>filesize</th>\n",
       "      <th>partitionKey</th>\n",
       "      <th>rowKey</th>\n",
       "      <th>timestamp</th>\n",
       "      <th>eTag</th>\n",
       "    </tr>\n",
       "  </thead>\n",
       "  <tbody>\n",
       "    <tr>\n",
       "      <th>0</th>\n",
       "      <td>uctppia@ucl.ac.uk</td>\n",
       "      <td>666627380a232310e4d26569</td>\n",
       "      <td>92.55.48.116</td>\n",
       "      <td>uctppia@ucl.ac.uk</td>\n",
       "      <td>e6315d80-d4cb-4707-a88e-3e9383dc1710</td>\n",
       "      <td>Trade</td>\n",
       "      <td>https://comtradeapi.un.org/files/v1/async-down...</td>\n",
       "      <td>26 MB</td>\n",
       "      <td>8/30/2024 7:20:57 AM</td>\n",
       "      <td>8/30/2024 7:22:01 AM</td>\n",
       "      <td>...</td>\n",
       "      <td>None</td>\n",
       "      <td>None</td>\n",
       "      <td>1316723.0</td>\n",
       "      <td>classic</td>\n",
       "      <td>None</td>\n",
       "      <td>0</td>\n",
       "      <td>uctppia@ucl.ac.uk</td>\n",
       "      <td>e6315d80-d4cb-4707-a88e-3e9383dc1710</td>\n",
       "      <td>2024-08-30T07:22:01.4818274+00:00</td>\n",
       "      <td>W/\"datetime'2024-08-30T07%3A22%3A01.4818274Z'\"</td>\n",
       "    </tr>\n",
       "  </tbody>\n",
       "</table>\n",
       "<p>1 rows × 32 columns</p>\n",
       "</div>"
      ],
      "text/plain": [
       "             emailId                  objectId     ipAddress  \\\n",
       "0  uctppia@ucl.ac.uk  666627380a232310e4d26569  92.55.48.116   \n",
       "\n",
       "              userId                                 reqId requestType  \\\n",
       "0  uctppia@ucl.ac.uk  e6315d80-d4cb-4707-a88e-3e9383dc1710       Trade   \n",
       "\n",
       "                                                 uri   size  \\\n",
       "0  https://comtradeapi.un.org/files/v1/async-down...  26 MB   \n",
       "\n",
       "              startTime               endTime  ... motCode mosCode  \\\n",
       "0  8/30/2024 7:20:57 AM  8/30/2024 7:22:01 AM  ...    None    None   \n",
       "\n",
       "  recordCount breakdownMode aggregateBy filesize       partitionKey  \\\n",
       "0   1316723.0       classic        None        0  uctppia@ucl.ac.uk   \n",
       "\n",
       "                                 rowKey                          timestamp  \\\n",
       "0  e6315d80-d4cb-4707-a88e-3e9383dc1710  2024-08-30T07:22:01.4818274+00:00   \n",
       "\n",
       "                                             eTag  \n",
       "0  W/\"datetime'2024-08-30T07%3A22%3A01.4818274Z'\"  \n",
       "\n",
       "[1 rows x 32 columns]"
      ]
     },
     "execution_count": 61,
     "metadata": {},
     "output_type": "execute_result"
    }
   ],
   "source": [
    "mydf = comtradeapicall.checkAsyncDataRequest(subscription_key, \n",
    "                                          batchId = myJson['requestId'])\n",
    "print(mydf['uri'].values)\n",
    "mydf"
   ]
  },
  {
   "cell_type": "markdown",
   "metadata": {},
   "source": [
    "#### Analyse EU export data"
   ]
  },
  {
   "cell_type": "code",
   "execution_count": 4,
   "metadata": {},
   "outputs": [],
   "source": [
    "# append datasets according to HS5 and HS6 classif\n",
    "# EU_exp_2020_2021 = EU_exp_short.loc[EU_exp_short['period'] < '2022']\n",
    "# EU_exp_2022_2024 = EU_exp_short.loc[EU_exp_short['period'] >= '2022']\n",
    "\n",
    "EU_exp_2020_2021 = pd.read_csv('/Users/omega_macbookpro/Desktop/International_Trade/Dissertation_MRes/Comtrade/Sanctions Docs/EU/Data/Output_Script_7/EU_exp_2020_2021.txt', sep=\"\\t\", dtype={'CmdCode': str})\n",
    "EU_exp_2022_2023 = pd.read_csv('/Users/omega_macbookpro/Desktop/International_Trade/Dissertation_MRes/Comtrade/Sanctions Docs/EU/Data/Output_Script_7/EU_exp_2022_2023.txt', sep=\"\\t\", dtype={'CmdCode': str})\n"
   ]
  },
  {
   "cell_type": "code",
   "execution_count": 5,
   "metadata": {},
   "outputs": [],
   "source": [
    "# check that there are no non-even digit codes and the only 5digit code is TOTAL\n",
    "#EU_exp_2020_2021.loc[(EU_exp_2020_2021['CmdCode'].apply(lambda x: len(str(x))) ==5) & (EU_exp_2020_2021['CmdCode'] != 'TOTAL'), EU_exp_2020_2021.columns[15:]]\n",
    "\n",
    "# EU_exp_2020_2021['ClassificationCode'].unique() # = H5\n",
    "# EU_exp_2022_2023['ClassificationCode'].unique() # = H6\n",
    "\n",
    "comtrade_cols = ['Period', 'PartnerCode', 'CmdCode', 'PrimaryValue']\n",
    "EU_exp_2020_2021 = EU_exp_2020_2021[comtrade_cols]\n",
    "EU_exp_2022_2023 = EU_exp_2022_2023[comtrade_cols]\n",
    "\n",
    "\n",
    "EU_exp_2020_2021 = EU_exp_2020_2021.loc[EU_exp_2020_2021['CmdCode'].apply(len) == 6]\n",
    "EU_exp_2020_2021.reset_index(inplace=True)\n",
    "\n",
    "EU_exp_2022_2023 = EU_exp_2022_2023.loc[EU_exp_2022_2023['CmdCode'].apply(len) == 6]\n",
    "EU_exp_2022_2023.reset_index(inplace=True)\n"
   ]
  },
  {
   "cell_type": "code",
   "execution_count": 468,
   "metadata": {},
   "outputs": [],
   "source": [
    "#EU_exp_2020_2021.loc[(EU_exp_2020_2021['CmdCode'].apply(lambda x: len(str(x))) ==5) & (EU_exp_2020_2021['CmdCode'] != 'TOTAL'), EU_exp_2020_2021.columns[15:]]\n"
   ]
  },
  {
   "cell_type": "code",
   "execution_count": 7,
   "metadata": {},
   "outputs": [],
   "source": [
    "# convet HS6 to HS5 and group HS6 flows within same month-HS5 group\n",
    "EU_exp_2022_2023_HS5 = pd.merge(EU_exp_2022_2023, HS2022toHS2017, left_on='CmdCode', right_on='From HS2022', how='left')\n",
    "EU_exp_2022_2023_HS5 = EU_exp_2022_2023_HS5[['Period', 'PartnerCode', 'PrimaryValue', 'To HS2017']].groupby(['Period', 'PartnerCode', 'To HS2017'])['PrimaryValue'].sum().reset_index()\n"
   ]
  },
  {
   "cell_type": "code",
   "execution_count": 8,
   "metadata": {},
   "outputs": [],
   "source": [
    "# rename to have same column names\n",
    "EU_exp_2020_2021.rename(columns={'CmdCode':'cmdCode_HS5'}, inplace=True)\n",
    "EU_exp_2022_2023_HS5.rename(columns={'To HS2017':'cmdCode_HS5'}, inplace=True)\n",
    "\n",
    "database_HS5 = EU_exp_2020_2021.append(EU_exp_2022_2023_HS5)\n"
   ]
  },
  {
   "cell_type": "code",
   "execution_count": 13,
   "metadata": {},
   "outputs": [],
   "source": [
    "database_HS5_sanct = pd.merge(database_HS5, HS5_sanct, left_on='cmdCode_HS5', right_on='HS2017', how='left')\n",
    "database_HS5_sanct.drop(['HS2017', 'HS2022'], axis=1, inplace=True)\n",
    "database_HS5_sanct['Period'] = database_HS5_sanct['Period'].apply(lambda x: pd.to_datetime(x, format='%Y')) # convert to timestamp\n",
    "database_HS5_sanct['Date_HS5'] = database_HS5_sanct['Date_HS5'].apply(lambda x: pd.to_datetime(x, format='%Y-%m-%d') if x==x else x)\n"
   ]
  },
  {
   "cell_type": "code",
   "execution_count": 14,
   "metadata": {},
   "outputs": [
    {
     "name": "stdout",
     "output_type": "stream",
     "text": [
      "3575\n"
     ]
    }
   ],
   "source": [
    "print(database_HS5_sanct['Sanct_HS5'].isna().sum())\n",
    "database_HS5_sanct = database_HS5_sanct.loc[database_HS5_sanct['Sanct_HS5'].notna()]\n"
   ]
  },
  {
   "cell_type": "code",
   "execution_count": 15,
   "metadata": {},
   "outputs": [],
   "source": [
    "database_HS5_sanct_select = database_HS5_sanct.loc[database_HS5_sanct['Sanct_HS5'] == 1] # select only sanctioned products\n",
    "#database_HS5_sanct_nooil = database_HS5_sanct.loc[database_HS5_sanct['cmdCode_HS5'].apply(lambda x: (x[:4] != '2709') and (x[:4] != '2710'))] # delets 2330 obs\n"
   ]
  },
  {
   "cell_type": "code",
   "execution_count": 115,
   "metadata": {},
   "outputs": [],
   "source": [
    "#EU_exp_2020_2021.shape + EU_exp_2022_2023.shape"
   ]
  },
  {
   "cell_type": "code",
   "execution_count": 16,
   "metadata": {},
   "outputs": [],
   "source": [
    "# now group\n",
    "database_HS5_sanct_gr = database_HS5_sanct[['Period', 'PartnerCode', 'PrimaryValue']].groupby(['Period', 'PartnerCode'])['PrimaryValue'].sum().reset_index()\n",
    "database_HS5_sanct_select_gr = database_HS5_sanct_select[['Period', 'PartnerCode', 'PrimaryValue']].groupby(['Period', 'PartnerCode'])['PrimaryValue'].sum().reset_index()\n"
   ]
  },
  {
   "cell_type": "markdown",
   "metadata": {},
   "source": [
    "#### EU Export, all goods"
   ]
  },
  {
   "cell_type": "code",
   "execution_count": 17,
   "metadata": {},
   "outputs": [],
   "source": [
    "database_HS5_sanct_gr = database_HS5_sanct_gr.pivot(index=['PartnerCode'], columns='Period', values='PrimaryValue').reset_index()\n",
    "database_HS5_sanct_gr['PartnerCode'] = database_HS5_sanct_gr['PartnerCode'].apply(str)\n",
    "database_HS5_sanct_gr = pd.merge(database_HS5_sanct_gr, Partners[['PartnerCode', 'PartnerDesc']], on='PartnerCode', how='left')\n",
    "database_HS5_sanct_gr.rename(columns={database_HS5_sanct_gr.columns[1]:'2020', database_HS5_sanct_gr.columns[2]:'2021', database_HS5_sanct_gr.columns[3]:'2022', database_HS5_sanct_gr.columns[4]:'2023'}, inplace=True)"
   ]
  },
  {
   "cell_type": "code",
   "execution_count": 18,
   "metadata": {},
   "outputs": [],
   "source": [
    "database_HS5_sanct_gr[['2020', '2021', '2022', '2023']] = database_HS5_sanct_gr[['2020', '2021', '2022', '2023']]/10**6\n",
    "\n",
    "database_HS5_sanct_gr['2020-2021avg'] = (database_HS5_sanct_gr['2020'] + database_HS5_sanct_gr['2021']) / 2\n",
    "database_HS5_sanct_gr['2022-2023avg'] = (database_HS5_sanct_gr['2022'] + database_HS5_sanct_gr['2023']) / 2\n",
    "\n",
    "database_HS5_sanct_gr['incr_v1'] = (database_HS5_sanct_gr['2022-2023avg']/database_HS5_sanct_gr['2020-2021avg'] - 1) * 100\n",
    "database_HS5_sanct_gr['incr_v2'] = (database_HS5_sanct_gr['2022-2023avg']/database_HS5_sanct_gr['2021'] - 1) * 100\n",
    "\n",
    "database_HS5_sanct_gr[['2020_share', '2021_share', '2022_share', '2023_share']] = database_HS5_sanct_gr[['2020', '2021', '2022', '2023']] / database_HS5_sanct_gr.loc[database_HS5_sanct_gr['PartnerDesc'] == 'World', ['2020', '2021', '2022', '2023']].values[0] # compute share in the export to world\n",
    "database_HS5_sanct_gr[['2020_share', '2021_share', '2022_share', '2023_share']] = database_HS5_sanct_gr[['2020_share', '2021_share', '2022_share', '2023_share']] * 100\n"
   ]
  },
  {
   "cell_type": "code",
   "execution_count": 19,
   "metadata": {},
   "outputs": [],
   "source": [
    "database_HS5_sanct_gr['2020-2021_share_avg'] = (database_HS5_sanct_gr['2020_share'] + database_HS5_sanct_gr['2021_share']) / 2\n",
    "database_HS5_sanct_gr['2022-2023_share_avg'] = (database_HS5_sanct_gr['2022_share'] + database_HS5_sanct_gr['2023_share']) / 2\n",
    "\n",
    "database_HS5_sanct_gr['incr_v3'] = (database_HS5_sanct_gr['2022-2023_share_avg']/database_HS5_sanct_gr['2021_share'] - 1) * 100"
   ]
  },
  {
   "cell_type": "code",
   "execution_count": 20,
   "metadata": {},
   "outputs": [],
   "source": [
    "database_HS5_sanct_gr_short = database_HS5_sanct_gr[['PartnerDesc', '2021', '2022-2023avg', '2021_share', '2022-2023_share_avg', 'incr_v2', 'incr_v3']]\n",
    "# keep only countries with share in EU export >= 0.01 pp\n",
    "# set manually for each tupe of flow\n",
    "database_HS5_sanct_gr_short = database_HS5_sanct_gr_short.loc[database_HS5_sanct_gr_short['2021_share'] >= 0.01]\n",
    "# sort by incr_v2 pctg change in tradeflow from 2021 to average of 2022-2023\n",
    "database_HS5_sanct_gr_short = database_HS5_sanct_gr_short.sort_values(by='incr_v2', ascending=False).reset_index(drop = True)\n"
   ]
  },
  {
   "cell_type": "code",
   "execution_count": 486,
   "metadata": {},
   "outputs": [],
   "source": [
    "#database_HS5_sanct_gr.loc[database_HS5_sanct_gr['PartnerDesc'] == 'Russian Federation']\n",
    "#database_HS5_sanct_gr_short.loc[database_HS5_sanct_gr_short['PartnerDesc'] == 'Georgia']\n"
   ]
  },
  {
   "cell_type": "code",
   "execution_count": 487,
   "metadata": {
    "scrolled": false
   },
   "outputs": [],
   "source": [
    "#database_HS5_sanct_gr_short.loc[database_HS5_sanct_gr_short['2020_share'] >= 0.01].sort_values(by='incr_v2', ascending=False).iloc[20:]\n",
    "#database_HS5_sanct_gr_short.loc[database_HS5_sanct_gr_short['2021_share'] >= 0.01].head(20)"
   ]
  },
  {
   "cell_type": "markdown",
   "metadata": {},
   "source": [
    "#### EU Export, sanctioned goods"
   ]
  },
  {
   "cell_type": "code",
   "execution_count": 21,
   "metadata": {},
   "outputs": [],
   "source": [
    "database_HS5_sanct_select_gr = database_HS5_sanct_select_gr.pivot(index=['PartnerCode'], columns='Period', values='PrimaryValue').reset_index()\n",
    "database_HS5_sanct_select_gr['PartnerCode'] = database_HS5_sanct_select_gr['PartnerCode'].apply(str)\n",
    "database_HS5_sanct_select_gr = pd.merge(database_HS5_sanct_select_gr, Partners[['PartnerCode', 'PartnerDesc']], on='PartnerCode', how='left')\n",
    "database_HS5_sanct_select_gr.rename(columns={database_HS5_sanct_select_gr.columns[1]:'2020', database_HS5_sanct_select_gr.columns[2]:'2021', database_HS5_sanct_select_gr.columns[3]:'2022', database_HS5_sanct_select_gr.columns[4]:'2023'}, inplace=True)\n"
   ]
  },
  {
   "cell_type": "code",
   "execution_count": 22,
   "metadata": {},
   "outputs": [],
   "source": [
    "database_HS5_sanct_select_gr = database_HS5_sanct_select_gr.loc[database_HS5_sanct_select_gr['PartnerDesc'] != 'World']"
   ]
  },
  {
   "cell_type": "code",
   "execution_count": 23,
   "metadata": {},
   "outputs": [],
   "source": [
    "database_HS5_sanct_select_gr.loc[-1] = ['World'] + list(database_HS5_sanct_select_gr[['2020', '2021', '2022', '2023']].sum().values) + ['World']\n",
    "#database_HS5_sanct_select_gr.loc[database_HS5_sanct_select_gr['PartnerDesc'] == 'World', ['2021', '2022', '2023']]"
   ]
  },
  {
   "cell_type": "code",
   "execution_count": 503,
   "metadata": {},
   "outputs": [],
   "source": [
    "#list(database_HS5_sanct_select_gr[['2021', '2022', '2023']].sum().values)\n",
    "#database_HS5_sanct_select_gr['PartnerDesc'].unique()\n",
    "# database_HS5_sanct_select_gr\n",
    "# database_HS5_sanct_gr.loc[database_HS5_sanct_gr['PartnerDesc'] == 'World']\n"
   ]
  },
  {
   "cell_type": "code",
   "execution_count": 24,
   "metadata": {},
   "outputs": [],
   "source": [
    "database_HS5_sanct_select_gr[['2020', '2021', '2022', '2023']] = database_HS5_sanct_select_gr[['2020', '2021', '2022', '2023']]/10**6\n",
    "\n",
    "database_HS5_sanct_select_gr['2020-2021avg'] = (database_HS5_sanct_select_gr['2020'] + database_HS5_sanct_select_gr['2021']) / 2\n",
    "database_HS5_sanct_select_gr['2022-2023avg'] = (database_HS5_sanct_select_gr['2022'] + database_HS5_sanct_select_gr['2023']) / 2\n",
    "\n",
    "database_HS5_sanct_select_gr['incr_v1'] = (database_HS5_sanct_select_gr['2022-2023avg']/database_HS5_sanct_select_gr['2020-2021avg'] - 1) * 100\n",
    "database_HS5_sanct_select_gr['incr_v2'] = (database_HS5_sanct_select_gr['2022-2023avg']/database_HS5_sanct_select_gr['2021'] - 1) * 100\n",
    "\n",
    "database_HS5_sanct_select_gr[['2020_share', '2021_share', '2022_share', '2023_share']] = database_HS5_sanct_select_gr[['2020', '2021', '2022', '2023']] / database_HS5_sanct_select_gr.loc[database_HS5_sanct_select_gr['PartnerDesc'] == 'World', ['2020', '2021', '2022', '2023']].values[0] # compute share in the export to world\n",
    "database_HS5_sanct_select_gr[['2020_share', '2021_share', '2022_share', '2023_share']] = database_HS5_sanct_select_gr[['2020_share', '2021_share', '2022_share', '2023_share']] * 100\n"
   ]
  },
  {
   "cell_type": "code",
   "execution_count": 25,
   "metadata": {},
   "outputs": [],
   "source": [
    "database_HS5_sanct_select_gr['2020-2021_share_avg'] = (database_HS5_sanct_select_gr['2020_share'] + database_HS5_sanct_select_gr['2021_share']) / 2\n",
    "database_HS5_sanct_select_gr['2022-2023_share_avg'] = (database_HS5_sanct_select_gr['2022_share'] + database_HS5_sanct_select_gr['2023_share']) / 2\n",
    "\n",
    "database_HS5_sanct_select_gr['incr_v3'] = (database_HS5_sanct_select_gr['2022-2023_share_avg']/database_HS5_sanct_select_gr['2021_share'] - 1) * 100"
   ]
  },
  {
   "cell_type": "code",
   "execution_count": 26,
   "metadata": {},
   "outputs": [],
   "source": [
    "database_HS5_sanct_select_gr_short = database_HS5_sanct_select_gr[['PartnerDesc', '2021', '2022-2023avg', '2021_share', '2022-2023_share_avg', 'incr_v2', 'incr_v3']]\n",
    "\n",
    "# sort by incr_v2 pctg change in tradeflow from 2021 to average of 2022-2023\n",
    "database_HS5_sanct_select_gr_short = database_HS5_sanct_select_gr_short.sort_values(by='incr_v2', ascending=False)\n",
    "\n",
    "# keep only countries with share in EU export >= 0.01 pp\n",
    "# set manually for each tupe of flow\n",
    "database_HS5_sanct_select_gr_short = database_HS5_sanct_select_gr_short.loc[database_HS5_sanct_select_gr_short['2021_share'] >= 0.01].reset_index(drop = True)\n"
   ]
  },
  {
   "cell_type": "code",
   "execution_count": 29,
   "metadata": {},
   "outputs": [],
   "source": [
    "database_HS5_sanct_gr_short_tex = database_HS5_sanct_gr_short.head(20).reset_index()\n",
    "database_HS5_sanct_gr_short_tex = database_HS5_sanct_gr_short_tex.append(database_HS5_sanct_gr_short.loc[(database_HS5_sanct_gr_short['PartnerDesc'] == 'China') | (database_HS5_sanct_gr_short['PartnerDesc'] == 'Belarus') | (database_HS5_sanct_gr_short['PartnerDesc'] == 'Russian Federation') | (database_HS5_sanct_gr_short['PartnerDesc'] == 'World')])\n",
    "database_HS5_sanct_gr_short_tex.drop('index', axis=1, inplace=True)"
   ]
  },
  {
   "cell_type": "code",
   "execution_count": null,
   "metadata": {},
   "outputs": [],
   "source": []
  },
  {
   "cell_type": "code",
   "execution_count": null,
   "metadata": {},
   "outputs": [],
   "source": []
  },
  {
   "cell_type": "code",
   "execution_count": 31,
   "metadata": {},
   "outputs": [
    {
     "name": "stdout",
     "output_type": "stream",
     "text": [
      "\\begin{tabular}{lrrrrrr}\n",
      "\\toprule\n",
      "            PartnerDesc &       2021 &  2022-2023avg &  2021\\_share &  2022-2023\\_share\\_avg &  incr\\_v2 &  incr\\_v3 \\\\\n",
      "\\midrule\n",
      "             Kyrgyzstan &     309.35 &       2086.80 &        0.01 &                 0.08 &   574.59 &   532.66 \\\\\n",
      "                Armenia &     891.04 &       2155.76 &        0.03 &                 0.08 &   141.94 &   127.62 \\\\\n",
      "                 Panama &    2641.64 &       6360.37 &        0.10 &                 0.23 &   140.77 &   125.82 \\\\\n",
      "             Kazakhstan &    6418.99 &      11966.79 &        0.25 &                 0.44 &    86.43 &    75.38 \\\\\n",
      "                Bunkers &   16700.21 &      30504.12 &        0.65 &                 1.12 &    82.66 &    71.95 \\\\\n",
      "                 Guinea &     970.50 &       1742.49 &        0.04 &                 0.06 &    79.55 &    69.08 \\\\\n",
      "    Trinidad and Tobago &     556.27 &        951.49 &        0.02 &                 0.03 &    71.05 &    61.31 \\\\\n",
      "             Uzbekistan &    2659.21 &       4328.42 &        0.10 &                 0.16 &    62.77 &    53.13 \\\\\n",
      "                Georgia &    2409.97 &       3644.74 &        0.09 &                 0.13 &    51.24 &    42.30 \\\\\n",
      "             Mauritania &     892.17 &       1318.68 &        0.03 &                 0.05 &    47.80 &    39.15 \\\\\n",
      "United Rep. of Tanzania &     845.72 &       1222.03 &        0.03 &                 0.04 &    44.50 &    36.19 \\\\\n",
      "              Gibraltar &    5810.33 &       8349.39 &        0.23 &                 0.31 &    43.70 &    35.38 \\\\\n",
      "             Montenegro &    1365.42 &       1925.46 &        0.05 &                 0.07 &    41.02 &    32.75 \\\\\n",
      "                  Congo &     829.94 &       1136.92 &        0.03 &                 0.04 &    36.99 &    28.89 \\\\\n",
      "                  Gabon &     867.56 &       1172.58 &        0.03 &                 0.04 &    35.16 &    27.16 \\\\\n",
      " Dem. Rep. of the Congo &    1192.75 &       1611.78 &        0.05 &                 0.06 &    35.13 &    27.19 \\\\\n",
      "             Azerbaijan &    1719.72 &       2317.17 &        0.07 &                 0.08 &    34.74 &    26.77 \\\\\n",
      "        Rep. of Moldova &    3757.04 &       5057.97 &        0.15 &                 0.18 &    34.63 &    26.73 \\\\\n",
      "              Venezuela &     435.71 &        581.70 &        0.02 &                 0.02 &    33.51 &    25.64 \\\\\n",
      "                 Angola &    3205.46 &       4073.37 &        0.12 &                 0.15 &    27.08 &    19.77 \\\\\n",
      "                  World & 2573746.27 &    2733721.73 &      100.00 &               100.00 &     6.22 &     0.00 \\\\\n",
      "                Belarus &    8097.91 &       7824.62 &        0.31 &                 0.29 &    -3.37 &    -9.13 \\\\\n",
      "                  China &  260393.07 &     239225.42 &       10.12 &                 8.75 &    -8.13 &   -13.50 \\\\\n",
      "     Russian Federation &  104249.90 &      49391.58 &        4.05 &                 1.81 &   -52.62 &   -55.32 \\\\\n",
      "\\bottomrule\n",
      "\\end{tabular}\n",
      "\n"
     ]
    }
   ],
   "source": [
    "print(database_HS5_sanct_gr_short_tex.to_latex(index=False,\n",
    "                  float_format=\"{:.2f}\".format,\n",
    ")) "
   ]
  },
  {
   "cell_type": "code",
   "execution_count": 520,
   "metadata": {},
   "outputs": [],
   "source": [
    "#database_HS5_sanct_gr_short.tail(15)\n",
    "# database_HS5_sanct_gr_short_tex\n",
    "# database_HS5_sanct_gr_short.loc[(database_HS5_sanct_gr_short['PartnerDesc'] == 'Belarus') | (database_HS5_sanct_gr_short['PartnerDesc'] == 'Russian Federation')]\n",
    "\n",
    "#database_HS5_sanct_gr.sort_values(by='incr_v2', ascending=False)\n",
    "#database_HS5_sanct_select_gr_short.head(15)\n"
   ]
  },
  {
   "cell_type": "code",
   "execution_count": 32,
   "metadata": {},
   "outputs": [],
   "source": [
    "database_HS5_sanct_select_gr_short_tex = database_HS5_sanct_select_gr_short.head(20).reset_index()\n",
    "database_HS5_sanct_select_gr_short_tex = database_HS5_sanct_select_gr_short_tex.append(database_HS5_sanct_select_gr_short.loc[(database_HS5_sanct_select_gr_short['PartnerDesc'] == 'China') | (database_HS5_sanct_select_gr_short['PartnerDesc'] == 'Belarus') | (database_HS5_sanct_select_gr_short['PartnerDesc'] == 'Russian Federation') | (database_HS5_sanct_select_gr_short['PartnerDesc'] == 'World')])\n",
    "database_HS5_sanct_select_gr_short_tex.drop('index', axis=1, inplace=True)"
   ]
  },
  {
   "cell_type": "code",
   "execution_count": 33,
   "metadata": {},
   "outputs": [
    {
     "name": "stdout",
     "output_type": "stream",
     "text": [
      "\\begin{tabular}{lrrrrrr}\n",
      "\\toprule\n",
      "            PartnerDesc &       2021 &  2022-2023avg &  2021\\_share &  2022-2023\\_share\\_avg &  incr\\_v2 &  incr\\_v3 \\\\\n",
      "\\midrule\n",
      "             Kyrgyzstan &     195.22 &       1465.93 &        0.01 &                 0.09 &   650.93 &   594.39 \\\\\n",
      "                Armenia &     379.94 &       1169.85 &        0.03 &                 0.07 &   207.91 &   185.50 \\\\\n",
      "                 Guinea &     568.12 &       1241.53 &        0.04 &                 0.08 &   118.53 &   102.84 \\\\\n",
      "             Kazakhstan &    3768.26 &       7876.35 &        0.26 &                 0.49 &   109.02 &    93.80 \\\\\n",
      "    Trinidad and Tobago &     328.52 &        682.24 &        0.02 &                 0.04 &   107.67 &    93.05 \\\\\n",
      "             Uzbekistan &    1552.18 &       2933.44 &        0.11 &                 0.18 &    88.99 &    75.23 \\\\\n",
      "                Bunkers &    7463.80 &      13728.70 &        0.51 &                 0.86 &    83.94 &    70.70 \\\\\n",
      "                  Gabon &     435.24 &        688.88 &        0.03 &                 0.04 &    58.28 &    46.64 \\\\\n",
      "                Georgia &    1529.95 &       2301.53 &        0.10 &                 0.14 &    50.43 &    39.53 \\\\\n",
      "             Mauritania &     443.07 &        656.14 &        0.03 &                 0.04 &    48.09 &    37.52 \\\\\n",
      " Dem. Rep. of the Congo &     614.03 &        889.07 &        0.04 &                 0.06 &    44.79 &    34.25 \\\\\n",
      "              Gibraltar &    4806.43 &       6795.94 &        0.33 &                 0.43 &    41.39 &    31.26 \\\\\n",
      "             Azerbaijan &    1104.98 &       1525.91 &        0.07 &                 0.10 &    38.09 &    28.06 \\\\\n",
      "             Montenegro &     733.16 &       1008.70 &        0.05 &                 0.06 &    37.58 &    27.60 \\\\\n",
      "                  Libya &    4251.22 &       5840.43 &        0.29 &                 0.37 &    37.38 &    27.56 \\\\\n",
      "        Rep. of Moldova &    2049.50 &       2805.24 &        0.14 &                 0.18 &    36.87 &    27.00 \\\\\n",
      "United Rep. of Tanzania &     549.05 &        734.85 &        0.04 &                 0.05 &    33.84 &    24.37 \\\\\n",
      "                Nigeria &    9674.45 &      12876.79 &        0.66 &                 0.81 &    33.10 &    23.76 \\\\\n",
      "                Iceland &    2046.71 &       2689.82 &        0.14 &                 0.17 &    31.42 &    21.91 \\\\\n",
      "              Guatemala &     665.18 &        870.62 &        0.05 &                 0.05 &    30.89 &    21.46 \\\\\n",
      "                  World & 1475355.88 &    1590220.64 &      100.00 &               100.00 &     7.79 &     0.00 \\\\\n",
      "                Belarus &    4507.67 &       4699.78 &        0.31 &                 0.30 &     4.26 &    -3.38 \\\\\n",
      "                  China &  166236.12 &     158138.42 &       11.27 &                 9.94 &    -4.87 &   -11.74 \\\\\n",
      "     Russian Federation &   62172.45 &      22238.36 &        4.21 &                 1.40 &   -64.23 &   -66.73 \\\\\n",
      "\\bottomrule\n",
      "\\end{tabular}\n",
      "\n"
     ]
    }
   ],
   "source": [
    "print(database_HS5_sanct_select_gr_short_tex.to_latex(index=False,\n",
    "                  float_format=\"{:.2f}\".format,\n",
    ")) "
   ]
  },
  {
   "cell_type": "markdown",
   "metadata": {},
   "source": [
    "### Export to Russia\n",
    "#### Download Export to Russia data"
   ]
  },
  {
   "cell_type": "code",
   "execution_count": 275,
   "metadata": {},
   "outputs": [
    {
     "name": "stdout",
     "output_type": "stream",
     "text": [
      "Return message: Your request is accepted.You will be notified through your email when the data is ready for download\n",
      "requestID:  fe6da7ab-7f01-42eb-86df-28a4520c0a2e\n"
     ]
    }
   ],
   "source": [
    "myJson3 = comtradeapicall.submitAsyncFinalDataRequest(subscription_key, typeCode='C', freqCode='A', clCode='HS',\n",
    "                                    period='2020,2021',\n",
    "                                    reporterCode=None, cmdCode=None, flowCode='X', partnerCode='643',\n",
    "                                    partner2Code=None,\n",
    "                                    customsCode=None, motCode=None, aggregateBy=None, breakdownMode='classic')\n",
    "print(\"requestID: \",myJson3['requestId'])"
   ]
  },
  {
   "cell_type": "code",
   "execution_count": null,
   "metadata": {},
   "outputs": [],
   "source": [
    "mydf = comtradeapicall.checkAsyncDataRequest(subscription_key, \n",
    "                                          batchId = myJson3['requestId'])\n",
    "print(mydf['uri'].values)\n",
    "mydf"
   ]
  },
  {
   "cell_type": "code",
   "execution_count": 276,
   "metadata": {},
   "outputs": [
    {
     "name": "stdout",
     "output_type": "stream",
     "text": [
      "Return message: Your request is accepted.You will be notified through your email when the data is ready for download\n",
      "requestID:  2e1ceb4c-a98a-42a2-9f43-380a4cb7278d\n"
     ]
    }
   ],
   "source": [
    "myJson4 = comtradeapicall.submitAsyncFinalDataRequest(subscription_key, typeCode='C', freqCode='A', clCode='HS',\n",
    "                                    period='2022,2023',\n",
    "                                    reporterCode=None, cmdCode=None, flowCode='X', partnerCode='643',\n",
    "                                    partner2Code=None,\n",
    "                                    customsCode=None, motCode=None, aggregateBy=None, breakdownMode='classic')\n",
    "print(\"requestID: \",myJson4['requestId'])"
   ]
  },
  {
   "cell_type": "code",
   "execution_count": null,
   "metadata": {},
   "outputs": [],
   "source": [
    "mydf = comtradeapicall.checkAsyncDataRequest(subscription_key, \n",
    "                                          batchId = myJson4['requestId'])\n",
    "print(mydf['uri'].values)\n",
    "mydf"
   ]
  },
  {
   "cell_type": "markdown",
   "metadata": {},
   "source": [
    "#### Analyse Export to Russia data"
   ]
  },
  {
   "cell_type": "code",
   "execution_count": 34,
   "metadata": {},
   "outputs": [],
   "source": [
    "toRus_exp_2020_2021 = pd.read_csv('/Users/omega_macbookpro/Desktop/International_Trade/Dissertation_MRes/Comtrade/Sanctions Docs/EU/Data/Output_Script_7/exp_toRus_2020_2021.txt', sep=\"\\t\", dtype={'CmdCode': str})\n",
    "toRus_exp_2022_2023 = pd.read_csv('/Users/omega_macbookpro/Desktop/International_Trade/Dissertation_MRes/Comtrade/Sanctions Docs/EU/Data/Output_Script_7/exp_toRus_2022_2023.txt', sep=\"\\t\", dtype={'CmdCode': str})\n"
   ]
  },
  {
   "cell_type": "code",
   "execution_count": 35,
   "metadata": {},
   "outputs": [],
   "source": [
    "toRus_exp_2020_2021 = toRus_exp_2020_2021.loc[toRus_exp_2020_2021['CmdCode'].apply(len) == 6]\n",
    "toRus_exp_2020_2021.reset_index(inplace=True)\n",
    "\n",
    "toRus_exp_2022_2023 = toRus_exp_2022_2023.loc[toRus_exp_2022_2023['CmdCode'].apply(len) == 6]\n",
    "toRus_exp_2022_2023.reset_index(inplace=True)\n",
    "\n",
    "toRus_exp = toRus_exp_2020_2021.append(toRus_exp_2022_2023)\n",
    "toRus_exp = toRus_exp.loc[(toRus_exp['ClassificationCode'] == 'H6') | (toRus_exp['ClassificationCode'] == 'H5')]\n",
    "\n",
    "toRus_exp_2020_2021 = toRus_exp.loc[toRus_exp['ClassificationCode'] == 'H5']\n",
    "toRus_exp_2022_2023 = toRus_exp.loc[toRus_exp['ClassificationCode'] == 'H6']\n"
   ]
  },
  {
   "cell_type": "code",
   "execution_count": 36,
   "metadata": {},
   "outputs": [],
   "source": [
    "comtrade_cols = ['Period', 'ReporterCode', 'CmdCode', 'PrimaryValue']\n",
    "toRus_exp_2020_2021 = toRus_exp_2020_2021[comtrade_cols]\n",
    "toRus_exp_2022_2023 = toRus_exp_2022_2023[comtrade_cols]"
   ]
  },
  {
   "cell_type": "code",
   "execution_count": 37,
   "metadata": {},
   "outputs": [],
   "source": [
    "# convet HS6 to HS5 and group HS6 flows within same month-HS5 group\n",
    "toRus_exp_2022_2023_HS5 = pd.merge(toRus_exp_2022_2023, HS2022toHS2017, left_on='CmdCode', right_on='From HS2022', how='left')\n",
    "toRus_exp_2022_2023_HS5 = toRus_exp_2022_2023_HS5[['Period', 'ReporterCode', 'PrimaryValue', 'To HS2017']].groupby(['Period', 'ReporterCode', 'To HS2017'])['PrimaryValue'].sum().reset_index()\n"
   ]
  },
  {
   "cell_type": "code",
   "execution_count": 38,
   "metadata": {},
   "outputs": [],
   "source": [
    "# rename to have same column names\n",
    "toRus_exp_2020_2021.rename(columns={'CmdCode':'cmdCode_HS5'}, inplace=True)\n",
    "toRus_exp_2022_2023_HS5.rename(columns={'To HS2017':'cmdCode_HS5'}, inplace=True)\n",
    "\n",
    "database_HS5 = toRus_exp_2020_2021.append(toRus_exp_2022_2023_HS5)\n"
   ]
  },
  {
   "cell_type": "code",
   "execution_count": 39,
   "metadata": {},
   "outputs": [],
   "source": [
    "database_HS5_sanct = pd.merge(database_HS5, HS5_sanct, left_on='cmdCode_HS5', right_on='HS2017', how='left')\n",
    "database_HS5_sanct.drop(['HS2017', 'HS2022'], axis=1, inplace=True)\n",
    "database_HS5_sanct['Period'] = database_HS5_sanct['Period'].apply(lambda x: pd.to_datetime(x, format='%Y')) # convert to timestamp\n",
    "database_HS5_sanct['Date_HS5'] = database_HS5_sanct['Date_HS5'].apply(lambda x: pd.to_datetime(x, format='%Y-%m-%d') if x==x else x)\n"
   ]
  },
  {
   "cell_type": "code",
   "execution_count": 40,
   "metadata": {},
   "outputs": [
    {
     "name": "stdout",
     "output_type": "stream",
     "text": [
      "963\n"
     ]
    }
   ],
   "source": [
    "print(database_HS5_sanct['Sanct_HS5'].isna().sum())\n",
    "database_HS5_sanct = database_HS5_sanct.loc[database_HS5_sanct['Sanct_HS5'].notna()]\n"
   ]
  },
  {
   "cell_type": "code",
   "execution_count": 57,
   "metadata": {},
   "outputs": [],
   "source": [
    "database_HS5_sanct_select = database_HS5_sanct.loc[database_HS5_sanct['Sanct_HS5'] == 1] # select only sanctioned products\n",
    "#database_HS5_sanct_nooil = database_HS5_sanct.loc[database_HS5_sanct['cmdCode_HS5'].apply(lambda x: (x[:4] != '2709') and (x[:4] != '2710'))] # delets 2330 obs\n"
   ]
  },
  {
   "cell_type": "code",
   "execution_count": 58,
   "metadata": {},
   "outputs": [],
   "source": [
    "# now group\n",
    "database_HS5_sanct_gr = database_HS5_sanct[['Period', 'ReporterCode', 'PrimaryValue']].groupby(['Period', 'ReporterCode'])['PrimaryValue'].sum().reset_index()\n",
    "database_HS5_sanct_select_gr = database_HS5_sanct_select[['Period', 'ReporterCode', 'PrimaryValue']].groupby(['Period', 'ReporterCode'])['PrimaryValue'].sum().reset_index()\n"
   ]
  },
  {
   "cell_type": "markdown",
   "metadata": {},
   "source": [
    "#### Export to Russia, all goods"
   ]
  },
  {
   "cell_type": "code",
   "execution_count": 43,
   "metadata": {},
   "outputs": [],
   "source": [
    "database_HS5_sanct_gr = database_HS5_sanct_gr.pivot(index=['ReporterCode'], columns='Period', values='PrimaryValue').reset_index()\n",
    "database_HS5_sanct_gr['ReporterCode'] = database_HS5_sanct_gr['ReporterCode'].apply(str)\n",
    "\n",
    "database_HS5_sanct_gr = pd.merge(database_HS5_sanct_gr, Reporters[['ReporterCode', 'ReporterDesc']], on='ReporterCode', how='left')\n",
    "database_HS5_sanct_gr.rename(columns={database_HS5_sanct_gr.columns[1]:'2020', database_HS5_sanct_gr.columns[2]:'2021', database_HS5_sanct_gr.columns[3]:'2022', database_HS5_sanct_gr.columns[4]:'2023'}, inplace=True)"
   ]
  },
  {
   "cell_type": "code",
   "execution_count": 44,
   "metadata": {},
   "outputs": [],
   "source": [
    "# keep 91 countries which reported trade with Russia for 2021-2023 in HS5 or HS6 versions\n",
    "database_HS5_sanct_gr = database_HS5_sanct_gr[['ReporterCode', '2021', '2022', '2023', 'ReporterDesc']].dropna(axis=0, how='any')\n",
    "\n",
    "# make World row\n",
    "database_HS5_sanct_gr.loc[-1] = ['World'] + list(database_HS5_sanct_gr[['2021', '2022', '2023']].sum().values) + ['World']"
   ]
  },
  {
   "cell_type": "code",
   "execution_count": 45,
   "metadata": {},
   "outputs": [],
   "source": [
    "# database_HS5_sanct_gr[['2020', '2021', '2022', '2023']] = database_HS5_sanct_gr[['2020', '2021', '2022', '2023']]/10**6\n",
    "database_HS5_sanct_gr[['2021', '2022', '2023']] = database_HS5_sanct_gr[['2021', '2022', '2023']]/10**6\n",
    "\n",
    "# database_HS5_sanct_gr['2020-2021avg'] = (database_HS5_sanct_gr['2020'] + database_HS5_sanct_gr['2021']) / 2\n",
    "database_HS5_sanct_gr['2022-2023avg'] = (database_HS5_sanct_gr['2022'] + database_HS5_sanct_gr['2023']) / 2\n",
    "\n",
    "#database_HS5_sanct_gr['incr_v1'] = (database_HS5_sanct_gr['2022-2023avg']/database_HS5_sanct_gr['2020-2021avg'] - 1) * 100\n",
    "database_HS5_sanct_gr['incr_v2'] = (database_HS5_sanct_gr['2022-2023avg']/database_HS5_sanct_gr['2021'] - 1) * 100\n",
    "\n",
    "# database_HS5_sanct_gr[['2020_share', '2021_share', '2022_share', '2023_share']] = database_HS5_sanct_gr[['2020', '2021', '2022', '2023']] / database_HS5_sanct_gr.loc[database_HS5_sanct_gr['ReporterDesc'] == 'World', ['2021', '2022', '2023']].values[0] # compute share in the export to world\n",
    "# database_HS5_sanct_gr[['2020_share', '2021_share', '2022_share', '2023_share']] = database_HS5_sanct_gr[['2020_share', '2021_share', '2022_share', '2023_share']] * 100\n",
    "\n",
    "database_HS5_sanct_gr[['2021_share', '2022_share', '2023_share']] = database_HS5_sanct_gr[['2021', '2022', '2023']] / database_HS5_sanct_gr.loc[database_HS5_sanct_gr['ReporterDesc'] == 'World', ['2021', '2022', '2023']].values[0] # compute share in the export to world\n",
    "database_HS5_sanct_gr[['2021_share', '2022_share', '2023_share']] = database_HS5_sanct_gr[['2021_share', '2022_share', '2023_share']] * 100\n"
   ]
  },
  {
   "cell_type": "code",
   "execution_count": 46,
   "metadata": {},
   "outputs": [],
   "source": [
    "#database_HS5_sanct_gr['2020-2021_share_avg'] = (database_HS5_sanct_gr['2020_share'] + database_HS5_sanct_gr['2021_share']) / 2\n",
    "database_HS5_sanct_gr['2022-2023_share_avg'] = (database_HS5_sanct_gr['2022_share'] + database_HS5_sanct_gr['2023_share']) / 2\n",
    "\n",
    "database_HS5_sanct_gr['incr_v3'] = (database_HS5_sanct_gr['2022-2023_share_avg']/database_HS5_sanct_gr['2021_share'] - 1) * 100"
   ]
  },
  {
   "cell_type": "code",
   "execution_count": 47,
   "metadata": {},
   "outputs": [],
   "source": [
    "database_HS5_sanct_gr_short = database_HS5_sanct_gr[['ReporterDesc', '2021', '2022-2023avg', '2021_share', '2022-2023_share_avg', 'incr_v2', 'incr_v3']]\n",
    "# keep only countries with share in EU export >= 0.01 pp\n",
    "# set manually for each tupe of flow\n",
    "database_HS5_sanct_gr_short = database_HS5_sanct_gr_short.loc[database_HS5_sanct_gr_short['2021_share'] >= 0.1]\n",
    "# sort by incr_v2 pctg change in tradeflow from 2021 to average of 2022-2023\n",
    "database_HS5_sanct_gr_short = database_HS5_sanct_gr_short.sort_values(by='incr_v2', ascending=False).reset_index(drop = True)\n"
   ]
  },
  {
   "cell_type": "code",
   "execution_count": 448,
   "metadata": {},
   "outputs": [],
   "source": [
    "#database_HS5_sanct_gr_short.tail(20)\n",
    "#database_HS5_sanct_gr_short.loc[database_HS5_sanct_gr_short['2022-2023_share_avg'] > 1]"
   ]
  },
  {
   "cell_type": "code",
   "execution_count": 52,
   "metadata": {},
   "outputs": [],
   "source": [
    "database_HS5_sanct_gr_short_tex = database_HS5_sanct_gr_short.head(15).reset_index()\n",
    "database_HS5_sanct_gr_short_tex = database_HS5_sanct_gr_short_tex.append(database_HS5_sanct_gr_short.loc[(database_HS5_sanct_gr_short['ReporterDesc'] == 'World')])\n",
    "database_HS5_sanct_gr_short_tex = database_HS5_sanct_gr_short_tex.append(database_HS5_sanct_gr_short.tail(6))\n",
    "database_HS5_sanct_gr_short_tex.drop('index', axis=1, inplace=True)"
   ]
  },
  {
   "cell_type": "markdown",
   "metadata": {},
   "source": [
    "#### Export to Russia, sanctioned goods"
   ]
  },
  {
   "cell_type": "code",
   "execution_count": 59,
   "metadata": {},
   "outputs": [],
   "source": [
    "database_HS5_sanct_select_gr = database_HS5_sanct_select_gr.pivot(index=['ReporterCode'], columns='Period', values='PrimaryValue').reset_index()\n",
    "database_HS5_sanct_select_gr['ReporterCode'] = database_HS5_sanct_select_gr['ReporterCode'].apply(str)\n",
    "database_HS5_sanct_select_gr = pd.merge(database_HS5_sanct_select_gr, Reporters[['ReporterCode', 'ReporterDesc']], on='ReporterCode', how='left')\n",
    "database_HS5_sanct_select_gr.rename(columns={database_HS5_sanct_select_gr.columns[1]:'2020', database_HS5_sanct_select_gr.columns[2]:'2021', database_HS5_sanct_select_gr.columns[3]:'2022', database_HS5_sanct_select_gr.columns[4]:'2023'}, inplace=True)"
   ]
  },
  {
   "cell_type": "code",
   "execution_count": 60,
   "metadata": {},
   "outputs": [],
   "source": [
    "# keep ? countries which reported trade with Russia for 2021-2023 in HS5 or HS6 versions\n",
    "database_HS5_sanct_select_gr = database_HS5_sanct_select_gr[['ReporterCode', '2021', '2022', '2023', 'ReporterDesc']].dropna(axis=0, how='any')\n",
    "\n",
    "# make World row\n",
    "database_HS5_sanct_select_gr.loc[-1] = ['World'] + list(database_HS5_sanct_select_gr[['2021', '2022', '2023']].sum().values) + ['World']"
   ]
  },
  {
   "cell_type": "code",
   "execution_count": 61,
   "metadata": {},
   "outputs": [],
   "source": [
    "#database_HS5_sanct_select_gr[['2020', '2021', '2022', '2023']] = database_HS5_sanct_select_gr[['2020', '2021', '2022', '2023']]/10**6\n",
    "database_HS5_sanct_select_gr[['2021', '2022', '2023']] = database_HS5_sanct_select_gr[['2021', '2022', '2023']]/10**6\n",
    "\n",
    "\n",
    "#database_HS5_sanct_select_gr['2020-2021avg'] = (database_HS5_sanct_select_gr['2020'] + database_HS5_sanct_select_gr['2021']) / 2\n",
    "database_HS5_sanct_select_gr['2022-2023avg'] = (database_HS5_sanct_select_gr['2022'] + database_HS5_sanct_select_gr['2023']) / 2\n",
    "\n",
    "#database_HS5_sanct_select_gr['incr_v1'] = (database_HS5_sanct_select_gr['2022-2023avg']/database_HS5_sanct_select_gr['2020-2021avg'] - 1) * 100\n",
    "database_HS5_sanct_select_gr['incr_v2'] = (database_HS5_sanct_select_gr['2022-2023avg']/database_HS5_sanct_select_gr['2021'] - 1) * 100\n",
    "\n",
    "# database_HS5_sanct_select_gr[['2020_share', '2021_share', '2022_share', '2023_share']] = database_HS5_sanct_select_gr[['2020', '2021', '2022', '2023']] / database_HS5_sanct_select_gr.loc[database_HS5_sanct_select_gr['PartnerDesc'] == 'World', ['2020', '2021', '2022', '2023']].values[0] # compute share in the export to world\n",
    "# database_HS5_sanct_select_gr[['2020_share', '2021_share', '2022_share', '2023_share']] = database_HS5_sanct_select_gr[['2020_share', '2021_share', '2022_share', '2023_share']] * 100\n",
    "\n",
    "database_HS5_sanct_select_gr[['2021_share', '2022_share', '2023_share']] = database_HS5_sanct_select_gr[['2021', '2022', '2023']] / database_HS5_sanct_select_gr.loc[database_HS5_sanct_select_gr['ReporterDesc'] == 'World', ['2021', '2022', '2023']].values[0] # compute share in the export to world\n",
    "database_HS5_sanct_select_gr[['2021_share', '2022_share', '2023_share']] = database_HS5_sanct_select_gr[['2021_share', '2022_share', '2023_share']] * 100\n"
   ]
  },
  {
   "cell_type": "code",
   "execution_count": 62,
   "metadata": {},
   "outputs": [],
   "source": [
    "#database_HS5_sanct_select_gr['2020-2021_share_avg'] = (database_HS5_sanct_select_gr['2020_share'] + database_HS5_sanct_select_gr['2021_share']) / 2\n",
    "database_HS5_sanct_select_gr['2022-2023_share_avg'] = (database_HS5_sanct_select_gr['2022_share'] + database_HS5_sanct_select_gr['2023_share']) / 2\n",
    "\n",
    "database_HS5_sanct_select_gr['incr_v3'] = (database_HS5_sanct_select_gr['2022-2023_share_avg']/database_HS5_sanct_select_gr['2021_share'] - 1) * 100\n"
   ]
  },
  {
   "cell_type": "code",
   "execution_count": 63,
   "metadata": {},
   "outputs": [],
   "source": [
    "database_HS5_sanct_select_gr_short = database_HS5_sanct_select_gr[['ReporterDesc', '2021', '2022-2023avg', '2021_share', '2022-2023_share_avg', 'incr_v2', 'incr_v3']]\n",
    "\n",
    "# sort by incr_v2 pctg change in tradeflow from 2021 to average of 2022-2023\n",
    "database_HS5_sanct_select_gr_short = database_HS5_sanct_select_gr_short.sort_values(by='incr_v2', ascending=False)\n",
    "\n",
    "# keep only countries with share in EU export >= 0.1 pp\n",
    "# set manually for each tupe of flow\n",
    "database_HS5_sanct_select_gr_short = database_HS5_sanct_select_gr_short.loc[database_HS5_sanct_select_gr_short['2021_share'] >= 0.01].reset_index(drop = True)\n"
   ]
  },
  {
   "cell_type": "code",
   "execution_count": 69,
   "metadata": {},
   "outputs": [],
   "source": [
    "database_HS5_sanct_select_gr_short_tex = database_HS5_sanct_select_gr_short.head(15).reset_index()\n",
    "database_HS5_sanct_select_gr_short_tex = database_HS5_sanct_select_gr_short_tex.append(database_HS5_sanct_select_gr_short.loc[(database_HS5_sanct_select_gr_short['ReporterDesc'] == 'World')])\n",
    "database_HS5_sanct_select_gr_short_tex = database_HS5_sanct_select_gr_short_tex.append(database_HS5_sanct_select_gr_short.tail(6))\n",
    "database_HS5_sanct_select_gr_short_tex.drop('index', axis=1, inplace=True)\n"
   ]
  },
  {
   "cell_type": "code",
   "execution_count": 70,
   "metadata": {},
   "outputs": [
    {
     "name": "stdout",
     "output_type": "stream",
     "text": [
      "\\begin{tabular}{lrrrrrr}\n",
      "\\toprule\n",
      "  ReporterDesc &      2021 &  2022-2023avg &  2021\\_share &  2022-2023\\_share\\_avg &  incr\\_v2 &  incr\\_v3 \\\\\n",
      "\\midrule\n",
      "       Armenia &    786.83 &       2900.45 &        0.35 &                 1.51 &   268.63 &   334.54 \\\\\n",
      "    Kyrgyzstan &    391.87 &        907.89 &        0.17 &                 0.48 &   131.68 &   177.71 \\\\\n",
      "       T�rkiye &   5766.42 &      10124.69 &        2.55 &                 5.29 &    75.58 &   107.88 \\\\\n",
      "    Uzbekistan &   1703.81 &       2811.28 &        0.75 &                 1.47 &    65.00 &    95.37 \\\\\n",
      "         China &  66992.29 &      93529.03 &       29.57 &                48.63 &    39.61 &    64.42 \\\\\n",
      "    Kazakhstan &   7018.40 &       9284.48 &        3.10 &                 4.86 &    32.29 &    56.80 \\\\\n",
      "      Slovenia &   1010.91 &       1214.53 &        0.45 &                 0.64 &    20.14 &    42.90 \\\\\n",
      "        Serbia &    996.15 &       1194.65 &        0.44 &                 0.63 &    19.93 &    42.52 \\\\\n",
      "    Azerbaijan &    920.82 &       1085.93 &        0.41 &                 0.57 &    17.93 &    39.46 \\\\\n",
      "       Georgia &    610.07 &        649.74 &        0.27 &                 0.34 &     6.50 &    26.50 \\\\\n",
      "         India &   3334.23 &       3492.41 &        1.47 &                 1.82 &     4.74 &    23.50 \\\\\n",
      "        Brazil &   1587.20 &       1658.47 &        0.70 &                 0.88 &     4.49 &    25.32 \\\\\n",
      "      Bulgaria &    516.29 &        526.28 &        0.23 &                 0.28 &     1.93 &    20.99 \\\\\n",
      "       Estonia &   1424.10 &       1281.18 &        0.63 &                 0.67 &   -10.04 &     7.31 \\\\\n",
      "       Croatia &    242.07 &        215.63 &        0.11 &                 0.11 &   -10.92 &     5.25 \\\\\n",
      "         World & 226523.89 &     191058.00 &      100.00 &               100.00 &   -15.66 &     0.00 \\\\\n",
      "United Kingdom &   3815.71 &       1040.06 &        1.68 &                 0.55 &   -72.74 &   -67.27 \\\\\n",
      "       Czechia &   4319.80 &       1145.16 &        1.91 &                 0.61 &   -73.49 &   -67.94 \\\\\n",
      "       Denmark &    973.92 &        207.04 &        0.43 &                 0.11 &   -78.74 &   -74.03 \\\\\n",
      "        Canada &    523.78 &        100.94 &        0.23 &                 0.05 &   -80.73 &   -76.39 \\\\\n",
      "           USA &   6380.39 &       1156.18 &        2.82 &                 0.62 &   -81.88 &   -77.96 \\\\\n",
      "        Mexico &    475.12 &         63.29 &        0.21 &                 0.03 &   -86.68 &   -83.64 \\\\\n",
      "\\bottomrule\n",
      "\\end{tabular}\n",
      "\n"
     ]
    }
   ],
   "source": [
    "print(database_HS5_sanct_gr_short_tex.to_latex(index=False,\n",
    "                  float_format=\"{:.2f}\".format,\n",
    ")) "
   ]
  },
  {
   "cell_type": "code",
   "execution_count": 71,
   "metadata": {},
   "outputs": [
    {
     "name": "stdout",
     "output_type": "stream",
     "text": [
      "\\begin{tabular}{lrrrrrr}\n",
      "\\toprule\n",
      "      ReporterDesc &      2021 &  2022-2023avg &  2021\\_share &  2022-2023\\_share\\_avg &  incr\\_v2 &  incr\\_v3 \\\\\n",
      "\\midrule\n",
      "           Armenia &     84.57 &       1409.59 &        0.07 &                 1.36 &  1566.73 &  1961.39 \\\\\n",
      "        Kyrgyzstan &     71.68 &        255.08 &        0.06 &                 0.25 &   255.86 &   348.71 \\\\\n",
      "           T�rkiye &   2205.51 &       4822.29 &        1.72 &                 4.67 &   118.65 &   172.54 \\\\\n",
      "        Uzbekistan &    577.06 &        957.46 &        0.45 &                 0.93 &    65.92 &   108.01 \\\\\n",
      "        Kazakhstan &   2850.73 &       4365.35 &        2.22 &                 4.26 &    53.13 &    91.94 \\\\\n",
      "             China &  39630.71 &      59159.38 &       30.82 &                56.97 &    49.28 &    84.85 \\\\\n",
      "        Azerbaijan &    171.46 &        238.61 &        0.13 &                 0.23 &    39.16 &    72.41 \\\\\n",
      "Bosnia Herzegovina &     25.25 &         26.74 &        0.02 &                 0.03 &     5.90 &    32.60 \\\\\n",
      "            Serbia &    434.84 &        459.87 &        0.34 &                 0.45 &     5.76 &    33.01 \\\\\n",
      "          Slovenia &    637.07 &        666.05 &        0.50 &                 0.65 &     4.55 &    31.65 \\\\\n",
      "           Georgia &    338.02 &        326.69 &        0.26 &                 0.32 &    -3.35 &    22.09 \\\\\n",
      "             India &   1757.86 &       1654.29 &        1.37 &                 1.59 &    -5.89 &    16.50 \\\\\n",
      "          Bulgaria &    298.14 &        279.27 &        0.23 &                 0.27 &    -6.33 &    18.02 \\\\\n",
      "           Croatia &    114.79 &        103.51 &        0.09 &                 0.10 &    -9.83 &    12.51 \\\\\n",
      "       Switzerland &   1598.26 &       1299.83 &        1.24 &                 1.28 &   -18.67 &     2.61 \\\\\n",
      "             World & 128577.30 &     102814.88 &      100.00 &               100.00 &   -20.04 &     0.00 \\\\\n",
      "          Slovakia &   1223.42 &        215.40 &        0.95 &                 0.22 &   -82.39 &   -77.06 \\\\\n",
      "           Denmark &    521.09 &         87.68 &        0.41 &                 0.09 &   -83.17 &   -77.98 \\\\\n",
      "               USA &   3437.63 &        570.10 &        2.67 &                 0.58 &   -83.42 &   -78.49 \\\\\n",
      "        Luxembourg &    125.25 &         17.72 &        0.10 &                 0.02 &   -85.85 &   -81.18 \\\\\n",
      "            Mexico &     18.66 &          1.00 &        0.01 &                 0.00 &   -94.64 &   -92.85 \\\\\n",
      "           Iceland &     26.42 &          0.46 &        0.02 &                 0.00 &   -98.27 &   -97.70 \\\\\n",
      "\\bottomrule\n",
      "\\end{tabular}\n",
      "\n"
     ]
    }
   ],
   "source": [
    "print(database_HS5_sanct_select_gr_short_tex.to_latex(index=False,\n",
    "                  float_format=\"{:.2f}\".format,\n",
    ")) "
   ]
  },
  {
   "cell_type": "code",
   "execution_count": 296,
   "metadata": {},
   "outputs": [
    {
     "data": {
      "text/plain": [
       "array(['H5', 'H4', 'H3'], dtype=object)"
      ]
     },
     "execution_count": 296,
     "metadata": {},
     "output_type": "execute_result"
    }
   ],
   "source": [
    "toRus_exp_2020_2021['ClassificationCode'].unique() # = H5\n",
    "# toRus_exp_2022_2023['ClassificationCode'].unique() # = H6\n"
   ]
  },
  {
   "cell_type": "code",
   "execution_count": 292,
   "metadata": {},
   "outputs": [
    {
     "name": "stdout",
     "output_type": "stream",
     "text": [
      "[180 275 484 682 566 646 670 662 780 762 818 140 308 740]\n",
      "[275 308 646 762 740]\n"
     ]
    }
   ],
   "source": [
    "print(toRus_exp_2020_2021.loc[(toRus_exp_2020_2021['ClassificationCode'] != 'H6') & (toRus_exp_2020_2021['ClassificationCode'] != 'H5'), 'ReporterCode'].unique())\n",
    "print(toRus_exp_2022_2023.loc[(toRus_exp_2022_2023['ClassificationCode'] != 'H6') & (toRus_exp_2022_2023['ClassificationCode'] != 'H5'), 'ReporterCode'].unique())\n",
    "\n"
   ]
  },
  {
   "cell_type": "code",
   "execution_count": 297,
   "metadata": {},
   "outputs": [
    {
     "data": {
      "text/plain": [
       "149"
      ]
     },
     "execution_count": 297,
     "metadata": {},
     "output_type": "execute_result"
    }
   ],
   "source": [
    "toRus_exp_2022_2023.columns\n",
    "len(toRus_exp_2020_2021['ReporterCode'].unique())"
   ]
  },
  {
   "cell_type": "code",
   "execution_count": null,
   "metadata": {},
   "outputs": [],
   "source": []
  },
  {
   "cell_type": "code",
   "execution_count": null,
   "metadata": {},
   "outputs": [],
   "source": []
  },
  {
   "cell_type": "code",
   "execution_count": null,
   "metadata": {},
   "outputs": [],
   "source": []
  }
 ],
 "metadata": {
  "kernelspec": {
   "display_name": "Python 3",
   "language": "python",
   "name": "python3"
  },
  "language_info": {
   "codemirror_mode": {
    "name": "ipython",
    "version": 3
   },
   "file_extension": ".py",
   "mimetype": "text/x-python",
   "name": "python",
   "nbconvert_exporter": "python",
   "pygments_lexer": "ipython3",
   "version": "3.7.6"
  }
 },
 "nbformat": 4,
 "nbformat_minor": 4
}
