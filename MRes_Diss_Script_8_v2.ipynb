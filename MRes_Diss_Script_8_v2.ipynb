{
 "cells": [
  {
   "cell_type": "code",
   "execution_count": 1,
   "metadata": {},
   "outputs": [],
   "source": [
    "import pandas as pd\n",
    "import numpy as np"
   ]
  },
  {
   "cell_type": "markdown",
   "metadata": {},
   "source": [
    "## Script to see patterns of diversion for EU and Russia"
   ]
  },
  {
   "cell_type": "code",
   "execution_count": 2,
   "metadata": {},
   "outputs": [],
   "source": [
    "# read conversion table and HS5 level sanction table\n",
    "HS2022toHS2017 = pd.read_excel('/Users/omega_macbookpro/Desktop/International_Trade/Dissertation_MRes/Comtrade/Sanctions Docs/EU/Data/HS2022toHS2017.xlsx', sheet_name='Conversions', dtype={'From HS2022': str, 'To HS2017': str}) \n",
    "HS5_sanct = pd.read_csv(\"/Users/omega_macbookpro/Desktop/International_Trade/Dissertation_MRes/Comtrade/Sanctions Docs/EU/Data/Output_Script_2/HS5_sanct_short_ext_imp_v1.csv\", dtype={'HS2017': str})\n",
    "HS5_sanct[['Partial_HS5', 'Full_HS5','Transitory_HS5']] = HS5_sanct[['Partial_HS5', 'Full_HS5','Transitory_HS5']].fillna(value=0)\n",
    "HS5_sanct.drop('Unnamed: 0', axis=1, inplace=True)\n",
    "\n",
    "Partners = pd.read_csv(\"/Users/omega_macbookpro/Desktop/International_Trade/Dissertation_MRes/Comtrade/Sanctions Docs/EU/Data/Output_Script_7/Partners.csv\", dtype={'PartnerCode': str})\n",
    "Reporters = pd.read_csv(\"/Users/omega_macbookpro/Desktop/International_Trade/Dissertation_MRes/Comtrade/Sanctions Docs/EU/Data/Output_Script_7/Reporters.csv\", dtype={'PartnerCode': str})\n",
    "Reporters['ReporterCode'] = Reporters['ReporterCode'].apply(str)\n"
   ]
  },
  {
   "cell_type": "code",
   "execution_count": 3,
   "metadata": {},
   "outputs": [],
   "source": [
    "import requests\n",
    "import comtradeapicall\n",
    "import time\n",
    "import datetime\n",
    "from tqdm import tqdm\n",
    "subscription_key = '94ee5163870949e1aa6fe904f64e241d' # comtrade api subscription key (from comtradedeveloper.un.org)\n",
    "directory = '/Users/omega_macbookpro/Desktop/International_Trade/Dissertation_MRes/Comtrade/Sanctions Docs/EU/Data/Output_Script_7'  # output directory for downloaded files \n",
    "\n",
    "#string_dates = '2020,2021,2022,2023,2024'\n",
    "string_dates = ['2020','2021','2022','2023','2024']"
   ]
  },
  {
   "cell_type": "code",
   "execution_count": 21,
   "metadata": {},
   "outputs": [],
   "source": [
    "# def get_data_exp(params):\n",
    "#     data = comtradeapicall.getFinalData(subscription_key, typeCode='C', freqCode='A', clCode='HS', period=params,\n",
    "#                                         reporterCode='97', cmdCode=None, flowCode='X', partnerCode=None,\n",
    "#                                         partner2Code=None,\n",
    "#                                         customsCode=None, motCode=None, maxRecords=250000, format_output='JSON',\n",
    "#                                         aggregateBy=None, breakdownMode='classic', countOnly=None, includeDesc=True)\n",
    "#     return data\n"
   ]
  },
  {
   "cell_type": "markdown",
   "metadata": {},
   "source": [
    "### EU import\n",
    "#### Download EU import data"
   ]
  },
  {
   "cell_type": "code",
   "execution_count": 58,
   "metadata": {},
   "outputs": [
    {
     "name": "stdout",
     "output_type": "stream",
     "text": [
      "Return message: Your request is accepted.You will be notified through your email when the data is ready for download\n",
      "requestID:  d4539a60-1ede-4b4a-84a6-198b674176a4\n"
     ]
    }
   ],
   "source": [
    "myJson3 = comtradeapicall.submitAsyncFinalDataRequest(subscription_key, typeCode='C', freqCode='A', clCode='HS',\n",
    "                                    period='2020,2021',\n",
    "                                    reporterCode='97', cmdCode=None, flowCode='M', partnerCode=None,\n",
    "                                    partner2Code=None,\n",
    "                                    customsCode=None, motCode=None, aggregateBy=None, breakdownMode='classic')\n",
    "print(\"requestID: \",myJson3['requestId'])"
   ]
  },
  {
   "cell_type": "code",
   "execution_count": 59,
   "metadata": {},
   "outputs": [
    {
     "name": "stdout",
     "output_type": "stream",
     "text": [
      "['https://comtradeapi.un.org/files/v1/async-downloads/batchid-1bdf56e1-dc9b-4c16-88ce-d206cb37e33d.zip']\n"
     ]
    },
    {
     "data": {
      "text/html": [
       "<div>\n",
       "<style scoped>\n",
       "    .dataframe tbody tr th:only-of-type {\n",
       "        vertical-align: middle;\n",
       "    }\n",
       "\n",
       "    .dataframe tbody tr th {\n",
       "        vertical-align: top;\n",
       "    }\n",
       "\n",
       "    .dataframe thead th {\n",
       "        text-align: right;\n",
       "    }\n",
       "</style>\n",
       "<table border=\"1\" class=\"dataframe\">\n",
       "  <thead>\n",
       "    <tr style=\"text-align: right;\">\n",
       "      <th></th>\n",
       "      <th>emailId</th>\n",
       "      <th>objectId</th>\n",
       "      <th>ipAddress</th>\n",
       "      <th>userId</th>\n",
       "      <th>reqId</th>\n",
       "      <th>requestType</th>\n",
       "      <th>uri</th>\n",
       "      <th>size</th>\n",
       "      <th>startTime</th>\n",
       "      <th>endTime</th>\n",
       "      <th>...</th>\n",
       "      <th>motCode</th>\n",
       "      <th>mosCode</th>\n",
       "      <th>recordCount</th>\n",
       "      <th>breakdownMode</th>\n",
       "      <th>aggregateBy</th>\n",
       "      <th>filesize</th>\n",
       "      <th>partitionKey</th>\n",
       "      <th>rowKey</th>\n",
       "      <th>timestamp</th>\n",
       "      <th>eTag</th>\n",
       "    </tr>\n",
       "  </thead>\n",
       "  <tbody>\n",
       "    <tr>\n",
       "      <th>0</th>\n",
       "      <td>uctppia@ucl.ac.uk</td>\n",
       "      <td>666627380a232310e4d26569</td>\n",
       "      <td>92.55.48.116</td>\n",
       "      <td>uctppia@ucl.ac.uk</td>\n",
       "      <td>d4539a60-1ede-4b4a-84a6-198b674176a4</td>\n",
       "      <td>Trade</td>\n",
       "      <td>https://comtradeapi.un.org/files/v1/async-down...</td>\n",
       "      <td>31 MB</td>\n",
       "      <td>8/30/2024 7:10:01 AM</td>\n",
       "      <td>8/30/2024 7:10:39 AM</td>\n",
       "      <td>...</td>\n",
       "      <td>None</td>\n",
       "      <td>None</td>\n",
       "      <td>1277212.0</td>\n",
       "      <td>classic</td>\n",
       "      <td>None</td>\n",
       "      <td>0</td>\n",
       "      <td>uctppia@ucl.ac.uk</td>\n",
       "      <td>d4539a60-1ede-4b4a-84a6-198b674176a4</td>\n",
       "      <td>2024-08-30T07:10:39.7287326+00:00</td>\n",
       "      <td>W/\"datetime'2024-08-30T07%3A10%3A39.7287326Z'\"</td>\n",
       "    </tr>\n",
       "  </tbody>\n",
       "</table>\n",
       "<p>1 rows × 32 columns</p>\n",
       "</div>"
      ],
      "text/plain": [
       "             emailId                  objectId     ipAddress  \\\n",
       "0  uctppia@ucl.ac.uk  666627380a232310e4d26569  92.55.48.116   \n",
       "\n",
       "              userId                                 reqId requestType  \\\n",
       "0  uctppia@ucl.ac.uk  d4539a60-1ede-4b4a-84a6-198b674176a4       Trade   \n",
       "\n",
       "                                                 uri   size  \\\n",
       "0  https://comtradeapi.un.org/files/v1/async-down...  31 MB   \n",
       "\n",
       "              startTime               endTime  ... motCode mosCode  \\\n",
       "0  8/30/2024 7:10:01 AM  8/30/2024 7:10:39 AM  ...    None    None   \n",
       "\n",
       "  recordCount breakdownMode aggregateBy filesize       partitionKey  \\\n",
       "0   1277212.0       classic        None        0  uctppia@ucl.ac.uk   \n",
       "\n",
       "                                 rowKey                          timestamp  \\\n",
       "0  d4539a60-1ede-4b4a-84a6-198b674176a4  2024-08-30T07:10:39.7287326+00:00   \n",
       "\n",
       "                                             eTag  \n",
       "0  W/\"datetime'2024-08-30T07%3A10%3A39.7287326Z'\"  \n",
       "\n",
       "[1 rows x 32 columns]"
      ]
     },
     "execution_count": 59,
     "metadata": {},
     "output_type": "execute_result"
    }
   ],
   "source": [
    "mydf = comtradeapicall.checkAsyncDataRequest(subscription_key, \n",
    "                                          batchId = myJson3['requestId'])\n",
    "print(mydf['uri'].values)\n",
    "mydf"
   ]
  },
  {
   "cell_type": "code",
   "execution_count": 60,
   "metadata": {},
   "outputs": [
    {
     "name": "stdout",
     "output_type": "stream",
     "text": [
      "Return message: Your request is accepted.You will be notified through your email when the data is ready for download\n",
      "requestID:  e6315d80-d4cb-4707-a88e-3e9383dc1710\n"
     ]
    }
   ],
   "source": [
    "myJson4 = comtradeapicall.submitAsyncFinalDataRequest(subscription_key, typeCode='C', freqCode='A', clCode='HS',\n",
    "                                    period='2022,2023',\n",
    "                                    reporterCode='97', cmdCode=None, flowCode='M', partnerCode=None,\n",
    "                                    partner2Code=None,\n",
    "                                    customsCode=None, motCode=None, aggregateBy=None, breakdownMode='classic')\n",
    "print(\"requestID: \",myJson4['requestId'])"
   ]
  },
  {
   "cell_type": "code",
   "execution_count": 61,
   "metadata": {},
   "outputs": [
    {
     "name": "stdout",
     "output_type": "stream",
     "text": [
      "['https://comtradeapi.un.org/files/v1/async-downloads/batchid-ab43d4ce-5ccc-4c28-9a03-1b5779ebfb85.zip']\n"
     ]
    },
    {
     "data": {
      "text/html": [
       "<div>\n",
       "<style scoped>\n",
       "    .dataframe tbody tr th:only-of-type {\n",
       "        vertical-align: middle;\n",
       "    }\n",
       "\n",
       "    .dataframe tbody tr th {\n",
       "        vertical-align: top;\n",
       "    }\n",
       "\n",
       "    .dataframe thead th {\n",
       "        text-align: right;\n",
       "    }\n",
       "</style>\n",
       "<table border=\"1\" class=\"dataframe\">\n",
       "  <thead>\n",
       "    <tr style=\"text-align: right;\">\n",
       "      <th></th>\n",
       "      <th>emailId</th>\n",
       "      <th>objectId</th>\n",
       "      <th>ipAddress</th>\n",
       "      <th>userId</th>\n",
       "      <th>reqId</th>\n",
       "      <th>requestType</th>\n",
       "      <th>uri</th>\n",
       "      <th>size</th>\n",
       "      <th>startTime</th>\n",
       "      <th>endTime</th>\n",
       "      <th>...</th>\n",
       "      <th>motCode</th>\n",
       "      <th>mosCode</th>\n",
       "      <th>recordCount</th>\n",
       "      <th>breakdownMode</th>\n",
       "      <th>aggregateBy</th>\n",
       "      <th>filesize</th>\n",
       "      <th>partitionKey</th>\n",
       "      <th>rowKey</th>\n",
       "      <th>timestamp</th>\n",
       "      <th>eTag</th>\n",
       "    </tr>\n",
       "  </thead>\n",
       "  <tbody>\n",
       "    <tr>\n",
       "      <th>0</th>\n",
       "      <td>uctppia@ucl.ac.uk</td>\n",
       "      <td>666627380a232310e4d26569</td>\n",
       "      <td>92.55.48.116</td>\n",
       "      <td>uctppia@ucl.ac.uk</td>\n",
       "      <td>e6315d80-d4cb-4707-a88e-3e9383dc1710</td>\n",
       "      <td>Trade</td>\n",
       "      <td>https://comtradeapi.un.org/files/v1/async-down...</td>\n",
       "      <td>26 MB</td>\n",
       "      <td>8/30/2024 7:20:57 AM</td>\n",
       "      <td>8/30/2024 7:22:01 AM</td>\n",
       "      <td>...</td>\n",
       "      <td>None</td>\n",
       "      <td>None</td>\n",
       "      <td>1316723.0</td>\n",
       "      <td>classic</td>\n",
       "      <td>None</td>\n",
       "      <td>0</td>\n",
       "      <td>uctppia@ucl.ac.uk</td>\n",
       "      <td>e6315d80-d4cb-4707-a88e-3e9383dc1710</td>\n",
       "      <td>2024-08-30T07:22:01.4818274+00:00</td>\n",
       "      <td>W/\"datetime'2024-08-30T07%3A22%3A01.4818274Z'\"</td>\n",
       "    </tr>\n",
       "  </tbody>\n",
       "</table>\n",
       "<p>1 rows × 32 columns</p>\n",
       "</div>"
      ],
      "text/plain": [
       "             emailId                  objectId     ipAddress  \\\n",
       "0  uctppia@ucl.ac.uk  666627380a232310e4d26569  92.55.48.116   \n",
       "\n",
       "              userId                                 reqId requestType  \\\n",
       "0  uctppia@ucl.ac.uk  e6315d80-d4cb-4707-a88e-3e9383dc1710       Trade   \n",
       "\n",
       "                                                 uri   size  \\\n",
       "0  https://comtradeapi.un.org/files/v1/async-down...  26 MB   \n",
       "\n",
       "              startTime               endTime  ... motCode mosCode  \\\n",
       "0  8/30/2024 7:20:57 AM  8/30/2024 7:22:01 AM  ...    None    None   \n",
       "\n",
       "  recordCount breakdownMode aggregateBy filesize       partitionKey  \\\n",
       "0   1316723.0       classic        None        0  uctppia@ucl.ac.uk   \n",
       "\n",
       "                                 rowKey                          timestamp  \\\n",
       "0  e6315d80-d4cb-4707-a88e-3e9383dc1710  2024-08-30T07:22:01.4818274+00:00   \n",
       "\n",
       "                                             eTag  \n",
       "0  W/\"datetime'2024-08-30T07%3A22%3A01.4818274Z'\"  \n",
       "\n",
       "[1 rows x 32 columns]"
      ]
     },
     "execution_count": 61,
     "metadata": {},
     "output_type": "execute_result"
    }
   ],
   "source": [
    "mydf = comtradeapicall.checkAsyncDataRequest(subscription_key, \n",
    "                                          batchId = myJson4['requestId'])\n",
    "print(mydf['uri'].values)\n",
    "mydf"
   ]
  },
  {
   "cell_type": "markdown",
   "metadata": {},
   "source": [
    "#### Analyse EU import data"
   ]
  },
  {
   "cell_type": "code",
   "execution_count": 4,
   "metadata": {},
   "outputs": [],
   "source": [
    "# append datasets according to HS5 and HS6 classif\n",
    "# EU_exp_2020_2021 = EU_exp_short.loc[EU_exp_short['period'] < '2022']\n",
    "# EU_exp_2022_2024 = EU_exp_short.loc[EU_exp_short['period'] >= '2022']\n",
    "\n",
    "EU_exp_2020_2021 = pd.read_csv('/Users/omega_macbookpro/Desktop/International_Trade/Dissertation_MRes/Comtrade/Sanctions Docs/EU/Data/Output_Script_8/EU_imp_2020_2021.txt', sep=\"\\t\", dtype={'CmdCode': str})\n",
    "EU_exp_2022_2023 = pd.read_csv('/Users/omega_macbookpro/Desktop/International_Trade/Dissertation_MRes/Comtrade/Sanctions Docs/EU/Data/Output_Script_8/EU_imp_2022_2023.txt', sep=\"\\t\", dtype={'CmdCode': str})\n"
   ]
  },
  {
   "cell_type": "code",
   "execution_count": 5,
   "metadata": {},
   "outputs": [],
   "source": [
    "# check that there are no non-even digit codes and the only 5digit code is TOTAL\n",
    "#EU_exp_2020_2021.loc[(EU_exp_2020_2021['CmdCode'].apply(lambda x: len(str(x))) ==5) & (EU_exp_2020_2021['CmdCode'] != 'TOTAL'), EU_exp_2020_2021.columns[15:]]\n",
    "\n",
    "# EU_exp_2020_2021['ClassificationCode'].unique() # = H5\n",
    "# EU_exp_2022_2023['ClassificationCode'].unique() # = H6\n",
    "\n",
    "comtrade_cols = ['Period', 'PartnerCode', 'CmdCode', 'PrimaryValue']\n",
    "EU_exp_2020_2021 = EU_exp_2020_2021[comtrade_cols]\n",
    "EU_exp_2022_2023 = EU_exp_2022_2023[comtrade_cols]\n",
    "\n",
    "\n",
    "EU_exp_2020_2021 = EU_exp_2020_2021.loc[EU_exp_2020_2021['CmdCode'].apply(len) == 6]\n",
    "EU_exp_2020_2021.reset_index(inplace=True)\n",
    "\n",
    "EU_exp_2022_2023 = EU_exp_2022_2023.loc[EU_exp_2022_2023['CmdCode'].apply(len) == 6]\n",
    "EU_exp_2022_2023.reset_index(inplace=True)\n"
   ]
  },
  {
   "cell_type": "code",
   "execution_count": 468,
   "metadata": {},
   "outputs": [],
   "source": [
    "#EU_exp_2020_2021.loc[(EU_exp_2020_2021['CmdCode'].apply(lambda x: len(str(x))) ==5) & (EU_exp_2020_2021['CmdCode'] != 'TOTAL'), EU_exp_2020_2021.columns[15:]]\n",
    "\n"
   ]
  },
  {
   "cell_type": "code",
   "execution_count": 6,
   "metadata": {},
   "outputs": [],
   "source": [
    "# convet HS6 to HS5 and group HS6 flows within same month-HS5 group\n",
    "EU_exp_2022_2023_HS5 = pd.merge(EU_exp_2022_2023, HS2022toHS2017, left_on='CmdCode', right_on='From HS2022', how='left')\n",
    "EU_exp_2022_2023_HS5 = EU_exp_2022_2023_HS5[['Period', 'PartnerCode', 'PrimaryValue', 'To HS2017']].groupby(['Period', 'PartnerCode', 'To HS2017'])['PrimaryValue'].sum().reset_index()\n"
   ]
  },
  {
   "cell_type": "code",
   "execution_count": 7,
   "metadata": {},
   "outputs": [],
   "source": [
    "# rename to have same column names\n",
    "EU_exp_2020_2021.rename(columns={'CmdCode':'cmdCode_HS5'}, inplace=True)\n",
    "EU_exp_2022_2023_HS5.rename(columns={'To HS2017':'cmdCode_HS5'}, inplace=True)\n",
    "\n",
    "database_HS5 = EU_exp_2020_2021.append(EU_exp_2022_2023_HS5)\n"
   ]
  },
  {
   "cell_type": "code",
   "execution_count": 8,
   "metadata": {},
   "outputs": [],
   "source": [
    "database_HS5_sanct = pd.merge(database_HS5, HS5_sanct, left_on='cmdCode_HS5', right_on='HS2017', how='left')\n",
    "database_HS5_sanct.drop(['HS2017', 'HS2022'], axis=1, inplace=True)\n",
    "database_HS5_sanct['Period'] = database_HS5_sanct['Period'].apply(lambda x: pd.to_datetime(x, format='%Y')) # convert to timestamp\n",
    "database_HS5_sanct['Date_HS5'] = database_HS5_sanct['Date_HS5'].apply(lambda x: pd.to_datetime(x, format='%Y-%m-%d') if x==x else x)\n"
   ]
  },
  {
   "cell_type": "code",
   "execution_count": 9,
   "metadata": {},
   "outputs": [
    {
     "name": "stdout",
     "output_type": "stream",
     "text": [
      "25896\n"
     ]
    }
   ],
   "source": [
    "print(database_HS5_sanct['Sanct_HS5'].isna().sum())\n",
    "database_HS5_sanct = database_HS5_sanct.loc[database_HS5_sanct['Sanct_HS5'].notna()]\n",
    "database_HS5_sanct_select = database_HS5_sanct.loc[database_HS5_sanct['Sanct_HS5'] == 1] # select only sanctioned products\n",
    "database_HS5_sanct_select_nooil = database_HS5_sanct_select.loc[database_HS5_sanct_select['cmdCode_HS5'].apply(lambda x: (x[:4] != '2709') and (x[:4] != '2710'))] # delets 2330 obs"
   ]
  },
  {
   "cell_type": "code",
   "execution_count": 57,
   "metadata": {},
   "outputs": [],
   "source": [
    "# #EU_exp_2020_2021.shape + EU_exp_2022_2023.shape\n",
    "# database_HS5_sanct_select_nooil = database_HS5_sanct_select.loc[database_HS5_sanct_select['cmdCode_HS5'].apply(lambda x: (x[:4] != '2709') and (x[:4] != '2710'))] # delets 2330 obs\n",
    "# database_HS5_sanct_select.shape\n",
    "# database_HS5_sanct_select_nooil.shape\n",
    "#database_HS5"
   ]
  },
  {
   "cell_type": "code",
   "execution_count": 10,
   "metadata": {},
   "outputs": [],
   "source": [
    "# now group\n",
    "database_HS5_sanct_gr = database_HS5_sanct[['Period', 'PartnerCode', 'PrimaryValue']].groupby(['Period', 'PartnerCode'])['PrimaryValue'].sum().reset_index()\n",
    "database_HS5_sanct_select_gr = database_HS5_sanct_select[['Period', 'PartnerCode', 'PrimaryValue']].groupby(['Period', 'PartnerCode'])['PrimaryValue'].sum().reset_index()\n",
    "database_HS5_sanct_select_nooil_gr = database_HS5_sanct_select_nooil[['Period', 'PartnerCode', 'PrimaryValue']].groupby(['Period', 'PartnerCode'])['PrimaryValue'].sum().reset_index()"
   ]
  },
  {
   "cell_type": "markdown",
   "metadata": {},
   "source": [
    "#### EU Import, all goods"
   ]
  },
  {
   "cell_type": "code",
   "execution_count": 12,
   "metadata": {},
   "outputs": [],
   "source": [
    "database_HS5_sanct_gr = database_HS5_sanct_gr.pivot(index=['PartnerCode'], columns='Period', values='PrimaryValue').reset_index()\n",
    "database_HS5_sanct_gr['PartnerCode'] = database_HS5_sanct_gr['PartnerCode'].apply(str)\n",
    "database_HS5_sanct_gr = pd.merge(database_HS5_sanct_gr, Partners[['PartnerCode', 'PartnerDesc']], on='PartnerCode', how='left')\n",
    "database_HS5_sanct_gr.rename(columns={database_HS5_sanct_gr.columns[1]:'2020', database_HS5_sanct_gr.columns[2]:'2021', database_HS5_sanct_gr.columns[3]:'2022', database_HS5_sanct_gr.columns[4]:'2023'}, inplace=True)"
   ]
  },
  {
   "cell_type": "code",
   "execution_count": 13,
   "metadata": {},
   "outputs": [],
   "source": [
    "database_HS5_sanct_gr[['2020', '2021', '2022', '2023']] = database_HS5_sanct_gr[['2020', '2021', '2022', '2023']]/10**6\n",
    "\n",
    "database_HS5_sanct_gr['2020-2021avg'] = (database_HS5_sanct_gr['2020'] + database_HS5_sanct_gr['2021']) / 2\n",
    "database_HS5_sanct_gr['2022-2023avg'] = (database_HS5_sanct_gr['2022'] + database_HS5_sanct_gr['2023']) / 2\n",
    "\n",
    "database_HS5_sanct_gr['incr_v1'] = (database_HS5_sanct_gr['2022-2023avg']/database_HS5_sanct_gr['2020-2021avg'] - 1) * 100\n",
    "database_HS5_sanct_gr['incr_v2'] = (database_HS5_sanct_gr['2022-2023avg']/database_HS5_sanct_gr['2021'] - 1) * 100\n",
    "\n",
    "database_HS5_sanct_gr[['2020_share', '2021_share', '2022_share', '2023_share']] = database_HS5_sanct_gr[['2020', '2021', '2022', '2023']] / database_HS5_sanct_gr.loc[database_HS5_sanct_gr['PartnerDesc'] == 'World', ['2020', '2021', '2022', '2023']].values[0] # compute share in the export to world\n",
    "database_HS5_sanct_gr[['2020_share', '2021_share', '2022_share', '2023_share']] = database_HS5_sanct_gr[['2020_share', '2021_share', '2022_share', '2023_share']] * 100\n"
   ]
  },
  {
   "cell_type": "code",
   "execution_count": 14,
   "metadata": {},
   "outputs": [],
   "source": [
    "database_HS5_sanct_gr['2020-2021_share_avg'] = (database_HS5_sanct_gr['2020_share'] + database_HS5_sanct_gr['2021_share']) / 2\n",
    "database_HS5_sanct_gr['2022-2023_share_avg'] = (database_HS5_sanct_gr['2022_share'] + database_HS5_sanct_gr['2023_share']) / 2\n",
    "\n",
    "database_HS5_sanct_gr['incr_v3'] = (database_HS5_sanct_gr['2022-2023_share_avg']/database_HS5_sanct_gr['2021_share'] - 1) * 100"
   ]
  },
  {
   "cell_type": "code",
   "execution_count": 15,
   "metadata": {},
   "outputs": [],
   "source": [
    "database_HS5_sanct_gr_short = database_HS5_sanct_gr[['PartnerDesc', '2021', '2022-2023avg', '2021_share', '2022-2023_share_avg', 'incr_v2', 'incr_v3']]\n",
    "# keep only countries with share in EU export >= 0.01 pp\n",
    "# set manually for each tupe of flow\n",
    "database_HS5_sanct_gr_short = database_HS5_sanct_gr_short.loc[database_HS5_sanct_gr_short['2021_share'] >= 0.01]\n",
    "# sort by incr_v2 pctg change in tradeflow from 2021 to average of 2022-2023\n",
    "database_HS5_sanct_gr_short = database_HS5_sanct_gr_short.sort_values(by='incr_v2', ascending=False).reset_index(drop = True)\n"
   ]
  },
  {
   "cell_type": "code",
   "execution_count": 17,
   "metadata": {},
   "outputs": [
    {
     "data": {
      "text/html": [
       "<div>\n",
       "<style scoped>\n",
       "    .dataframe tbody tr th:only-of-type {\n",
       "        vertical-align: middle;\n",
       "    }\n",
       "\n",
       "    .dataframe tbody tr th {\n",
       "        vertical-align: top;\n",
       "    }\n",
       "\n",
       "    .dataframe thead th {\n",
       "        text-align: right;\n",
       "    }\n",
       "</style>\n",
       "<table border=\"1\" class=\"dataframe\">\n",
       "  <thead>\n",
       "    <tr style=\"text-align: right;\">\n",
       "      <th></th>\n",
       "      <th>PartnerDesc</th>\n",
       "      <th>2021</th>\n",
       "      <th>2022-2023avg</th>\n",
       "      <th>2021_share</th>\n",
       "      <th>2022-2023_share_avg</th>\n",
       "      <th>incr_v2</th>\n",
       "      <th>incr_v3</th>\n",
       "    </tr>\n",
       "  </thead>\n",
       "  <tbody>\n",
       "    <tr>\n",
       "      <th>0</th>\n",
       "      <td>Guyana</td>\n",
       "      <td>697.123817</td>\n",
       "      <td>5211.692478</td>\n",
       "      <td>0.029568</td>\n",
       "      <td>0.192874</td>\n",
       "      <td>647.599257</td>\n",
       "      <td>552.309656</td>\n",
       "    </tr>\n",
       "    <tr>\n",
       "      <th>1</th>\n",
       "      <td>Angola</td>\n",
       "      <td>2258.013534</td>\n",
       "      <td>12148.386540</td>\n",
       "      <td>0.095772</td>\n",
       "      <td>0.436195</td>\n",
       "      <td>438.012123</td>\n",
       "      <td>355.454096</td>\n",
       "    </tr>\n",
       "    <tr>\n",
       "      <th>2</th>\n",
       "      <td>Kuwait</td>\n",
       "      <td>1503.723012</td>\n",
       "      <td>5228.503417</td>\n",
       "      <td>0.063779</td>\n",
       "      <td>0.194824</td>\n",
       "      <td>247.703891</td>\n",
       "      <td>205.466889</td>\n",
       "    </tr>\n",
       "    <tr>\n",
       "      <th>3</th>\n",
       "      <td>Montenegro</td>\n",
       "      <td>438.316394</td>\n",
       "      <td>1128.324538</td>\n",
       "      <td>0.018591</td>\n",
       "      <td>0.040423</td>\n",
       "      <td>157.422390</td>\n",
       "      <td>117.438400</td>\n",
       "    </tr>\n",
       "    <tr>\n",
       "      <th>4</th>\n",
       "      <td>Oman</td>\n",
       "      <td>898.588095</td>\n",
       "      <td>2244.495991</td>\n",
       "      <td>0.038113</td>\n",
       "      <td>0.081843</td>\n",
       "      <td>149.780295</td>\n",
       "      <td>114.740361</td>\n",
       "    </tr>\n",
       "    <tr>\n",
       "      <th>5</th>\n",
       "      <td>Trinidad and Tobago</td>\n",
       "      <td>1799.496081</td>\n",
       "      <td>4265.177433</td>\n",
       "      <td>0.076324</td>\n",
       "      <td>0.150634</td>\n",
       "      <td>137.020657</td>\n",
       "      <td>97.361018</td>\n",
       "    </tr>\n",
       "    <tr>\n",
       "      <th>6</th>\n",
       "      <td>Qatar</td>\n",
       "      <td>8161.306193</td>\n",
       "      <td>17653.928944</td>\n",
       "      <td>0.346154</td>\n",
       "      <td>0.627674</td>\n",
       "      <td>116.312543</td>\n",
       "      <td>81.327838</td>\n",
       "    </tr>\n",
       "    <tr>\n",
       "      <th>7</th>\n",
       "      <td>Venezuela</td>\n",
       "      <td>597.867259</td>\n",
       "      <td>1271.502738</td>\n",
       "      <td>0.025358</td>\n",
       "      <td>0.046378</td>\n",
       "      <td>112.673084</td>\n",
       "      <td>82.895111</td>\n",
       "    </tr>\n",
       "    <tr>\n",
       "      <th>8</th>\n",
       "      <td>Sudan</td>\n",
       "      <td>301.219080</td>\n",
       "      <td>569.430247</td>\n",
       "      <td>0.012776</td>\n",
       "      <td>0.020693</td>\n",
       "      <td>89.041892</td>\n",
       "      <td>61.969193</td>\n",
       "    </tr>\n",
       "    <tr>\n",
       "      <th>9</th>\n",
       "      <td>Algeria</td>\n",
       "      <td>23013.663876</td>\n",
       "      <td>41267.985790</td>\n",
       "      <td>0.976103</td>\n",
       "      <td>1.494344</td>\n",
       "      <td>79.319495</td>\n",
       "      <td>53.092888</td>\n",
       "    </tr>\n",
       "    <tr>\n",
       "      <th>10</th>\n",
       "      <td>Cameroon</td>\n",
       "      <td>2071.133146</td>\n",
       "      <td>3665.601952</td>\n",
       "      <td>0.087845</td>\n",
       "      <td>0.131656</td>\n",
       "      <td>76.985336</td>\n",
       "      <td>49.873288</td>\n",
       "    </tr>\n",
       "    <tr>\n",
       "      <th>11</th>\n",
       "      <td>Congo</td>\n",
       "      <td>831.937991</td>\n",
       "      <td>1464.039387</td>\n",
       "      <td>0.035286</td>\n",
       "      <td>0.053784</td>\n",
       "      <td>75.979388</td>\n",
       "      <td>52.424101</td>\n",
       "    </tr>\n",
       "    <tr>\n",
       "      <th>12</th>\n",
       "      <td>United Rep. of Tanzania</td>\n",
       "      <td>539.060596</td>\n",
       "      <td>944.580560</td>\n",
       "      <td>0.022864</td>\n",
       "      <td>0.034727</td>\n",
       "      <td>75.227158</td>\n",
       "      <td>51.885400</td>\n",
       "    </tr>\n",
       "    <tr>\n",
       "      <th>13</th>\n",
       "      <td>Saudi Arabia</td>\n",
       "      <td>24582.238514</td>\n",
       "      <td>42818.714000</td>\n",
       "      <td>1.042632</td>\n",
       "      <td>1.548387</td>\n",
       "      <td>74.185577</td>\n",
       "      <td>48.507503</td>\n",
       "    </tr>\n",
       "    <tr>\n",
       "      <th>14</th>\n",
       "      <td>Mozambique</td>\n",
       "      <td>1471.446051</td>\n",
       "      <td>2552.724827</td>\n",
       "      <td>0.062410</td>\n",
       "      <td>0.091732</td>\n",
       "      <td>73.484092</td>\n",
       "      <td>46.982215</td>\n",
       "    </tr>\n",
       "    <tr>\n",
       "      <th>15</th>\n",
       "      <td>Azerbaijan</td>\n",
       "      <td>15548.650723</td>\n",
       "      <td>26659.147694</td>\n",
       "      <td>0.659481</td>\n",
       "      <td>0.953034</td>\n",
       "      <td>71.456342</td>\n",
       "      <td>44.512653</td>\n",
       "    </tr>\n",
       "    <tr>\n",
       "      <th>16</th>\n",
       "      <td>Colombia</td>\n",
       "      <td>5364.662505</td>\n",
       "      <td>8717.418527</td>\n",
       "      <td>0.227537</td>\n",
       "      <td>0.313925</td>\n",
       "      <td>62.497054</td>\n",
       "      <td>37.966382</td>\n",
       "    </tr>\n",
       "    <tr>\n",
       "      <th>17</th>\n",
       "      <td>Gabon</td>\n",
       "      <td>1140.938631</td>\n",
       "      <td>1847.977113</td>\n",
       "      <td>0.048392</td>\n",
       "      <td>0.066331</td>\n",
       "      <td>61.969896</td>\n",
       "      <td>37.071432</td>\n",
       "    </tr>\n",
       "    <tr>\n",
       "      <th>18</th>\n",
       "      <td>Equatorial Guinea</td>\n",
       "      <td>1549.259582</td>\n",
       "      <td>2459.851761</td>\n",
       "      <td>0.065710</td>\n",
       "      <td>0.088216</td>\n",
       "      <td>58.775959</td>\n",
       "      <td>34.250262</td>\n",
       "    </tr>\n",
       "    <tr>\n",
       "      <th>19</th>\n",
       "      <td>Norway</td>\n",
       "      <td>63867.162980</td>\n",
       "      <td>100940.843231</td>\n",
       "      <td>2.708865</td>\n",
       "      <td>3.667654</td>\n",
       "      <td>58.048109</td>\n",
       "      <td>35.394487</td>\n",
       "    </tr>\n",
       "  </tbody>\n",
       "</table>\n",
       "</div>"
      ],
      "text/plain": [
       "                PartnerDesc          2021   2022-2023avg  2021_share  \\\n",
       "0                    Guyana    697.123817    5211.692478    0.029568   \n",
       "1                    Angola   2258.013534   12148.386540    0.095772   \n",
       "2                    Kuwait   1503.723012    5228.503417    0.063779   \n",
       "3                Montenegro    438.316394    1128.324538    0.018591   \n",
       "4                      Oman    898.588095    2244.495991    0.038113   \n",
       "5       Trinidad and Tobago   1799.496081    4265.177433    0.076324   \n",
       "6                     Qatar   8161.306193   17653.928944    0.346154   \n",
       "7                 Venezuela    597.867259    1271.502738    0.025358   \n",
       "8                     Sudan    301.219080     569.430247    0.012776   \n",
       "9                   Algeria  23013.663876   41267.985790    0.976103   \n",
       "10                 Cameroon   2071.133146    3665.601952    0.087845   \n",
       "11                    Congo    831.937991    1464.039387    0.035286   \n",
       "12  United Rep. of Tanzania    539.060596     944.580560    0.022864   \n",
       "13             Saudi Arabia  24582.238514   42818.714000    1.042632   \n",
       "14               Mozambique   1471.446051    2552.724827    0.062410   \n",
       "15               Azerbaijan  15548.650723   26659.147694    0.659481   \n",
       "16                 Colombia   5364.662505    8717.418527    0.227537   \n",
       "17                    Gabon   1140.938631    1847.977113    0.048392   \n",
       "18        Equatorial Guinea   1549.259582    2459.851761    0.065710   \n",
       "19                   Norway  63867.162980  100940.843231    2.708865   \n",
       "\n",
       "    2022-2023_share_avg     incr_v2     incr_v3  \n",
       "0              0.192874  647.599257  552.309656  \n",
       "1              0.436195  438.012123  355.454096  \n",
       "2              0.194824  247.703891  205.466889  \n",
       "3              0.040423  157.422390  117.438400  \n",
       "4              0.081843  149.780295  114.740361  \n",
       "5              0.150634  137.020657   97.361018  \n",
       "6              0.627674  116.312543   81.327838  \n",
       "7              0.046378  112.673084   82.895111  \n",
       "8              0.020693   89.041892   61.969193  \n",
       "9              1.494344   79.319495   53.092888  \n",
       "10             0.131656   76.985336   49.873288  \n",
       "11             0.053784   75.979388   52.424101  \n",
       "12             0.034727   75.227158   51.885400  \n",
       "13             1.548387   74.185577   48.507503  \n",
       "14             0.091732   73.484092   46.982215  \n",
       "15             0.953034   71.456342   44.512653  \n",
       "16             0.313925   62.497054   37.966382  \n",
       "17             0.066331   61.969896   37.071432  \n",
       "18             0.088216   58.775959   34.250262  \n",
       "19             3.667654   58.048109   35.394487  "
      ]
     },
     "execution_count": 17,
     "metadata": {},
     "output_type": "execute_result"
    }
   ],
   "source": [
    "database_HS5_sanct_gr_short.head(20)"
   ]
  },
  {
   "cell_type": "code",
   "execution_count": 23,
   "metadata": {},
   "outputs": [],
   "source": [
    "database_HS5_sanct_gr_short_tex = database_HS5_sanct_gr_short.head(20).reset_index()\n",
    "database_HS5_sanct_gr_short_tex = database_HS5_sanct_gr_short_tex.append(database_HS5_sanct_gr_short.loc[(database_HS5_sanct_gr_short['PartnerDesc'] == 'China') | (database_HS5_sanct_gr_short['PartnerDesc'] == 'Belarus') | (database_HS5_sanct_gr_short['PartnerDesc'] == 'Russian Federation') | (database_HS5_sanct_gr_short['PartnerDesc'] == 'World')])\n",
    "database_HS5_sanct_gr_short_tex.drop('index', axis=1, inplace=True)\n"
   ]
  },
  {
   "cell_type": "code",
   "execution_count": 25,
   "metadata": {
    "scrolled": false
   },
   "outputs": [
    {
     "name": "stdout",
     "output_type": "stream",
     "text": [
      "\\begin{tabular}{lrrrrrr}\n",
      "\\toprule\n",
      "            PartnerDesc &       2021 &  2022-2023avg &  2021\\_share &  2022-2023\\_share\\_avg &  incr\\_v2 &  incr\\_v3 \\\\\n",
      "\\midrule\n",
      "                 Guyana &     697.12 &       5211.69 &        0.03 &                 0.19 &   647.60 &   552.31 \\\\\n",
      "                 Angola &    2258.01 &      12148.39 &        0.10 &                 0.44 &   438.01 &   355.45 \\\\\n",
      "                 Kuwait &    1503.72 &       5228.50 &        0.06 &                 0.19 &   247.70 &   205.47 \\\\\n",
      "             Montenegro &     438.32 &       1128.32 &        0.02 &                 0.04 &   157.42 &   117.44 \\\\\n",
      "                   Oman &     898.59 &       2244.50 &        0.04 &                 0.08 &   149.78 &   114.74 \\\\\n",
      "    Trinidad and Tobago &    1799.50 &       4265.18 &        0.08 &                 0.15 &   137.02 &    97.36 \\\\\n",
      "                  Qatar &    8161.31 &      17653.93 &        0.35 &                 0.63 &   116.31 &    81.33 \\\\\n",
      "              Venezuela &     597.87 &       1271.50 &        0.03 &                 0.05 &   112.67 &    82.90 \\\\\n",
      "                  Sudan &     301.22 &        569.43 &        0.01 &                 0.02 &    89.04 &    61.97 \\\\\n",
      "                Algeria &   23013.66 &      41267.99 &        0.98 &                 1.49 &    79.32 &    53.09 \\\\\n",
      "               Cameroon &    2071.13 &       3665.60 &        0.09 &                 0.13 &    76.99 &    49.87 \\\\\n",
      "                  Congo &     831.94 &       1464.04 &        0.04 &                 0.05 &    75.98 &    52.42 \\\\\n",
      "United Rep. of Tanzania &     539.06 &        944.58 &        0.02 &                 0.03 &    75.23 &    51.89 \\\\\n",
      "           Saudi Arabia &   24582.24 &      42818.71 &        1.04 &                 1.55 &    74.19 &    48.51 \\\\\n",
      "             Mozambique &    1471.45 &       2552.72 &        0.06 &                 0.09 &    73.48 &    46.98 \\\\\n",
      "             Azerbaijan &   15548.65 &      26659.15 &        0.66 &                 0.95 &    71.46 &    44.51 \\\\\n",
      "               Colombia &    5364.66 &       8717.42 &        0.23 &                 0.31 &    62.50 &    37.97 \\\\\n",
      "                  Gabon &    1140.94 &       1847.98 &        0.05 &                 0.07 &    61.97 &    37.07 \\\\\n",
      "      Equatorial Guinea &    1549.26 &       2459.85 &        0.07 &                 0.09 &    58.78 &    34.25 \\\\\n",
      "                 Norway &   63867.16 &     100940.84 &        2.71 &                 3.67 &    58.05 &    35.39 \\\\\n",
      "                  World & 2357709.05 &    2764367.10 &      100.00 &               100.00 &    17.25 &     0.00 \\\\\n",
      "                  China &  487744.09 &     520597.43 &       20.69 &                18.82 &     6.74 &    -9.03 \\\\\n",
      "     Russian Federation &  174073.90 &     121176.30 &        7.38 &                 4.20 &   -30.39 &   -43.13 \\\\\n",
      "                Belarus &    6437.72 &       2338.62 &        0.27 &                 0.08 &   -63.67 &   -69.74 \\\\\n",
      "\\bottomrule\n",
      "\\end{tabular}\n",
      "\n"
     ]
    }
   ],
   "source": [
    "print(database_HS5_sanct_gr_short_tex.to_latex(index=False,\n",
    "                  float_format=\"{:.2f}\".format,\n",
    ")) \n"
   ]
  },
  {
   "cell_type": "markdown",
   "metadata": {},
   "source": [
    "#### EU Import, sanctioned goods"
   ]
  },
  {
   "cell_type": "code",
   "execution_count": 26,
   "metadata": {},
   "outputs": [],
   "source": [
    "database_HS5_sanct_select_gr = database_HS5_sanct_select_gr.pivot(index=['PartnerCode'], columns='Period', values='PrimaryValue').reset_index()\n",
    "database_HS5_sanct_select_gr['PartnerCode'] = database_HS5_sanct_select_gr['PartnerCode'].apply(str)\n",
    "database_HS5_sanct_select_gr = pd.merge(database_HS5_sanct_select_gr, Partners[['PartnerCode', 'PartnerDesc']], on='PartnerCode', how='left')\n",
    "database_HS5_sanct_select_gr.rename(columns={database_HS5_sanct_select_gr.columns[1]:'2020', database_HS5_sanct_select_gr.columns[2]:'2021', database_HS5_sanct_select_gr.columns[3]:'2022', database_HS5_sanct_select_gr.columns[4]:'2023'}, inplace=True)\n"
   ]
  },
  {
   "cell_type": "code",
   "execution_count": 27,
   "metadata": {},
   "outputs": [],
   "source": [
    "database_HS5_sanct_select_gr = database_HS5_sanct_select_gr.loc[database_HS5_sanct_select_gr['PartnerDesc'] != 'World']"
   ]
  },
  {
   "cell_type": "code",
   "execution_count": 28,
   "metadata": {},
   "outputs": [],
   "source": [
    "database_HS5_sanct_select_gr.loc[-1] = ['World'] + list(database_HS5_sanct_select_gr[['2020', '2021', '2022', '2023']].sum().values) + ['World']\n",
    "#database_HS5_sanct_select_gr.loc[database_HS5_sanct_select_gr['PartnerDesc'] == 'World', ['2021', '2022', '2023']]"
   ]
  },
  {
   "cell_type": "code",
   "execution_count": 503,
   "metadata": {},
   "outputs": [],
   "source": [
    "#list(database_HS5_sanct_select_gr[['2021', '2022', '2023']].sum().values)\n",
    "#database_HS5_sanct_select_gr['PartnerDesc'].unique()\n",
    "# database_HS5_sanct_select_gr\n",
    "# database_HS5_sanct_gr.loc[database_HS5_sanct_gr['PartnerDesc'] == 'World']\n"
   ]
  },
  {
   "cell_type": "code",
   "execution_count": 29,
   "metadata": {},
   "outputs": [],
   "source": [
    "database_HS5_sanct_select_gr[['2020', '2021', '2022', '2023']] = database_HS5_sanct_select_gr[['2020', '2021', '2022', '2023']]/10**6\n",
    "\n",
    "database_HS5_sanct_select_gr['2020-2021avg'] = (database_HS5_sanct_select_gr['2020'] + database_HS5_sanct_select_gr['2021']) / 2\n",
    "database_HS5_sanct_select_gr['2022-2023avg'] = (database_HS5_sanct_select_gr['2022'] + database_HS5_sanct_select_gr['2023']) / 2\n",
    "\n",
    "database_HS5_sanct_select_gr['incr_v1'] = (database_HS5_sanct_select_gr['2022-2023avg']/database_HS5_sanct_select_gr['2020-2021avg'] - 1) * 100\n",
    "database_HS5_sanct_select_gr['incr_v2'] = (database_HS5_sanct_select_gr['2022-2023avg']/database_HS5_sanct_select_gr['2021'] - 1) * 100\n",
    "\n",
    "database_HS5_sanct_select_gr[['2020_share', '2021_share', '2022_share', '2023_share']] = database_HS5_sanct_select_gr[['2020', '2021', '2022', '2023']] / database_HS5_sanct_select_gr.loc[database_HS5_sanct_select_gr['PartnerDesc'] == 'World', ['2020', '2021', '2022', '2023']].values[0] # compute share in the export to world\n",
    "database_HS5_sanct_select_gr[['2020_share', '2021_share', '2022_share', '2023_share']] = database_HS5_sanct_select_gr[['2020_share', '2021_share', '2022_share', '2023_share']] * 100\n"
   ]
  },
  {
   "cell_type": "code",
   "execution_count": 30,
   "metadata": {},
   "outputs": [],
   "source": [
    "database_HS5_sanct_select_gr['2020-2021_share_avg'] = (database_HS5_sanct_select_gr['2020_share'] + database_HS5_sanct_select_gr['2021_share']) / 2\n",
    "database_HS5_sanct_select_gr['2022-2023_share_avg'] = (database_HS5_sanct_select_gr['2022_share'] + database_HS5_sanct_select_gr['2023_share']) / 2\n",
    "\n",
    "database_HS5_sanct_select_gr['incr_v3'] = (database_HS5_sanct_select_gr['2022-2023_share_avg']/database_HS5_sanct_select_gr['2021_share'] - 1) * 100"
   ]
  },
  {
   "cell_type": "code",
   "execution_count": 31,
   "metadata": {},
   "outputs": [],
   "source": [
    "database_HS5_sanct_select_gr_short = database_HS5_sanct_select_gr[['PartnerDesc', '2021', '2022-2023avg', '2021_share', '2022-2023_share_avg', 'incr_v2', 'incr_v3']]\n",
    "\n",
    "# sort by incr_v2 pctg change in tradeflow from 2021 to average of 2022-2023\n",
    "database_HS5_sanct_select_gr_short = database_HS5_sanct_select_gr_short.sort_values(by='incr_v2', ascending=False)\n",
    "\n",
    "# keep only countries with share in EU export >= 0.01 pp\n",
    "# set manually for each tupe of flow\n",
    "database_HS5_sanct_select_gr_short = database_HS5_sanct_select_gr_short.loc[database_HS5_sanct_select_gr_short['2021_share'] >= 0.01].reset_index(drop = True)\n"
   ]
  },
  {
   "cell_type": "code",
   "execution_count": 40,
   "metadata": {},
   "outputs": [],
   "source": [
    "#database_HS5_sanct_select_gr_short.head(20)\n",
    "\n",
    "#database_HS5_sanct_select_gr_short.loc[database_HS5_sanct_select_gr_short['PartnerDesc'] == 'Kyrgyzstan']\n",
    "\n",
    "database_HS5_sanct_select_gr_short_tex = database_HS5_sanct_select_gr_short.head(20).reset_index()\n",
    "database_HS5_sanct_select_gr_short_tex = database_HS5_sanct_select_gr_short_tex.append(database_HS5_sanct_select_gr_short.loc[(database_HS5_sanct_select_gr_short['PartnerDesc'] == 'China') | (database_HS5_sanct_select_gr_short['PartnerDesc'] == 'Belarus') | (database_HS5_sanct_select_gr_short['PartnerDesc'] == 'Russian Federation') | (database_HS5_sanct_select_gr_short['PartnerDesc'] == 'World')])\n",
    "database_HS5_sanct_select_gr_short_tex.drop('index', axis=1, inplace=True)\n"
   ]
  },
  {
   "cell_type": "code",
   "execution_count": 41,
   "metadata": {},
   "outputs": [
    {
     "name": "stdout",
     "output_type": "stream",
     "text": [
      "\\begin{tabular}{lrrrrrr}\n",
      "\\toprule\n",
      "           PartnerDesc &       2021 &  2022-2023avg &  2021\\_share &  2022-2023\\_share\\_avg &  incr\\_v2 &  incr\\_v3 \\\\\n",
      "\\midrule\n",
      "                Guyana &     552.00 &       5089.47 &        0.04 &                 0.35 &   822.01 &   708.10 \\\\\n",
      "                Angola &    1608.80 &       8665.16 &        0.13 &                 0.59 &   438.61 &   364.79 \\\\\n",
      "                 Congo &     170.24 &        850.93 &        0.01 &                 0.06 &   399.85 &   342.17 \\\\\n",
      "            Costa Rica &     231.99 &        884.28 &        0.02 &                 0.06 &   281.16 &   231.68 \\\\\n",
      "                Kuwait &    1468.32 &       5191.28 &        0.12 &                 0.36 &   253.55 &   211.31 \\\\\n",
      "             Venezuela &     405.25 &       1072.24 &        0.03 &                 0.07 &   164.59 &   129.32 \\\\\n",
      "              Colombia &    2473.50 &       5676.35 &        0.19 &                 0.38 &   129.49 &    96.48 \\\\\n",
      "                 Sudan &     195.77 &        437.28 &        0.02 &                 0.03 &   123.37 &    93.05 \\\\\n",
      "         C�te d'Ivoire &     230.85 &        515.40 &        0.02 &                 0.04 &   123.26 &    97.17 \\\\\n",
      "                 Ghana &     432.01 &        890.74 &        0.03 &                 0.06 &   106.18 &    80.95 \\\\\n",
      "Dem. Rep. of the Congo &     210.56 &        413.13 &        0.02 &                 0.03 &    96.20 &    61.54 \\\\\n",
      "                 Qatar &    1894.62 &       3427.02 &        0.15 &                 0.23 &    80.88 &    56.87 \\\\\n",
      "             Australia &    4101.93 &       7278.89 &        0.32 &                 0.50 &    77.45 &    53.90 \\\\\n",
      "          Saudi Arabia &   23637.08 &      41536.78 &        1.85 &                 2.81 &    75.73 &    51.33 \\\\\n",
      "                 Gabon &     988.42 &       1689.72 &        0.08 &                 0.11 &    70.95 &    46.50 \\\\\n",
      "                  Peru &     199.95 &        336.40 &        0.02 &                 0.02 &    68.24 &    46.35 \\\\\n",
      "                Brazil &   13393.97 &      21894.70 &        1.05 &                 1.48 &    63.47 &    41.20 \\\\\n",
      "  United Arab Emirates &    8365.72 &      13399.57 &        0.66 &                 0.92 &    60.17 &    39.81 \\\\\n",
      "              Cameroon &    1096.22 &       1742.01 &        0.09 &                 0.12 &    58.91 &    35.79 \\\\\n",
      "            Kazakhstan &   19128.76 &      29548.76 &        1.50 &                 2.01 &    54.47 &    33.98 \\\\\n",
      "                 World & 1274931.34 &    1478289.31 &      100.00 &               100.00 &    15.95 &     0.00 \\\\\n",
      "                 China &  267594.30 &     291675.70 &       20.99 &                19.69 &     9.00 &    -6.20 \\\\\n",
      "    Russian Federation &  121515.07 &      70734.53 &        9.53 &                 4.60 &   -41.79 &   -51.78 \\\\\n",
      "               Belarus &    5461.64 &       1490.35 &        0.43 &                 0.10 &   -72.71 &   -76.99 \\\\\n",
      "\\bottomrule\n",
      "\\end{tabular}\n",
      "\n"
     ]
    }
   ],
   "source": [
    "print(database_HS5_sanct_select_gr_short_tex.to_latex(index=False,\n",
    "                  float_format=\"{:.2f}\".format,\n",
    "))"
   ]
  },
  {
   "cell_type": "markdown",
   "metadata": {},
   "source": [
    "#### EU Import, sanctioned goods without oil (2709, 2710 codes)"
   ]
  },
  {
   "cell_type": "code",
   "execution_count": 14,
   "metadata": {},
   "outputs": [],
   "source": [
    "database_HS5_sanct_select_nooil_gr = database_HS5_sanct_select_nooil_gr.pivot(index=['PartnerCode'], columns='Period', values='PrimaryValue').reset_index()\n",
    "database_HS5_sanct_select_nooil_gr['PartnerCode'] = database_HS5_sanct_select_nooil_gr['PartnerCode'].apply(str)\n",
    "database_HS5_sanct_select_nooil_gr = pd.merge(database_HS5_sanct_select_nooil_gr, Partners[['PartnerCode', 'PartnerDesc']], on='PartnerCode', how='left')\n",
    "database_HS5_sanct_select_nooil_gr.rename(columns={database_HS5_sanct_select_nooil_gr.columns[1]:'2020', database_HS5_sanct_select_nooil_gr.columns[2]:'2021', database_HS5_sanct_select_nooil_gr.columns[3]:'2022', database_HS5_sanct_select_nooil_gr.columns[4]:'2023'}, inplace=True)\n",
    "\n",
    "# keep ? countries which reported trade with Russia for 2021-2023 in HS5 or HS6 versions\n",
    "database_HS5_sanct_select_nooil_gr = database_HS5_sanct_select_nooil_gr[['PartnerCode', '2021', '2022', '2023', 'PartnerDesc']].dropna(axis=0, how='any')\n",
    "\n",
    "database_HS5_sanct_select_nooil_gr = database_HS5_sanct_select_nooil_gr.loc[database_HS5_sanct_select_nooil_gr['PartnerDesc'] != 'World']\n",
    "\n",
    "database_HS5_sanct_select_nooil_gr.loc[-1] = ['World'] + list(database_HS5_sanct_select_nooil_gr[['2021', '2022', '2023']].sum().values) + ['World']\n",
    "\n",
    "database_HS5_sanct_select_nooil_gr[['2021', '2022', '2023']] = database_HS5_sanct_select_nooil_gr[['2021', '2022', '2023']]/10**6\n",
    "\n",
    "#database_HS5_sanct_select_nooil_gr['2020-2021avg'] = (database_HS5_sanct_select_nooil_gr['2020'] + database_HS5_sanct_select_nooil_gr['2021']) / 2\n",
    "database_HS5_sanct_select_nooil_gr['2022-2023avg'] = (database_HS5_sanct_select_nooil_gr['2022'] + database_HS5_sanct_select_nooil_gr['2023']) / 2\n",
    "\n",
    "#database_HS5_sanct_select_nooil_gr['incr_v1'] = (database_HS5_sanct_select_nooil_gr['2022-2023avg']/database_HS5_sanct_select_nooil_gr['2020-2021avg'] - 1) * 100\n",
    "database_HS5_sanct_select_nooil_gr['incr_v2'] = (database_HS5_sanct_select_nooil_gr['2022-2023avg']/database_HS5_sanct_select_nooil_gr['2021'] - 1) * 100\n",
    "\n",
    "database_HS5_sanct_select_nooil_gr[['2021_share', '2022_share', '2023_share']] = database_HS5_sanct_select_nooil_gr[['2021', '2022', '2023']] / database_HS5_sanct_select_nooil_gr.loc[database_HS5_sanct_select_nooil_gr['PartnerDesc'] == 'World', ['2021', '2022', '2023']].values[0] # compute share in the export to world\n",
    "database_HS5_sanct_select_nooil_gr[['2021_share', '2022_share', '2023_share']] = database_HS5_sanct_select_nooil_gr[['2021_share', '2022_share', '2023_share']] * 100\n",
    "\n",
    "#database_HS5_sanct_select_nooil_gr['2020-2021_share_avg'] = (database_HS5_sanct_select_nooil_gr['2020_share'] + database_HS5_sanct_select_nooil_gr['2021_share']) / 2\n",
    "database_HS5_sanct_select_nooil_gr['2022-2023_share_avg'] = (database_HS5_sanct_select_nooil_gr['2022_share'] + database_HS5_sanct_select_nooil_gr['2023_share']) / 2\n",
    "\n",
    "database_HS5_sanct_select_nooil_gr['incr_v3'] = (database_HS5_sanct_select_nooil_gr['2022-2023_share_avg']/database_HS5_sanct_select_nooil_gr['2021_share'] - 1) * 100\n",
    "\n",
    "database_HS5_sanct_select_nooil_gr_short = database_HS5_sanct_select_nooil_gr[['PartnerDesc', '2021', '2022-2023avg', '2021_share', '2022-2023_share_avg', 'incr_v2', 'incr_v3']]\n",
    "\n",
    "# sort by incr_v2 pctg change in tradeflow from 2021 to average of 2022-2023\n",
    "database_HS5_sanct_select_nooil_gr_short = database_HS5_sanct_select_nooil_gr_short.sort_values(by='incr_v2', ascending=False)\n",
    "\n",
    "# keep only countries with share in EU export >= 0.01 pp\n",
    "# set manually for each tupe of flow\n",
    "database_HS5_sanct_select_nooil_gr_short = database_HS5_sanct_select_nooil_gr_short.loc[database_HS5_sanct_select_nooil_gr_short['2021_share'] >= 0.01].reset_index(drop = True)\n"
   ]
  },
  {
   "cell_type": "code",
   "execution_count": null,
   "metadata": {},
   "outputs": [],
   "source": [
    "# database_HS5_sanct_gr_short_tex = database_HS5_sanct_gr_short.head(20).reset_index()\n",
    "# database_HS5_sanct_gr_short_tex = database_HS5_sanct_gr_short_tex.append(database_HS5_sanct_gr_short.loc[(database_HS5_sanct_gr_short['PartnerDesc'] == 'Belarus') | (database_HS5_sanct_gr_short['PartnerDesc'] == 'Russian Federation')])\n",
    "# database_HS5_sanct_gr_short_tex.drop('index', axis=1, inplace=True)\n",
    "\n",
    "# database_HS5_sanct_select_gr_short_tex = database_HS5_sanct_select_gr_short.head(20).reset_index()\n",
    "# database_HS5_sanct_select_gr_short_tex = database_HS5_sanct_select_gr_short_tex.append(database_HS5_sanct_select_gr_short.loc[(database_HS5_sanct_select_gr_short['PartnerDesc'] == 'Belarus') | (database_HS5_sanct_select_gr_short['PartnerDesc'] == 'Russian Federation')])\n",
    "# database_HS5_sanct_select_gr_short_tex.drop('index', axis=1, inplace=True)"
   ]
  },
  {
   "cell_type": "code",
   "execution_count": 17,
   "metadata": {},
   "outputs": [
    {
     "data": {
      "text/html": [
       "<div>\n",
       "<style scoped>\n",
       "    .dataframe tbody tr th:only-of-type {\n",
       "        vertical-align: middle;\n",
       "    }\n",
       "\n",
       "    .dataframe tbody tr th {\n",
       "        vertical-align: top;\n",
       "    }\n",
       "\n",
       "    .dataframe thead th {\n",
       "        text-align: right;\n",
       "    }\n",
       "</style>\n",
       "<table border=\"1\" class=\"dataframe\">\n",
       "  <thead>\n",
       "    <tr style=\"text-align: right;\">\n",
       "      <th></th>\n",
       "      <th>PartnerDesc</th>\n",
       "      <th>2021</th>\n",
       "      <th>2022-2023avg</th>\n",
       "      <th>2021_share</th>\n",
       "      <th>2022-2023_share_avg</th>\n",
       "      <th>incr_v2</th>\n",
       "      <th>incr_v3</th>\n",
       "    </tr>\n",
       "  </thead>\n",
       "  <tbody>\n",
       "    <tr>\n",
       "      <th>44</th>\n",
       "      <td>T�rkiye</td>\n",
       "      <td>49656.470038</td>\n",
       "      <td>55183.55643</td>\n",
       "      <td>5.07654</td>\n",
       "      <td>5.205003</td>\n",
       "      <td>11.130647</td>\n",
       "      <td>2.530534</td>\n",
       "    </tr>\n",
       "  </tbody>\n",
       "</table>\n",
       "</div>"
      ],
      "text/plain": [
       "   PartnerDesc          2021  2022-2023avg  2021_share  2022-2023_share_avg  \\\n",
       "44     T�rkiye  49656.470038   55183.55643     5.07654             5.205003   \n",
       "\n",
       "      incr_v2   incr_v3  \n",
       "44  11.130647  2.530534  "
      ]
     },
     "execution_count": 17,
     "metadata": {},
     "output_type": "execute_result"
    }
   ],
   "source": [
    "database_HS5_sanct_select_nooil_gr_short.loc[database_HS5_sanct_select_nooil_gr_short['PartnerDesc']=='T�rkiye']"
   ]
  },
  {
   "cell_type": "code",
   "execution_count": 18,
   "metadata": {},
   "outputs": [],
   "source": [
    "database_HS5_sanct_select_nooil_gr_short_tex = database_HS5_sanct_select_nooil_gr_short.head(20).reset_index()\n",
    "database_HS5_sanct_select_nooil_gr_short_tex = database_HS5_sanct_select_nooil_gr_short_tex.append(database_HS5_sanct_select_nooil_gr_short.loc[(database_HS5_sanct_select_nooil_gr_short['PartnerDesc'] == 'China') | (database_HS5_sanct_select_nooil_gr_short['PartnerDesc'] == 'T�rkiye') | (database_HS5_sanct_select_nooil_gr_short['PartnerDesc'] == 'Belarus') | (database_HS5_sanct_select_nooil_gr_short['PartnerDesc'] == 'Russian Federation') | (database_HS5_sanct_select_nooil_gr_short['PartnerDesc'] == 'World')])\n",
    "database_HS5_sanct_select_nooil_gr_short_tex.drop('index', axis=1, inplace=True)"
   ]
  },
  {
   "cell_type": "code",
   "execution_count": 19,
   "metadata": {},
   "outputs": [
    {
     "name": "stdout",
     "output_type": "stream",
     "text": [
      "\\begin{tabular}{lrrrrrr}\n",
      "\\toprule\n",
      "       PartnerDesc &      2021 &  2022-2023avg &  2021\\_share &  2022-2023\\_share\\_avg &  incr\\_v2 &  incr\\_v3 \\\\\n",
      "\\midrule\n",
      "        Kazakhstan &    616.21 &       2495.58 &        0.06 &                 0.23 &   304.99 &   271.61 \\\\\n",
      "        Costa Rica &    231.93 &        883.59 &        0.02 &                 0.08 &   280.97 &   253.21 \\\\\n",
      "        Uzbekistan &    118.82 &        303.36 &        0.01 &                 0.03 &   155.31 &   136.92 \\\\\n",
      "          Colombia &   2113.10 &       5101.78 &        0.22 &                 0.48 &   141.44 &   120.78 \\\\\n",
      "        Azerbaijan &    109.36 &        214.04 &        0.01 &                 0.02 &    95.71 &    81.08 \\\\\n",
      "         Australia &   4090.03 &       7278.03 &        0.42 &                 0.69 &    77.95 &    64.57 \\\\\n",
      "              Peru &    198.46 &        327.13 &        0.02 &                 0.03 &    64.83 &    52.61 \\\\\n",
      "           Bahrain &    194.19 &        299.98 &        0.02 &                 0.03 &    54.48 &    42.72 \\\\\n",
      "        Mozambique &    333.36 &        511.21 &        0.03 &                 0.05 &    53.35 &    40.35 \\\\\n",
      "            Jordan &    260.67 &        377.58 &        0.03 &                 0.04 &    44.85 &    32.87 \\\\\n",
      "            Panama &    269.46 &        388.36 &        0.03 &                 0.04 &    44.13 &    31.37 \\\\\n",
      "           Armenia &    338.66 &        482.56 &        0.03 &                 0.05 &    42.49 &    32.20 \\\\\n",
      "          Cambodia &    702.24 &       1000.46 &        0.07 &                 0.09 &    42.47 &    31.65 \\\\\n",
      "           Myanmar &    443.58 &        617.90 &        0.05 &                 0.06 &    39.30 &    28.28 \\\\\n",
      "         Singapore &   7435.56 &       9802.64 &        0.76 &                 0.93 &    31.83 &    22.01 \\\\\n",
      "              Oman &    339.33 &        445.77 &        0.03 &                 0.04 &    31.37 &    20.14 \\\\\n",
      "   Other Asia, nes &  26191.33 &      34398.47 &        2.68 &                 3.25 &    31.34 &    21.46 \\\\\n",
      "             Gabon &    279.33 &        355.91 &        0.03 &                 0.03 &    27.42 &    17.26 \\\\\n",
      "           Uruguay &    896.08 &       1141.13 &        0.09 &                 0.11 &    27.35 &    17.01 \\\\\n",
      "      South Africa &  10550.63 &      13358.38 &        1.08 &                 1.26 &    26.61 &    16.46 \\\\\n",
      "           T�rkiye &  49656.47 &      55183.56 &        5.08 &                 5.21 &    11.13 &     2.53 \\\\\n",
      "             World & 978155.87 &    1061498.28 &      100.00 &               100.00 &     8.52 &     0.00 \\\\\n",
      "             China & 266755.64 &     288018.36 &       27.27 &                27.07 &     7.97 &    -0.75 \\\\\n",
      "Russian Federation &  37892.96 &      16540.98 &        3.87 &                 1.52 &   -56.35 &   -60.86 \\\\\n",
      "           Belarus &   5184.05 &       1489.09 &        0.53 &                 0.14 &   -71.28 &   -74.00 \\\\\n",
      "\\bottomrule\n",
      "\\end{tabular}\n",
      "\n"
     ]
    }
   ],
   "source": [
    "print(database_HS5_sanct_select_nooil_gr_short_tex.to_latex(index=False,\n",
    "                  float_format=\"{:.2f}\".format,\n",
    ")) "
   ]
  },
  {
   "cell_type": "code",
   "execution_count": 511,
   "metadata": {},
   "outputs": [],
   "source": [
    "# database_HS5_sanct_gr_short_tex = database_HS5_sanct_gr_short.head(20).reset_index()\n",
    "# database_HS5_sanct_gr_short_tex = database_HS5_sanct_gr_short_tex.append(database_HS5_sanct_gr_short.loc[(database_HS5_sanct_gr_short['PartnerDesc'] == 'Belarus') | (database_HS5_sanct_gr_short['PartnerDesc'] == 'Russian Federation')])\n",
    "# database_HS5_sanct_gr_short_tex.drop('index', axis=1, inplace=True)\n",
    "\n",
    "# database_HS5_sanct_select_gr_short_tex = database_HS5_sanct_select_gr_short.head(20).reset_index()\n",
    "# database_HS5_sanct_select_gr_short_tex = database_HS5_sanct_select_gr_short_tex.append(database_HS5_sanct_select_gr_short.loc[(database_HS5_sanct_select_gr_short['PartnerDesc'] == 'Belarus') | (database_HS5_sanct_select_gr_short['PartnerDesc'] == 'Russian Federation')])\n",
    "# database_HS5_sanct_select_gr_short_tex.drop('index', axis=1, inplace=True)"
   ]
  },
  {
   "cell_type": "code",
   "execution_count": 46,
   "metadata": {},
   "outputs": [],
   "source": [
    "# print(database_HS5_sanct_gr_short_tex.to_latex(index=False,\n",
    "#                   float_format=\"{:.2f}\".format,\n",
    "# )) "
   ]
  },
  {
   "cell_type": "code",
   "execution_count": 13,
   "metadata": {},
   "outputs": [],
   "source": [
    "# print(database_HS5_sanct_select_gr_short_tex.to_latex(index=False,\n",
    "#                   float_format=\"{:.2f}\".format,\n",
    "# )) \n",
    "#T�rkiye\n",
    "#database_HS5_sanct_select_nooil_gr_short['PartnerDesc']"
   ]
  },
  {
   "cell_type": "markdown",
   "metadata": {},
   "source": [
    "### Import from Russia\n",
    "#### Download Import from Russia data"
   ]
  },
  {
   "cell_type": "code",
   "execution_count": 19,
   "metadata": {},
   "outputs": [
    {
     "name": "stdout",
     "output_type": "stream",
     "text": [
      "Return message: Your request is accepted.You will be notified through your email when the data is ready for download\n",
      "requestID:  2d02e511-b063-43c2-b6ae-78e09318cd51\n"
     ]
    }
   ],
   "source": [
    "myJson3 = comtradeapicall.submitAsyncFinalDataRequest(subscription_key, typeCode='C', freqCode='A', clCode='HS',\n",
    "                                    period='2020,2021',\n",
    "                                    reporterCode=None, cmdCode=None, flowCode='M', partnerCode='643',\n",
    "                                    partner2Code=None,\n",
    "                                    customsCode=None, motCode=None, aggregateBy=None, breakdownMode='classic')\n",
    "print(\"requestID: \",myJson3['requestId'])"
   ]
  },
  {
   "cell_type": "code",
   "execution_count": null,
   "metadata": {},
   "outputs": [],
   "source": [
    "mydf = comtradeapicall.checkAsyncDataRequest(subscription_key, \n",
    "                                          batchId = myJson3['requestId'])\n",
    "print(mydf['uri'].values)\n",
    "mydf"
   ]
  },
  {
   "cell_type": "code",
   "execution_count": 20,
   "metadata": {},
   "outputs": [
    {
     "name": "stdout",
     "output_type": "stream",
     "text": [
      "Return message: Your request is accepted.You will be notified through your email when the data is ready for download\n",
      "requestID:  58507f75-6178-498e-83d6-b90710e11500\n"
     ]
    }
   ],
   "source": [
    "myJson4 = comtradeapicall.submitAsyncFinalDataRequest(subscription_key, typeCode='C', freqCode='A', clCode='HS',\n",
    "                                    period='2022,2023',\n",
    "                                    reporterCode=None, cmdCode=None, flowCode='M', partnerCode='643',\n",
    "                                    partner2Code=None,\n",
    "                                    customsCode=None, motCode=None, aggregateBy=None, breakdownMode='classic')\n",
    "print(\"requestID: \",myJson4['requestId'])"
   ]
  },
  {
   "cell_type": "code",
   "execution_count": null,
   "metadata": {},
   "outputs": [],
   "source": [
    "mydf = comtradeapicall.checkAsyncDataRequest(subscription_key, \n",
    "                                          batchId = myJson4['requestId'])\n",
    "print(mydf['uri'].values)\n",
    "mydf"
   ]
  },
  {
   "cell_type": "markdown",
   "metadata": {},
   "source": [
    "#### Analyse Import from Russia data"
   ]
  },
  {
   "cell_type": "code",
   "execution_count": 46,
   "metadata": {},
   "outputs": [],
   "source": [
    "toRus_exp_2020_2021 = pd.read_csv('/Users/omega_macbookpro/Desktop/International_Trade/Dissertation_MRes/Comtrade/Sanctions Docs/EU/Data/Output_Script_8/imp_toRus_2020_2021.txt', sep=\"\\t\", dtype={'CmdCode': str})\n",
    "toRus_exp_2022_2023 = pd.read_csv('/Users/omega_macbookpro/Desktop/International_Trade/Dissertation_MRes/Comtrade/Sanctions Docs/EU/Data/Output_Script_8/imp_toRus_2022_2023.txt', sep=\"\\t\", dtype={'CmdCode': str})\n"
   ]
  },
  {
   "cell_type": "code",
   "execution_count": 47,
   "metadata": {},
   "outputs": [],
   "source": [
    "toRus_exp_2020_2021 = toRus_exp_2020_2021.loc[toRus_exp_2020_2021['CmdCode'].apply(len) == 6]\n",
    "toRus_exp_2020_2021.reset_index(inplace=True)\n",
    "\n",
    "toRus_exp_2022_2023 = toRus_exp_2022_2023.loc[toRus_exp_2022_2023['CmdCode'].apply(len) == 6]\n",
    "toRus_exp_2022_2023.reset_index(inplace=True)\n",
    "\n",
    "toRus_exp = toRus_exp_2020_2021.append(toRus_exp_2022_2023)\n",
    "toRus_exp = toRus_exp.loc[(toRus_exp['ClassificationCode'] == 'H6') | (toRus_exp['ClassificationCode'] == 'H5')]\n"
   ]
  },
  {
   "cell_type": "code",
   "execution_count": 110,
   "metadata": {},
   "outputs": [
    {
     "name": "stdout",
     "output_type": "stream",
     "text": [
      "[ 28 180 275 646 762 780 740 308]\n",
      "[ 28 180 140 275 270 308 484 682 566 662 646 670 678 762 780 740 818 212]\n"
     ]
    }
   ],
   "source": [
    "print(toRus_exp_2020_2021.loc[(toRus_exp_2020_2021['ClassificationCode'] != 'H6') & (toRus_exp_2020_2021['ClassificationCode'] != 'H5'), 'ReporterCode'].unique())\n",
    "print(toRus_exp_2022_2023.loc[(toRus_exp_2022_2023['ClassificationCode'] != 'H6') & (toRus_exp_2022_2023['ClassificationCode'] != 'H5'), 'ReporterCode'].unique())\n"
   ]
  },
  {
   "cell_type": "code",
   "execution_count": 48,
   "metadata": {},
   "outputs": [],
   "source": [
    "toRus_exp_2020_2021 = toRus_exp.loc[toRus_exp['ClassificationCode'] == 'H5']\n",
    "toRus_exp_2022_2023 = toRus_exp.loc[toRus_exp['ClassificationCode'] == 'H6']"
   ]
  },
  {
   "cell_type": "code",
   "execution_count": 49,
   "metadata": {},
   "outputs": [],
   "source": [
    "comtrade_cols = ['Period', 'ReporterCode', 'CmdCode', 'PrimaryValue']\n",
    "toRus_exp_2020_2021 = toRus_exp_2020_2021[comtrade_cols]\n",
    "toRus_exp_2022_2023 = toRus_exp_2022_2023[comtrade_cols]"
   ]
  },
  {
   "cell_type": "code",
   "execution_count": 50,
   "metadata": {},
   "outputs": [],
   "source": [
    "# convet HS6 to HS5 and group HS6 flows within same month-HS5 group\n",
    "toRus_exp_2022_2023_HS5 = pd.merge(toRus_exp_2022_2023, HS2022toHS2017, left_on='CmdCode', right_on='From HS2022', how='left')\n",
    "toRus_exp_2022_2023_HS5 = toRus_exp_2022_2023_HS5[['Period', 'ReporterCode', 'PrimaryValue', 'To HS2017']].groupby(['Period', 'ReporterCode', 'To HS2017'])['PrimaryValue'].sum().reset_index()\n"
   ]
  },
  {
   "cell_type": "code",
   "execution_count": 51,
   "metadata": {},
   "outputs": [],
   "source": [
    "# rename to have same column names\n",
    "toRus_exp_2020_2021.rename(columns={'CmdCode':'cmdCode_HS5'}, inplace=True)\n",
    "toRus_exp_2022_2023_HS5.rename(columns={'To HS2017':'cmdCode_HS5'}, inplace=True)\n",
    "\n",
    "database_HS5 = toRus_exp_2020_2021.append(toRus_exp_2022_2023_HS5)\n"
   ]
  },
  {
   "cell_type": "code",
   "execution_count": 52,
   "metadata": {},
   "outputs": [],
   "source": [
    "database_HS5_sanct = pd.merge(database_HS5, HS5_sanct, left_on='cmdCode_HS5', right_on='HS2017', how='left')\n",
    "database_HS5_sanct.drop(['HS2017', 'HS2022'], axis=1, inplace=True)\n",
    "database_HS5_sanct['Period'] = database_HS5_sanct['Period'].apply(lambda x: pd.to_datetime(x, format='%Y')) # convert to timestamp\n",
    "database_HS5_sanct['Date_HS5'] = database_HS5_sanct['Date_HS5'].apply(lambda x: pd.to_datetime(x, format='%Y-%m-%d') if x==x else x)\n"
   ]
  },
  {
   "cell_type": "code",
   "execution_count": 54,
   "metadata": {},
   "outputs": [
    {
     "name": "stdout",
     "output_type": "stream",
     "text": [
      "0\n"
     ]
    }
   ],
   "source": [
    "print(database_HS5_sanct['Sanct_HS5'].isna().sum())\n",
    "database_HS5_sanct = database_HS5_sanct.loc[database_HS5_sanct['Sanct_HS5'].notna()]\n",
    "database_HS5_sanct_select = database_HS5_sanct.loc[database_HS5_sanct['Sanct_HS5'] == 1] # select only sanctioned products\n",
    "database_HS5_sanct_select_nooil = database_HS5_sanct_select.loc[database_HS5_sanct_select['cmdCode_HS5'].apply(lambda x: (x[:4] != '2709') and (x[:4] != '2710'))] # delets 758 obs\n"
   ]
  },
  {
   "cell_type": "code",
   "execution_count": 111,
   "metadata": {},
   "outputs": [],
   "source": [
    "# now group\n",
    "# database_HS5_sanct_gr = database_HS5_sanct[['Period', 'ReporterCode', 'PrimaryValue']].groupby(['Period', 'ReporterCode'])['PrimaryValue'].sum().reset_index()\n",
    "# database_HS5_sanct_select_gr = database_HS5_sanct_select[['Period', 'ReporterCode', 'PrimaryValue']].groupby(['Period', 'ReporterCode'])['PrimaryValue'].sum().reset_index()\n",
    "database_HS5_sanct_select_nooil_gr = database_HS5_sanct_select_nooil[['Period', 'ReporterCode', 'PrimaryValue']].groupby(['Period', 'ReporterCode'])['PrimaryValue'].sum().reset_index()\n"
   ]
  },
  {
   "cell_type": "markdown",
   "metadata": {},
   "source": [
    "#### Import from Russia, all goods"
   ]
  },
  {
   "cell_type": "code",
   "execution_count": 58,
   "metadata": {},
   "outputs": [],
   "source": [
    "database_HS5_sanct_gr = database_HS5_sanct_gr.pivot(index=['ReporterCode'], columns='Period', values='PrimaryValue').reset_index()\n",
    "database_HS5_sanct_gr['ReporterCode'] = database_HS5_sanct_gr['ReporterCode'].apply(str)\n",
    "\n",
    "database_HS5_sanct_gr = pd.merge(database_HS5_sanct_gr, Reporters[['ReporterCode', 'ReporterDesc']], on='ReporterCode', how='left')\n",
    "database_HS5_sanct_gr.rename(columns={database_HS5_sanct_gr.columns[1]:'2020', database_HS5_sanct_gr.columns[2]:'2021', database_HS5_sanct_gr.columns[3]:'2022', database_HS5_sanct_gr.columns[4]:'2023'}, inplace=True)\n"
   ]
  },
  {
   "cell_type": "code",
   "execution_count": 59,
   "metadata": {},
   "outputs": [],
   "source": [
    "# keep 91 countries which reported trade with Russia for 2021-2023 in HS5 or HS6 versions\n",
    "database_HS5_sanct_gr = database_HS5_sanct_gr[['ReporterCode', '2021', '2022', '2023', 'ReporterDesc']].dropna(axis=0, how='any')\n",
    "\n",
    "# make World row\n",
    "database_HS5_sanct_gr.loc[-1] = ['World'] + list(database_HS5_sanct_gr[['2021', '2022', '2023']].sum().values) + ['World']"
   ]
  },
  {
   "cell_type": "code",
   "execution_count": 60,
   "metadata": {},
   "outputs": [],
   "source": [
    "# database_HS5_sanct_gr[['2020', '2021', '2022', '2023']] = database_HS5_sanct_gr[['2020', '2021', '2022', '2023']]/10**6\n",
    "database_HS5_sanct_gr[['2021', '2022', '2023']] = database_HS5_sanct_gr[['2021', '2022', '2023']]/10**6\n",
    "\n",
    "# database_HS5_sanct_gr['2020-2021avg'] = (database_HS5_sanct_gr['2020'] + database_HS5_sanct_gr['2021']) / 2\n",
    "database_HS5_sanct_gr['2022-2023avg'] = (database_HS5_sanct_gr['2022'] + database_HS5_sanct_gr['2023']) / 2\n",
    "\n",
    "#database_HS5_sanct_gr['incr_v1'] = (database_HS5_sanct_gr['2022-2023avg']/database_HS5_sanct_gr['2020-2021avg'] - 1) * 100\n",
    "database_HS5_sanct_gr['incr_v2'] = (database_HS5_sanct_gr['2022-2023avg']/database_HS5_sanct_gr['2021'] - 1) * 100\n",
    "\n",
    "# database_HS5_sanct_gr[['2020_share', '2021_share', '2022_share', '2023_share']] = database_HS5_sanct_gr[['2020', '2021', '2022', '2023']] / database_HS5_sanct_gr.loc[database_HS5_sanct_gr['ReporterDesc'] == 'World', ['2021', '2022', '2023']].values[0] # compute share in the export to world\n",
    "# database_HS5_sanct_gr[['2020_share', '2021_share', '2022_share', '2023_share']] = database_HS5_sanct_gr[['2020_share', '2021_share', '2022_share', '2023_share']] * 100\n",
    "\n",
    "database_HS5_sanct_gr[['2021_share', '2022_share', '2023_share']] = database_HS5_sanct_gr[['2021', '2022', '2023']] / database_HS5_sanct_gr.loc[database_HS5_sanct_gr['ReporterDesc'] == 'World', ['2021', '2022', '2023']].values[0] # compute share in the export to world\n",
    "database_HS5_sanct_gr[['2021_share', '2022_share', '2023_share']] = database_HS5_sanct_gr[['2021_share', '2022_share', '2023_share']] * 100\n"
   ]
  },
  {
   "cell_type": "code",
   "execution_count": 61,
   "metadata": {},
   "outputs": [],
   "source": [
    "#database_HS5_sanct_gr['2020-2021_share_avg'] = (database_HS5_sanct_gr['2020_share'] + database_HS5_sanct_gr['2021_share']) / 2\n",
    "database_HS5_sanct_gr['2022-2023_share_avg'] = (database_HS5_sanct_gr['2022_share'] + database_HS5_sanct_gr['2023_share']) / 2\n",
    "\n",
    "database_HS5_sanct_gr['incr_v3'] = (database_HS5_sanct_gr['2022-2023_share_avg']/database_HS5_sanct_gr['2021_share'] - 1) * 100"
   ]
  },
  {
   "cell_type": "code",
   "execution_count": 62,
   "metadata": {},
   "outputs": [],
   "source": [
    "database_HS5_sanct_gr_short = database_HS5_sanct_gr[['ReporterDesc', '2021', '2022-2023avg', '2021_share', '2022-2023_share_avg', 'incr_v2', 'incr_v3']]\n",
    "\n",
    "# sort by incr_v2 pctg change in tradeflow from 2021 to average of 2022-2023\n",
    "database_HS5_sanct_gr_short = database_HS5_sanct_gr_short.sort_values(by='incr_v2', ascending=False).reset_index(drop = True)\n",
    "\n",
    "# keep only countries with share in EU export >= 0.01 pp\n",
    "# set manually for each tupe of flow\n",
    "database_HS5_sanct_gr_short = database_HS5_sanct_gr_short.loc[database_HS5_sanct_gr_short['2021_share'] >= 0.1]"
   ]
  },
  {
   "cell_type": "code",
   "execution_count": 107,
   "metadata": {},
   "outputs": [],
   "source": [
    "database_HS5_sanct_gr_short_tex = database_HS5_sanct_gr_short.head(15).reset_index()\n",
    "database_HS5_sanct_gr_short_tex = database_HS5_sanct_gr_short_tex.append(database_HS5_sanct_gr_short.loc[(database_HS5_sanct_gr_short['ReporterDesc'] == 'China') | (database_HS5_sanct_gr_short['ReporterDesc'] == 'World')])\n",
    "database_HS5_sanct_gr_short_tex = database_HS5_sanct_gr_short_tex.append(database_HS5_sanct_gr_short.tail(6))\n",
    "database_HS5_sanct_gr_short_tex.drop('index', axis=1, inplace=True)"
   ]
  },
  {
   "cell_type": "code",
   "execution_count": 108,
   "metadata": {},
   "outputs": [
    {
     "name": "stdout",
     "output_type": "stream",
     "text": [
      "\\begin{tabular}{lrrrrrr}\n",
      "\\toprule\n",
      "        ReporterDesc &      2021 &  2022-2023avg &  2021\\_share &  2022-2023\\_share\\_avg &  incr\\_v2 &  incr\\_v3 \\\\\n",
      "\\midrule\n",
      "               India &   8694.39 &      53849.62 &        1.99 &                12.56 &   519.36 &   529.49 \\\\\n",
      "China, Hong Kong SAR &   1400.98 &       5115.61 &        0.32 &                 1.26 &   265.14 &   291.76 \\\\\n",
      "         Switzerland &   1498.29 &       3963.53 &        0.34 &                 0.89 &   164.54 &   158.97 \\\\\n",
      "            Malaysia &   1188.61 &       2373.40 &        0.27 &                 0.54 &    99.68 &    97.05 \\\\\n",
      "             Hungary &   4269.37 &       7915.31 &        0.98 &                 1.72 &    85.40 &    75.26 \\\\\n",
      "             Armenia &   1784.44 &       3258.97 &        0.41 &                 0.75 &    82.63 &    84.09 \\\\\n",
      "             T�rkiye &  28959.14 &      52224.27 &        6.64 &                11.49 &    80.34 &    73.00 \\\\\n",
      "            Slovenia &    471.54 &        843.84 &        0.11 &                 0.17 &    78.95 &    56.13 \\\\\n",
      "             Georgia &   1023.02 &       1790.19 &        0.23 &                 0.40 &    74.99 &    70.59 \\\\\n",
      "              Israel &    704.59 &       1225.28 &        0.16 &                 0.30 &    73.90 &    88.31 \\\\\n",
      "              Brazil &   6228.29 &       9882.13 &        1.43 &                 2.26 &    58.67 &    58.37 \\\\\n",
      "               China &  79586.48 &     121677.27 &       18.26 &                27.59 &    52.89 &    51.09 \\\\\n",
      "          Azerbaijan &   2072.73 &       2946.85 &        0.48 &                 0.67 &    42.17 &    40.73 \\\\\n",
      "            Bulgaria &   3523.93 &       4898.32 &        0.81 &                 1.05 &    39.00 &    30.01 \\\\\n",
      "            Pakistan &    537.48 &        734.02 &        0.12 &                 0.17 &    36.57 &    37.98 \\\\\n",
      "               China &  79586.48 &     121677.27 &       18.26 &                27.59 &    52.89 &    51.09 \\\\\n",
      "               World & 435861.28 &     456493.11 &      100.00 &               100.00 &     4.73 &     0.00 \\\\\n",
      "             Denmark &   2050.47 &        595.83 &        0.47 &                 0.13 &   -70.94 &   -73.42 \\\\\n",
      "              Canada &   1707.97 &        318.56 &        0.39 &                 0.06 &   -81.35 &   -84.13 \\\\\n",
      "   Brunei Darussalam &   1309.23 &        235.70 &        0.30 &                 0.05 &   -82.00 &   -82.33 \\\\\n",
      "              Sweden &   2503.91 &        413.84 &        0.57 &                 0.08 &   -83.47 &   -86.06 \\\\\n",
      "      United Kingdom &  24850.78 &       3606.16 &        5.70 &                 0.70 &   -85.49 &   -87.80 \\\\\n",
      "             Ukraine &   5847.99 &        772.98 &        1.34 &                 0.15 &   -86.78 &   -89.07 \\\\\n",
      "\\bottomrule\n",
      "\\end{tabular}\n",
      "\n"
     ]
    }
   ],
   "source": [
    "print(database_HS5_sanct_gr_short_tex.to_latex(index=False,\n",
    "                  float_format=\"{:.2f}\".format,\n",
    ")) "
   ]
  },
  {
   "cell_type": "markdown",
   "metadata": {},
   "source": [
    "#### Import from Russia, sanctioned goods"
   ]
  },
  {
   "cell_type": "code",
   "execution_count": 73,
   "metadata": {},
   "outputs": [],
   "source": [
    "database_HS5_sanct_select_gr = database_HS5_sanct_select_gr.pivot(index=['ReporterCode'], columns='Period', values='PrimaryValue').reset_index()\n",
    "database_HS5_sanct_select_gr['ReporterCode'] = database_HS5_sanct_select_gr['ReporterCode'].apply(str)\n",
    "database_HS5_sanct_select_gr = pd.merge(database_HS5_sanct_select_gr, Reporters[['ReporterCode', 'ReporterDesc']], on='ReporterCode', how='left')\n",
    "database_HS5_sanct_select_gr.rename(columns={database_HS5_sanct_select_gr.columns[1]:'2020', database_HS5_sanct_select_gr.columns[2]:'2021', database_HS5_sanct_select_gr.columns[3]:'2022', database_HS5_sanct_select_gr.columns[4]:'2023'}, inplace=True)"
   ]
  },
  {
   "cell_type": "code",
   "execution_count": 74,
   "metadata": {},
   "outputs": [],
   "source": [
    "# keep  countries which reported trade with Russia for 2021-2023 in HS5 or HS6 versions\n",
    "database_HS5_sanct_select_gr = database_HS5_sanct_select_gr[['ReporterCode', '2021', '2022', '2023', 'ReporterDesc']].dropna(axis=0, how='any')\n",
    "\n",
    "# make World row\n",
    "database_HS5_sanct_select_gr.loc[-1] = ['World'] + list(database_HS5_sanct_select_gr[['2021', '2022', '2023']].sum().values) + ['World']"
   ]
  },
  {
   "cell_type": "code",
   "execution_count": 75,
   "metadata": {},
   "outputs": [],
   "source": [
    "#database_HS5_sanct_select_gr[['2020', '2021', '2022', '2023']] = database_HS5_sanct_select_gr[['2020', '2021', '2022', '2023']]/10**6\n",
    "database_HS5_sanct_select_gr[['2021', '2022', '2023']] = database_HS5_sanct_select_gr[['2021', '2022', '2023']]/10**6\n",
    "\n",
    "#database_HS5_sanct_select_gr['2020-2021avg'] = (database_HS5_sanct_select_gr['2020'] + database_HS5_sanct_select_gr['2021']) / 2\n",
    "database_HS5_sanct_select_gr['2022-2023avg'] = (database_HS5_sanct_select_gr['2022'] + database_HS5_sanct_select_gr['2023']) / 2\n",
    "\n",
    "#database_HS5_sanct_select_gr['incr_v1'] = (database_HS5_sanct_select_gr['2022-2023avg']/database_HS5_sanct_select_gr['2020-2021avg'] - 1) * 100\n",
    "database_HS5_sanct_select_gr['incr_v2'] = (database_HS5_sanct_select_gr['2022-2023avg']/database_HS5_sanct_select_gr['2021'] - 1) * 100\n",
    "\n",
    "# database_HS5_sanct_select_gr[['2020_share', '2021_share', '2022_share', '2023_share']] = database_HS5_sanct_select_gr[['2020', '2021', '2022', '2023']] / database_HS5_sanct_select_gr.loc[database_HS5_sanct_select_gr['PartnerDesc'] == 'World', ['2020', '2021', '2022', '2023']].values[0] # compute share in the export to world\n",
    "# database_HS5_sanct_select_gr[['2020_share', '2021_share', '2022_share', '2023_share']] = database_HS5_sanct_select_gr[['2020_share', '2021_share', '2022_share', '2023_share']] * 100\n",
    "\n",
    "database_HS5_sanct_select_gr[['2021_share', '2022_share', '2023_share']] = database_HS5_sanct_select_gr[['2021', '2022', '2023']] / database_HS5_sanct_select_gr.loc[database_HS5_sanct_select_gr['ReporterDesc'] == 'World', ['2021', '2022', '2023']].values[0] # compute share in the export to world\n",
    "database_HS5_sanct_select_gr[['2021_share', '2022_share', '2023_share']] = database_HS5_sanct_select_gr[['2021_share', '2022_share', '2023_share']] * 100\n"
   ]
  },
  {
   "cell_type": "code",
   "execution_count": 76,
   "metadata": {},
   "outputs": [],
   "source": [
    "#database_HS5_sanct_select_gr['2020-2021_share_avg'] = (database_HS5_sanct_select_gr['2020_share'] + database_HS5_sanct_select_gr['2021_share']) / 2\n",
    "database_HS5_sanct_select_gr['2022-2023_share_avg'] = (database_HS5_sanct_select_gr['2022_share'] + database_HS5_sanct_select_gr['2023_share']) / 2\n",
    "\n",
    "database_HS5_sanct_select_gr['incr_v3'] = (database_HS5_sanct_select_gr['2022-2023_share_avg']/database_HS5_sanct_select_gr['2021_share'] - 1) * 100\n"
   ]
  },
  {
   "cell_type": "code",
   "execution_count": 77,
   "metadata": {},
   "outputs": [],
   "source": [
    "database_HS5_sanct_select_gr_short = database_HS5_sanct_select_gr[['ReporterDesc', '2021', '2022-2023avg', '2021_share', '2022-2023_share_avg', 'incr_v2', 'incr_v3']]\n",
    "\n",
    "# sort by incr_v2 pctg change in tradeflow from 2021 to average of 2022-2023\n",
    "database_HS5_sanct_select_gr_short = database_HS5_sanct_select_gr_short.sort_values(by='incr_v2', ascending=False)\n",
    "\n",
    "# keep only countries with share in EU export >= 0.1 pp\n",
    "# set manually for each tupe of flow\n",
    "database_HS5_sanct_select_gr_short = database_HS5_sanct_select_gr_short.loc[database_HS5_sanct_select_gr_short['2021_share'] >= 0.1].reset_index(drop = True)\n"
   ]
  },
  {
   "cell_type": "code",
   "execution_count": 78,
   "metadata": {},
   "outputs": [],
   "source": [
    "database_HS5_sanct_select_gr_short_tex = database_HS5_sanct_select_gr_short.head(15).reset_index()\n",
    "database_HS5_sanct_select_gr_short_tex = database_HS5_sanct_select_gr_short_tex.append(database_HS5_sanct_select_gr_short.loc[(database_HS5_sanct_select_gr_short['ReporterDesc'] == 'China') | (database_HS5_sanct_select_gr_short['ReporterDesc'] == 'World')])\n",
    "database_HS5_sanct_select_gr_short_tex = database_HS5_sanct_select_gr_short_tex.append(database_HS5_sanct_select_gr_short.tail(6))\n",
    "database_HS5_sanct_select_gr_short_tex.drop('index', axis=1, inplace=True)\n"
   ]
  },
  {
   "cell_type": "code",
   "execution_count": 82,
   "metadata": {},
   "outputs": [
    {
     "name": "stdout",
     "output_type": "stream",
     "text": [
      "\\begin{tabular}{lrrrrrr}\n",
      "\\toprule\n",
      "        ReporterDesc &      2021 &  2022-2023avg &  2021\\_share &  2022-2023\\_share\\_avg &  incr\\_v2 &  incr\\_v3 \\\\\n",
      "\\midrule\n",
      "               India &   7171.46 &      49539.04 &        2.45 &                17.95 &   590.78 &   631.70 \\\\\n",
      "China, Hong Kong SAR &    558.96 &       3405.29 &        0.19 &                 1.31 &   509.22 &   585.40 \\\\\n",
      "         Switzerland &   1231.48 &       3864.74 &        0.42 &                 1.36 &   213.83 &   222.28 \\\\\n",
      "             Armenia &    774.34 &       1911.80 &        0.26 &                 0.70 &   146.89 &   163.25 \\\\\n",
      "             Georgia &    479.51 &       1074.62 &        0.16 &                 0.38 &   124.11 &   129.16 \\\\\n",
      "            Malaysia &   1039.14 &       2174.21 &        0.36 &                 0.77 &   109.23 &   115.85 \\\\\n",
      "            Bulgaria &   1949.68 &       3936.13 &        0.67 &                 1.34 &   101.89 &   101.61 \\\\\n",
      "              Brazil &   3769.81 &       7091.06 &        1.29 &                 2.56 &    88.10 &    98.38 \\\\\n",
      "             T�rkiye &  11957.22 &      20716.36 &        4.09 &                 7.32 &    73.25 &    78.87 \\\\\n",
      "          Azerbaijan &    999.41 &       1695.72 &        0.34 &                 0.60 &    69.67 &    76.61 \\\\\n",
      "               China &  59707.81 &      90785.90 &       20.43 &                32.02 &    52.05 &    56.77 \\\\\n",
      "              Israel &    556.87 &        767.77 &        0.19 &                 0.29 &    37.87 &    53.85 \\\\\n",
      "          Uzbekistan &   3502.43 &       4398.08 &        1.20 &                 1.55 &    25.57 &    29.45 \\\\\n",
      "             Hungary &   2243.70 &       2703.37 &        0.77 &                 0.93 &    20.49 &    21.16 \\\\\n",
      "          Kyrgyzstan &   1307.92 &       1510.62 &        0.45 &                 0.53 &    15.50 &    17.75 \\\\\n",
      "               China &  59707.81 &      90785.90 &       20.43 &                32.02 &    52.05 &    56.77 \\\\\n",
      "               World & 292324.35 &     290435.69 &      100.00 &               100.00 &    -0.65 &     0.00 \\\\\n",
      "                 USA &  24839.66 &       5034.21 &        8.50 &                 1.57 &   -79.73 &   -81.51 \\\\\n",
      "   Brunei Darussalam &   1309.23 &        235.63 &        0.45 &                 0.08 &   -82.00 &   -81.52 \\\\\n",
      "              Canada &    794.08 &        132.08 &        0.27 &                 0.04 &   -83.37 &   -84.98 \\\\\n",
      "              Sweden &   1884.68 &        287.93 &        0.64 &                 0.09 &   -84.72 &   -86.42 \\\\\n",
      "             Ukraine &   4940.83 &        690.80 &        1.69 &                 0.21 &   -86.02 &   -87.57 \\\\\n",
      "      United Kingdom &  21004.63 &       2644.93 &        7.19 &                 0.81 &   -87.41 &   -88.78 \\\\\n",
      "\\bottomrule\n",
      "\\end{tabular}\n",
      "\n"
     ]
    }
   ],
   "source": [
    "print(database_HS5_sanct_select_gr_short_tex.to_latex(index=False,\n",
    "                  float_format=\"{:.2f}\".format,\n",
    ")) "
   ]
  },
  {
   "cell_type": "markdown",
   "metadata": {},
   "source": [
    "#### Import from Russia, sanctioned goods without oil (2709, 2710 codes)"
   ]
  },
  {
   "cell_type": "code",
   "execution_count": 112,
   "metadata": {},
   "outputs": [],
   "source": [
    "database_HS5_sanct_select_nooil_gr = database_HS5_sanct_select_nooil_gr.pivot(index=['ReporterCode'], columns='Period', values='PrimaryValue').reset_index()\n",
    "database_HS5_sanct_select_nooil_gr['ReporterCode'] = database_HS5_sanct_select_nooil_gr['ReporterCode'].apply(str)\n",
    "database_HS5_sanct_select_nooil_gr = pd.merge(database_HS5_sanct_select_nooil_gr, Reporters[['ReporterCode', 'ReporterDesc']], on='ReporterCode', how='left')\n",
    "database_HS5_sanct_select_nooil_gr.rename(columns={database_HS5_sanct_select_nooil_gr.columns[1]:'2020', database_HS5_sanct_select_nooil_gr.columns[2]:'2021', database_HS5_sanct_select_nooil_gr.columns[3]:'2022', database_HS5_sanct_select_nooil_gr.columns[4]:'2023'}, inplace=True)\n",
    "\n",
    "# keep 97 countries which reported trade with Russia for 2021-2023 in HS5 or HS6 versions\n",
    "database_HS5_sanct_select_nooil_gr = database_HS5_sanct_select_nooil_gr[['ReporterCode', '2021', '2022', '2023', 'ReporterDesc']].dropna(axis=0, how='any')\n",
    "\n",
    "database_HS5_sanct_select_nooil_gr = database_HS5_sanct_select_nooil_gr.loc[database_HS5_sanct_select_nooil_gr['ReporterDesc'] != 'World']\n",
    "\n",
    "database_HS5_sanct_select_nooil_gr.loc[-1] = ['World'] + list(database_HS5_sanct_select_nooil_gr[['2021', '2022', '2023']].sum().values) + ['World']\n",
    "\n",
    "database_HS5_sanct_select_nooil_gr[['2021', '2022', '2023']] = database_HS5_sanct_select_nooil_gr[['2021', '2022', '2023']]/10**6\n",
    "\n",
    "#database_HS5_sanct_select_nooil_gr['2020-2021avg'] = (database_HS5_sanct_select_nooil_gr['2020'] + database_HS5_sanct_select_nooil_gr['2021']) / 2\n",
    "database_HS5_sanct_select_nooil_gr['2022-2023avg'] = (database_HS5_sanct_select_nooil_gr['2022'] + database_HS5_sanct_select_nooil_gr['2023']) / 2\n",
    "\n",
    "#database_HS5_sanct_select_nooil_gr['incr_v1'] = (database_HS5_sanct_select_nooil_gr['2022-2023avg']/database_HS5_sanct_select_nooil_gr['2020-2021avg'] - 1) * 100\n",
    "database_HS5_sanct_select_nooil_gr['incr_v2'] = (database_HS5_sanct_select_nooil_gr['2022-2023avg']/database_HS5_sanct_select_nooil_gr['2021'] - 1) * 100\n",
    "\n",
    "database_HS5_sanct_select_nooil_gr[['2021_share', '2022_share', '2023_share']] = database_HS5_sanct_select_nooil_gr[['2021', '2022', '2023']] / database_HS5_sanct_select_nooil_gr.loc[database_HS5_sanct_select_nooil_gr['ReporterDesc'] == 'World', ['2021', '2022', '2023']].values[0] # compute share in the export to world\n",
    "database_HS5_sanct_select_nooil_gr[['2021_share', '2022_share', '2023_share']] = database_HS5_sanct_select_nooil_gr[['2021_share', '2022_share', '2023_share']] * 100\n",
    "\n",
    "\n",
    "#database_HS5_sanct_select_nooil_gr['2020-2021_share_avg'] = (database_HS5_sanct_select_nooil_gr['2020_share'] + database_HS5_sanct_select_nooil_gr['2021_share']) / 2\n",
    "database_HS5_sanct_select_nooil_gr['2022-2023_share_avg'] = (database_HS5_sanct_select_nooil_gr['2022_share'] + database_HS5_sanct_select_nooil_gr['2023_share']) / 2\n",
    "\n",
    "database_HS5_sanct_select_nooil_gr['incr_v3'] = (database_HS5_sanct_select_nooil_gr['2022-2023_share_avg']/database_HS5_sanct_select_nooil_gr['2021_share'] - 1) * 100\n",
    "\n",
    "database_HS5_sanct_select_nooil_gr_short = database_HS5_sanct_select_nooil_gr[['ReporterDesc', '2021', '2022-2023avg', '2021_share', '2022-2023_share_avg', 'incr_v2', 'incr_v3']]\n",
    "\n",
    "# sort by incr_v2 pctg change in tradeflow from 2021 to average of 2022-2023\n",
    "database_HS5_sanct_select_nooil_gr_short = database_HS5_sanct_select_nooil_gr_short.sort_values(by='incr_v2', ascending=False)\n",
    "\n",
    "# keep only countries with share in EU export >= 0.01 pp\n",
    "# set manually for each tupe of flow\n",
    "database_HS5_sanct_select_nooil_gr_short = database_HS5_sanct_select_nooil_gr_short.loc[database_HS5_sanct_select_nooil_gr_short['2021_share'] >= 0.1].reset_index(drop = True)"
   ]
  },
  {
   "cell_type": "code",
   "execution_count": 113,
   "metadata": {},
   "outputs": [],
   "source": [
    "database_HS5_sanct_select_nooil_gr_short_tex = database_HS5_sanct_select_nooil_gr_short.head(15).reset_index()\n",
    "database_HS5_sanct_select_nooil_gr_short_tex = database_HS5_sanct_select_nooil_gr_short_tex.append(database_HS5_sanct_select_nooil_gr_short.loc[(database_HS5_sanct_select_nooil_gr_short['ReporterDesc'] == 'World')])\n",
    "database_HS5_sanct_select_nooil_gr_short_tex = database_HS5_sanct_select_nooil_gr_short_tex.append(database_HS5_sanct_select_nooil_gr_short.tail(6))\n",
    "database_HS5_sanct_select_nooil_gr_short_tex.drop('index', axis=1, inplace=True)\n"
   ]
  },
  {
   "cell_type": "code",
   "execution_count": 114,
   "metadata": {},
   "outputs": [
    {
     "name": "stdout",
     "output_type": "stream",
     "text": [
      "\\begin{tabular}{lrrrrrr}\n",
      "\\toprule\n",
      "        ReporterDesc &      2021 &  2022-2023avg &  2021\\_share &  2022-2023\\_share\\_avg &  incr\\_v2 &  incr\\_v3 \\\\\n",
      "\\midrule\n",
      "China, Hong Kong SAR &    558.96 &       3397.45 &        0.43 &                 3.76 &   507.82 &   769.89 \\\\\n",
      "         Switzerland &   1231.48 &       3864.70 &        0.95 &                 3.86 &   213.83 &   305.25 \\\\\n",
      "             Armenia &    505.29 &       1546.81 &        0.39 &                 1.64 &   206.13 &   318.46 \\\\\n",
      "               India &   3674.88 &       7958.79 &        2.84 &                 8.01 &   116.57 &   182.02 \\\\\n",
      "            Malaysia &    493.10 &        728.09 &        0.38 &                 0.71 &    47.66 &    87.30 \\\\\n",
      "               China &  17841.61 &      25985.71 &       13.80 &                26.04 &    45.65 &    88.76 \\\\\n",
      "             Georgia &    344.43 &        485.66 &        0.27 &                 0.49 &    41.00 &    82.57 \\\\\n",
      "             T�rkiye &   8228.95 &      11242.38 &        6.36 &                11.04 &    36.62 &    73.42 \\\\\n",
      "          Kyrgyzstan &    606.96 &        785.93 &        0.47 &                 0.79 &    29.49 &    67.79 \\\\\n",
      "          Uzbekistan &   3059.21 &       3532.23 &        2.37 &                 3.51 &    15.46 &    48.46 \\\\\n",
      "          Azerbaijan &    944.55 &       1056.82 &        0.73 &                 1.05 &    11.89 &    44.15 \\\\\n",
      "              Brazil &   3299.89 &       3492.13 &        2.55 &                 3.35 &     5.83 &    31.22 \\\\\n",
      "              Israel &    547.42 &        565.52 &        0.42 &                 0.61 &     3.31 &    44.13 \\\\\n",
      "            Bulgaria &    372.04 &        340.17 &        0.29 &                 0.31 &    -8.57 &     6.53 \\\\\n",
      "             Morocco &    848.43 &        752.77 &        0.66 &                 0.69 &   -11.27 &     5.39 \\\\\n",
      "               World & 129308.74 &     102701.82 &      100.00 &               100.00 &   -20.58 &     0.00 \\\\\n",
      "           Guatemala &    136.94 &         20.21 &        0.11 &                 0.02 &   -85.24 &   -81.81 \\\\\n",
      "            Botswana &    173.48 &         24.82 &        0.13 &                 0.02 &   -85.69 &   -84.32 \\\\\n",
      "               Chile &    158.17 &         21.31 &        0.12 &                 0.02 &   -86.52 &   -84.62 \\\\\n",
      "             Ukraine &   3695.56 &        408.72 &        2.86 &                 0.35 &   -88.94 &   -87.87 \\\\\n",
      "      United Kingdom &  16565.21 &       1533.28 &       12.81 &                 1.31 &   -90.74 &   -89.81 \\\\\n",
      "            Portugal &    399.63 &         35.55 &        0.31 &                 0.03 &   -91.10 &   -90.15 \\\\\n",
      "\\bottomrule\n",
      "\\end{tabular}\n",
      "\n"
     ]
    }
   ],
   "source": [
    "print(database_HS5_sanct_select_nooil_gr_short_tex.to_latex(index=False,\n",
    "                  float_format=\"{:.2f}\".format,\n",
    ")) "
   ]
  },
  {
   "cell_type": "code",
   "execution_count": null,
   "metadata": {},
   "outputs": [],
   "source": []
  },
  {
   "cell_type": "code",
   "execution_count": null,
   "metadata": {},
   "outputs": [],
   "source": []
  },
  {
   "cell_type": "code",
   "execution_count": null,
   "metadata": {},
   "outputs": [],
   "source": []
  },
  {
   "cell_type": "code",
   "execution_count": null,
   "metadata": {},
   "outputs": [],
   "source": []
  },
  {
   "cell_type": "code",
   "execution_count": null,
   "metadata": {},
   "outputs": [],
   "source": []
  },
  {
   "cell_type": "code",
   "execution_count": null,
   "metadata": {},
   "outputs": [],
   "source": []
  },
  {
   "cell_type": "code",
   "execution_count": 159,
   "metadata": {},
   "outputs": [],
   "source": [
    "# toRus_exp_2020_2021['ClassificationCode'].unique() # = H5\n",
    "# toRus_exp_2022_2023['ClassificationCode'].unique() # = H6\n"
   ]
  },
  {
   "cell_type": "code",
   "execution_count": 292,
   "metadata": {},
   "outputs": [
    {
     "name": "stdout",
     "output_type": "stream",
     "text": [
      "[180 275 484 682 566 646 670 662 780 762 818 140 308 740]\n",
      "[275 308 646 762 740]\n"
     ]
    }
   ],
   "source": [
    "print(toRus_exp_2020_2021.loc[(toRus_exp_2020_2021['ClassificationCode'] != 'H6') & (toRus_exp_2020_2021['ClassificationCode'] != 'H5'), 'ReporterCode'].unique())\n",
    "print(toRus_exp_2022_2023.loc[(toRus_exp_2022_2023['ClassificationCode'] != 'H6') & (toRus_exp_2022_2023['ClassificationCode'] != 'H5'), 'ReporterCode'].unique())\n",
    "\n"
   ]
  },
  {
   "cell_type": "code",
   "execution_count": 297,
   "metadata": {},
   "outputs": [
    {
     "data": {
      "text/plain": [
       "149"
      ]
     },
     "execution_count": 297,
     "metadata": {},
     "output_type": "execute_result"
    }
   ],
   "source": [
    "toRus_exp_2022_2023.columns\n",
    "len(toRus_exp_2020_2021['ReporterCode'].unique())"
   ]
  },
  {
   "cell_type": "code",
   "execution_count": null,
   "metadata": {},
   "outputs": [],
   "source": []
  },
  {
   "cell_type": "code",
   "execution_count": null,
   "metadata": {},
   "outputs": [],
   "source": []
  },
  {
   "cell_type": "code",
   "execution_count": null,
   "metadata": {},
   "outputs": [],
   "source": []
  }
 ],
 "metadata": {
  "kernelspec": {
   "display_name": "Python 3",
   "language": "python",
   "name": "python3"
  },
  "language_info": {
   "codemirror_mode": {
    "name": "ipython",
    "version": 3
   },
   "file_extension": ".py",
   "mimetype": "text/x-python",
   "name": "python",
   "nbconvert_exporter": "python",
   "pygments_lexer": "ipython3",
   "version": "3.7.6"
  }
 },
 "nbformat": 4,
 "nbformat_minor": 4
}
