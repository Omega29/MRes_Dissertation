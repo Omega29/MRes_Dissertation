{
 "cells": [
  {
   "cell_type": "code",
   "execution_count": 1,
   "metadata": {},
   "outputs": [],
   "source": [
    "import pandas as pd\n",
    "import numpy as np"
   ]
  },
  {
   "cell_type": "markdown",
   "metadata": {},
   "source": [
    "### CNcodes_2023"
   ]
  },
  {
   "cell_type": "code",
   "execution_count": 3,
   "metadata": {},
   "outputs": [],
   "source": [
    "CNcodes = pd.read_excel(\"/Users/omega_macbookpro/Desktop/International_Trade/Dissertation_MRes/Comtrade/Sanctions Docs/EU/Data/CNcodes_v2023.xlsx\", dtype={'CN2023': str})\n",
    "CNcodes['CN6'] = CNcodes['CN2023'].apply(lambda x: x[:6])\n",
    "\n",
    "# for each HS6 code create a group of corresponding CN codes\n",
    "CN6codes_agg = pd.DataFrame(CNcodes.groupby(by=['CN6'])['CN2023'].agg(list))\n",
    "CN6codes_agg.reset_index(inplace=True)\n",
    "CNcodes_gr = pd.merge(CNcodes, CN6codes_agg, on='CN6', how=\"outer\")\n",
    "CNcodes_gr['CN6_group'] = CNcodes_gr['CN2023_y'].apply(sorted)\n",
    "CNcodes_gr.drop(['SU', 'CN2023_y'], axis=1, inplace=True)\n"
   ]
  },
  {
   "cell_type": "code",
   "execution_count": 4,
   "metadata": {},
   "outputs": [
    {
     "data": {
      "text/html": [
       "<div>\n",
       "<style scoped>\n",
       "    .dataframe tbody tr th:only-of-type {\n",
       "        vertical-align: middle;\n",
       "    }\n",
       "\n",
       "    .dataframe tbody tr th {\n",
       "        vertical-align: top;\n",
       "    }\n",
       "\n",
       "    .dataframe thead th {\n",
       "        text-align: right;\n",
       "    }\n",
       "</style>\n",
       "<table border=\"1\" class=\"dataframe\">\n",
       "  <thead>\n",
       "    <tr style=\"text-align: right;\">\n",
       "      <th></th>\n",
       "      <th>CN2023_x</th>\n",
       "      <th>Description</th>\n",
       "      <th>CN6</th>\n",
       "      <th>CN6_group</th>\n",
       "    </tr>\n",
       "  </thead>\n",
       "  <tbody>\n",
       "    <tr>\n",
       "      <th>9326</th>\n",
       "      <td>90241020</td>\n",
       "      <td>Machines and appliances for universal testing ...</td>\n",
       "      <td>902410</td>\n",
       "      <td>[90241020, 90241040, 90241080]</td>\n",
       "    </tr>\n",
       "    <tr>\n",
       "      <th>9327</th>\n",
       "      <td>90241040</td>\n",
       "      <td>Machines and appliances for testing the hardne...</td>\n",
       "      <td>902410</td>\n",
       "      <td>[90241020, 90241040, 90241080]</td>\n",
       "    </tr>\n",
       "    <tr>\n",
       "      <th>9328</th>\n",
       "      <td>90241080</td>\n",
       "      <td>Machines and appliances for testing the mechan...</td>\n",
       "      <td>902410</td>\n",
       "      <td>[90241020, 90241040, 90241080]</td>\n",
       "    </tr>\n",
       "  </tbody>\n",
       "</table>\n",
       "</div>"
      ],
      "text/plain": [
       "      CN2023_x                                        Description     CN6  \\\n",
       "9326  90241020  Machines and appliances for universal testing ...  902410   \n",
       "9327  90241040  Machines and appliances for testing the hardne...  902410   \n",
       "9328  90241080  Machines and appliances for testing the mechan...  902410   \n",
       "\n",
       "                           CN6_group  \n",
       "9326  [90241020, 90241040, 90241080]  \n",
       "9327  [90241020, 90241040, 90241080]  \n",
       "9328  [90241020, 90241040, 90241080]  "
      ]
     },
     "execution_count": 4,
     "metadata": {},
     "output_type": "execute_result"
    }
   ],
   "source": [
    "CNcodes_gr.loc[CNcodes_gr['CN6'] == '902410']"
   ]
  },
  {
   "cell_type": "markdown",
   "metadata": {},
   "source": [
    "### EUsanct_CNcodes_052024"
   ]
  },
  {
   "cell_type": "code",
   "execution_count": 6,
   "metadata": {},
   "outputs": [
    {
     "data": {
      "text/html": [
       "<div>\n",
       "<style scoped>\n",
       "    .dataframe tbody tr th:only-of-type {\n",
       "        vertical-align: middle;\n",
       "    }\n",
       "\n",
       "    .dataframe tbody tr th {\n",
       "        vertical-align: top;\n",
       "    }\n",
       "\n",
       "    .dataframe thead th {\n",
       "        text-align: right;\n",
       "    }\n",
       "</style>\n",
       "<table border=\"1\" class=\"dataframe\">\n",
       "  <thead>\n",
       "    <tr style=\"text-align: right;\">\n",
       "      <th></th>\n",
       "      <th>Category</th>\n",
       "      <th>EU code</th>\n",
       "      <th>Control text</th>\n",
       "      <th>CN2023</th>\n",
       "      <th>CN text</th>\n",
       "      <th>Date</th>\n",
       "      <th>Regulation</th>\n",
       "      <th>Source</th>\n",
       "      <th>Full_code</th>\n",
       "      <th>Annex</th>\n",
       "      <th>Number of products within code</th>\n",
       "      <th>Sector</th>\n",
       "      <th>Cancelled</th>\n",
       "      <th>When cancelled</th>\n",
       "      <th>For contracts before</th>\n",
       "      <th>Not apply till</th>\n",
       "      <th>For contracts before (when prcssd in 3rd cntry)</th>\n",
       "      <th>Not apply till (when prcssd in 3rd cntry)</th>\n",
       "      <th>Partial exemption</th>\n",
       "      <th>Partial exemption till</th>\n",
       "    </tr>\n",
       "  </thead>\n",
       "  <tbody>\n",
       "    <tr>\n",
       "      <th>0</th>\n",
       "      <td>NaN</td>\n",
       "      <td>NaN</td>\n",
       "      <td>Non Alloy and Other Alloy Hot Rolled Sheets an...</td>\n",
       "      <td>7208 10 00</td>\n",
       "      <td>NaN</td>\n",
       "      <td>2022-03-15</td>\n",
       "      <td>Pack 4, 833/2014, 3g, Annex XVII</td>\n",
       "      <td>https://eur-lex.europa.eu/legal-content/EN/TXT...</td>\n",
       "      <td>1</td>\n",
       "      <td>XVII</td>\n",
       "      <td>NaN</td>\n",
       "      <td>Steel products</td>\n",
       "      <td>NaN</td>\n",
       "      <td>NaT</td>\n",
       "      <td>2022-03-16</td>\n",
       "      <td>2022-06-17</td>\n",
       "      <td>NaN</td>\n",
       "      <td>2023-09-30</td>\n",
       "      <td>NaN</td>\n",
       "      <td>NaN</td>\n",
       "    </tr>\n",
       "    <tr>\n",
       "      <th>1</th>\n",
       "      <td>NaN</td>\n",
       "      <td>NaN</td>\n",
       "      <td>Non Alloy and Other Alloy Hot Rolled Sheets an...</td>\n",
       "      <td>7208 25 00</td>\n",
       "      <td>NaN</td>\n",
       "      <td>2022-03-15</td>\n",
       "      <td>Pack 4, 833/2014, 3g, Annex XVII</td>\n",
       "      <td>https://eur-lex.europa.eu/legal-content/EN/TXT...</td>\n",
       "      <td>1</td>\n",
       "      <td>XVII</td>\n",
       "      <td>NaN</td>\n",
       "      <td>Steel products</td>\n",
       "      <td>NaN</td>\n",
       "      <td>NaT</td>\n",
       "      <td>2022-03-16</td>\n",
       "      <td>2022-06-17</td>\n",
       "      <td>NaN</td>\n",
       "      <td>2023-09-30</td>\n",
       "      <td>NaN</td>\n",
       "      <td>NaN</td>\n",
       "    </tr>\n",
       "  </tbody>\n",
       "</table>\n",
       "</div>"
      ],
      "text/plain": [
       "   Category  EU code                                       Control text  \\\n",
       "0       NaN      NaN  Non Alloy and Other Alloy Hot Rolled Sheets an...   \n",
       "1       NaN      NaN  Non Alloy and Other Alloy Hot Rolled Sheets an...   \n",
       "\n",
       "       CN2023  CN text       Date                        Regulation  \\\n",
       "0  7208 10 00      NaN 2022-03-15  Pack 4, 833/2014, 3g, Annex XVII   \n",
       "1  7208 25 00      NaN 2022-03-15  Pack 4, 833/2014, 3g, Annex XVII   \n",
       "\n",
       "                                              Source Full_code Annex  \\\n",
       "0  https://eur-lex.europa.eu/legal-content/EN/TXT...         1  XVII   \n",
       "1  https://eur-lex.europa.eu/legal-content/EN/TXT...         1  XVII   \n",
       "\n",
       "   Number of products within code          Sector  Cancelled When cancelled  \\\n",
       "0                             NaN  Steel products        NaN            NaT   \n",
       "1                             NaN  Steel products        NaN            NaT   \n",
       "\n",
       "  For contracts before Not apply till  \\\n",
       "0           2022-03-16     2022-06-17   \n",
       "1           2022-03-16     2022-06-17   \n",
       "\n",
       "   For contracts before (when prcssd in 3rd cntry)  \\\n",
       "0                                              NaN   \n",
       "1                                              NaN   \n",
       "\n",
       "  Not apply till (when prcssd in 3rd cntry) Partial exemption  \\\n",
       "0                                2023-09-30               NaN   \n",
       "1                                2023-09-30               NaN   \n",
       "\n",
       "  Partial exemption till  \n",
       "0                    NaN  \n",
       "1                    NaN  "
      ]
     },
     "execution_count": 6,
     "metadata": {},
     "output_type": "execute_result"
    }
   ],
   "source": [
    "sanct_exp = pd.read_excel(\"/Users/omega_macbookpro/Desktop/International_Trade/Dissertation_MRes/Comtrade/Sanctions Docs/EU/Data/EUsanct_CNcodes_052024.xlsx\", sheet_name='Import', dtype={'CN2023':str}, parse_dates = [\"Date\"], date_parser = pd.Timestamp)\n",
    "sanct_exp.head(2)"
   ]
  },
  {
   "cell_type": "code",
   "execution_count": 9,
   "metadata": {},
   "outputs": [],
   "source": [
    "sanct_exp_short = sanct_exp[['CN2023', 'Date', 'Full_code', 'Cancelled', 'When cancelled']]\n",
    "sanct_exp_short = sanct_exp.loc[sanct_exp['Regulation'] != 'Russian Sanctions'] # select only EU sanctions\n"
   ]
  },
  {
   "cell_type": "code",
   "execution_count": 12,
   "metadata": {},
   "outputs": [
    {
     "name": "stderr",
     "output_type": "stream",
     "text": [
      "/Users/omega_macbookpro/opt/anaconda3/lib/python3.7/site-packages/ipykernel_launcher.py:5: SettingWithCopyWarning: \n",
      "A value is trying to be set on a copy of a slice from a DataFrame.\n",
      "Try using .loc[row_indexer,col_indexer] = value instead\n",
      "\n",
      "See the caveats in the documentation: https://pandas.pydata.org/pandas-docs/stable/user_guide/indexing.html#returning-a-view-versus-a-copy\n",
      "  \"\"\"\n",
      "/Users/omega_macbookpro/opt/anaconda3/lib/python3.7/site-packages/ipykernel_launcher.py:6: SettingWithCopyWarning: \n",
      "A value is trying to be set on a copy of a slice from a DataFrame.\n",
      "Try using .loc[row_indexer,col_indexer] = value instead\n",
      "\n",
      "See the caveats in the documentation: https://pandas.pydata.org/pandas-docs/stable/user_guide/indexing.html#returning-a-view-versus-a-copy\n",
      "  \n",
      "/Users/omega_macbookpro/opt/anaconda3/lib/python3.7/site-packages/ipykernel_launcher.py:8: SettingWithCopyWarning: \n",
      "A value is trying to be set on a copy of a slice from a DataFrame.\n",
      "Try using .loc[row_indexer,col_indexer] = value instead\n",
      "\n",
      "See the caveats in the documentation: https://pandas.pydata.org/pandas-docs/stable/user_guide/indexing.html#returning-a-view-versus-a-copy\n",
      "  \n"
     ]
    }
   ],
   "source": [
    "def exp_HS6_1(code):\n",
    "    if len(code) > 6: return code[:6]\n",
    "    else: return code\n",
    "    \n",
    "sanct_exp_short['CN2023'] = sanct_exp_short['CN2023'].apply(lambda x: str(x).replace(' ', ''))\n",
    "sanct_exp_short['CN2023'] = sanct_exp_short['CN2023'].apply(lambda x: str(x).replace('.', ''))\n",
    "\n",
    "sanct_exp_short['CN6'] = sanct_exp_short['CN2023'].apply(exp_HS6_1)"
   ]
  },
  {
   "cell_type": "code",
   "execution_count": 13,
   "metadata": {},
   "outputs": [
    {
     "name": "stdout",
     "output_type": "stream",
     "text": [
      "[ 8 10  4  6  2]\n"
     ]
    }
   ],
   "source": [
    "# have wierd 3 and 41 length codes: 3 is nan for softwares, 41 is Miscellaneous items\n",
    "print(sanct_exp_short['CN2023'].apply(len).unique())\n",
    "\n",
    "# sanct_exp_short.loc[sanct_exp_short['CN2023'].apply(len) == 41].head(1) # this HS codes 73-79 are partially covered by sanctions introduced in other sections in the same time;\n",
    "                                                                # the approach is either 1) ignore or \n",
    "                                                                #                        2) to drop from analysis (but this is a large loss as it is eight 2digit codes) or \n",
    "                                                                #                        3) to classify these 2digit codes as partially sanctioned and then do analysis on this 2digit level\n",
    "# take approach 1 and ignore these sanctions for now             "
   ]
  },
  {
   "cell_type": "code",
   "execution_count": 17,
   "metadata": {},
   "outputs": [
    {
     "name": "stderr",
     "output_type": "stream",
     "text": [
      "/Users/omega_macbookpro/opt/anaconda3/lib/python3.7/site-packages/pandas/core/indexing.py:1599: SettingWithCopyWarning: \n",
      "A value is trying to be set on a copy of a slice from a DataFrame.\n",
      "Try using .loc[row_indexer,col_indexer] = value instead\n",
      "\n",
      "See the caveats in the documentation: https://pandas.pydata.org/pandas-docs/stable/user_guide/indexing.html#returning-a-view-versus-a-copy\n",
      "  self.obj[key] = infer_fill_value(value)\n",
      "/Users/omega_macbookpro/opt/anaconda3/lib/python3.7/site-packages/pandas/core/indexing.py:1720: SettingWithCopyWarning: \n",
      "A value is trying to be set on a copy of a slice from a DataFrame.\n",
      "Try using .loc[row_indexer,col_indexer] = value instead\n",
      "\n",
      "See the caveats in the documentation: https://pandas.pydata.org/pandas-docs/stable/user_guide/indexing.html#returning-a-view-versus-a-copy\n",
      "  self._setitem_single_column(loc, value, pi)\n"
     ]
    }
   ],
   "source": [
    "# for CN2023 length == 2 or 4 or 6 or 10:\n",
    "sanct_exp_short_24610 = sanct_exp_short.loc[sanct_exp_short['CN2023'].apply(lambda x: True if len(x) in [2, 4, 6, 10] else False)] # select 2,4 or 6 digit codes\n",
    "\n",
    "for i in sanct_exp_short_24610.index: # checked that indices are unique (len(set(sanct_imp_short_24610.index)) == len(sanct_imp_short_24610.index))\n",
    "    code_length = len(sanct_exp_short_24610.loc[i, 'CN2023'])\n",
    "    if code_length == 10: sanct_exp_short_24610.loc[i, 'CN6_Full_code'] = 0\n",
    "    else: sanct_exp_short_24610.loc[i, 'CN6_Full_code'] = sanct_exp_short_24610.loc[i, 'Full_code']\n",
    "\n",
    "sanct_exp_short_24610_clean = sanct_exp_short_24610[['Date', 'CN6', 'CN6_Full_code']]        "
   ]
  },
  {
   "cell_type": "code",
   "execution_count": 19,
   "metadata": {},
   "outputs": [],
   "source": [
    "# for CN2023 length == 8:\n",
    "sanct_exp_short_8 = sanct_exp_short.loc[sanct_exp_short['CN2023'].apply(len) == 8] # select 8digit codes\n",
    "sanct_exp_short_8_full = sanct_exp_short_8.loc[sanct_exp_short_8['Full_code'] == 1] # select 8digit fully sanctioned code to have nan for non-fully sanctioned after matching\n"
   ]
  },
  {
   "cell_type": "code",
   "execution_count": 20,
   "metadata": {},
   "outputs": [],
   "source": [
    "# merge 8digit sanctioned codes with their groups of CN8 codes on 6digit level\n",
    "sanct_exp_short_8_full_m = pd.merge(sanct_exp_short_8_full, CNcodes_gr[['CN2023_x', 'CN6_group']], \n",
    "                                    left_on='CN2023', right_on='CN2023_x', how=\"left\") # add column of CN6 groups of CN8 code\n",
    "sanct_exp_short_8_full_agg = pd.DataFrame(sanct_exp_short_8_full.groupby(['Date', 'CN6'])['CN2023'].agg(list)) # table of CN8 groups per date\n",
    "sanct_exp_short_8_full_agg.reset_index(inplace=True)\n",
    "sanct_exp_short_8_full_agg.rename(columns={\"CN2023\": \"CN6_group_sanct\"}, inplace=True)\n",
    "#sanct_exp_short_8_full_agg['Date'] = sanct_exp_short_8_full_agg['Date'].dt.to_pydatetime()\n",
    "\n",
    "# merge sanctioned table containing benchmark groups with table of actual groups of CN8 codes in sanctioned table\n",
    "sanct_exp_short_8_full_mm = pd.merge(sanct_exp_short_8_full_m, sanct_exp_short_8_full_agg, \n",
    "                                    left_on=['Date', 'CN6'], right_on=['Date', 'CN6'], how=\"left\")\n",
    "sanct_exp_short_8_full_mm['CN6_group_sanct'] = sanct_exp_short_8_full_mm['CN6_group_sanct'].apply(sorted) # sort codes withing group to check equality with CN6_group\n",
    "sanct_exp_short_8_full_mm['CN6_Full_code'] = sanct_exp_short_8_full_mm['CN6_group'] == sanct_exp_short_8_full_mm['CN6_group_sanct']\n"
   ]
  },
  {
   "cell_type": "code",
   "execution_count": 22,
   "metadata": {},
   "outputs": [],
   "source": [
    "sanct_exp_short_8_clean = sanct_exp_short_8_full_mm.append(sanct_exp_short_8.loc[sanct_exp_short_8['Full_code'] != 1], ignore_index = True) # add partially sanctioned 8digit codes back\n",
    "sanct_exp_short_8_clean['CN6_Full_code'] = sanct_exp_short_8_clean['CN6_Full_code'].apply(lambda x: 1 if x==True else 0)\n",
    "sanct_exp_short_8_clean = sanct_exp_short_8_clean[['Date', 'CN6', 'CN6_Full_code']]"
   ]
  },
  {
   "cell_type": "code",
   "execution_count": 23,
   "metadata": {},
   "outputs": [],
   "source": [
    "sanct_exp_short_clean = sanct_exp_short_24610_clean.append(sanct_exp_short_8_clean)"
   ]
  },
  {
   "cell_type": "code",
   "execution_count": 27,
   "metadata": {},
   "outputs": [
    {
     "name": "stdout",
     "output_type": "stream",
     "text": [
      "0\n"
     ]
    }
   ],
   "source": [
    "# check that there are no fully and simultaneously non-fully sanctioned CN6 codes within same date (otherwise, I need to make full=1 for this code-date observation)\n",
    "print((sanct_exp_short_clean.groupby(['Date', 'CN6'])['CN6_Full_code'].\n",
    " agg(list).reset_index()['CN6_Full_code'].\n",
    " apply(set).apply(len) != 1).sum())\n",
    "\n",
    "# there are 0 such codes => no need to clean"
   ]
  },
  {
   "cell_type": "code",
   "execution_count": 29,
   "metadata": {},
   "outputs": [],
   "source": [
    "# !issue with duplicated codes which transit from not full to full\n",
    "sanct_exp_short_clean.loc[sanct_exp_short_clean['CN6'].duplicated(keep = False)] \n",
    "\n",
    "sanct_exp_short_clean = sanct_exp_short_clean.groupby(['Date', 'CN6']).first().reset_index() # get rid of duplicated within same date-CN6 code group (cleaned for this, thanks to previous section of code)\n",
    "\n",
    "# sanct_exp_short_clean_issue = sanct_exp_short_clean.groupby(['CN6']).first().reset_index() # get rid of duplicated withing same CN6 code group to leave only first date of sanctions (408 + 17 = 425)\n",
    "\n",
    "# sanct_exp_short_clean_issue.sort_values(by=['Date'], inplace=True) # sort in chronological order\n"
   ]
  },
  {
   "cell_type": "markdown",
   "metadata": {},
   "source": [
    "Issue: there are 19 observations which are repeated in the data with different CN6_Full_code (listed in chronological order): 6 codes are kept partially sanctioned, 7 codes are kept fully sanctioned, 6 codes transit from partial to full, 0 codes transit from full to partial."
   ]
  },
  {
   "cell_type": "code",
   "execution_count": 31,
   "metadata": {},
   "outputs": [],
   "source": [
    "# breakdown all duplicates on 0-1,0-1,0-0,1-1:\n",
    "# this are the observations which repeated in the data with different CN6_Full_code (listed in chronological order)\n",
    "sanct_exp_short_clean_grCN6 = sanct_exp_short_clean.groupby(['CN6'])['CN6_Full_code'].agg(list).reset_index().loc[\n",
    "    sanct_exp_short_clean.groupby(['CN6'])['CN6_Full_code'].agg(list).reset_index()['CN6_Full_code'].apply(len) > 1]\n",
    "\n",
    "sanct_exp_short_clean_grCN6['CN6_Full_code_uniq'] = sanct_exp_short_clean_grCN6['CN6_Full_code'].apply(lambda x: list(dict.fromkeys(x)))\n",
    "sanct_exp_short_clean_grCN6['CN6_Full_code_0-0'] = sanct_exp_short_clean_grCN6['CN6_Full_code_uniq'].apply(lambda x: (len(x)==1)& (x[0]==0))\n",
    "sanct_exp_short_clean_grCN6['CN6_Full_code_1-1'] = sanct_exp_short_clean_grCN6['CN6_Full_code_uniq'].apply(lambda x: (len(x)==1)& (x[0]==1))\n",
    "sanct_exp_short_clean_grCN6['CN6_Full_code_0-1'] = sanct_exp_short_clean_grCN6['CN6_Full_code_uniq'].apply(lambda x: (x[1] - x[0]) == 1 if len(x) >1 else False)\n",
    "sanct_exp_short_clean_grCN6['CN6_Full_code_1-0'] = sanct_exp_short_clean_grCN6['CN6_Full_code_uniq'].apply(lambda x: (x[1] - x[0]) == -1 if len(x) >1 else False)\n",
    "\n",
    "# As we see, there are no codes which switch from 1 to 0.\n",
    "# sanct_exp_short_clean_grCN6['CN6_Full_code_1-1'] = (sanct_exp_short_clean_grCN6['CN6_Full_code_1-1']) | (sanct_exp_short_clean_grCN6['CN6_Full_code_1-0'])\n"
   ]
  },
  {
   "cell_type": "markdown",
   "metadata": {},
   "source": [
    "Now, let's get time delta of transition from 0 to 1 for 112 codes transiting from partial to full.  "
   ]
  },
  {
   "cell_type": "code",
   "execution_count": 37,
   "metadata": {},
   "outputs": [],
   "source": [
    "# select repeated codes and group the corresponding dates into list\n",
    "sanct_exp_short_clean_grCN_date = sanct_exp_short_clean.groupby(['CN6'])['Date'].agg(list).reset_index().loc[\n",
    "    sanct_exp_short_clean.groupby(['CN6'])['Date'].agg(list).reset_index()['Date'].apply(len) > 1]\n",
    "# merge sanct_exp_short_clean_grCN6 with sanct_exp_short_clean_grCN_date to have grouped dates\n",
    "sanct_exp_short_clean_grCN6 = pd.merge(sanct_exp_short_clean_grCN6, sanct_exp_short_clean_grCN_date, \n",
    "                                    on='CN6', how=\"left\")"
   ]
  },
  {
   "cell_type": "code",
   "execution_count": 39,
   "metadata": {},
   "outputs": [],
   "source": [
    "# get time delta of transition from 0 to 1\n",
    "for i in sanct_exp_short_clean_grCN6.index:\n",
    "    if sanct_exp_short_clean_grCN6.loc[i, 'CN6_Full_code_0-1'] == True:\n",
    "        CN6_Full_codes = sanct_exp_short_clean_grCN6.loc[i, 'CN6_Full_code']\n",
    "        first_partial = CN6_Full_codes.index(0)\n",
    "        first_full = CN6_Full_codes.index(1)\n",
    "        CN6_Full_codes_times = sanct_exp_short_clean_grCN6.loc[i, 'Date']        \n",
    "        sanct_exp_short_clean_grCN6.loc[i, 'CN6_Full_code_0-1_deltaT'] = (CN6_Full_codes_times[first_full] - CN6_Full_codes_times[first_partial]).days\n",
    "        sanct_exp_short_clean_grCN6.at[i, 'CN6_Full_code_0-1_deltaT_dates'] = [[CN6_Full_codes_times[first_partial]], [CN6_Full_codes_times[first_full]]]  \n",
    "        \n",
    "def tech_1(x):\n",
    "    if x==x:\n",
    "        if type(x[0]) == list: return [x[0][0], x[1][0]]\n",
    "        else: return x\n",
    "    else: return np.nan\n",
    "        \n",
    "#sanct_exp_short_clean_grCN6['CN6_Full_code_0-1_deltaT_dates'] = sanct_exp_short_clean_grCN6['CN6_Full_code_0-1_deltaT_dates'].apply(tech_1)                \n",
    "        "
   ]
  },
  {
   "cell_type": "code",
   "execution_count": 40,
   "metadata": {},
   "outputs": [],
   "source": [
    "sanct_exp_short_clean_grCN6['CN6_Full_code_0-1_deltaT_dates'] = sanct_exp_short_clean_grCN6['CN6_Full_code_0-1_deltaT_dates'].apply(tech_1)\n"
   ]
  },
  {
   "cell_type": "code",
   "execution_count": 51,
   "metadata": {},
   "outputs": [],
   "source": [
    "sanct_exp_short_clean_ext = pd.merge(sanct_exp_short_clean, sanct_exp_short_clean_grCN6[['CN6', 'CN6_Full_code_0-0', 'CN6_Full_code_1-1', 'CN6_Full_code_0-1', 'CN6_Full_code_0-1_deltaT', 'CN6_Full_code_0-1_deltaT_dates']], \n",
    "                                    on='CN6', how=\"left\")"
   ]
  },
  {
   "cell_type": "markdown",
   "metadata": {},
   "source": [
    "We've done this for codes which are repeated in the same number of digits. However, this does not consider cases when partially sanctioned codes become fully sanctioned not by including same fully sanctioned code but instead by including later fully sanctioned code with lower number of digits. "
   ]
  },
  {
   "cell_type": "code",
   "execution_count": 52,
   "metadata": {},
   "outputs": [
    {
     "name": "stderr",
     "output_type": "stream",
     "text": [
      "/Users/omega_macbookpro/opt/anaconda3/lib/python3.7/site-packages/pandas/core/dtypes/missing.py:516: VisibleDeprecationWarning: Creating an ndarray from ragged nested sequences (which is a list-or-tuple of lists-or-tuples-or ndarrays with different lengths or shapes) is deprecated. If you meant to do this, you must specify 'dtype=object' when creating the ndarray.\n",
      "  val = np.array(val, copy=False)\n",
      "/Users/omega_macbookpro/opt/anaconda3/lib/python3.7/site-packages/numpy/core/_asarray.py:102: VisibleDeprecationWarning: Creating an ndarray from ragged nested sequences (which is a list-or-tuple of lists-or-tuples-or ndarrays with different lengths or shapes) is deprecated. If you meant to do this, you must specify 'dtype=object' when creating the ndarray.\n",
      "  return array(a, dtype, copy=False, order=order)\n",
      "/Users/omega_macbookpro/opt/anaconda3/lib/python3.7/site-packages/pandas/core/internals/blocks.py:966: VisibleDeprecationWarning: Creating an ndarray from ragged nested sequences (which is a list-or-tuple of lists-or-tuples-or ndarrays with different lengths or shapes) is deprecated. If you meant to do this, you must specify 'dtype=object' when creating the ndarray.\n",
      "  dtype, _ = maybe_promote(np.array(value).dtype)\n",
      "/Users/omega_macbookpro/opt/anaconda3/lib/python3.7/site-packages/pandas/core/internals/blocks.py:983: VisibleDeprecationWarning: Creating an ndarray from ragged nested sequences (which is a list-or-tuple of lists-or-tuples-or ndarrays with different lengths or shapes) is deprecated. If you meant to do this, you must specify 'dtype=object' when creating the ndarray.\n",
      "  arr_value = np.array(value)\n"
     ]
    }
   ],
   "source": [
    "codes_list = sanct_exp_short_clean_ext['CN6'].unique()\n",
    "# get time delta of transition from 0 to 1\n",
    "for i in sanct_exp_short_clean_ext.index:\n",
    "    # if the code is partially sanctioned and not 1-1\n",
    "    if (sanct_exp_short_clean_ext.loc[i, 'CN6_Full_code'] == 0) & (sanct_exp_short_clean_ext.loc[i, 'CN6_Full_code_1-1'] != True):\n",
    "        code = sanct_exp_short_clean_ext.loc[i, 'CN6']\n",
    "        shorter_code = code[:-2]       # this code could be enhanced to consider also cases when 2digit code covers 6digit code (i.e. consider also code[:-4] if len>4) to not do manually as I do in chunk below\n",
    "        if shorter_code in codes_list:\n",
    "            #k = k + int(sanct_exp_short_clean_ext.loc[sanct_exp_short_clean_ext['CN6'] == shorter_code].shape[0] > 1)\n",
    "            selection = sanct_exp_short_clean_ext.loc[(sanct_exp_short_clean_ext['CN6'] == shorter_code) & (sanct_exp_short_clean_ext['CN6_Full_code'] ==1)]\n",
    "            len_rows = selection.shape[0]\n",
    "            ind = selection.index\n",
    "            if len_rows == 0:\n",
    "                sanct_exp_short_clean_ext.loc[i, 'CN6_Full_code_0-1_ld'] = False\n",
    "            # if there is only one less digit code\n",
    "            elif len_rows == 1:\n",
    "                sanct_exp_short_clean_ext.loc[i, 'CN6_Full_code_0-1_ld'] = True\n",
    "                first_partial = sanct_exp_short_clean_ext.loc[i, 'Date'] # date of first partial sanct (for those with no repetitions)\n",
    "                first_full = selection.loc[ind, 'Date'] # date of first full sanct\n",
    "                # if the code is repeated, first_partial = first date in CN6_Full_code_0-1_deltaT_dates\n",
    "                if type(sanct_exp_short_clean_ext.loc[i, 'CN6_Full_code_0-1_deltaT_dates']) == list:\n",
    "                    first_partial = sanct_exp_short_clean_ext.loc[i, 'CN6_Full_code_0-1_deltaT_dates'][0]               \n",
    "                sanct_exp_short_clean_ext.at[i, 'CN6_Full_code_0-1_deltaT_dates_ld'] = [[first_partial], [first_full]]\n",
    "            else: sanct_exp_short_clean_ext.loc[i, 'CN6_Full_code_0-1_deltaT_dates_ld'] = 0 # the only code for which selection has more then 1 row is 902620. Clean it manually.\n"
   ]
  },
  {
   "cell_type": "code",
   "execution_count": 60,
   "metadata": {
    "scrolled": false
   },
   "outputs": [],
   "source": [
    "# There are no codes for which selection has more then 1 row => no need to clean it.\n",
    "# sanct_exp_short_clean_ext.loc[sanct_exp_short_clean_ext['CN6_Full_code_0-1_deltaT_dates_ld'] == 0]\n",
    "\n",
    "# The remaining case to consider is when partially sanctioned 6digit code becomes fully sanctioned by including a fully sanctioned 2digit code.\n",
    "# There only 1 fully sanctioned 2digit code: 44. There are no 6digit codes covered by 44 => no need to clean it.\n",
    "# sanct_exp_short_clean_ext.loc[sanct_exp_short_clean_ext['CN6'].apply(len) == 2]"
   ]
  },
  {
   "cell_type": "code",
   "execution_count": 85,
   "metadata": {},
   "outputs": [],
   "source": [
    "# do technical stuff: format the dates and compute time new difference\n",
    "\n",
    "a = sanct_exp_short_clean_ext.loc[sanct_exp_short_clean_ext['CN6'] == '720852', 'CN6_Full_code_0-1_deltaT_dates_ld'].values[0]\n",
    "type(a[1])\n",
    "\n",
    "def tech_2(dates):\n",
    "    output = []\n",
    "    def reemovNestings(l):\n",
    "        for i in l:\n",
    "            if type(i) == list:\n",
    "                reemovNestings(i)\n",
    "            else:\n",
    "                if type(i) == type(a[1]): output.append(i.item())\n",
    "                else: output.append(i)\n",
    "    if dates == dates:     \n",
    "        reemovNestings(dates)\n",
    "        return [output[0], output[1]]\n",
    "    else: return np.nan\n",
    "\n",
    "def tech_3(dates):\n",
    "    if dates == dates:\n",
    "        output = []\n",
    "        for i in dates:\n",
    "            if type(i) != type(a[1].item()): output.append(pd.Timestamp(i))\n",
    "            else: output.append(i)\n",
    "        return output\n",
    "    else: return np.nan    \n"
   ]
  },
  {
   "cell_type": "code",
   "execution_count": 86,
   "metadata": {},
   "outputs": [
    {
     "name": "stderr",
     "output_type": "stream",
     "text": [
      "/Users/omega_macbookpro/opt/anaconda3/lib/python3.7/site-packages/pandas/core/computation/expressions.py:205: UserWarning: evaluating in Python space because the '+' operator is not supported by numexpr for the bool dtype, use '|' instead\n",
      "  f\"evaluating in Python space because the {repr(op_str)} \"\n"
     ]
    }
   ],
   "source": [
    "sanct_exp_short_clean_ext['CN6_Full_code_0-1_deltaT_dates_ld_cl'] = sanct_exp_short_clean_ext['CN6_Full_code_0-1_deltaT_dates_ld'].apply(tech_2) # get rid of nested lists    \n",
    "sanct_exp_short_clean_ext['CN6_Full_code_0-1_deltaT_dates_ld_cl'] = sanct_exp_short_clean_ext['CN6_Full_code_0-1_deltaT_dates_ld_cl'].apply(tech_3) # convert 64datetime to Timestamp\n",
    "sanct_exp_short_clean_ext['CN6_Full_code_0-1_deltaT_ld_cl'] = sanct_exp_short_clean_ext['CN6_Full_code_0-1_deltaT_dates_ld_cl'].apply(lambda x: (x[1] - x[0]).days if x==x else np.nan) # compute time difference\n",
    "\n",
    "# more cleaning \n",
    "sanct_exp_short_clean_ext['CN6_Full_code_0-1'] = sanct_exp_short_clean_ext['CN6_Full_code_0-1'].apply(lambda x: False if x!=x else x)\n",
    "sanct_exp_short_clean_ext['CN6_Full_code_0-1_ld'] = sanct_exp_short_clean_ext['CN6_Full_code_0-1_ld'].apply(lambda x: False if x!=x else x)\n",
    "sanct_exp_short_clean_ext['CN6_Full_code_0-1_proper'] = sanct_exp_short_clean_ext['CN6_Full_code_0-1'] + sanct_exp_short_clean_ext['CN6_Full_code_0-1_ld']\n"
   ]
  },
  {
   "cell_type": "code",
   "execution_count": 87,
   "metadata": {},
   "outputs": [],
   "source": [
    "for i in sanct_exp_short_clean_ext.index:\n",
    "    if (sanct_exp_short_clean_ext.loc[i, 'CN6_Full_code_0-1_proper'] == False):\n",
    "        if (pd.isna(sanct_exp_short_clean_ext.loc[i, 'CN6_Full_code_0-0']) & pd.isna(sanct_exp_short_clean_ext.loc[i, 'CN6_Full_code_1-1'])):\n",
    "            if sanct_exp_short_clean_ext.loc[i, 'CN6_Full_code'] == 0:\n",
    "                sanct_exp_short_clean_ext.loc[i, 'CN6_Full_code_0-0'] = True\n",
    "                sanct_exp_short_clean_ext.loc[i, 'CN6_Full_code_1-1'] = False\n",
    "            else:\n",
    "                sanct_exp_short_clean_ext.loc[i, 'CN6_Full_code_0-0'] = False\n",
    "                sanct_exp_short_clean_ext.loc[i, 'CN6_Full_code_1-1'] = True\n",
    "    else:\n",
    "        sanct_exp_short_clean_ext.loc[i, 'CN6_Full_code_0-0'] = False\n",
    "        sanct_exp_short_clean_ext.loc[i, 'CN6_Full_code_1-1'] = False        \n",
    "        \n",
    "        if pd.notna(sanct_exp_short_clean_ext.loc[i, 'CN6_Full_code_0-1_deltaT']) & pd.notna(sanct_exp_short_clean_ext.loc[i, 'CN6_Full_code_0-1_deltaT_ld_cl']):\n",
    "            if sanct_exp_short_clean_ext.loc[i, 'CN6_Full_code_0-1_deltaT'] <=  sanct_exp_short_clean_ext.loc[i, 'CN6_Full_code_0-1_deltaT_ld_cl']:\n",
    "                sanct_exp_short_clean_ext.loc[i, 'CN6_Full_code_0-1_deltaT_proper'] = sanct_exp_short_clean_ext.loc[i, 'CN6_Full_code_0-1_deltaT']\n",
    "                sanct_exp_short_clean_ext.loc[i, 'CN6_Full_code_0-1_date_firstpartial'] = sanct_exp_short_clean_ext.loc[i, 'CN6_Full_code_0-1_deltaT_dates'][0]\n",
    "                sanct_exp_short_clean_ext.loc[i, 'CN6_Full_code_0-1_date_firstfull'] = sanct_exp_short_clean_ext.loc[i, 'CN6_Full_code_0-1_deltaT_dates'][1]                \n",
    "            else: \n",
    "                sanct_exp_short_clean_ext.loc[i, 'CN6_Full_code_0-1_deltaT_proper'] = sanct_exp_short_clean_ext.loc[i, 'CN6_Full_code_0-1_deltaT_ld_cl']\n",
    "                sanct_exp_short_clean_ext.loc[i, 'CN6_Full_code_0-1_date_firstpartial'] = sanct_exp_short_clean_ext.loc[i, 'CN6_Full_code_0-1_deltaT_dates_ld_cl'][0]\n",
    "                sanct_exp_short_clean_ext.loc[i, 'CN6_Full_code_0-1_date_firstfull'] = sanct_exp_short_clean_ext.loc[i, 'CN6_Full_code_0-1_deltaT_dates_ld_cl'][1]\n",
    "\n",
    "        elif pd.notna(sanct_exp_short_clean_ext.loc[i, 'CN6_Full_code_0-1_deltaT']):        \n",
    "            sanct_exp_short_clean_ext.loc[i, 'CN6_Full_code_0-1_deltaT_proper'] = sanct_exp_short_clean_ext.loc[i, 'CN6_Full_code_0-1_deltaT']            \n",
    "            sanct_exp_short_clean_ext.loc[i, 'CN6_Full_code_0-1_date_firstpartial'] = sanct_exp_short_clean_ext.loc[i, 'CN6_Full_code_0-1_deltaT_dates'][0]\n",
    "            sanct_exp_short_clean_ext.loc[i, 'CN6_Full_code_0-1_date_firstfull'] = sanct_exp_short_clean_ext.loc[i, 'CN6_Full_code_0-1_deltaT_dates'][1]                \n",
    "                        \n",
    "        elif pd.notna(sanct_exp_short_clean_ext.loc[i, 'CN6_Full_code_0-1_deltaT_ld_cl']):        \n",
    "            sanct_exp_short_clean_ext.loc[i, 'CN6_Full_code_0-1_deltaT_proper'] = sanct_exp_short_clean_ext.loc[i, 'CN6_Full_code_0-1_deltaT_ld_cl']            \n",
    "            sanct_exp_short_clean_ext.loc[i, 'CN6_Full_code_0-1_date_firstpartial'] = sanct_exp_short_clean_ext.loc[i, 'CN6_Full_code_0-1_deltaT_dates_ld_cl'][0]\n",
    "            sanct_exp_short_clean_ext.loc[i, 'CN6_Full_code_0-1_date_firstfull'] = sanct_exp_short_clean_ext.loc[i, 'CN6_Full_code_0-1_deltaT_dates_ld_cl'][1] \n"
   ]
  },
  {
   "cell_type": "code",
   "execution_count": 88,
   "metadata": {},
   "outputs": [],
   "source": [
    "sanct_exp_refin = sanct_exp_short_clean_ext[['Date', 'CN6', 'CN6_Full_code_0-0',\n",
    "       'CN6_Full_code_1-1', 'CN6_Full_code_0-1_proper',\n",
    "       'CN6_Full_code_0-1_deltaT_proper',\n",
    "       'CN6_Full_code_0-1_date_firstpartial',\n",
    "       'CN6_Full_code_0-1_date_firstfull']]\n"
   ]
  },
  {
   "cell_type": "code",
   "execution_count": 91,
   "metadata": {},
   "outputs": [
    {
     "name": "stdout",
     "output_type": "stream",
     "text": [
      "448\n",
      "4\n",
      "14\n",
      "20\n"
     ]
    },
    {
     "data": {
      "text/plain": [
       "38"
      ]
     },
     "execution_count": 91,
     "metadata": {},
     "output_type": "execute_result"
    }
   ],
   "source": [
    "# check that each code is either 0-0, 1-1 or 0-1\n",
    "print((sanct_exp_refin['CN6_Full_code_0-0'] == True).sum() + (sanct_exp_refin['CN6_Full_code_1-1'] == True).sum() + (sanct_exp_refin['CN6_Full_code_0-1_proper'] == True).sum())\n",
    "\n",
    "\n",
    "#sanct_exp_short_clean_ext.loc[:20]\n",
    "# check there are no intersections in codes b/w the 0-0, 1-1, 0-1 groups\n",
    "print(sanct_exp_refin.loc[sanct_exp_refin['CN6_Full_code_0-0'] == True, ['CN6']].duplicated(keep=False).sum())\n",
    "print(sanct_exp_refin.loc[sanct_exp_refin['CN6_Full_code_1-1'] == True, ['CN6']].duplicated(keep=False).sum())\n",
    "print(sanct_exp_refin.loc[sanct_exp_refin['CN6_Full_code_0-1_proper'] == True, 'CN6'].duplicated(keep=False).sum())\n",
    "\n",
    "sanct_exp_refin['CN6'].duplicated(keep=False).sum()\n",
    "\n",
    "# b = sanct_exp_refin.loc[sanct_exp_refin['CN6_Full_code_0-1_proper'] == True, 'CN6'].values\n",
    "# c = sanct_exp_refin.loc[sanct_exp_refin['CN6_Full_code_0-0'] == True, 'CN6'].values\n",
    "# d = sanct_exp_refin.loc[sanct_exp_refin['CN6_Full_code_1-1'] == True, 'CN6'].values\n",
    "\n",
    "# [x for x in d if x in b]\n"
   ]
  },
  {
   "cell_type": "code",
   "execution_count": 93,
   "metadata": {},
   "outputs": [
    {
     "name": "stderr",
     "output_type": "stream",
     "text": [
      "/Users/omega_macbookpro/opt/anaconda3/lib/python3.7/site-packages/ipykernel_launcher.py:1: SettingWithCopyWarning: \n",
      "A value is trying to be set on a copy of a slice from a DataFrame\n",
      "\n",
      "See the caveats in the documentation: https://pandas.pydata.org/pandas-docs/stable/user_guide/indexing.html#returning-a-view-versus-a-copy\n",
      "  \"\"\"Entry point for launching an IPython kernel.\n"
     ]
    }
   ],
   "source": [
    "sanct_exp_refin.sort_values('Date', ascending=True, ignore_index=True, inplace=True)\n",
    "sanct_exp_refin = sanct_exp_refin.groupby(['CN6']).first().reset_index() # get rid of duplicated withing same CN6 code group to leave only first date of sanctions\n"
   ]
  },
  {
   "cell_type": "code",
   "execution_count": 97,
   "metadata": {},
   "outputs": [],
   "source": [
    "# There is one code which denoted as 0-1, which is actually 1-1:\n",
    "sanct_exp_refin.loc[sanct_exp_refin['CN6_Full_code_0-1_deltaT_proper']<=0]\n",
    "# clean it\n",
    "sanct_exp_refin.loc[sanct_exp_refin['CN6'] == '711590', 'CN6_Full_code_1-1'] = True\n",
    "sanct_exp_refin.loc[sanct_exp_refin['CN6'] == '711590', 'CN6_Full_code_0-1_proper'] = False\n",
    "sanct_exp_refin.loc[sanct_exp_refin['CN6'] == '711590', ['CN6_Full_code_0-1_deltaT_proper',\n",
    "       'CN6_Full_code_0-1_date_firstpartial',\n",
    "       'CN6_Full_code_0-1_date_firstfull']] = [np.nan] * 3"
   ]
  },
  {
   "cell_type": "code",
   "execution_count": 99,
   "metadata": {},
   "outputs": [],
   "source": [
    "sanct_exp_refin.sort_values('Date', ascending=True, ignore_index=True, inplace=True)"
   ]
  },
  {
   "cell_type": "code",
   "execution_count": 100,
   "metadata": {},
   "outputs": [
    {
     "data": {
      "text/html": [
       "<div>\n",
       "<style scoped>\n",
       "    .dataframe tbody tr th:only-of-type {\n",
       "        vertical-align: middle;\n",
       "    }\n",
       "\n",
       "    .dataframe tbody tr th {\n",
       "        vertical-align: top;\n",
       "    }\n",
       "\n",
       "    .dataframe thead th {\n",
       "        text-align: right;\n",
       "    }\n",
       "</style>\n",
       "<table border=\"1\" class=\"dataframe\">\n",
       "  <thead>\n",
       "    <tr style=\"text-align: right;\">\n",
       "      <th></th>\n",
       "      <th>CN6</th>\n",
       "      <th>Date</th>\n",
       "      <th>CN6_Full_code_0-0</th>\n",
       "      <th>CN6_Full_code_1-1</th>\n",
       "      <th>CN6_Full_code_0-1_proper</th>\n",
       "      <th>CN6_Full_code_0-1_deltaT_proper</th>\n",
       "      <th>CN6_Full_code_0-1_date_firstpartial</th>\n",
       "      <th>CN6_Full_code_0-1_date_firstfull</th>\n",
       "    </tr>\n",
       "  </thead>\n",
       "  <tbody>\n",
       "    <tr>\n",
       "      <th>0</th>\n",
       "      <td>721621</td>\n",
       "      <td>2022-03-15</td>\n",
       "      <td>False</td>\n",
       "      <td>True</td>\n",
       "      <td>False</td>\n",
       "      <td>NaN</td>\n",
       "      <td>NaT</td>\n",
       "      <td>NaT</td>\n",
       "    </tr>\n",
       "    <tr>\n",
       "      <th>1</th>\n",
       "      <td>721590</td>\n",
       "      <td>2022-03-15</td>\n",
       "      <td>False</td>\n",
       "      <td>True</td>\n",
       "      <td>False</td>\n",
       "      <td>NaN</td>\n",
       "      <td>NaT</td>\n",
       "      <td>NaT</td>\n",
       "    </tr>\n",
       "  </tbody>\n",
       "</table>\n",
       "</div>"
      ],
      "text/plain": [
       "      CN6       Date  CN6_Full_code_0-0  CN6_Full_code_1-1  \\\n",
       "0  721621 2022-03-15              False               True   \n",
       "1  721590 2022-03-15              False               True   \n",
       "\n",
       "   CN6_Full_code_0-1_proper  CN6_Full_code_0-1_deltaT_proper  \\\n",
       "0                     False                              NaN   \n",
       "1                     False                              NaN   \n",
       "\n",
       "  CN6_Full_code_0-1_date_firstpartial CN6_Full_code_0-1_date_firstfull  \n",
       "0                                 NaT                              NaT  \n",
       "1                                 NaT                              NaT  "
      ]
     },
     "execution_count": 100,
     "metadata": {},
     "output_type": "execute_result"
    }
   ],
   "source": [
    "sanct_exp_refin.head(2)"
   ]
  },
  {
   "cell_type": "code",
   "execution_count": 102,
   "metadata": {},
   "outputs": [
    {
     "data": {
      "image/png": "[encoded data removed]",
      "text/plain": [
       "<Figure size 432x288 with 1 Axes>"
      ]
     },
     "metadata": {
      "needs_background": "light"
     },
     "output_type": "display_data"
    }
   ],
   "source": [
    "import matplotlib.pyplot as pl\n",
    "fig = pl.hist(sanct_exp_refin.loc[sanct_exp_refin['CN6_Full_code_0-1_deltaT_proper'].notna(), 'CN6_Full_code_0-1_deltaT_proper'])\n",
    "pl.title('Time gap for codes transiting from part. to full sanct.')\n",
    "pl.xlabel(\"days\")\n",
    "pl.ylabel(\"Frequency\")\n",
    "pl.savefig(\"Script_1_P1.png\")\n"
   ]
  },
  {
   "cell_type": "code",
   "execution_count": 103,
   "metadata": {},
   "outputs": [],
   "source": [
    "sanct_exp_refin['CN6_len'] = sanct_exp_refin['CN6'].apply(len)"
   ]
  },
  {
   "cell_type": "code",
   "execution_count": 106,
   "metadata": {},
   "outputs": [],
   "source": [
    "#sanct_exp_refin.to_csv('/Users/omega_macbookpro/Desktop/International_Trade/Dissertation_MRes/Comtrade/Sanctions Docs/EU/Data/Output_Script_1/sanct_imp_refin_v1.csv')\n"
   ]
  },
  {
   "cell_type": "code",
   "execution_count": 107,
   "metadata": {},
   "outputs": [
    {
     "data": {
      "text/html": [
       "<div>\n",
       "<style scoped>\n",
       "    .dataframe tbody tr th:only-of-type {\n",
       "        vertical-align: middle;\n",
       "    }\n",
       "\n",
       "    .dataframe tbody tr th {\n",
       "        vertical-align: top;\n",
       "    }\n",
       "\n",
       "    .dataframe thead th {\n",
       "        text-align: right;\n",
       "    }\n",
       "</style>\n",
       "<table border=\"1\" class=\"dataframe\">\n",
       "  <thead>\n",
       "    <tr style=\"text-align: right;\">\n",
       "      <th>CN6_len</th>\n",
       "      <th>2</th>\n",
       "      <th>4</th>\n",
       "      <th>6</th>\n",
       "    </tr>\n",
       "  </thead>\n",
       "  <tbody>\n",
       "    <tr>\n",
       "      <th>Full</th>\n",
       "      <td>1</td>\n",
       "      <td>239</td>\n",
       "      <td>151</td>\n",
       "    </tr>\n",
       "    <tr>\n",
       "      <th>Partial</th>\n",
       "      <td>0</td>\n",
       "      <td>10</td>\n",
       "      <td>4</td>\n",
       "    </tr>\n",
       "    <tr>\n",
       "      <th>PartialToFull</th>\n",
       "      <td>0</td>\n",
       "      <td>3</td>\n",
       "      <td>21</td>\n",
       "    </tr>\n",
       "    <tr>\n",
       "      <th>Total</th>\n",
       "      <td>1</td>\n",
       "      <td>252</td>\n",
       "      <td>176</td>\n",
       "    </tr>\n",
       "  </tbody>\n",
       "</table>\n",
       "</div>"
      ],
      "text/plain": [
       "CN6_len        2    4    6\n",
       "Full           1  239  151\n",
       "Partial        0   10    4\n",
       "PartialToFull  0    3   21\n",
       "Total          1  252  176"
      ]
     },
     "execution_count": 107,
     "metadata": {},
     "output_type": "execute_result"
    }
   ],
   "source": [
    "df_a1 = pd.crosstab(sanct_exp_refin['CN6_Full_code_1-1'], sanct_exp_refin['CN6_len'])\n",
    "df_a2 = pd.crosstab(sanct_exp_refin['CN6_Full_code_0-0'], sanct_exp_refin['CN6_len'])\n",
    "df_a3 = pd.crosstab(sanct_exp_refin['CN6_Full_code_0-1_proper'], sanct_exp_refin['CN6_len'])\n",
    "df_a4 = pd.concat([df_a1, df_a2, df_a3], axis=0)\n",
    "df_a4.index = ['no', 'Full', 'no', 'Partial', 'no', 'PartialToFull']\n",
    "df_a4 = df_a4.loc[df_a4.index != 'no']\n",
    "df_a4.loc['Total']= df_a4.sum()\n",
    "df_a4"
   ]
  },
  {
   "cell_type": "code",
   "execution_count": null,
   "metadata": {},
   "outputs": [],
   "source": []
  },
  {
   "cell_type": "code",
   "execution_count": null,
   "metadata": {},
   "outputs": [],
   "source": []
  },
  {
   "cell_type": "code",
   "execution_count": null,
   "metadata": {},
   "outputs": [],
   "source": []
  },
  {
   "cell_type": "code",
   "execution_count": null,
   "metadata": {},
   "outputs": [],
   "source": []
  },
  {
   "cell_type": "code",
   "execution_count": null,
   "metadata": {},
   "outputs": [],
   "source": []
  }
 ],
 "metadata": {
  "kernelspec": {
   "display_name": "Python 3",
   "language": "python",
   "name": "python3"
  },
  "language_info": {
   "codemirror_mode": {
    "name": "ipython",
    "version": 3
   },
   "file_extension": ".py",
   "mimetype": "text/x-python",
   "name": "python",
   "nbconvert_exporter": "python",
   "pygments_lexer": "ipython3",
   "version": "3.7.6"
  }
 },
 "nbformat": 4,
 "nbformat_minor": 4
}
